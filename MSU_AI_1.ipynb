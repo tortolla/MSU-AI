{
  "cells": [
    {
      "cell_type": "markdown",
      "metadata": {
        "id": "_-WhjKhZueRD"
      },
      "source": [
        "# Задание 1. Загрузка данных и визуализация"
      ]
    },
    {
      "cell_type": "markdown",
      "metadata": {
        "id": "3PauXDm7ueRE"
      },
      "source": [
        "В этом задании мы познакомимся подробнее с тем, как работать с табличными данными и визуализировать их."
      ]
    },
    {
      "cell_type": "markdown",
      "metadata": {
        "id": "KfurWZVTueRE"
      },
      "source": [
        "Импорт необходимых библиотек:"
      ]
    },
    {
      "cell_type": "code",
      "execution_count": null,
      "metadata": {
        "id": "VGUzMRNtueRF"
      },
      "outputs": [],
      "source": [
        "import numpy as np\n",
        "import pandas as pd\n",
        "import seaborn as sns\n",
        "import matplotlib.pyplot as plt\n",
        "from sklearn.datasets import load_wine"
      ]
    },
    {
      "cell_type": "markdown",
      "metadata": {
        "id": "H7WbtSmHueRF"
      },
      "source": [
        "Загрузите [Wine Data Set](https://archive.ics.uci.edu/ml/datasets/wine)\n",
        "\n",
        "Удобный способ сделать это — использовать модуль [sklearn.datasets](https://scikit-learn.org/stable/modules/generated/sklearn.datasets.load_wine.html)."
      ]
    },
    {
      "cell_type": "code",
      "execution_count": null,
      "metadata": {
        "id": "9e7lNJj6ueRF"
      },
      "outputs": [],
      "source": [
        "# Download dataset\n",
        "data, labels = load_wine(return_X_y=True, as_frame=True)"
      ]
    },
    {
      "cell_type": "markdown",
      "metadata": {
        "id": "BXTSlgLcueRF"
      },
      "source": [
        "И `data`, и `labels` — это N-мерные массивы. **Посмотрите, какие у них размеры**"
      ]
    },
    {
      "cell_type": "code",
      "execution_count": null,
      "metadata": {
        "id": "MU0yCaoeueRF",
        "colab": {
          "base_uri": "https://localhost:8080/"
        },
        "outputId": "f60f8d35-b943-40b6-db79-076502e0c87d"
      },
      "outputs": [
        {
          "output_type": "stream",
          "name": "stdout",
          "text": [
            "(178, 13) (178,)\n"
          ]
        }
      ],
      "source": [
        "print(data.shape, labels.shape)"
      ]
    },
    {
      "cell_type": "markdown",
      "metadata": {
        "id": "dFYjszu1ueRF"
      },
      "source": [
        "И какие метки классов представлены."
      ]
    },
    {
      "cell_type": "code",
      "execution_count": null,
      "metadata": {
        "id": "tdoaOgXAueRG",
        "colab": {
          "base_uri": "https://localhost:8080/"
        },
        "outputId": "67980bc4-e928-4ea4-9ec4-16f54676c265"
      },
      "outputs": [
        {
          "output_type": "stream",
          "name": "stdout",
          "text": [
            "[0 1 2]\n",
            "0      0\n",
            "1      0\n",
            "2      0\n",
            "3      0\n",
            "4      0\n",
            "      ..\n",
            "173    2\n",
            "174    2\n",
            "175    2\n",
            "176    2\n",
            "177    2\n",
            "Name: target, Length: 178, dtype: int64\n"
          ]
        },
        {
          "output_type": "execute_result",
          "data": {
            "text/plain": [
              "Index(['alcohol', 'malic_acid', 'ash', 'alcalinity_of_ash', 'magnesium',\n",
              "       'total_phenols', 'flavanoids', 'nonflavanoid_phenols',\n",
              "       'proanthocyanins', 'color_intensity', 'hue',\n",
              "       'od280/od315_of_diluted_wines', 'proline'],\n",
              "      dtype='object')"
            ]
          },
          "metadata": {},
          "execution_count": 56
        }
      ],
      "source": [
        "print(labels.unique())\n",
        "print(labels)\n",
        "data.columns"
      ]
    },
    {
      "cell_type": "markdown",
      "metadata": {
        "id": "YZ2NI1DeueRG"
      },
      "source": [
        "Выведем первые 3 строки датасета."
      ]
    },
    {
      "cell_type": "code",
      "execution_count": null,
      "metadata": {
        "id": "ik_CgBnLueRG",
        "colab": {
          "base_uri": "https://localhost:8080/",
          "height": 162
        },
        "outputId": "49ab190c-230d-47e9-b589-ddc5903027fd"
      },
      "outputs": [
        {
          "output_type": "execute_result",
          "data": {
            "text/plain": [
              "   alcohol  malic_acid   ash  alcalinity_of_ash  magnesium  total_phenols  \\\n",
              "0    14.23        1.71  2.43               15.6      127.0           2.80   \n",
              "1    13.20        1.78  2.14               11.2      100.0           2.65   \n",
              "2    13.16        2.36  2.67               18.6      101.0           2.80   \n",
              "\n",
              "   flavanoids  nonflavanoid_phenols  proanthocyanins  color_intensity   hue  \\\n",
              "0        3.06                  0.28             2.29             5.64  1.04   \n",
              "1        2.76                  0.26             1.28             4.38  1.05   \n",
              "2        3.24                  0.30             2.81             5.68  1.03   \n",
              "\n",
              "   od280/od315_of_diluted_wines  proline  \n",
              "0                          3.92   1065.0  \n",
              "1                          3.40   1050.0  \n",
              "2                          3.17   1185.0  "
            ],
            "text/html": [
              "\n",
              "  <div id=\"df-11c89184-650f-48a2-9c99-864719c173fc\" class=\"colab-df-container\">\n",
              "    <div>\n",
              "<style scoped>\n",
              "    .dataframe tbody tr th:only-of-type {\n",
              "        vertical-align: middle;\n",
              "    }\n",
              "\n",
              "    .dataframe tbody tr th {\n",
              "        vertical-align: top;\n",
              "    }\n",
              "\n",
              "    .dataframe thead th {\n",
              "        text-align: right;\n",
              "    }\n",
              "</style>\n",
              "<table border=\"1\" class=\"dataframe\">\n",
              "  <thead>\n",
              "    <tr style=\"text-align: right;\">\n",
              "      <th></th>\n",
              "      <th>alcohol</th>\n",
              "      <th>malic_acid</th>\n",
              "      <th>ash</th>\n",
              "      <th>alcalinity_of_ash</th>\n",
              "      <th>magnesium</th>\n",
              "      <th>total_phenols</th>\n",
              "      <th>flavanoids</th>\n",
              "      <th>nonflavanoid_phenols</th>\n",
              "      <th>proanthocyanins</th>\n",
              "      <th>color_intensity</th>\n",
              "      <th>hue</th>\n",
              "      <th>od280/od315_of_diluted_wines</th>\n",
              "      <th>proline</th>\n",
              "    </tr>\n",
              "  </thead>\n",
              "  <tbody>\n",
              "    <tr>\n",
              "      <th>0</th>\n",
              "      <td>14.23</td>\n",
              "      <td>1.71</td>\n",
              "      <td>2.43</td>\n",
              "      <td>15.6</td>\n",
              "      <td>127.0</td>\n",
              "      <td>2.80</td>\n",
              "      <td>3.06</td>\n",
              "      <td>0.28</td>\n",
              "      <td>2.29</td>\n",
              "      <td>5.64</td>\n",
              "      <td>1.04</td>\n",
              "      <td>3.92</td>\n",
              "      <td>1065.0</td>\n",
              "    </tr>\n",
              "    <tr>\n",
              "      <th>1</th>\n",
              "      <td>13.20</td>\n",
              "      <td>1.78</td>\n",
              "      <td>2.14</td>\n",
              "      <td>11.2</td>\n",
              "      <td>100.0</td>\n",
              "      <td>2.65</td>\n",
              "      <td>2.76</td>\n",
              "      <td>0.26</td>\n",
              "      <td>1.28</td>\n",
              "      <td>4.38</td>\n",
              "      <td>1.05</td>\n",
              "      <td>3.40</td>\n",
              "      <td>1050.0</td>\n",
              "    </tr>\n",
              "    <tr>\n",
              "      <th>2</th>\n",
              "      <td>13.16</td>\n",
              "      <td>2.36</td>\n",
              "      <td>2.67</td>\n",
              "      <td>18.6</td>\n",
              "      <td>101.0</td>\n",
              "      <td>2.80</td>\n",
              "      <td>3.24</td>\n",
              "      <td>0.30</td>\n",
              "      <td>2.81</td>\n",
              "      <td>5.68</td>\n",
              "      <td>1.03</td>\n",
              "      <td>3.17</td>\n",
              "      <td>1185.0</td>\n",
              "    </tr>\n",
              "  </tbody>\n",
              "</table>\n",
              "</div>\n",
              "    <div class=\"colab-df-buttons\">\n",
              "\n",
              "  <div class=\"colab-df-container\">\n",
              "    <button class=\"colab-df-convert\" onclick=\"convertToInteractive('df-11c89184-650f-48a2-9c99-864719c173fc')\"\n",
              "            title=\"Convert this dataframe to an interactive table.\"\n",
              "            style=\"display:none;\">\n",
              "\n",
              "  <svg xmlns=\"http://www.w3.org/2000/svg\" height=\"24px\" viewBox=\"0 -960 960 960\">\n",
              "    <path d=\"M120-120v-720h720v720H120Zm60-500h600v-160H180v160Zm220 220h160v-160H400v160Zm0 220h160v-160H400v160ZM180-400h160v-160H180v160Zm440 0h160v-160H620v160ZM180-180h160v-160H180v160Zm440 0h160v-160H620v160Z\"/>\n",
              "  </svg>\n",
              "    </button>\n",
              "\n",
              "  <style>\n",
              "    .colab-df-container {\n",
              "      display:flex;\n",
              "      gap: 12px;\n",
              "    }\n",
              "\n",
              "    .colab-df-convert {\n",
              "      background-color: #E8F0FE;\n",
              "      border: none;\n",
              "      border-radius: 50%;\n",
              "      cursor: pointer;\n",
              "      display: none;\n",
              "      fill: #1967D2;\n",
              "      height: 32px;\n",
              "      padding: 0 0 0 0;\n",
              "      width: 32px;\n",
              "    }\n",
              "\n",
              "    .colab-df-convert:hover {\n",
              "      background-color: #E2EBFA;\n",
              "      box-shadow: 0px 1px 2px rgba(60, 64, 67, 0.3), 0px 1px 3px 1px rgba(60, 64, 67, 0.15);\n",
              "      fill: #174EA6;\n",
              "    }\n",
              "\n",
              "    .colab-df-buttons div {\n",
              "      margin-bottom: 4px;\n",
              "    }\n",
              "\n",
              "    [theme=dark] .colab-df-convert {\n",
              "      background-color: #3B4455;\n",
              "      fill: #D2E3FC;\n",
              "    }\n",
              "\n",
              "    [theme=dark] .colab-df-convert:hover {\n",
              "      background-color: #434B5C;\n",
              "      box-shadow: 0px 1px 3px 1px rgba(0, 0, 0, 0.15);\n",
              "      filter: drop-shadow(0px 1px 2px rgba(0, 0, 0, 0.3));\n",
              "      fill: #FFFFFF;\n",
              "    }\n",
              "  </style>\n",
              "\n",
              "    <script>\n",
              "      const buttonEl =\n",
              "        document.querySelector('#df-11c89184-650f-48a2-9c99-864719c173fc button.colab-df-convert');\n",
              "      buttonEl.style.display =\n",
              "        google.colab.kernel.accessAllowed ? 'block' : 'none';\n",
              "\n",
              "      async function convertToInteractive(key) {\n",
              "        const element = document.querySelector('#df-11c89184-650f-48a2-9c99-864719c173fc');\n",
              "        const dataTable =\n",
              "          await google.colab.kernel.invokeFunction('convertToInteractive',\n",
              "                                                    [key], {});\n",
              "        if (!dataTable) return;\n",
              "\n",
              "        const docLinkHtml = 'Like what you see? Visit the ' +\n",
              "          '<a target=\"_blank\" href=https://colab.research.google.com/notebooks/data_table.ipynb>data table notebook</a>'\n",
              "          + ' to learn more about interactive tables.';\n",
              "        element.innerHTML = '';\n",
              "        dataTable['output_type'] = 'display_data';\n",
              "        await google.colab.output.renderOutput(dataTable, element);\n",
              "        const docLink = document.createElement('div');\n",
              "        docLink.innerHTML = docLinkHtml;\n",
              "        element.appendChild(docLink);\n",
              "      }\n",
              "    </script>\n",
              "  </div>\n",
              "\n",
              "\n",
              "<div id=\"df-dc373ad3-eb17-42d8-9dbb-30b2aca98318\">\n",
              "  <button class=\"colab-df-quickchart\" onclick=\"quickchart('df-dc373ad3-eb17-42d8-9dbb-30b2aca98318')\"\n",
              "            title=\"Suggest charts\"\n",
              "            style=\"display:none;\">\n",
              "\n",
              "<svg xmlns=\"http://www.w3.org/2000/svg\" height=\"24px\"viewBox=\"0 0 24 24\"\n",
              "     width=\"24px\">\n",
              "    <g>\n",
              "        <path d=\"M19 3H5c-1.1 0-2 .9-2 2v14c0 1.1.9 2 2 2h14c1.1 0 2-.9 2-2V5c0-1.1-.9-2-2-2zM9 17H7v-7h2v7zm4 0h-2V7h2v10zm4 0h-2v-4h2v4z\"/>\n",
              "    </g>\n",
              "</svg>\n",
              "  </button>\n",
              "\n",
              "<style>\n",
              "  .colab-df-quickchart {\n",
              "      --bg-color: #E8F0FE;\n",
              "      --fill-color: #1967D2;\n",
              "      --hover-bg-color: #E2EBFA;\n",
              "      --hover-fill-color: #174EA6;\n",
              "      --disabled-fill-color: #AAA;\n",
              "      --disabled-bg-color: #DDD;\n",
              "  }\n",
              "\n",
              "  [theme=dark] .colab-df-quickchart {\n",
              "      --bg-color: #3B4455;\n",
              "      --fill-color: #D2E3FC;\n",
              "      --hover-bg-color: #434B5C;\n",
              "      --hover-fill-color: #FFFFFF;\n",
              "      --disabled-bg-color: #3B4455;\n",
              "      --disabled-fill-color: #666;\n",
              "  }\n",
              "\n",
              "  .colab-df-quickchart {\n",
              "    background-color: var(--bg-color);\n",
              "    border: none;\n",
              "    border-radius: 50%;\n",
              "    cursor: pointer;\n",
              "    display: none;\n",
              "    fill: var(--fill-color);\n",
              "    height: 32px;\n",
              "    padding: 0;\n",
              "    width: 32px;\n",
              "  }\n",
              "\n",
              "  .colab-df-quickchart:hover {\n",
              "    background-color: var(--hover-bg-color);\n",
              "    box-shadow: 0 1px 2px rgba(60, 64, 67, 0.3), 0 1px 3px 1px rgba(60, 64, 67, 0.15);\n",
              "    fill: var(--button-hover-fill-color);\n",
              "  }\n",
              "\n",
              "  .colab-df-quickchart-complete:disabled,\n",
              "  .colab-df-quickchart-complete:disabled:hover {\n",
              "    background-color: var(--disabled-bg-color);\n",
              "    fill: var(--disabled-fill-color);\n",
              "    box-shadow: none;\n",
              "  }\n",
              "\n",
              "  .colab-df-spinner {\n",
              "    border: 2px solid var(--fill-color);\n",
              "    border-color: transparent;\n",
              "    border-bottom-color: var(--fill-color);\n",
              "    animation:\n",
              "      spin 1s steps(1) infinite;\n",
              "  }\n",
              "\n",
              "  @keyframes spin {\n",
              "    0% {\n",
              "      border-color: transparent;\n",
              "      border-bottom-color: var(--fill-color);\n",
              "      border-left-color: var(--fill-color);\n",
              "    }\n",
              "    20% {\n",
              "      border-color: transparent;\n",
              "      border-left-color: var(--fill-color);\n",
              "      border-top-color: var(--fill-color);\n",
              "    }\n",
              "    30% {\n",
              "      border-color: transparent;\n",
              "      border-left-color: var(--fill-color);\n",
              "      border-top-color: var(--fill-color);\n",
              "      border-right-color: var(--fill-color);\n",
              "    }\n",
              "    40% {\n",
              "      border-color: transparent;\n",
              "      border-right-color: var(--fill-color);\n",
              "      border-top-color: var(--fill-color);\n",
              "    }\n",
              "    60% {\n",
              "      border-color: transparent;\n",
              "      border-right-color: var(--fill-color);\n",
              "    }\n",
              "    80% {\n",
              "      border-color: transparent;\n",
              "      border-right-color: var(--fill-color);\n",
              "      border-bottom-color: var(--fill-color);\n",
              "    }\n",
              "    90% {\n",
              "      border-color: transparent;\n",
              "      border-bottom-color: var(--fill-color);\n",
              "    }\n",
              "  }\n",
              "</style>\n",
              "\n",
              "  <script>\n",
              "    async function quickchart(key) {\n",
              "      const quickchartButtonEl =\n",
              "        document.querySelector('#' + key + ' button');\n",
              "      quickchartButtonEl.disabled = true;  // To prevent multiple clicks.\n",
              "      quickchartButtonEl.classList.add('colab-df-spinner');\n",
              "      try {\n",
              "        const charts = await google.colab.kernel.invokeFunction(\n",
              "            'suggestCharts', [key], {});\n",
              "      } catch (error) {\n",
              "        console.error('Error during call to suggestCharts:', error);\n",
              "      }\n",
              "      quickchartButtonEl.classList.remove('colab-df-spinner');\n",
              "      quickchartButtonEl.classList.add('colab-df-quickchart-complete');\n",
              "    }\n",
              "    (() => {\n",
              "      let quickchartButtonEl =\n",
              "        document.querySelector('#df-dc373ad3-eb17-42d8-9dbb-30b2aca98318 button');\n",
              "      quickchartButtonEl.style.display =\n",
              "        google.colab.kernel.accessAllowed ? 'block' : 'none';\n",
              "    })();\n",
              "  </script>\n",
              "</div>\n",
              "    </div>\n",
              "  </div>\n"
            ],
            "application/vnd.google.colaboratory.intrinsic+json": {
              "type": "dataframe",
              "variable_name": "data",
              "summary": "{\n  \"name\": \"data\",\n  \"rows\": 178,\n  \"fields\": [\n    {\n      \"column\": \"alcohol\",\n      \"properties\": {\n        \"dtype\": \"number\",\n        \"std\": 0.8118265380058575,\n        \"min\": 11.03,\n        \"max\": 14.83,\n        \"num_unique_values\": 126,\n        \"samples\": [\n          11.62,\n          13.64,\n          13.69\n        ],\n        \"semantic_type\": \"\",\n        \"description\": \"\"\n      }\n    },\n    {\n      \"column\": \"malic_acid\",\n      \"properties\": {\n        \"dtype\": \"number\",\n        \"std\": 1.1171460976144627,\n        \"min\": 0.74,\n        \"max\": 5.8,\n        \"num_unique_values\": 133,\n        \"samples\": [\n          1.21,\n          2.83,\n          1.8\n        ],\n        \"semantic_type\": \"\",\n        \"description\": \"\"\n      }\n    },\n    {\n      \"column\": \"ash\",\n      \"properties\": {\n        \"dtype\": \"number\",\n        \"std\": 0.27434400906081485,\n        \"min\": 1.36,\n        \"max\": 3.23,\n        \"num_unique_values\": 79,\n        \"samples\": [\n          2.31,\n          2.43,\n          2.52\n        ],\n        \"semantic_type\": \"\",\n        \"description\": \"\"\n      }\n    },\n    {\n      \"column\": \"alcalinity_of_ash\",\n      \"properties\": {\n        \"dtype\": \"number\",\n        \"std\": 3.339563767173505,\n        \"min\": 10.6,\n        \"max\": 30.0,\n        \"num_unique_values\": 63,\n        \"samples\": [\n          25.5,\n          28.5,\n          15.6\n        ],\n        \"semantic_type\": \"\",\n        \"description\": \"\"\n      }\n    },\n    {\n      \"column\": \"magnesium\",\n      \"properties\": {\n        \"dtype\": \"number\",\n        \"std\": 14.282483515295665,\n        \"min\": 70.0,\n        \"max\": 162.0,\n        \"num_unique_values\": 53,\n        \"samples\": [\n          126.0,\n          85.0,\n          162.0\n        ],\n        \"semantic_type\": \"\",\n        \"description\": \"\"\n      }\n    },\n    {\n      \"column\": \"total_phenols\",\n      \"properties\": {\n        \"dtype\": \"number\",\n        \"std\": 0.6258510488339893,\n        \"min\": 0.98,\n        \"max\": 3.88,\n        \"num_unique_values\": 97,\n        \"samples\": [\n          1.68,\n          2.11,\n          1.35\n        ],\n        \"semantic_type\": \"\",\n        \"description\": \"\"\n      }\n    },\n    {\n      \"column\": \"flavanoids\",\n      \"properties\": {\n        \"dtype\": \"number\",\n        \"std\": 0.9988586850169467,\n        \"min\": 0.34,\n        \"max\": 5.08,\n        \"num_unique_values\": 132,\n        \"samples\": [\n          3.18,\n          2.5,\n          3.17\n        ],\n        \"semantic_type\": \"\",\n        \"description\": \"\"\n      }\n    },\n    {\n      \"column\": \"nonflavanoid_phenols\",\n      \"properties\": {\n        \"dtype\": \"number\",\n        \"std\": 0.12445334029667937,\n        \"min\": 0.13,\n        \"max\": 0.66,\n        \"num_unique_values\": 39,\n        \"samples\": [\n          0.58,\n          0.41,\n          0.39\n        ],\n        \"semantic_type\": \"\",\n        \"description\": \"\"\n      }\n    },\n    {\n      \"column\": \"proanthocyanins\",\n      \"properties\": {\n        \"dtype\": \"number\",\n        \"std\": 0.5723588626747613,\n        \"min\": 0.41,\n        \"max\": 3.58,\n        \"num_unique_values\": 101,\n        \"samples\": [\n          0.75,\n          1.77,\n          1.42\n        ],\n        \"semantic_type\": \"\",\n        \"description\": \"\"\n      }\n    },\n    {\n      \"column\": \"color_intensity\",\n      \"properties\": {\n        \"dtype\": \"number\",\n        \"std\": 2.318285871822413,\n        \"min\": 1.28,\n        \"max\": 13.0,\n        \"num_unique_values\": 132,\n        \"samples\": [\n          2.95,\n          3.3,\n          5.1\n        ],\n        \"semantic_type\": \"\",\n        \"description\": \"\"\n      }\n    },\n    {\n      \"column\": \"hue\",\n      \"properties\": {\n        \"dtype\": \"number\",\n        \"std\": 0.22857156582982338,\n        \"min\": 0.48,\n        \"max\": 1.71,\n        \"num_unique_values\": 78,\n        \"samples\": [\n          1.22,\n          1.04,\n          1.45\n        ],\n        \"semantic_type\": \"\",\n        \"description\": \"\"\n      }\n    },\n    {\n      \"column\": \"od280/od315_of_diluted_wines\",\n      \"properties\": {\n        \"dtype\": \"number\",\n        \"std\": 0.7099904287650504,\n        \"min\": 1.27,\n        \"max\": 4.0,\n        \"num_unique_values\": 122,\n        \"samples\": [\n          4.0,\n          1.82,\n          1.59\n        ],\n        \"semantic_type\": \"\",\n        \"description\": \"\"\n      }\n    },\n    {\n      \"column\": \"proline\",\n      \"properties\": {\n        \"dtype\": \"number\",\n        \"std\": 314.9074742768491,\n        \"min\": 278.0,\n        \"max\": 1680.0,\n        \"num_unique_values\": 121,\n        \"samples\": [\n          1375.0,\n          1270.0,\n          735.0\n        ],\n        \"semantic_type\": \"\",\n        \"description\": \"\"\n      }\n    }\n  ]\n}"
            }
          },
          "metadata": {},
          "execution_count": 18
        }
      ],
      "source": [
        "data.head(3)"
      ]
    },
    {
      "cell_type": "markdown",
      "metadata": {
        "id": "tipCSR8QueRG"
      },
      "source": [
        "По умолчанию Pandas выводит всего 20 столбцов и 60 строк, поэтому если ваш датафрейм больше, воспользуйтесь функцией `set_option`:\n",
        "\n",
        "```\n",
        "pd.set_option('display.max_columns', 200)\n",
        "pd.set_option('display.max_rows', 100)\n",
        "pd.set_option('display.min_rows', 100)\n",
        "pd.set_option('display.expand_frame_repr', True)\n",
        "```\n",
        "\n",
        "Текущее значение параметра можно вывести подобным образом:\n",
        "\n",
        "```\n",
        "pd.get_option(\"display.max_rows\")\n",
        "```\n",
        "\n",
        "Выведите, какие значения сейчас, и поменяйте их так, чтобы открывался весь датафрейм."
      ]
    },
    {
      "cell_type": "code",
      "execution_count": null,
      "metadata": {
        "id": "vYuWHDWiueRG",
        "colab": {
          "base_uri": "https://localhost:8080/"
        },
        "outputId": "73a41dbe-51bb-4fe2-dd4d-68eba63ab492"
      },
      "outputs": [
        {
          "output_type": "stream",
          "name": "stdout",
          "text": [
            "178\n",
            "10\n",
            "13\n"
          ]
        }
      ],
      "source": [
        "print(pd.get_option(\"display.max_rows\"))\n",
        "print(pd.get_option(\"display.min_rows\"))\n",
        "print(pd.get_option(\"display.max_columns\"))"
      ]
    },
    {
      "cell_type": "code",
      "execution_count": null,
      "metadata": {
        "id": "tcc6cJooueRG"
      },
      "outputs": [],
      "source": [
        "pd.set_option(\"display.max_rows\", 178)\n",
        "pd.set_option(\"display.max_columns\", 13)\n",
        "pd.set_option('display.expand_frame_repr', False)\n",
        "\n",
        "\n",
        "\n"
      ]
    },
    {
      "cell_type": "markdown",
      "metadata": {
        "id": "REv1S1F7ueRG"
      },
      "source": [
        "Верните значения обратно к тем, что были по умолчанию."
      ]
    },
    {
      "cell_type": "code",
      "execution_count": null,
      "metadata": {
        "id": "A11zCgrpueRG"
      },
      "outputs": [],
      "source": [
        "pd.set_option(\"display.max_rows\", 60)\n",
        "pd.set_option(\"display.max_columns\", 20)\n",
        "pd.set_option('display.expand_frame_repr', True)"
      ]
    },
    {
      "cell_type": "markdown",
      "metadata": {
        "id": "GSodTdnTueRH"
      },
      "source": [
        "Выведем названия столбцов:"
      ]
    },
    {
      "cell_type": "code",
      "execution_count": null,
      "metadata": {
        "id": "rOIo4EYeueRH",
        "colab": {
          "base_uri": "https://localhost:8080/"
        },
        "outputId": "9b5b106e-90cf-4268-dc03-fe01d9a6a512"
      },
      "outputs": [
        {
          "output_type": "stream",
          "name": "stdout",
          "text": [
            "Index(['alcohol', 'malic_acid', 'ash', 'alcalinity_of_ash', 'magnesium',\n",
            "       'total_phenols', 'flavanoids', 'nonflavanoid_phenols',\n",
            "       'proanthocyanins', 'color_intensity', 'hue',\n",
            "       'od280/od315_of_diluted_wines', 'proline'],\n",
            "      dtype='object')\n"
          ]
        }
      ],
      "source": [
        "print(data.columns)"
      ]
    },
    {
      "cell_type": "markdown",
      "metadata": {
        "id": "DeD39gRqueRH"
      },
      "source": [
        "Чтобы посмотреть общую информацию по датафрейму и всем признакам, воспользуемся методом `info`:"
      ]
    },
    {
      "cell_type": "code",
      "execution_count": null,
      "metadata": {
        "id": "4x8KWJk0ueRH",
        "colab": {
          "base_uri": "https://localhost:8080/"
        },
        "outputId": "34b46626-69d6-4919-d94d-b0099ec470e0"
      },
      "outputs": [
        {
          "output_type": "stream",
          "name": "stdout",
          "text": [
            "<class 'pandas.core.frame.DataFrame'>\n",
            "RangeIndex: 178 entries, 0 to 177\n",
            "Data columns (total 13 columns):\n",
            " #   Column                        Non-Null Count  Dtype  \n",
            "---  ------                        --------------  -----  \n",
            " 0   alcohol                       178 non-null    float64\n",
            " 1   malic_acid                    178 non-null    float64\n",
            " 2   ash                           178 non-null    float64\n",
            " 3   alcalinity_of_ash             178 non-null    float64\n",
            " 4   magnesium                     178 non-null    float64\n",
            " 5   total_phenols                 178 non-null    float64\n",
            " 6   flavanoids                    178 non-null    float64\n",
            " 7   nonflavanoid_phenols          178 non-null    float64\n",
            " 8   proanthocyanins               178 non-null    float64\n",
            " 9   color_intensity               178 non-null    float64\n",
            " 10  hue                           178 non-null    float64\n",
            " 11  od280/od315_of_diluted_wines  178 non-null    float64\n",
            " 12  proline                       178 non-null    float64\n",
            "dtypes: float64(13)\n",
            "memory usage: 18.2 KB\n",
            "None\n"
          ]
        }
      ],
      "source": [
        "print(data.info())"
      ]
    },
    {
      "cell_type": "markdown",
      "metadata": {
        "id": "ygRgBHOAueRH"
      },
      "source": [
        "В нашем случае все колонки имеют тип `float64`.\n",
        "\n",
        "* **float64**: число с плавающей точкой от $4.9*10^{-324}$ до $1.8*10^{308}$, занимает 8 байт.\n",
        "\n",
        "Кажется избыточным с учетом разброса значений в колонках. Кстати, какой он? Посмотрим на первые три колонки. Если убрать имена столбцов, то будет выведена вся статистика.\n",
        "\n",
        "[NumPy Standard Data Types](https://jakevdp.github.io/PythonDataScienceHandbook/02.01-understanding-data-types.html#NumPy-Standard-Data-Types)"
      ]
    },
    {
      "cell_type": "code",
      "execution_count": null,
      "metadata": {
        "id": "IbE3utvzueRH",
        "colab": {
          "base_uri": "https://localhost:8080/",
          "height": 317
        },
        "outputId": "0d141d07-4a41-43b2-a892-6cde585e7298"
      },
      "outputs": [
        {
          "output_type": "execute_result",
          "data": {
            "text/plain": [
              "          alcohol  malic_acid         ash  alcalinity_of_ash   magnesium  total_phenols  flavanoids  nonflavanoid_phenols  proanthocyanins  color_intensity         hue  od280/od315_of_diluted_wines      proline\n",
              "count  178.000000  178.000000  178.000000         178.000000  178.000000     178.000000  178.000000            178.000000       178.000000       178.000000  178.000000                    178.000000   178.000000\n",
              "mean    13.000000    2.336348    2.366517          19.494944   99.741573       2.295112    2.029270              0.361854         1.590899         5.058090    0.957449                      2.611685   746.893258\n",
              "std      0.812012    1.117146    0.274344           3.339564   14.282484       0.625851    0.998859              0.124453         0.572359         2.318286    0.228572                      0.709990   314.907474\n",
              "min     11.031250    0.740000    1.360000          10.600000   70.000000       0.980000    0.340000              0.130000         0.410000         1.280000    0.480000                      1.270000   278.000000\n",
              "25%     12.361328    1.602500    2.210000          17.200000   88.000000       1.742500    1.205000              0.270000         1.250000         3.220000    0.782500                      1.937500   500.500000\n",
              "50%     13.046875    1.865000    2.360000          19.500000   98.000000       2.355000    2.135000              0.340000         1.555000         4.690000    0.965000                      2.780000   673.500000\n",
              "75%     13.677734    3.082500    2.557500          21.500000  107.000000       2.800000    2.875000              0.437500         1.950000         6.200000    1.120000                      3.170000   985.000000\n",
              "max     14.828125    5.800000    3.230000          30.000000  162.000000       3.880000    5.080000              0.660000         3.580000        13.000000    1.710000                      4.000000  1680.000000"
            ],
            "text/html": [
              "\n",
              "  <div id=\"df-98f720dc-5db6-4549-bbcf-ece334d42b55\" class=\"colab-df-container\">\n",
              "    <div>\n",
              "<style scoped>\n",
              "    .dataframe tbody tr th:only-of-type {\n",
              "        vertical-align: middle;\n",
              "    }\n",
              "\n",
              "    .dataframe tbody tr th {\n",
              "        vertical-align: top;\n",
              "    }\n",
              "\n",
              "    .dataframe thead th {\n",
              "        text-align: right;\n",
              "    }\n",
              "</style>\n",
              "<table border=\"1\" class=\"dataframe\">\n",
              "  <thead>\n",
              "    <tr style=\"text-align: right;\">\n",
              "      <th></th>\n",
              "      <th>alcohol</th>\n",
              "      <th>malic_acid</th>\n",
              "      <th>ash</th>\n",
              "      <th>alcalinity_of_ash</th>\n",
              "      <th>magnesium</th>\n",
              "      <th>total_phenols</th>\n",
              "      <th>flavanoids</th>\n",
              "      <th>nonflavanoid_phenols</th>\n",
              "      <th>proanthocyanins</th>\n",
              "      <th>color_intensity</th>\n",
              "      <th>hue</th>\n",
              "      <th>od280/od315_of_diluted_wines</th>\n",
              "      <th>proline</th>\n",
              "    </tr>\n",
              "  </thead>\n",
              "  <tbody>\n",
              "    <tr>\n",
              "      <th>count</th>\n",
              "      <td>178.000000</td>\n",
              "      <td>178.000000</td>\n",
              "      <td>178.000000</td>\n",
              "      <td>178.000000</td>\n",
              "      <td>178.000000</td>\n",
              "      <td>178.000000</td>\n",
              "      <td>178.000000</td>\n",
              "      <td>178.000000</td>\n",
              "      <td>178.000000</td>\n",
              "      <td>178.000000</td>\n",
              "      <td>178.000000</td>\n",
              "      <td>178.000000</td>\n",
              "      <td>178.000000</td>\n",
              "    </tr>\n",
              "    <tr>\n",
              "      <th>mean</th>\n",
              "      <td>13.000000</td>\n",
              "      <td>2.336348</td>\n",
              "      <td>2.366517</td>\n",
              "      <td>19.494944</td>\n",
              "      <td>99.741573</td>\n",
              "      <td>2.295112</td>\n",
              "      <td>2.029270</td>\n",
              "      <td>0.361854</td>\n",
              "      <td>1.590899</td>\n",
              "      <td>5.058090</td>\n",
              "      <td>0.957449</td>\n",
              "      <td>2.611685</td>\n",
              "      <td>746.893258</td>\n",
              "    </tr>\n",
              "    <tr>\n",
              "      <th>std</th>\n",
              "      <td>0.812012</td>\n",
              "      <td>1.117146</td>\n",
              "      <td>0.274344</td>\n",
              "      <td>3.339564</td>\n",
              "      <td>14.282484</td>\n",
              "      <td>0.625851</td>\n",
              "      <td>0.998859</td>\n",
              "      <td>0.124453</td>\n",
              "      <td>0.572359</td>\n",
              "      <td>2.318286</td>\n",
              "      <td>0.228572</td>\n",
              "      <td>0.709990</td>\n",
              "      <td>314.907474</td>\n",
              "    </tr>\n",
              "    <tr>\n",
              "      <th>min</th>\n",
              "      <td>11.031250</td>\n",
              "      <td>0.740000</td>\n",
              "      <td>1.360000</td>\n",
              "      <td>10.600000</td>\n",
              "      <td>70.000000</td>\n",
              "      <td>0.980000</td>\n",
              "      <td>0.340000</td>\n",
              "      <td>0.130000</td>\n",
              "      <td>0.410000</td>\n",
              "      <td>1.280000</td>\n",
              "      <td>0.480000</td>\n",
              "      <td>1.270000</td>\n",
              "      <td>278.000000</td>\n",
              "    </tr>\n",
              "    <tr>\n",
              "      <th>25%</th>\n",
              "      <td>12.361328</td>\n",
              "      <td>1.602500</td>\n",
              "      <td>2.210000</td>\n",
              "      <td>17.200000</td>\n",
              "      <td>88.000000</td>\n",
              "      <td>1.742500</td>\n",
              "      <td>1.205000</td>\n",
              "      <td>0.270000</td>\n",
              "      <td>1.250000</td>\n",
              "      <td>3.220000</td>\n",
              "      <td>0.782500</td>\n",
              "      <td>1.937500</td>\n",
              "      <td>500.500000</td>\n",
              "    </tr>\n",
              "    <tr>\n",
              "      <th>50%</th>\n",
              "      <td>13.046875</td>\n",
              "      <td>1.865000</td>\n",
              "      <td>2.360000</td>\n",
              "      <td>19.500000</td>\n",
              "      <td>98.000000</td>\n",
              "      <td>2.355000</td>\n",
              "      <td>2.135000</td>\n",
              "      <td>0.340000</td>\n",
              "      <td>1.555000</td>\n",
              "      <td>4.690000</td>\n",
              "      <td>0.965000</td>\n",
              "      <td>2.780000</td>\n",
              "      <td>673.500000</td>\n",
              "    </tr>\n",
              "    <tr>\n",
              "      <th>75%</th>\n",
              "      <td>13.677734</td>\n",
              "      <td>3.082500</td>\n",
              "      <td>2.557500</td>\n",
              "      <td>21.500000</td>\n",
              "      <td>107.000000</td>\n",
              "      <td>2.800000</td>\n",
              "      <td>2.875000</td>\n",
              "      <td>0.437500</td>\n",
              "      <td>1.950000</td>\n",
              "      <td>6.200000</td>\n",
              "      <td>1.120000</td>\n",
              "      <td>3.170000</td>\n",
              "      <td>985.000000</td>\n",
              "    </tr>\n",
              "    <tr>\n",
              "      <th>max</th>\n",
              "      <td>14.828125</td>\n",
              "      <td>5.800000</td>\n",
              "      <td>3.230000</td>\n",
              "      <td>30.000000</td>\n",
              "      <td>162.000000</td>\n",
              "      <td>3.880000</td>\n",
              "      <td>5.080000</td>\n",
              "      <td>0.660000</td>\n",
              "      <td>3.580000</td>\n",
              "      <td>13.000000</td>\n",
              "      <td>1.710000</td>\n",
              "      <td>4.000000</td>\n",
              "      <td>1680.000000</td>\n",
              "    </tr>\n",
              "  </tbody>\n",
              "</table>\n",
              "</div>\n",
              "    <div class=\"colab-df-buttons\">\n",
              "\n",
              "  <div class=\"colab-df-container\">\n",
              "    <button class=\"colab-df-convert\" onclick=\"convertToInteractive('df-98f720dc-5db6-4549-bbcf-ece334d42b55')\"\n",
              "            title=\"Convert this dataframe to an interactive table.\"\n",
              "            style=\"display:none;\">\n",
              "\n",
              "  <svg xmlns=\"http://www.w3.org/2000/svg\" height=\"24px\" viewBox=\"0 -960 960 960\">\n",
              "    <path d=\"M120-120v-720h720v720H120Zm60-500h600v-160H180v160Zm220 220h160v-160H400v160Zm0 220h160v-160H400v160ZM180-400h160v-160H180v160Zm440 0h160v-160H620v160ZM180-180h160v-160H180v160Zm440 0h160v-160H620v160Z\"/>\n",
              "  </svg>\n",
              "    </button>\n",
              "\n",
              "  <style>\n",
              "    .colab-df-container {\n",
              "      display:flex;\n",
              "      gap: 12px;\n",
              "    }\n",
              "\n",
              "    .colab-df-convert {\n",
              "      background-color: #E8F0FE;\n",
              "      border: none;\n",
              "      border-radius: 50%;\n",
              "      cursor: pointer;\n",
              "      display: none;\n",
              "      fill: #1967D2;\n",
              "      height: 32px;\n",
              "      padding: 0 0 0 0;\n",
              "      width: 32px;\n",
              "    }\n",
              "\n",
              "    .colab-df-convert:hover {\n",
              "      background-color: #E2EBFA;\n",
              "      box-shadow: 0px 1px 2px rgba(60, 64, 67, 0.3), 0px 1px 3px 1px rgba(60, 64, 67, 0.15);\n",
              "      fill: #174EA6;\n",
              "    }\n",
              "\n",
              "    .colab-df-buttons div {\n",
              "      margin-bottom: 4px;\n",
              "    }\n",
              "\n",
              "    [theme=dark] .colab-df-convert {\n",
              "      background-color: #3B4455;\n",
              "      fill: #D2E3FC;\n",
              "    }\n",
              "\n",
              "    [theme=dark] .colab-df-convert:hover {\n",
              "      background-color: #434B5C;\n",
              "      box-shadow: 0px 1px 3px 1px rgba(0, 0, 0, 0.15);\n",
              "      filter: drop-shadow(0px 1px 2px rgba(0, 0, 0, 0.3));\n",
              "      fill: #FFFFFF;\n",
              "    }\n",
              "  </style>\n",
              "\n",
              "    <script>\n",
              "      const buttonEl =\n",
              "        document.querySelector('#df-98f720dc-5db6-4549-bbcf-ece334d42b55 button.colab-df-convert');\n",
              "      buttonEl.style.display =\n",
              "        google.colab.kernel.accessAllowed ? 'block' : 'none';\n",
              "\n",
              "      async function convertToInteractive(key) {\n",
              "        const element = document.querySelector('#df-98f720dc-5db6-4549-bbcf-ece334d42b55');\n",
              "        const dataTable =\n",
              "          await google.colab.kernel.invokeFunction('convertToInteractive',\n",
              "                                                    [key], {});\n",
              "        if (!dataTable) return;\n",
              "\n",
              "        const docLinkHtml = 'Like what you see? Visit the ' +\n",
              "          '<a target=\"_blank\" href=https://colab.research.google.com/notebooks/data_table.ipynb>data table notebook</a>'\n",
              "          + ' to learn more about interactive tables.';\n",
              "        element.innerHTML = '';\n",
              "        dataTable['output_type'] = 'display_data';\n",
              "        await google.colab.output.renderOutput(dataTable, element);\n",
              "        const docLink = document.createElement('div');\n",
              "        docLink.innerHTML = docLinkHtml;\n",
              "        element.appendChild(docLink);\n",
              "      }\n",
              "    </script>\n",
              "  </div>\n",
              "\n",
              "\n",
              "<div id=\"df-42935984-d518-42c1-884c-ac3608691d33\">\n",
              "  <button class=\"colab-df-quickchart\" onclick=\"quickchart('df-42935984-d518-42c1-884c-ac3608691d33')\"\n",
              "            title=\"Suggest charts\"\n",
              "            style=\"display:none;\">\n",
              "\n",
              "<svg xmlns=\"http://www.w3.org/2000/svg\" height=\"24px\"viewBox=\"0 0 24 24\"\n",
              "     width=\"24px\">\n",
              "    <g>\n",
              "        <path d=\"M19 3H5c-1.1 0-2 .9-2 2v14c0 1.1.9 2 2 2h14c1.1 0 2-.9 2-2V5c0-1.1-.9-2-2-2zM9 17H7v-7h2v7zm4 0h-2V7h2v10zm4 0h-2v-4h2v4z\"/>\n",
              "    </g>\n",
              "</svg>\n",
              "  </button>\n",
              "\n",
              "<style>\n",
              "  .colab-df-quickchart {\n",
              "      --bg-color: #E8F0FE;\n",
              "      --fill-color: #1967D2;\n",
              "      --hover-bg-color: #E2EBFA;\n",
              "      --hover-fill-color: #174EA6;\n",
              "      --disabled-fill-color: #AAA;\n",
              "      --disabled-bg-color: #DDD;\n",
              "  }\n",
              "\n",
              "  [theme=dark] .colab-df-quickchart {\n",
              "      --bg-color: #3B4455;\n",
              "      --fill-color: #D2E3FC;\n",
              "      --hover-bg-color: #434B5C;\n",
              "      --hover-fill-color: #FFFFFF;\n",
              "      --disabled-bg-color: #3B4455;\n",
              "      --disabled-fill-color: #666;\n",
              "  }\n",
              "\n",
              "  .colab-df-quickchart {\n",
              "    background-color: var(--bg-color);\n",
              "    border: none;\n",
              "    border-radius: 50%;\n",
              "    cursor: pointer;\n",
              "    display: none;\n",
              "    fill: var(--fill-color);\n",
              "    height: 32px;\n",
              "    padding: 0;\n",
              "    width: 32px;\n",
              "  }\n",
              "\n",
              "  .colab-df-quickchart:hover {\n",
              "    background-color: var(--hover-bg-color);\n",
              "    box-shadow: 0 1px 2px rgba(60, 64, 67, 0.3), 0 1px 3px 1px rgba(60, 64, 67, 0.15);\n",
              "    fill: var(--button-hover-fill-color);\n",
              "  }\n",
              "\n",
              "  .colab-df-quickchart-complete:disabled,\n",
              "  .colab-df-quickchart-complete:disabled:hover {\n",
              "    background-color: var(--disabled-bg-color);\n",
              "    fill: var(--disabled-fill-color);\n",
              "    box-shadow: none;\n",
              "  }\n",
              "\n",
              "  .colab-df-spinner {\n",
              "    border: 2px solid var(--fill-color);\n",
              "    border-color: transparent;\n",
              "    border-bottom-color: var(--fill-color);\n",
              "    animation:\n",
              "      spin 1s steps(1) infinite;\n",
              "  }\n",
              "\n",
              "  @keyframes spin {\n",
              "    0% {\n",
              "      border-color: transparent;\n",
              "      border-bottom-color: var(--fill-color);\n",
              "      border-left-color: var(--fill-color);\n",
              "    }\n",
              "    20% {\n",
              "      border-color: transparent;\n",
              "      border-left-color: var(--fill-color);\n",
              "      border-top-color: var(--fill-color);\n",
              "    }\n",
              "    30% {\n",
              "      border-color: transparent;\n",
              "      border-left-color: var(--fill-color);\n",
              "      border-top-color: var(--fill-color);\n",
              "      border-right-color: var(--fill-color);\n",
              "    }\n",
              "    40% {\n",
              "      border-color: transparent;\n",
              "      border-right-color: var(--fill-color);\n",
              "      border-top-color: var(--fill-color);\n",
              "    }\n",
              "    60% {\n",
              "      border-color: transparent;\n",
              "      border-right-color: var(--fill-color);\n",
              "    }\n",
              "    80% {\n",
              "      border-color: transparent;\n",
              "      border-right-color: var(--fill-color);\n",
              "      border-bottom-color: var(--fill-color);\n",
              "    }\n",
              "    90% {\n",
              "      border-color: transparent;\n",
              "      border-bottom-color: var(--fill-color);\n",
              "    }\n",
              "  }\n",
              "</style>\n",
              "\n",
              "  <script>\n",
              "    async function quickchart(key) {\n",
              "      const quickchartButtonEl =\n",
              "        document.querySelector('#' + key + ' button');\n",
              "      quickchartButtonEl.disabled = true;  // To prevent multiple clicks.\n",
              "      quickchartButtonEl.classList.add('colab-df-spinner');\n",
              "      try {\n",
              "        const charts = await google.colab.kernel.invokeFunction(\n",
              "            'suggestCharts', [key], {});\n",
              "      } catch (error) {\n",
              "        console.error('Error during call to suggestCharts:', error);\n",
              "      }\n",
              "      quickchartButtonEl.classList.remove('colab-df-spinner');\n",
              "      quickchartButtonEl.classList.add('colab-df-quickchart-complete');\n",
              "    }\n",
              "    (() => {\n",
              "      let quickchartButtonEl =\n",
              "        document.querySelector('#df-42935984-d518-42c1-884c-ac3608691d33 button');\n",
              "      quickchartButtonEl.style.display =\n",
              "        google.colab.kernel.accessAllowed ? 'block' : 'none';\n",
              "    })();\n",
              "  </script>\n",
              "</div>\n",
              "    </div>\n",
              "  </div>\n"
            ],
            "application/vnd.google.colaboratory.intrinsic+json": {
              "type": "dataframe",
              "summary": "{\n  \"name\": \"data\",\n  \"rows\": 8,\n  \"fields\": [\n    {\n      \"column\": \"alcohol\",\n      \"properties\": {\n        \"dtype\": \"number\",\n        \"std\": 59.11826462515089,\n        \"min\": 0.81201171875,\n        \"max\": 178.0,\n        \"num_unique_values\": 8,\n        \"samples\": [\n          13.0,\n          13.046875,\n          178.0\n        ],\n        \"semantic_type\": \"\",\n        \"description\": \"\"\n      }\n    },\n    {\n      \"column\": \"malic_acid\",\n      \"properties\": {\n        \"dtype\": \"number\",\n        \"std\": 62.116878053835904,\n        \"min\": 0.74,\n        \"max\": 178.0,\n        \"num_unique_values\": 8,\n        \"samples\": [\n          2.3363483146067416,\n          1.8650000000000002,\n          178.0\n        ],\n        \"semantic_type\": \"\",\n        \"description\": \"\"\n      }\n    },\n    {\n      \"column\": \"ash\",\n      \"properties\": {\n        \"dtype\": \"number\",\n        \"std\": 62.213612771606805,\n        \"min\": 0.27434400906081485,\n        \"max\": 178.0,\n        \"num_unique_values\": 8,\n        \"samples\": [\n          2.3665168539325845,\n          2.36,\n          178.0\n        ],\n        \"semantic_type\": \"\",\n        \"description\": \"\"\n      }\n    },\n    {\n      \"column\": \"alcalinity_of_ash\",\n      \"properties\": {\n        \"dtype\": \"number\",\n        \"std\": 57.32526338306687,\n        \"min\": 3.339563767173505,\n        \"max\": 178.0,\n        \"num_unique_values\": 8,\n        \"samples\": [\n          19.49494382022472,\n          19.5,\n          178.0\n        ],\n        \"semantic_type\": \"\",\n        \"description\": \"\"\n      }\n    },\n    {\n      \"column\": \"magnesium\",\n      \"properties\": {\n        \"dtype\": \"number\",\n        \"std\": 51.18081686409121,\n        \"min\": 14.282483515295665,\n        \"max\": 178.0,\n        \"num_unique_values\": 8,\n        \"samples\": [\n          99.74157303370787,\n          98.0,\n          178.0\n        ],\n        \"semantic_type\": \"\",\n        \"description\": \"\"\n      }\n    },\n    {\n      \"column\": \"total_phenols\",\n      \"properties\": {\n        \"dtype\": \"number\",\n        \"std\": 62.19953212829461,\n        \"min\": 0.6258510488339893,\n        \"max\": 178.0,\n        \"num_unique_values\": 8,\n        \"samples\": [\n          2.295112359550562,\n          2.355,\n          178.0\n        ],\n        \"semantic_type\": \"\",\n        \"description\": \"\"\n      }\n    },\n    {\n      \"column\": \"flavanoids\",\n      \"properties\": {\n        \"dtype\": \"number\",\n        \"std\": 62.20866774807846,\n        \"min\": 0.34,\n        \"max\": 178.0,\n        \"num_unique_values\": 8,\n        \"samples\": [\n          2.0292696629213487,\n          2.135,\n          178.0\n        ],\n        \"semantic_type\": \"\",\n        \"description\": \"\"\n      }\n    },\n    {\n      \"column\": \"nonflavanoid_phenols\",\n      \"properties\": {\n        \"dtype\": \"number\",\n        \"std\": 62.81536936528359,\n        \"min\": 0.12445334029667937,\n        \"max\": 178.0,\n        \"num_unique_values\": 8,\n        \"samples\": [\n          0.3618539325842696,\n          0.34,\n          178.0\n        ],\n        \"semantic_type\": \"\",\n        \"description\": \"\"\n      }\n    },\n    {\n      \"column\": \"proanthocyanins\",\n      \"properties\": {\n        \"dtype\": \"number\",\n        \"std\": 62.389141510191415,\n        \"min\": 0.41,\n        \"max\": 178.0,\n        \"num_unique_values\": 8,\n        \"samples\": [\n          1.5908988764044945,\n          1.5550000000000002,\n          178.0\n        ],\n        \"semantic_type\": \"\",\n        \"description\": \"\"\n      }\n    },\n    {\n      \"column\": \"color_intensity\",\n      \"properties\": {\n        \"dtype\": \"number\",\n        \"std\": 61.23070389608627,\n        \"min\": 1.28,\n        \"max\": 178.0,\n        \"num_unique_values\": 8,\n        \"samples\": [\n          5.058089882022472,\n          4.6899999999999995,\n          178.0\n        ],\n        \"semantic_type\": \"\",\n        \"description\": \"\"\n      }\n    },\n    {\n      \"column\": \"hue\",\n      \"properties\": {\n        \"dtype\": \"number\",\n        \"std\": 62.618701002452724,\n        \"min\": 0.22857156582982338,\n        \"max\": 178.0,\n        \"num_unique_values\": 8,\n        \"samples\": [\n          0.9574494382022471,\n          0.965,\n          178.0\n        ],\n        \"semantic_type\": \"\",\n        \"description\": \"\"\n      }\n    },\n    {\n      \"column\": \"od280/od315_of_diluted_wines\",\n      \"properties\": {\n        \"dtype\": \"number\",\n        \"std\": 62.109005977625,\n        \"min\": 0.7099904287650504,\n        \"max\": 178.0,\n        \"num_unique_values\": 8,\n        \"samples\": [\n          2.6116853932584267,\n          2.78,\n          178.0\n        ],\n        \"semantic_type\": \"\",\n        \"description\": \"\"\n      }\n    },\n    {\n      \"column\": \"proline\",\n      \"properties\": {\n        \"dtype\": \"number\",\n        \"std\": 489.2848273029377,\n        \"min\": 178.0,\n        \"max\": 1680.0,\n        \"num_unique_values\": 8,\n        \"samples\": [\n          746.8932584269663,\n          673.5,\n          178.0\n        ],\n        \"semantic_type\": \"\",\n        \"description\": \"\"\n      }\n    }\n  ]\n}"
            }
          },
          "metadata": {},
          "execution_count": 47
        }
      ],
      "source": [
        "data.describe()"
      ]
    },
    {
      "cell_type": "markdown",
      "metadata": {
        "id": "HO7TxAnYueRH"
      },
      "source": [
        "Метод `describe` показывает основные статистические характеристики данных по каждому *числовому признаку*: число непропущенных значений, среднее, стандартное отклонение, диапазон, медиану, 0.25 и 0.75 квартили.\n",
        "\n",
        "**Изменить тип колонки** можно с помощью метода `astype`. Применим этот метод к признаку *alcohol* и переведём его в `float16`:"
      ]
    },
    {
      "cell_type": "code",
      "execution_count": null,
      "metadata": {
        "id": "8qHv4vh7ueRH"
      },
      "outputs": [],
      "source": [
        "data[\"alcohol\"] = data[\"alcohol\"].astype(\"float16\")"
      ]
    },
    {
      "cell_type": "markdown",
      "metadata": {
        "id": "h73hNBhcueRH"
      },
      "source": [
        "Переведите 3 других признака в более подходящие типы и проверьте, что типы поменялись."
      ]
    },
    {
      "cell_type": "code",
      "execution_count": null,
      "metadata": {
        "id": "w6qWsnobueRH",
        "colab": {
          "base_uri": "https://localhost:8080/"
        },
        "outputId": "39e930bc-7a33-414c-bfaf-7f4daa80817a"
      },
      "outputs": [
        {
          "output_type": "stream",
          "name": "stdout",
          "text": [
            "<class 'pandas.core.frame.DataFrame'>\n",
            "RangeIndex: 178 entries, 0 to 177\n",
            "Data columns (total 13 columns):\n",
            " #   Column                        Non-Null Count  Dtype  \n",
            "---  ------                        --------------  -----  \n",
            " 0   alcohol                       178 non-null    float16\n",
            " 1   malic_acid                    178 non-null    float64\n",
            " 2   ash                           178 non-null    float64\n",
            " 3   alcalinity_of_ash             178 non-null    float64\n",
            " 4   magnesium                     178 non-null    float64\n",
            " 5   total_phenols                 178 non-null    float64\n",
            " 6   flavanoids                    178 non-null    float64\n",
            " 7   nonflavanoid_phenols          178 non-null    float64\n",
            " 8   proanthocyanins               178 non-null    float16\n",
            " 9   color_intensity               178 non-null    float16\n",
            " 10  hue                           178 non-null    float64\n",
            " 11  od280/od315_of_diluted_wines  178 non-null    float16\n",
            " 12  proline                       178 non-null    float64\n",
            "dtypes: float16(4), float64(9)\n",
            "memory usage: 14.0 KB\n"
          ]
        }
      ],
      "source": [
        "data[\"color_intensity\"] = data[\"color_intensity\"].astype(\"float16\")\n",
        "data[\"od280/od315_of_diluted_wines\"] = data[\"od280/od315_of_diluted_wines\"].astype(\"float16\")\n",
        "data[\"proanthocyanins\"] = data[\"proanthocyanins\"].astype(\"float16\")\n",
        "\n",
        "data.info()"
      ]
    },
    {
      "cell_type": "markdown",
      "metadata": {
        "id": "BajThThjueRI"
      },
      "source": [
        "**Сортировка**\n",
        "\n",
        "DataFrame можно отсортировать по значению какого-нибудь из признаков. Например, по *alcohol* (`ascending=False` для сортировки по убыванию):"
      ]
    },
    {
      "cell_type": "code",
      "execution_count": null,
      "metadata": {
        "id": "RK5f4XEqueRI",
        "colab": {
          "base_uri": "https://localhost:8080/",
          "height": 224
        },
        "outputId": "7d58998a-3781-495d-ff9e-77183abdb1ae"
      },
      "outputs": [
        {
          "output_type": "execute_result",
          "data": {
            "text/plain": [
              "      alcohol  malic_acid   ash  alcalinity_of_ash  magnesium  total_phenols  flavanoids  nonflavanoid_phenols  proanthocyanins  color_intensity   hue  od280/od315_of_diluted_wines  proline\n",
              "8   14.828125        1.64  2.17               14.0       97.0           2.80        2.98                  0.29         1.980469         5.199219  1.08                      2.849609   1045.0\n",
              "13  14.750000        1.73  2.39               11.4       91.0           3.10        3.69                  0.43         2.810547         5.398438  1.25                      2.730469   1150.0\n",
              "6   14.390625        1.87  2.45               14.6       96.0           2.50        2.52                  0.30         1.980469         5.250000  1.02                      3.580078   1290.0\n",
              "46  14.382812        3.59  2.28               16.0      102.0           3.25        3.17                  0.27         2.189453         4.898438  1.04                      3.439453   1065.0\n",
              "14  14.382812        1.87  2.38               12.0      102.0           3.30        3.64                  0.29         2.960938         7.500000  1.20                      3.000000   1547.0"
            ],
            "text/html": [
              "\n",
              "  <div id=\"df-b806ef73-c363-4618-95c8-6de6983f3375\" class=\"colab-df-container\">\n",
              "    <div>\n",
              "<style scoped>\n",
              "    .dataframe tbody tr th:only-of-type {\n",
              "        vertical-align: middle;\n",
              "    }\n",
              "\n",
              "    .dataframe tbody tr th {\n",
              "        vertical-align: top;\n",
              "    }\n",
              "\n",
              "    .dataframe thead th {\n",
              "        text-align: right;\n",
              "    }\n",
              "</style>\n",
              "<table border=\"1\" class=\"dataframe\">\n",
              "  <thead>\n",
              "    <tr style=\"text-align: right;\">\n",
              "      <th></th>\n",
              "      <th>alcohol</th>\n",
              "      <th>malic_acid</th>\n",
              "      <th>ash</th>\n",
              "      <th>alcalinity_of_ash</th>\n",
              "      <th>magnesium</th>\n",
              "      <th>total_phenols</th>\n",
              "      <th>flavanoids</th>\n",
              "      <th>nonflavanoid_phenols</th>\n",
              "      <th>proanthocyanins</th>\n",
              "      <th>color_intensity</th>\n",
              "      <th>hue</th>\n",
              "      <th>od280/od315_of_diluted_wines</th>\n",
              "      <th>proline</th>\n",
              "    </tr>\n",
              "  </thead>\n",
              "  <tbody>\n",
              "    <tr>\n",
              "      <th>8</th>\n",
              "      <td>14.828125</td>\n",
              "      <td>1.64</td>\n",
              "      <td>2.17</td>\n",
              "      <td>14.0</td>\n",
              "      <td>97.0</td>\n",
              "      <td>2.80</td>\n",
              "      <td>2.98</td>\n",
              "      <td>0.29</td>\n",
              "      <td>1.980469</td>\n",
              "      <td>5.199219</td>\n",
              "      <td>1.08</td>\n",
              "      <td>2.849609</td>\n",
              "      <td>1045.0</td>\n",
              "    </tr>\n",
              "    <tr>\n",
              "      <th>13</th>\n",
              "      <td>14.750000</td>\n",
              "      <td>1.73</td>\n",
              "      <td>2.39</td>\n",
              "      <td>11.4</td>\n",
              "      <td>91.0</td>\n",
              "      <td>3.10</td>\n",
              "      <td>3.69</td>\n",
              "      <td>0.43</td>\n",
              "      <td>2.810547</td>\n",
              "      <td>5.398438</td>\n",
              "      <td>1.25</td>\n",
              "      <td>2.730469</td>\n",
              "      <td>1150.0</td>\n",
              "    </tr>\n",
              "    <tr>\n",
              "      <th>6</th>\n",
              "      <td>14.390625</td>\n",
              "      <td>1.87</td>\n",
              "      <td>2.45</td>\n",
              "      <td>14.6</td>\n",
              "      <td>96.0</td>\n",
              "      <td>2.50</td>\n",
              "      <td>2.52</td>\n",
              "      <td>0.30</td>\n",
              "      <td>1.980469</td>\n",
              "      <td>5.250000</td>\n",
              "      <td>1.02</td>\n",
              "      <td>3.580078</td>\n",
              "      <td>1290.0</td>\n",
              "    </tr>\n",
              "    <tr>\n",
              "      <th>46</th>\n",
              "      <td>14.382812</td>\n",
              "      <td>3.59</td>\n",
              "      <td>2.28</td>\n",
              "      <td>16.0</td>\n",
              "      <td>102.0</td>\n",
              "      <td>3.25</td>\n",
              "      <td>3.17</td>\n",
              "      <td>0.27</td>\n",
              "      <td>2.189453</td>\n",
              "      <td>4.898438</td>\n",
              "      <td>1.04</td>\n",
              "      <td>3.439453</td>\n",
              "      <td>1065.0</td>\n",
              "    </tr>\n",
              "    <tr>\n",
              "      <th>14</th>\n",
              "      <td>14.382812</td>\n",
              "      <td>1.87</td>\n",
              "      <td>2.38</td>\n",
              "      <td>12.0</td>\n",
              "      <td>102.0</td>\n",
              "      <td>3.30</td>\n",
              "      <td>3.64</td>\n",
              "      <td>0.29</td>\n",
              "      <td>2.960938</td>\n",
              "      <td>7.500000</td>\n",
              "      <td>1.20</td>\n",
              "      <td>3.000000</td>\n",
              "      <td>1547.0</td>\n",
              "    </tr>\n",
              "  </tbody>\n",
              "</table>\n",
              "</div>\n",
              "    <div class=\"colab-df-buttons\">\n",
              "\n",
              "  <div class=\"colab-df-container\">\n",
              "    <button class=\"colab-df-convert\" onclick=\"convertToInteractive('df-b806ef73-c363-4618-95c8-6de6983f3375')\"\n",
              "            title=\"Convert this dataframe to an interactive table.\"\n",
              "            style=\"display:none;\">\n",
              "\n",
              "  <svg xmlns=\"http://www.w3.org/2000/svg\" height=\"24px\" viewBox=\"0 -960 960 960\">\n",
              "    <path d=\"M120-120v-720h720v720H120Zm60-500h600v-160H180v160Zm220 220h160v-160H400v160Zm0 220h160v-160H400v160ZM180-400h160v-160H180v160Zm440 0h160v-160H620v160ZM180-180h160v-160H180v160Zm440 0h160v-160H620v160Z\"/>\n",
              "  </svg>\n",
              "    </button>\n",
              "\n",
              "  <style>\n",
              "    .colab-df-container {\n",
              "      display:flex;\n",
              "      gap: 12px;\n",
              "    }\n",
              "\n",
              "    .colab-df-convert {\n",
              "      background-color: #E8F0FE;\n",
              "      border: none;\n",
              "      border-radius: 50%;\n",
              "      cursor: pointer;\n",
              "      display: none;\n",
              "      fill: #1967D2;\n",
              "      height: 32px;\n",
              "      padding: 0 0 0 0;\n",
              "      width: 32px;\n",
              "    }\n",
              "\n",
              "    .colab-df-convert:hover {\n",
              "      background-color: #E2EBFA;\n",
              "      box-shadow: 0px 1px 2px rgba(60, 64, 67, 0.3), 0px 1px 3px 1px rgba(60, 64, 67, 0.15);\n",
              "      fill: #174EA6;\n",
              "    }\n",
              "\n",
              "    .colab-df-buttons div {\n",
              "      margin-bottom: 4px;\n",
              "    }\n",
              "\n",
              "    [theme=dark] .colab-df-convert {\n",
              "      background-color: #3B4455;\n",
              "      fill: #D2E3FC;\n",
              "    }\n",
              "\n",
              "    [theme=dark] .colab-df-convert:hover {\n",
              "      background-color: #434B5C;\n",
              "      box-shadow: 0px 1px 3px 1px rgba(0, 0, 0, 0.15);\n",
              "      filter: drop-shadow(0px 1px 2px rgba(0, 0, 0, 0.3));\n",
              "      fill: #FFFFFF;\n",
              "    }\n",
              "  </style>\n",
              "\n",
              "    <script>\n",
              "      const buttonEl =\n",
              "        document.querySelector('#df-b806ef73-c363-4618-95c8-6de6983f3375 button.colab-df-convert');\n",
              "      buttonEl.style.display =\n",
              "        google.colab.kernel.accessAllowed ? 'block' : 'none';\n",
              "\n",
              "      async function convertToInteractive(key) {\n",
              "        const element = document.querySelector('#df-b806ef73-c363-4618-95c8-6de6983f3375');\n",
              "        const dataTable =\n",
              "          await google.colab.kernel.invokeFunction('convertToInteractive',\n",
              "                                                    [key], {});\n",
              "        if (!dataTable) return;\n",
              "\n",
              "        const docLinkHtml = 'Like what you see? Visit the ' +\n",
              "          '<a target=\"_blank\" href=https://colab.research.google.com/notebooks/data_table.ipynb>data table notebook</a>'\n",
              "          + ' to learn more about interactive tables.';\n",
              "        element.innerHTML = '';\n",
              "        dataTable['output_type'] = 'display_data';\n",
              "        await google.colab.output.renderOutput(dataTable, element);\n",
              "        const docLink = document.createElement('div');\n",
              "        docLink.innerHTML = docLinkHtml;\n",
              "        element.appendChild(docLink);\n",
              "      }\n",
              "    </script>\n",
              "  </div>\n",
              "\n",
              "\n",
              "<div id=\"df-c755f5b3-a4c5-41ae-a9f1-3f5134fb2ef8\">\n",
              "  <button class=\"colab-df-quickchart\" onclick=\"quickchart('df-c755f5b3-a4c5-41ae-a9f1-3f5134fb2ef8')\"\n",
              "            title=\"Suggest charts\"\n",
              "            style=\"display:none;\">\n",
              "\n",
              "<svg xmlns=\"http://www.w3.org/2000/svg\" height=\"24px\"viewBox=\"0 0 24 24\"\n",
              "     width=\"24px\">\n",
              "    <g>\n",
              "        <path d=\"M19 3H5c-1.1 0-2 .9-2 2v14c0 1.1.9 2 2 2h14c1.1 0 2-.9 2-2V5c0-1.1-.9-2-2-2zM9 17H7v-7h2v7zm4 0h-2V7h2v10zm4 0h-2v-4h2v4z\"/>\n",
              "    </g>\n",
              "</svg>\n",
              "  </button>\n",
              "\n",
              "<style>\n",
              "  .colab-df-quickchart {\n",
              "      --bg-color: #E8F0FE;\n",
              "      --fill-color: #1967D2;\n",
              "      --hover-bg-color: #E2EBFA;\n",
              "      --hover-fill-color: #174EA6;\n",
              "      --disabled-fill-color: #AAA;\n",
              "      --disabled-bg-color: #DDD;\n",
              "  }\n",
              "\n",
              "  [theme=dark] .colab-df-quickchart {\n",
              "      --bg-color: #3B4455;\n",
              "      --fill-color: #D2E3FC;\n",
              "      --hover-bg-color: #434B5C;\n",
              "      --hover-fill-color: #FFFFFF;\n",
              "      --disabled-bg-color: #3B4455;\n",
              "      --disabled-fill-color: #666;\n",
              "  }\n",
              "\n",
              "  .colab-df-quickchart {\n",
              "    background-color: var(--bg-color);\n",
              "    border: none;\n",
              "    border-radius: 50%;\n",
              "    cursor: pointer;\n",
              "    display: none;\n",
              "    fill: var(--fill-color);\n",
              "    height: 32px;\n",
              "    padding: 0;\n",
              "    width: 32px;\n",
              "  }\n",
              "\n",
              "  .colab-df-quickchart:hover {\n",
              "    background-color: var(--hover-bg-color);\n",
              "    box-shadow: 0 1px 2px rgba(60, 64, 67, 0.3), 0 1px 3px 1px rgba(60, 64, 67, 0.15);\n",
              "    fill: var(--button-hover-fill-color);\n",
              "  }\n",
              "\n",
              "  .colab-df-quickchart-complete:disabled,\n",
              "  .colab-df-quickchart-complete:disabled:hover {\n",
              "    background-color: var(--disabled-bg-color);\n",
              "    fill: var(--disabled-fill-color);\n",
              "    box-shadow: none;\n",
              "  }\n",
              "\n",
              "  .colab-df-spinner {\n",
              "    border: 2px solid var(--fill-color);\n",
              "    border-color: transparent;\n",
              "    border-bottom-color: var(--fill-color);\n",
              "    animation:\n",
              "      spin 1s steps(1) infinite;\n",
              "  }\n",
              "\n",
              "  @keyframes spin {\n",
              "    0% {\n",
              "      border-color: transparent;\n",
              "      border-bottom-color: var(--fill-color);\n",
              "      border-left-color: var(--fill-color);\n",
              "    }\n",
              "    20% {\n",
              "      border-color: transparent;\n",
              "      border-left-color: var(--fill-color);\n",
              "      border-top-color: var(--fill-color);\n",
              "    }\n",
              "    30% {\n",
              "      border-color: transparent;\n",
              "      border-left-color: var(--fill-color);\n",
              "      border-top-color: var(--fill-color);\n",
              "      border-right-color: var(--fill-color);\n",
              "    }\n",
              "    40% {\n",
              "      border-color: transparent;\n",
              "      border-right-color: var(--fill-color);\n",
              "      border-top-color: var(--fill-color);\n",
              "    }\n",
              "    60% {\n",
              "      border-color: transparent;\n",
              "      border-right-color: var(--fill-color);\n",
              "    }\n",
              "    80% {\n",
              "      border-color: transparent;\n",
              "      border-right-color: var(--fill-color);\n",
              "      border-bottom-color: var(--fill-color);\n",
              "    }\n",
              "    90% {\n",
              "      border-color: transparent;\n",
              "      border-bottom-color: var(--fill-color);\n",
              "    }\n",
              "  }\n",
              "</style>\n",
              "\n",
              "  <script>\n",
              "    async function quickchart(key) {\n",
              "      const quickchartButtonEl =\n",
              "        document.querySelector('#' + key + ' button');\n",
              "      quickchartButtonEl.disabled = true;  // To prevent multiple clicks.\n",
              "      quickchartButtonEl.classList.add('colab-df-spinner');\n",
              "      try {\n",
              "        const charts = await google.colab.kernel.invokeFunction(\n",
              "            'suggestCharts', [key], {});\n",
              "      } catch (error) {\n",
              "        console.error('Error during call to suggestCharts:', error);\n",
              "      }\n",
              "      quickchartButtonEl.classList.remove('colab-df-spinner');\n",
              "      quickchartButtonEl.classList.add('colab-df-quickchart-complete');\n",
              "    }\n",
              "    (() => {\n",
              "      let quickchartButtonEl =\n",
              "        document.querySelector('#df-c755f5b3-a4c5-41ae-a9f1-3f5134fb2ef8 button');\n",
              "      quickchartButtonEl.style.display =\n",
              "        google.colab.kernel.accessAllowed ? 'block' : 'none';\n",
              "    })();\n",
              "  </script>\n",
              "</div>\n",
              "    </div>\n",
              "  </div>\n"
            ],
            "application/vnd.google.colaboratory.intrinsic+json": {
              "type": "dataframe",
              "summary": "{\n  \"name\": \"data\",\n  \"rows\": 5,\n  \"fields\": [\n    {\n      \"column\": \"alcohol\",\n      \"properties\": {\n        \"dtype\": \"float16\",\n        \"num_unique_values\": 4,\n        \"samples\": [\n          14.75,\n          14.3828125,\n          14.828125\n        ],\n        \"semantic_type\": \"\",\n        \"description\": \"\"\n      }\n    },\n    {\n      \"column\": \"malic_acid\",\n      \"properties\": {\n        \"dtype\": \"number\",\n        \"std\": 0.8164557550780078,\n        \"min\": 1.64,\n        \"max\": 3.59,\n        \"num_unique_values\": 4,\n        \"samples\": [\n          1.73,\n          3.59,\n          1.64\n        ],\n        \"semantic_type\": \"\",\n        \"description\": \"\"\n      }\n    },\n    {\n      \"column\": \"ash\",\n      \"properties\": {\n        \"dtype\": \"number\",\n        \"std\": 0.11013627921806703,\n        \"min\": 2.17,\n        \"max\": 2.45,\n        \"num_unique_values\": 5,\n        \"samples\": [\n          2.39,\n          2.38,\n          2.45\n        ],\n        \"semantic_type\": \"\",\n        \"description\": \"\"\n      }\n    },\n    {\n      \"column\": \"alcalinity_of_ash\",\n      \"properties\": {\n        \"dtype\": \"number\",\n        \"std\": 1.89208879284245,\n        \"min\": 11.4,\n        \"max\": 16.0,\n        \"num_unique_values\": 5,\n        \"samples\": [\n          11.4,\n          12.0,\n          14.6\n        ],\n        \"semantic_type\": \"\",\n        \"description\": \"\"\n      }\n    },\n    {\n      \"column\": \"magnesium\",\n      \"properties\": {\n        \"dtype\": \"number\",\n        \"std\": 4.61519230368573,\n        \"min\": 91.0,\n        \"max\": 102.0,\n        \"num_unique_values\": 4,\n        \"samples\": [\n          91.0,\n          102.0,\n          97.0\n        ],\n        \"semantic_type\": \"\",\n        \"description\": \"\"\n      }\n    },\n    {\n      \"column\": \"total_phenols\",\n      \"properties\": {\n        \"dtype\": \"number\",\n        \"std\": 0.3361547262794322,\n        \"min\": 2.5,\n        \"max\": 3.3,\n        \"num_unique_values\": 5,\n        \"samples\": [\n          3.1,\n          3.3,\n          2.5\n        ],\n        \"semantic_type\": \"\",\n        \"description\": \"\"\n      }\n    },\n    {\n      \"column\": \"flavanoids\",\n      \"properties\": {\n        \"dtype\": \"number\",\n        \"std\": 0.4861584103972696,\n        \"min\": 2.52,\n        \"max\": 3.69,\n        \"num_unique_values\": 5,\n        \"samples\": [\n          3.69,\n          3.64,\n          2.52\n        ],\n        \"semantic_type\": \"\",\n        \"description\": \"\"\n      }\n    },\n    {\n      \"column\": \"nonflavanoid_phenols\",\n      \"properties\": {\n        \"dtype\": \"number\",\n        \"std\": 0.06465291950097846,\n        \"min\": 0.27,\n        \"max\": 0.43,\n        \"num_unique_values\": 4,\n        \"samples\": [\n          0.43,\n          0.27,\n          0.29\n        ],\n        \"semantic_type\": \"\",\n        \"description\": \"\"\n      }\n    },\n    {\n      \"column\": \"proanthocyanins\",\n      \"properties\": {\n        \"dtype\": \"float16\",\n        \"num_unique_values\": 4,\n        \"samples\": [\n          2.810546875,\n          2.9609375,\n          1.98046875\n        ],\n        \"semantic_type\": \"\",\n        \"description\": \"\"\n      }\n    },\n    {\n      \"column\": \"color_intensity\",\n      \"properties\": {\n        \"dtype\": \"float16\",\n        \"num_unique_values\": 5,\n        \"samples\": [\n          5.3984375,\n          7.5,\n          5.25\n        ],\n        \"semantic_type\": \"\",\n        \"description\": \"\"\n      }\n    },\n    {\n      \"column\": \"hue\",\n      \"properties\": {\n        \"dtype\": \"number\",\n        \"std\": 0.10158740079360233,\n        \"min\": 1.02,\n        \"max\": 1.25,\n        \"num_unique_values\": 5,\n        \"samples\": [\n          1.25,\n          1.2,\n          1.02\n        ],\n        \"semantic_type\": \"\",\n        \"description\": \"\"\n      }\n    },\n    {\n      \"column\": \"od280/od315_of_diluted_wines\",\n      \"properties\": {\n        \"dtype\": \"float16\",\n        \"num_unique_values\": 5,\n        \"samples\": [\n          2.73046875,\n          3.0,\n          3.580078125\n        ],\n        \"semantic_type\": \"\",\n        \"description\": \"\"\n      }\n    },\n    {\n      \"column\": \"proline\",\n      \"properties\": {\n        \"dtype\": \"number\",\n        \"std\": 206.98864703166694,\n        \"min\": 1045.0,\n        \"max\": 1547.0,\n        \"num_unique_values\": 5,\n        \"samples\": [\n          1150.0,\n          1547.0,\n          1290.0\n        ],\n        \"semantic_type\": \"\",\n        \"description\": \"\"\n      }\n    }\n  ]\n}"
            }
          },
          "metadata": {},
          "execution_count": 53
        }
      ],
      "source": [
        "data.sort_values(by=\"alcohol\", ascending=False).head()"
      ]
    },
    {
      "cell_type": "markdown",
      "metadata": {
        "id": "FT1fkKa1ueRI"
      },
      "source": [
        "Сортировать можно и по группе столбцов, подав список с названиями. Попробуйте."
      ]
    },
    {
      "cell_type": "code",
      "execution_count": null,
      "metadata": {
        "id": "IkPqvVJ5ueRI",
        "colab": {
          "base_uri": "https://localhost:8080/",
          "height": 309
        },
        "outputId": "97edc44f-a746-4b72-d5ef-fc2d0899720f"
      },
      "outputs": [
        {
          "output_type": "stream",
          "name": "stdout",
          "text": [
            "Index(['alcohol', 'malic_acid', 'ash', 'alcalinity_of_ash', 'magnesium',\n",
            "       'total_phenols', 'flavanoids', 'nonflavanoid_phenols',\n",
            "       'proanthocyanins', 'color_intensity', 'hue',\n",
            "       'od280/od315_of_diluted_wines', 'proline'],\n",
            "      dtype='object')\n"
          ]
        },
        {
          "output_type": "execute_result",
          "data": {
            "text/plain": [
              "      alcohol  malic_acid   ash  alcalinity_of_ash  magnesium  total_phenols  flavanoids  nonflavanoid_phenols  proanthocyanins  color_intensity   hue  od280/od315_of_diluted_wines  proline\n",
              "8   14.828125        1.64  2.17               14.0       97.0           2.80        2.98                  0.29         1.980469         5.199219  1.08                      2.849609   1045.0\n",
              "13  14.750000        1.73  2.39               11.4       91.0           3.10        3.69                  0.43         2.810547         5.398438  1.25                      2.730469   1150.0\n",
              "6   14.390625        1.87  2.45               14.6       96.0           2.50        2.52                  0.30         1.980469         5.250000  1.02                      3.580078   1290.0\n",
              "46  14.382812        3.59  2.28               16.0      102.0           3.25        3.17                  0.27         2.189453         4.898438  1.04                      3.439453   1065.0\n",
              "14  14.382812        1.87  2.38               12.0      102.0           3.30        3.64                  0.29         2.960938         7.500000  1.20                      3.000000   1547.0"
            ],
            "text/html": [
              "\n",
              "  <div id=\"df-ef6c2f9c-216f-46ba-b056-ab6b469fcecd\" class=\"colab-df-container\">\n",
              "    <div>\n",
              "<style scoped>\n",
              "    .dataframe tbody tr th:only-of-type {\n",
              "        vertical-align: middle;\n",
              "    }\n",
              "\n",
              "    .dataframe tbody tr th {\n",
              "        vertical-align: top;\n",
              "    }\n",
              "\n",
              "    .dataframe thead th {\n",
              "        text-align: right;\n",
              "    }\n",
              "</style>\n",
              "<table border=\"1\" class=\"dataframe\">\n",
              "  <thead>\n",
              "    <tr style=\"text-align: right;\">\n",
              "      <th></th>\n",
              "      <th>alcohol</th>\n",
              "      <th>malic_acid</th>\n",
              "      <th>ash</th>\n",
              "      <th>alcalinity_of_ash</th>\n",
              "      <th>magnesium</th>\n",
              "      <th>total_phenols</th>\n",
              "      <th>flavanoids</th>\n",
              "      <th>nonflavanoid_phenols</th>\n",
              "      <th>proanthocyanins</th>\n",
              "      <th>color_intensity</th>\n",
              "      <th>hue</th>\n",
              "      <th>od280/od315_of_diluted_wines</th>\n",
              "      <th>proline</th>\n",
              "    </tr>\n",
              "  </thead>\n",
              "  <tbody>\n",
              "    <tr>\n",
              "      <th>8</th>\n",
              "      <td>14.828125</td>\n",
              "      <td>1.64</td>\n",
              "      <td>2.17</td>\n",
              "      <td>14.0</td>\n",
              "      <td>97.0</td>\n",
              "      <td>2.80</td>\n",
              "      <td>2.98</td>\n",
              "      <td>0.29</td>\n",
              "      <td>1.980469</td>\n",
              "      <td>5.199219</td>\n",
              "      <td>1.08</td>\n",
              "      <td>2.849609</td>\n",
              "      <td>1045.0</td>\n",
              "    </tr>\n",
              "    <tr>\n",
              "      <th>13</th>\n",
              "      <td>14.750000</td>\n",
              "      <td>1.73</td>\n",
              "      <td>2.39</td>\n",
              "      <td>11.4</td>\n",
              "      <td>91.0</td>\n",
              "      <td>3.10</td>\n",
              "      <td>3.69</td>\n",
              "      <td>0.43</td>\n",
              "      <td>2.810547</td>\n",
              "      <td>5.398438</td>\n",
              "      <td>1.25</td>\n",
              "      <td>2.730469</td>\n",
              "      <td>1150.0</td>\n",
              "    </tr>\n",
              "    <tr>\n",
              "      <th>6</th>\n",
              "      <td>14.390625</td>\n",
              "      <td>1.87</td>\n",
              "      <td>2.45</td>\n",
              "      <td>14.6</td>\n",
              "      <td>96.0</td>\n",
              "      <td>2.50</td>\n",
              "      <td>2.52</td>\n",
              "      <td>0.30</td>\n",
              "      <td>1.980469</td>\n",
              "      <td>5.250000</td>\n",
              "      <td>1.02</td>\n",
              "      <td>3.580078</td>\n",
              "      <td>1290.0</td>\n",
              "    </tr>\n",
              "    <tr>\n",
              "      <th>46</th>\n",
              "      <td>14.382812</td>\n",
              "      <td>3.59</td>\n",
              "      <td>2.28</td>\n",
              "      <td>16.0</td>\n",
              "      <td>102.0</td>\n",
              "      <td>3.25</td>\n",
              "      <td>3.17</td>\n",
              "      <td>0.27</td>\n",
              "      <td>2.189453</td>\n",
              "      <td>4.898438</td>\n",
              "      <td>1.04</td>\n",
              "      <td>3.439453</td>\n",
              "      <td>1065.0</td>\n",
              "    </tr>\n",
              "    <tr>\n",
              "      <th>14</th>\n",
              "      <td>14.382812</td>\n",
              "      <td>1.87</td>\n",
              "      <td>2.38</td>\n",
              "      <td>12.0</td>\n",
              "      <td>102.0</td>\n",
              "      <td>3.30</td>\n",
              "      <td>3.64</td>\n",
              "      <td>0.29</td>\n",
              "      <td>2.960938</td>\n",
              "      <td>7.500000</td>\n",
              "      <td>1.20</td>\n",
              "      <td>3.000000</td>\n",
              "      <td>1547.0</td>\n",
              "    </tr>\n",
              "  </tbody>\n",
              "</table>\n",
              "</div>\n",
              "    <div class=\"colab-df-buttons\">\n",
              "\n",
              "  <div class=\"colab-df-container\">\n",
              "    <button class=\"colab-df-convert\" onclick=\"convertToInteractive('df-ef6c2f9c-216f-46ba-b056-ab6b469fcecd')\"\n",
              "            title=\"Convert this dataframe to an interactive table.\"\n",
              "            style=\"display:none;\">\n",
              "\n",
              "  <svg xmlns=\"http://www.w3.org/2000/svg\" height=\"24px\" viewBox=\"0 -960 960 960\">\n",
              "    <path d=\"M120-120v-720h720v720H120Zm60-500h600v-160H180v160Zm220 220h160v-160H400v160Zm0 220h160v-160H400v160ZM180-400h160v-160H180v160Zm440 0h160v-160H620v160ZM180-180h160v-160H180v160Zm440 0h160v-160H620v160Z\"/>\n",
              "  </svg>\n",
              "    </button>\n",
              "\n",
              "  <style>\n",
              "    .colab-df-container {\n",
              "      display:flex;\n",
              "      gap: 12px;\n",
              "    }\n",
              "\n",
              "    .colab-df-convert {\n",
              "      background-color: #E8F0FE;\n",
              "      border: none;\n",
              "      border-radius: 50%;\n",
              "      cursor: pointer;\n",
              "      display: none;\n",
              "      fill: #1967D2;\n",
              "      height: 32px;\n",
              "      padding: 0 0 0 0;\n",
              "      width: 32px;\n",
              "    }\n",
              "\n",
              "    .colab-df-convert:hover {\n",
              "      background-color: #E2EBFA;\n",
              "      box-shadow: 0px 1px 2px rgba(60, 64, 67, 0.3), 0px 1px 3px 1px rgba(60, 64, 67, 0.15);\n",
              "      fill: #174EA6;\n",
              "    }\n",
              "\n",
              "    .colab-df-buttons div {\n",
              "      margin-bottom: 4px;\n",
              "    }\n",
              "\n",
              "    [theme=dark] .colab-df-convert {\n",
              "      background-color: #3B4455;\n",
              "      fill: #D2E3FC;\n",
              "    }\n",
              "\n",
              "    [theme=dark] .colab-df-convert:hover {\n",
              "      background-color: #434B5C;\n",
              "      box-shadow: 0px 1px 3px 1px rgba(0, 0, 0, 0.15);\n",
              "      filter: drop-shadow(0px 1px 2px rgba(0, 0, 0, 0.3));\n",
              "      fill: #FFFFFF;\n",
              "    }\n",
              "  </style>\n",
              "\n",
              "    <script>\n",
              "      const buttonEl =\n",
              "        document.querySelector('#df-ef6c2f9c-216f-46ba-b056-ab6b469fcecd button.colab-df-convert');\n",
              "      buttonEl.style.display =\n",
              "        google.colab.kernel.accessAllowed ? 'block' : 'none';\n",
              "\n",
              "      async function convertToInteractive(key) {\n",
              "        const element = document.querySelector('#df-ef6c2f9c-216f-46ba-b056-ab6b469fcecd');\n",
              "        const dataTable =\n",
              "          await google.colab.kernel.invokeFunction('convertToInteractive',\n",
              "                                                    [key], {});\n",
              "        if (!dataTable) return;\n",
              "\n",
              "        const docLinkHtml = 'Like what you see? Visit the ' +\n",
              "          '<a target=\"_blank\" href=https://colab.research.google.com/notebooks/data_table.ipynb>data table notebook</a>'\n",
              "          + ' to learn more about interactive tables.';\n",
              "        element.innerHTML = '';\n",
              "        dataTable['output_type'] = 'display_data';\n",
              "        await google.colab.output.renderOutput(dataTable, element);\n",
              "        const docLink = document.createElement('div');\n",
              "        docLink.innerHTML = docLinkHtml;\n",
              "        element.appendChild(docLink);\n",
              "      }\n",
              "    </script>\n",
              "  </div>\n",
              "\n",
              "\n",
              "<div id=\"df-c834e0d9-b2fb-46c2-b7d7-cbed5416a38d\">\n",
              "  <button class=\"colab-df-quickchart\" onclick=\"quickchart('df-c834e0d9-b2fb-46c2-b7d7-cbed5416a38d')\"\n",
              "            title=\"Suggest charts\"\n",
              "            style=\"display:none;\">\n",
              "\n",
              "<svg xmlns=\"http://www.w3.org/2000/svg\" height=\"24px\"viewBox=\"0 0 24 24\"\n",
              "     width=\"24px\">\n",
              "    <g>\n",
              "        <path d=\"M19 3H5c-1.1 0-2 .9-2 2v14c0 1.1.9 2 2 2h14c1.1 0 2-.9 2-2V5c0-1.1-.9-2-2-2zM9 17H7v-7h2v7zm4 0h-2V7h2v10zm4 0h-2v-4h2v4z\"/>\n",
              "    </g>\n",
              "</svg>\n",
              "  </button>\n",
              "\n",
              "<style>\n",
              "  .colab-df-quickchart {\n",
              "      --bg-color: #E8F0FE;\n",
              "      --fill-color: #1967D2;\n",
              "      --hover-bg-color: #E2EBFA;\n",
              "      --hover-fill-color: #174EA6;\n",
              "      --disabled-fill-color: #AAA;\n",
              "      --disabled-bg-color: #DDD;\n",
              "  }\n",
              "\n",
              "  [theme=dark] .colab-df-quickchart {\n",
              "      --bg-color: #3B4455;\n",
              "      --fill-color: #D2E3FC;\n",
              "      --hover-bg-color: #434B5C;\n",
              "      --hover-fill-color: #FFFFFF;\n",
              "      --disabled-bg-color: #3B4455;\n",
              "      --disabled-fill-color: #666;\n",
              "  }\n",
              "\n",
              "  .colab-df-quickchart {\n",
              "    background-color: var(--bg-color);\n",
              "    border: none;\n",
              "    border-radius: 50%;\n",
              "    cursor: pointer;\n",
              "    display: none;\n",
              "    fill: var(--fill-color);\n",
              "    height: 32px;\n",
              "    padding: 0;\n",
              "    width: 32px;\n",
              "  }\n",
              "\n",
              "  .colab-df-quickchart:hover {\n",
              "    background-color: var(--hover-bg-color);\n",
              "    box-shadow: 0 1px 2px rgba(60, 64, 67, 0.3), 0 1px 3px 1px rgba(60, 64, 67, 0.15);\n",
              "    fill: var(--button-hover-fill-color);\n",
              "  }\n",
              "\n",
              "  .colab-df-quickchart-complete:disabled,\n",
              "  .colab-df-quickchart-complete:disabled:hover {\n",
              "    background-color: var(--disabled-bg-color);\n",
              "    fill: var(--disabled-fill-color);\n",
              "    box-shadow: none;\n",
              "  }\n",
              "\n",
              "  .colab-df-spinner {\n",
              "    border: 2px solid var(--fill-color);\n",
              "    border-color: transparent;\n",
              "    border-bottom-color: var(--fill-color);\n",
              "    animation:\n",
              "      spin 1s steps(1) infinite;\n",
              "  }\n",
              "\n",
              "  @keyframes spin {\n",
              "    0% {\n",
              "      border-color: transparent;\n",
              "      border-bottom-color: var(--fill-color);\n",
              "      border-left-color: var(--fill-color);\n",
              "    }\n",
              "    20% {\n",
              "      border-color: transparent;\n",
              "      border-left-color: var(--fill-color);\n",
              "      border-top-color: var(--fill-color);\n",
              "    }\n",
              "    30% {\n",
              "      border-color: transparent;\n",
              "      border-left-color: var(--fill-color);\n",
              "      border-top-color: var(--fill-color);\n",
              "      border-right-color: var(--fill-color);\n",
              "    }\n",
              "    40% {\n",
              "      border-color: transparent;\n",
              "      border-right-color: var(--fill-color);\n",
              "      border-top-color: var(--fill-color);\n",
              "    }\n",
              "    60% {\n",
              "      border-color: transparent;\n",
              "      border-right-color: var(--fill-color);\n",
              "    }\n",
              "    80% {\n",
              "      border-color: transparent;\n",
              "      border-right-color: var(--fill-color);\n",
              "      border-bottom-color: var(--fill-color);\n",
              "    }\n",
              "    90% {\n",
              "      border-color: transparent;\n",
              "      border-bottom-color: var(--fill-color);\n",
              "    }\n",
              "  }\n",
              "</style>\n",
              "\n",
              "  <script>\n",
              "    async function quickchart(key) {\n",
              "      const quickchartButtonEl =\n",
              "        document.querySelector('#' + key + ' button');\n",
              "      quickchartButtonEl.disabled = true;  // To prevent multiple clicks.\n",
              "      quickchartButtonEl.classList.add('colab-df-spinner');\n",
              "      try {\n",
              "        const charts = await google.colab.kernel.invokeFunction(\n",
              "            'suggestCharts', [key], {});\n",
              "      } catch (error) {\n",
              "        console.error('Error during call to suggestCharts:', error);\n",
              "      }\n",
              "      quickchartButtonEl.classList.remove('colab-df-spinner');\n",
              "      quickchartButtonEl.classList.add('colab-df-quickchart-complete');\n",
              "    }\n",
              "    (() => {\n",
              "      let quickchartButtonEl =\n",
              "        document.querySelector('#df-c834e0d9-b2fb-46c2-b7d7-cbed5416a38d button');\n",
              "      quickchartButtonEl.style.display =\n",
              "        google.colab.kernel.accessAllowed ? 'block' : 'none';\n",
              "    })();\n",
              "  </script>\n",
              "</div>\n",
              "    </div>\n",
              "  </div>\n"
            ],
            "application/vnd.google.colaboratory.intrinsic+json": {
              "type": "dataframe",
              "summary": "{\n  \"name\": \"data\",\n  \"rows\": 5,\n  \"fields\": [\n    {\n      \"column\": \"alcohol\",\n      \"properties\": {\n        \"dtype\": \"float16\",\n        \"num_unique_values\": 4,\n        \"samples\": [\n          14.75,\n          14.3828125,\n          14.828125\n        ],\n        \"semantic_type\": \"\",\n        \"description\": \"\"\n      }\n    },\n    {\n      \"column\": \"malic_acid\",\n      \"properties\": {\n        \"dtype\": \"number\",\n        \"std\": 0.8164557550780078,\n        \"min\": 1.64,\n        \"max\": 3.59,\n        \"num_unique_values\": 4,\n        \"samples\": [\n          1.73,\n          3.59,\n          1.64\n        ],\n        \"semantic_type\": \"\",\n        \"description\": \"\"\n      }\n    },\n    {\n      \"column\": \"ash\",\n      \"properties\": {\n        \"dtype\": \"number\",\n        \"std\": 0.11013627921806703,\n        \"min\": 2.17,\n        \"max\": 2.45,\n        \"num_unique_values\": 5,\n        \"samples\": [\n          2.39,\n          2.38,\n          2.45\n        ],\n        \"semantic_type\": \"\",\n        \"description\": \"\"\n      }\n    },\n    {\n      \"column\": \"alcalinity_of_ash\",\n      \"properties\": {\n        \"dtype\": \"number\",\n        \"std\": 1.89208879284245,\n        \"min\": 11.4,\n        \"max\": 16.0,\n        \"num_unique_values\": 5,\n        \"samples\": [\n          11.4,\n          12.0,\n          14.6\n        ],\n        \"semantic_type\": \"\",\n        \"description\": \"\"\n      }\n    },\n    {\n      \"column\": \"magnesium\",\n      \"properties\": {\n        \"dtype\": \"number\",\n        \"std\": 4.61519230368573,\n        \"min\": 91.0,\n        \"max\": 102.0,\n        \"num_unique_values\": 4,\n        \"samples\": [\n          91.0,\n          102.0,\n          97.0\n        ],\n        \"semantic_type\": \"\",\n        \"description\": \"\"\n      }\n    },\n    {\n      \"column\": \"total_phenols\",\n      \"properties\": {\n        \"dtype\": \"number\",\n        \"std\": 0.3361547262794322,\n        \"min\": 2.5,\n        \"max\": 3.3,\n        \"num_unique_values\": 5,\n        \"samples\": [\n          3.1,\n          3.3,\n          2.5\n        ],\n        \"semantic_type\": \"\",\n        \"description\": \"\"\n      }\n    },\n    {\n      \"column\": \"flavanoids\",\n      \"properties\": {\n        \"dtype\": \"number\",\n        \"std\": 0.4861584103972696,\n        \"min\": 2.52,\n        \"max\": 3.69,\n        \"num_unique_values\": 5,\n        \"samples\": [\n          3.69,\n          3.64,\n          2.52\n        ],\n        \"semantic_type\": \"\",\n        \"description\": \"\"\n      }\n    },\n    {\n      \"column\": \"nonflavanoid_phenols\",\n      \"properties\": {\n        \"dtype\": \"number\",\n        \"std\": 0.06465291950097846,\n        \"min\": 0.27,\n        \"max\": 0.43,\n        \"num_unique_values\": 4,\n        \"samples\": [\n          0.43,\n          0.27,\n          0.29\n        ],\n        \"semantic_type\": \"\",\n        \"description\": \"\"\n      }\n    },\n    {\n      \"column\": \"proanthocyanins\",\n      \"properties\": {\n        \"dtype\": \"float16\",\n        \"num_unique_values\": 4,\n        \"samples\": [\n          2.810546875,\n          2.9609375,\n          1.98046875\n        ],\n        \"semantic_type\": \"\",\n        \"description\": \"\"\n      }\n    },\n    {\n      \"column\": \"color_intensity\",\n      \"properties\": {\n        \"dtype\": \"float16\",\n        \"num_unique_values\": 5,\n        \"samples\": [\n          5.3984375,\n          7.5,\n          5.25\n        ],\n        \"semantic_type\": \"\",\n        \"description\": \"\"\n      }\n    },\n    {\n      \"column\": \"hue\",\n      \"properties\": {\n        \"dtype\": \"number\",\n        \"std\": 0.10158740079360233,\n        \"min\": 1.02,\n        \"max\": 1.25,\n        \"num_unique_values\": 5,\n        \"samples\": [\n          1.25,\n          1.2,\n          1.02\n        ],\n        \"semantic_type\": \"\",\n        \"description\": \"\"\n      }\n    },\n    {\n      \"column\": \"od280/od315_of_diluted_wines\",\n      \"properties\": {\n        \"dtype\": \"float16\",\n        \"num_unique_values\": 5,\n        \"samples\": [\n          2.73046875,\n          3.0,\n          3.580078125\n        ],\n        \"semantic_type\": \"\",\n        \"description\": \"\"\n      }\n    },\n    {\n      \"column\": \"proline\",\n      \"properties\": {\n        \"dtype\": \"number\",\n        \"std\": 206.98864703166694,\n        \"min\": 1045.0,\n        \"max\": 1547.0,\n        \"num_unique_values\": 5,\n        \"samples\": [\n          1150.0,\n          1547.0,\n          1290.0\n        ],\n        \"semantic_type\": \"\",\n        \"description\": \"\"\n      }\n    }\n  ]\n}"
            }
          },
          "metadata": {},
          "execution_count": 60
        }
      ],
      "source": [
        "print(data.columns)\n",
        "kill_bill = ['alcohol', 'malic_acid', 'ash']\n",
        "data.sort_values(by=kill_bill, ascending=False).head()"
      ]
    },
    {
      "cell_type": "markdown",
      "metadata": {
        "id": "gedjD9-VueRI"
      },
      "source": [
        "**Индексация и извлечение данных**\n",
        "\n",
        "DataFrame можно индексировать по-разному. Для извлечения отдельного столбца можно использовать конструкцию вида `DataFrame['Name']`. Для логической индексации — `df[P(df['Name'])]`, где $P$ — это некоторое логическое условие, проверяемое для каждого элемента столбца *Name*.\n",
        "\n",
        "Воспользуемся этим для ответа на вопрос: какое среднее содержание магния в алкоголе с крепостью ниже $12\\%$?"
      ]
    },
    {
      "cell_type": "code",
      "execution_count": null,
      "metadata": {
        "id": "QxFalyFfueRI",
        "colab": {
          "base_uri": "https://localhost:8080/"
        },
        "outputId": "a3ea46c4-35a0-4b7c-fba6-0d986e1697f5"
      },
      "outputs": [
        {
          "output_type": "execute_result",
          "data": {
            "text/plain": [
              "95.68181818181819"
            ]
          },
          "metadata": {},
          "execution_count": 62
        }
      ],
      "source": [
        "data[\"magnesium\"][data[\"alcohol\"] <= 12].mean()"
      ]
    },
    {
      "cell_type": "markdown",
      "metadata": {
        "id": "ozPyMQ_7ueRI"
      },
      "source": [
        "Pandas позволяет комбинировать условия через логические операции. Сформулируйте какое-нибудь составное условие."
      ]
    },
    {
      "cell_type": "code",
      "execution_count": null,
      "metadata": {
        "id": "AobLlpUBueRI",
        "colab": {
          "base_uri": "https://localhost:8080/"
        },
        "outputId": "6882761c-ee98-4e3d-e8a6-24b3e0d933ff"
      },
      "outputs": [
        {
          "output_type": "execute_result",
          "data": {
            "text/plain": [
              "99.74157303370787"
            ]
          },
          "metadata": {},
          "execution_count": 68
        }
      ],
      "source": [
        "data[\"magnesium\"][(data[\"alcohol\"] <= 12) | (data[\"ash\"] > 1)].mean()"
      ]
    },
    {
      "cell_type": "markdown",
      "metadata": {
        "id": "wj2gWpqBueRJ"
      },
      "source": [
        "**Применение функций к ячейкам, столбцам и строкам**\n",
        "\n",
        "Применение функции **к каждому столбцу**: `apply`.\n",
        "\n",
        "\n"
      ]
    },
    {
      "cell_type": "code",
      "execution_count": null,
      "metadata": {
        "id": "nTODmzOOueRJ",
        "colab": {
          "base_uri": "https://localhost:8080/"
        },
        "outputId": "12744441-4297-4b1c-9664-50552fd103a0"
      },
      "outputs": [
        {
          "output_type": "execute_result",
          "data": {
            "text/plain": [
              "alcohol                           14.828125\n",
              "malic_acid                         5.800000\n",
              "ash                                3.230000\n",
              "alcalinity_of_ash                 30.000000\n",
              "magnesium                        162.000000\n",
              "total_phenols                      3.880000\n",
              "flavanoids                         5.080000\n",
              "nonflavanoid_phenols               0.660000\n",
              "proanthocyanins                    3.580078\n",
              "color_intensity                   13.000000\n",
              "hue                                1.710000\n",
              "od280/od315_of_diluted_wines       4.000000\n",
              "proline                         1680.000000\n",
              "dtype: float64"
            ]
          },
          "metadata": {},
          "execution_count": 69
        }
      ],
      "source": [
        "data.apply(np.max)"
      ]
    },
    {
      "cell_type": "markdown",
      "metadata": {
        "id": "gORphG-IueRJ"
      },
      "source": [
        "Метод apply можно использовать и для того, чтобы применить функцию к каждой строке. Для этого нужно указать `axis=1`. Попробуйте."
      ]
    },
    {
      "cell_type": "code",
      "execution_count": null,
      "metadata": {
        "id": "wtiq6tbbueRJ",
        "colab": {
          "base_uri": "https://localhost:8080/"
        },
        "outputId": "1f986619-3891-4bab-d6a0-451225eaa638"
      },
      "outputs": [
        {
          "output_type": "execute_result",
          "data": {
            "text/plain": [
              "0      1065.0\n",
              "1      1050.0\n",
              "2      1185.0\n",
              "3      1480.0\n",
              "4       735.0\n",
              "        ...  \n",
              "173     740.0\n",
              "174     750.0\n",
              "175     835.0\n",
              "176     840.0\n",
              "177     560.0\n",
              "Length: 178, dtype: float64"
            ]
          },
          "metadata": {},
          "execution_count": 70
        }
      ],
      "source": [
        "data.apply(np.max, axis=1)"
      ]
    },
    {
      "cell_type": "markdown",
      "metadata": {
        "id": "pnLfEmAgueRQ"
      },
      "source": [
        "Применение функции **к каждой ячейке** столбца: `map`.\n",
        "\n",
        "Например, метод map можно использовать для замены значений в колонке, передав ему в качестве аргумента словарь вида `{old_value: new_value}`."
      ]
    },
    {
      "cell_type": "code",
      "execution_count": null,
      "metadata": {
        "id": "9XWn1RwYueRQ",
        "colab": {
          "base_uri": "https://localhost:8080/",
          "height": 131
        },
        "outputId": "71c0fb07-5130-4165-cb05-5f6f4dfc99e8"
      },
      "outputs": [
        {
          "output_type": "execute_result",
          "data": {
            "text/plain": [
              "     alcohol  malic_acid  ash  alcalinity_of_ash  magnesium  total_phenols  flavanoids  nonflavanoid_phenols  proanthocyanins  color_intensity   hue  od280/od315_of_diluted_wines  proline\n",
              "0  14.226562        1.71  NaN               15.6      127.0           2.80        3.06                  0.28         2.289062         5.640625  1.04                      3.919922   1065.0\n",
              "1  13.203125        1.78  NaN               11.2      100.0           2.65        2.76                  0.26         1.280273         4.378906  1.05                      3.400391   1050.0"
            ],
            "text/html": [
              "\n",
              "  <div id=\"df-d5ec5293-4ee2-4047-a3af-625c4e0f0608\" class=\"colab-df-container\">\n",
              "    <div>\n",
              "<style scoped>\n",
              "    .dataframe tbody tr th:only-of-type {\n",
              "        vertical-align: middle;\n",
              "    }\n",
              "\n",
              "    .dataframe tbody tr th {\n",
              "        vertical-align: top;\n",
              "    }\n",
              "\n",
              "    .dataframe thead th {\n",
              "        text-align: right;\n",
              "    }\n",
              "</style>\n",
              "<table border=\"1\" class=\"dataframe\">\n",
              "  <thead>\n",
              "    <tr style=\"text-align: right;\">\n",
              "      <th></th>\n",
              "      <th>alcohol</th>\n",
              "      <th>malic_acid</th>\n",
              "      <th>ash</th>\n",
              "      <th>alcalinity_of_ash</th>\n",
              "      <th>magnesium</th>\n",
              "      <th>total_phenols</th>\n",
              "      <th>flavanoids</th>\n",
              "      <th>nonflavanoid_phenols</th>\n",
              "      <th>proanthocyanins</th>\n",
              "      <th>color_intensity</th>\n",
              "      <th>hue</th>\n",
              "      <th>od280/od315_of_diluted_wines</th>\n",
              "      <th>proline</th>\n",
              "    </tr>\n",
              "  </thead>\n",
              "  <tbody>\n",
              "    <tr>\n",
              "      <th>0</th>\n",
              "      <td>14.226562</td>\n",
              "      <td>1.71</td>\n",
              "      <td>NaN</td>\n",
              "      <td>15.6</td>\n",
              "      <td>127.0</td>\n",
              "      <td>2.80</td>\n",
              "      <td>3.06</td>\n",
              "      <td>0.28</td>\n",
              "      <td>2.289062</td>\n",
              "      <td>5.640625</td>\n",
              "      <td>1.04</td>\n",
              "      <td>3.919922</td>\n",
              "      <td>1065.0</td>\n",
              "    </tr>\n",
              "    <tr>\n",
              "      <th>1</th>\n",
              "      <td>13.203125</td>\n",
              "      <td>1.78</td>\n",
              "      <td>NaN</td>\n",
              "      <td>11.2</td>\n",
              "      <td>100.0</td>\n",
              "      <td>2.65</td>\n",
              "      <td>2.76</td>\n",
              "      <td>0.26</td>\n",
              "      <td>1.280273</td>\n",
              "      <td>4.378906</td>\n",
              "      <td>1.05</td>\n",
              "      <td>3.400391</td>\n",
              "      <td>1050.0</td>\n",
              "    </tr>\n",
              "  </tbody>\n",
              "</table>\n",
              "</div>\n",
              "    <div class=\"colab-df-buttons\">\n",
              "\n",
              "  <div class=\"colab-df-container\">\n",
              "    <button class=\"colab-df-convert\" onclick=\"convertToInteractive('df-d5ec5293-4ee2-4047-a3af-625c4e0f0608')\"\n",
              "            title=\"Convert this dataframe to an interactive table.\"\n",
              "            style=\"display:none;\">\n",
              "\n",
              "  <svg xmlns=\"http://www.w3.org/2000/svg\" height=\"24px\" viewBox=\"0 -960 960 960\">\n",
              "    <path d=\"M120-120v-720h720v720H120Zm60-500h600v-160H180v160Zm220 220h160v-160H400v160Zm0 220h160v-160H400v160ZM180-400h160v-160H180v160Zm440 0h160v-160H620v160ZM180-180h160v-160H180v160Zm440 0h160v-160H620v160Z\"/>\n",
              "  </svg>\n",
              "    </button>\n",
              "\n",
              "  <style>\n",
              "    .colab-df-container {\n",
              "      display:flex;\n",
              "      gap: 12px;\n",
              "    }\n",
              "\n",
              "    .colab-df-convert {\n",
              "      background-color: #E8F0FE;\n",
              "      border: none;\n",
              "      border-radius: 50%;\n",
              "      cursor: pointer;\n",
              "      display: none;\n",
              "      fill: #1967D2;\n",
              "      height: 32px;\n",
              "      padding: 0 0 0 0;\n",
              "      width: 32px;\n",
              "    }\n",
              "\n",
              "    .colab-df-convert:hover {\n",
              "      background-color: #E2EBFA;\n",
              "      box-shadow: 0px 1px 2px rgba(60, 64, 67, 0.3), 0px 1px 3px 1px rgba(60, 64, 67, 0.15);\n",
              "      fill: #174EA6;\n",
              "    }\n",
              "\n",
              "    .colab-df-buttons div {\n",
              "      margin-bottom: 4px;\n",
              "    }\n",
              "\n",
              "    [theme=dark] .colab-df-convert {\n",
              "      background-color: #3B4455;\n",
              "      fill: #D2E3FC;\n",
              "    }\n",
              "\n",
              "    [theme=dark] .colab-df-convert:hover {\n",
              "      background-color: #434B5C;\n",
              "      box-shadow: 0px 1px 3px 1px rgba(0, 0, 0, 0.15);\n",
              "      filter: drop-shadow(0px 1px 2px rgba(0, 0, 0, 0.3));\n",
              "      fill: #FFFFFF;\n",
              "    }\n",
              "  </style>\n",
              "\n",
              "    <script>\n",
              "      const buttonEl =\n",
              "        document.querySelector('#df-d5ec5293-4ee2-4047-a3af-625c4e0f0608 button.colab-df-convert');\n",
              "      buttonEl.style.display =\n",
              "        google.colab.kernel.accessAllowed ? 'block' : 'none';\n",
              "\n",
              "      async function convertToInteractive(key) {\n",
              "        const element = document.querySelector('#df-d5ec5293-4ee2-4047-a3af-625c4e0f0608');\n",
              "        const dataTable =\n",
              "          await google.colab.kernel.invokeFunction('convertToInteractive',\n",
              "                                                    [key], {});\n",
              "        if (!dataTable) return;\n",
              "\n",
              "        const docLinkHtml = 'Like what you see? Visit the ' +\n",
              "          '<a target=\"_blank\" href=https://colab.research.google.com/notebooks/data_table.ipynb>data table notebook</a>'\n",
              "          + ' to learn more about interactive tables.';\n",
              "        element.innerHTML = '';\n",
              "        dataTable['output_type'] = 'display_data';\n",
              "        await google.colab.output.renderOutput(dataTable, element);\n",
              "        const docLink = document.createElement('div');\n",
              "        docLink.innerHTML = docLinkHtml;\n",
              "        element.appendChild(docLink);\n",
              "      }\n",
              "    </script>\n",
              "  </div>\n",
              "\n",
              "\n",
              "<div id=\"df-5923d126-0a1e-4c8f-985e-687d635845c9\">\n",
              "  <button class=\"colab-df-quickchart\" onclick=\"quickchart('df-5923d126-0a1e-4c8f-985e-687d635845c9')\"\n",
              "            title=\"Suggest charts\"\n",
              "            style=\"display:none;\">\n",
              "\n",
              "<svg xmlns=\"http://www.w3.org/2000/svg\" height=\"24px\"viewBox=\"0 0 24 24\"\n",
              "     width=\"24px\">\n",
              "    <g>\n",
              "        <path d=\"M19 3H5c-1.1 0-2 .9-2 2v14c0 1.1.9 2 2 2h14c1.1 0 2-.9 2-2V5c0-1.1-.9-2-2-2zM9 17H7v-7h2v7zm4 0h-2V7h2v10zm4 0h-2v-4h2v4z\"/>\n",
              "    </g>\n",
              "</svg>\n",
              "  </button>\n",
              "\n",
              "<style>\n",
              "  .colab-df-quickchart {\n",
              "      --bg-color: #E8F0FE;\n",
              "      --fill-color: #1967D2;\n",
              "      --hover-bg-color: #E2EBFA;\n",
              "      --hover-fill-color: #174EA6;\n",
              "      --disabled-fill-color: #AAA;\n",
              "      --disabled-bg-color: #DDD;\n",
              "  }\n",
              "\n",
              "  [theme=dark] .colab-df-quickchart {\n",
              "      --bg-color: #3B4455;\n",
              "      --fill-color: #D2E3FC;\n",
              "      --hover-bg-color: #434B5C;\n",
              "      --hover-fill-color: #FFFFFF;\n",
              "      --disabled-bg-color: #3B4455;\n",
              "      --disabled-fill-color: #666;\n",
              "  }\n",
              "\n",
              "  .colab-df-quickchart {\n",
              "    background-color: var(--bg-color);\n",
              "    border: none;\n",
              "    border-radius: 50%;\n",
              "    cursor: pointer;\n",
              "    display: none;\n",
              "    fill: var(--fill-color);\n",
              "    height: 32px;\n",
              "    padding: 0;\n",
              "    width: 32px;\n",
              "  }\n",
              "\n",
              "  .colab-df-quickchart:hover {\n",
              "    background-color: var(--hover-bg-color);\n",
              "    box-shadow: 0 1px 2px rgba(60, 64, 67, 0.3), 0 1px 3px 1px rgba(60, 64, 67, 0.15);\n",
              "    fill: var(--button-hover-fill-color);\n",
              "  }\n",
              "\n",
              "  .colab-df-quickchart-complete:disabled,\n",
              "  .colab-df-quickchart-complete:disabled:hover {\n",
              "    background-color: var(--disabled-bg-color);\n",
              "    fill: var(--disabled-fill-color);\n",
              "    box-shadow: none;\n",
              "  }\n",
              "\n",
              "  .colab-df-spinner {\n",
              "    border: 2px solid var(--fill-color);\n",
              "    border-color: transparent;\n",
              "    border-bottom-color: var(--fill-color);\n",
              "    animation:\n",
              "      spin 1s steps(1) infinite;\n",
              "  }\n",
              "\n",
              "  @keyframes spin {\n",
              "    0% {\n",
              "      border-color: transparent;\n",
              "      border-bottom-color: var(--fill-color);\n",
              "      border-left-color: var(--fill-color);\n",
              "    }\n",
              "    20% {\n",
              "      border-color: transparent;\n",
              "      border-left-color: var(--fill-color);\n",
              "      border-top-color: var(--fill-color);\n",
              "    }\n",
              "    30% {\n",
              "      border-color: transparent;\n",
              "      border-left-color: var(--fill-color);\n",
              "      border-top-color: var(--fill-color);\n",
              "      border-right-color: var(--fill-color);\n",
              "    }\n",
              "    40% {\n",
              "      border-color: transparent;\n",
              "      border-right-color: var(--fill-color);\n",
              "      border-top-color: var(--fill-color);\n",
              "    }\n",
              "    60% {\n",
              "      border-color: transparent;\n",
              "      border-right-color: var(--fill-color);\n",
              "    }\n",
              "    80% {\n",
              "      border-color: transparent;\n",
              "      border-right-color: var(--fill-color);\n",
              "      border-bottom-color: var(--fill-color);\n",
              "    }\n",
              "    90% {\n",
              "      border-color: transparent;\n",
              "      border-bottom-color: var(--fill-color);\n",
              "    }\n",
              "  }\n",
              "</style>\n",
              "\n",
              "  <script>\n",
              "    async function quickchart(key) {\n",
              "      const quickchartButtonEl =\n",
              "        document.querySelector('#' + key + ' button');\n",
              "      quickchartButtonEl.disabled = true;  // To prevent multiple clicks.\n",
              "      quickchartButtonEl.classList.add('colab-df-spinner');\n",
              "      try {\n",
              "        const charts = await google.colab.kernel.invokeFunction(\n",
              "            'suggestCharts', [key], {});\n",
              "      } catch (error) {\n",
              "        console.error('Error during call to suggestCharts:', error);\n",
              "      }\n",
              "      quickchartButtonEl.classList.remove('colab-df-spinner');\n",
              "      quickchartButtonEl.classList.add('colab-df-quickchart-complete');\n",
              "    }\n",
              "    (() => {\n",
              "      let quickchartButtonEl =\n",
              "        document.querySelector('#df-5923d126-0a1e-4c8f-985e-687d635845c9 button');\n",
              "      quickchartButtonEl.style.display =\n",
              "        google.colab.kernel.accessAllowed ? 'block' : 'none';\n",
              "    })();\n",
              "  </script>\n",
              "</div>\n",
              "    </div>\n",
              "  </div>\n"
            ],
            "application/vnd.google.colaboratory.intrinsic+json": {
              "type": "dataframe",
              "variable_name": "data",
              "summary": "{\n  \"name\": \"data\",\n  \"rows\": 178,\n  \"fields\": [\n    {\n      \"column\": \"alcohol\",\n      \"properties\": {\n        \"dtype\": \"float16\",\n        \"num_unique_values\": 126,\n        \"samples\": [\n          11.6171875,\n          13.640625,\n          13.6875\n        ],\n        \"semantic_type\": \"\",\n        \"description\": \"\"\n      }\n    },\n    {\n      \"column\": \"malic_acid\",\n      \"properties\": {\n        \"dtype\": \"number\",\n        \"std\": 1.1171460976144627,\n        \"min\": 0.74,\n        \"max\": 5.8,\n        \"num_unique_values\": 133,\n        \"samples\": [\n          1.21,\n          2.83,\n          1.8\n        ],\n        \"semantic_type\": \"\",\n        \"description\": \"\"\n      }\n    },\n    {\n      \"column\": \"ash\",\n      \"properties\": {\n        \"dtype\": \"category\",\n        \"num_unique_values\": 1,\n        \"samples\": [\n          \"low\"\n        ],\n        \"semantic_type\": \"\",\n        \"description\": \"\"\n      }\n    },\n    {\n      \"column\": \"alcalinity_of_ash\",\n      \"properties\": {\n        \"dtype\": \"number\",\n        \"std\": 3.339563767173505,\n        \"min\": 10.6,\n        \"max\": 30.0,\n        \"num_unique_values\": 63,\n        \"samples\": [\n          25.5\n        ],\n        \"semantic_type\": \"\",\n        \"description\": \"\"\n      }\n    },\n    {\n      \"column\": \"magnesium\",\n      \"properties\": {\n        \"dtype\": \"number\",\n        \"std\": 14.282483515295665,\n        \"min\": 70.0,\n        \"max\": 162.0,\n        \"num_unique_values\": 53,\n        \"samples\": [\n          126.0\n        ],\n        \"semantic_type\": \"\",\n        \"description\": \"\"\n      }\n    },\n    {\n      \"column\": \"total_phenols\",\n      \"properties\": {\n        \"dtype\": \"number\",\n        \"std\": 0.6258510488339893,\n        \"min\": 0.98,\n        \"max\": 3.88,\n        \"num_unique_values\": 97,\n        \"samples\": [\n          1.68\n        ],\n        \"semantic_type\": \"\",\n        \"description\": \"\"\n      }\n    },\n    {\n      \"column\": \"flavanoids\",\n      \"properties\": {\n        \"dtype\": \"number\",\n        \"std\": 0.9988586850169467,\n        \"min\": 0.34,\n        \"max\": 5.08,\n        \"num_unique_values\": 132,\n        \"samples\": [\n          3.18\n        ],\n        \"semantic_type\": \"\",\n        \"description\": \"\"\n      }\n    },\n    {\n      \"column\": \"nonflavanoid_phenols\",\n      \"properties\": {\n        \"dtype\": \"number\",\n        \"std\": 0.12445334029667937,\n        \"min\": 0.13,\n        \"max\": 0.66,\n        \"num_unique_values\": 39,\n        \"samples\": [\n          0.58\n        ],\n        \"semantic_type\": \"\",\n        \"description\": \"\"\n      }\n    },\n    {\n      \"column\": \"proanthocyanins\",\n      \"properties\": {\n        \"dtype\": \"float16\",\n        \"num_unique_values\": 101,\n        \"samples\": [\n          0.75\n        ],\n        \"semantic_type\": \"\",\n        \"description\": \"\"\n      }\n    },\n    {\n      \"column\": \"color_intensity\",\n      \"properties\": {\n        \"dtype\": \"float16\",\n        \"num_unique_values\": 132,\n        \"samples\": [\n          2.94921875\n        ],\n        \"semantic_type\": \"\",\n        \"description\": \"\"\n      }\n    },\n    {\n      \"column\": \"hue\",\n      \"properties\": {\n        \"dtype\": \"number\",\n        \"std\": 0.22857156582982338,\n        \"min\": 0.48,\n        \"max\": 1.71,\n        \"num_unique_values\": 78,\n        \"samples\": [\n          1.22\n        ],\n        \"semantic_type\": \"\",\n        \"description\": \"\"\n      }\n    },\n    {\n      \"column\": \"od280/od315_of_diluted_wines\",\n      \"properties\": {\n        \"dtype\": \"float16\",\n        \"num_unique_values\": 122,\n        \"samples\": [\n          4.0\n        ],\n        \"semantic_type\": \"\",\n        \"description\": \"\"\n      }\n    },\n    {\n      \"column\": \"proline\",\n      \"properties\": {\n        \"dtype\": \"number\",\n        \"std\": 314.9074742768491,\n        \"min\": 278.0,\n        \"max\": 1680.0,\n        \"num_unique_values\": 121,\n        \"samples\": [\n          1375.0\n        ],\n        \"semantic_type\": \"\",\n        \"description\": \"\"\n      }\n    }\n  ]\n}"
            }
          },
          "metadata": {},
          "execution_count": 71
        }
      ],
      "source": [
        "d = {2: \"low\", 3: \"low\"}\n",
        "data[\"ash\"] = data[\"ash\"].map(d)\n",
        "data.head(2)"
      ]
    },
    {
      "cell_type": "markdown",
      "metadata": {
        "id": "nSrRpCQ1ueRQ"
      },
      "source": [
        "Попробуйте какую-нибудь свою замену. Например, вы можете подать **lambda-функцию**.\n",
        "\n",
        "[Лямбда-функции в Python](https://habr.com/ru/companies/piter/articles/674234/)"
      ]
    },
    {
      "cell_type": "code",
      "execution_count": null,
      "metadata": {
        "id": "Lz0UpzVzueRQ",
        "colab": {
          "base_uri": "https://localhost:8080/",
          "height": 131
        },
        "outputId": "49b01c1b-66df-4555-afa9-1fb05d947c23"
      },
      "outputs": [
        {
          "output_type": "execute_result",
          "data": {
            "text/plain": [
              "     alcohol  malic_acid  ash  alcalinity_of_ash  magnesium  total_phenols  flavanoids  nonflavanoid_phenols  proanthocyanins  color_intensity   hue  od280/od315_of_diluted_wines  proline\n",
              "0  28.453125        1.71  NaN               15.6      127.0           2.80        3.06                  0.28         2.289062         5.640625  1.04                      3.919922   1065.0\n",
              "1  26.406250        1.78  NaN               11.2      100.0           2.65        2.76                  0.26         1.280273         4.378906  1.05                      3.400391   1050.0"
            ],
            "text/html": [
              "\n",
              "  <div id=\"df-9b557b82-2a05-4d9c-b393-b36551fa60ba\" class=\"colab-df-container\">\n",
              "    <div>\n",
              "<style scoped>\n",
              "    .dataframe tbody tr th:only-of-type {\n",
              "        vertical-align: middle;\n",
              "    }\n",
              "\n",
              "    .dataframe tbody tr th {\n",
              "        vertical-align: top;\n",
              "    }\n",
              "\n",
              "    .dataframe thead th {\n",
              "        text-align: right;\n",
              "    }\n",
              "</style>\n",
              "<table border=\"1\" class=\"dataframe\">\n",
              "  <thead>\n",
              "    <tr style=\"text-align: right;\">\n",
              "      <th></th>\n",
              "      <th>alcohol</th>\n",
              "      <th>malic_acid</th>\n",
              "      <th>ash</th>\n",
              "      <th>alcalinity_of_ash</th>\n",
              "      <th>magnesium</th>\n",
              "      <th>total_phenols</th>\n",
              "      <th>flavanoids</th>\n",
              "      <th>nonflavanoid_phenols</th>\n",
              "      <th>proanthocyanins</th>\n",
              "      <th>color_intensity</th>\n",
              "      <th>hue</th>\n",
              "      <th>od280/od315_of_diluted_wines</th>\n",
              "      <th>proline</th>\n",
              "    </tr>\n",
              "  </thead>\n",
              "  <tbody>\n",
              "    <tr>\n",
              "      <th>0</th>\n",
              "      <td>28.453125</td>\n",
              "      <td>1.71</td>\n",
              "      <td>NaN</td>\n",
              "      <td>15.6</td>\n",
              "      <td>127.0</td>\n",
              "      <td>2.80</td>\n",
              "      <td>3.06</td>\n",
              "      <td>0.28</td>\n",
              "      <td>2.289062</td>\n",
              "      <td>5.640625</td>\n",
              "      <td>1.04</td>\n",
              "      <td>3.919922</td>\n",
              "      <td>1065.0</td>\n",
              "    </tr>\n",
              "    <tr>\n",
              "      <th>1</th>\n",
              "      <td>26.406250</td>\n",
              "      <td>1.78</td>\n",
              "      <td>NaN</td>\n",
              "      <td>11.2</td>\n",
              "      <td>100.0</td>\n",
              "      <td>2.65</td>\n",
              "      <td>2.76</td>\n",
              "      <td>0.26</td>\n",
              "      <td>1.280273</td>\n",
              "      <td>4.378906</td>\n",
              "      <td>1.05</td>\n",
              "      <td>3.400391</td>\n",
              "      <td>1050.0</td>\n",
              "    </tr>\n",
              "  </tbody>\n",
              "</table>\n",
              "</div>\n",
              "    <div class=\"colab-df-buttons\">\n",
              "\n",
              "  <div class=\"colab-df-container\">\n",
              "    <button class=\"colab-df-convert\" onclick=\"convertToInteractive('df-9b557b82-2a05-4d9c-b393-b36551fa60ba')\"\n",
              "            title=\"Convert this dataframe to an interactive table.\"\n",
              "            style=\"display:none;\">\n",
              "\n",
              "  <svg xmlns=\"http://www.w3.org/2000/svg\" height=\"24px\" viewBox=\"0 -960 960 960\">\n",
              "    <path d=\"M120-120v-720h720v720H120Zm60-500h600v-160H180v160Zm220 220h160v-160H400v160Zm0 220h160v-160H400v160ZM180-400h160v-160H180v160Zm440 0h160v-160H620v160ZM180-180h160v-160H180v160Zm440 0h160v-160H620v160Z\"/>\n",
              "  </svg>\n",
              "    </button>\n",
              "\n",
              "  <style>\n",
              "    .colab-df-container {\n",
              "      display:flex;\n",
              "      gap: 12px;\n",
              "    }\n",
              "\n",
              "    .colab-df-convert {\n",
              "      background-color: #E8F0FE;\n",
              "      border: none;\n",
              "      border-radius: 50%;\n",
              "      cursor: pointer;\n",
              "      display: none;\n",
              "      fill: #1967D2;\n",
              "      height: 32px;\n",
              "      padding: 0 0 0 0;\n",
              "      width: 32px;\n",
              "    }\n",
              "\n",
              "    .colab-df-convert:hover {\n",
              "      background-color: #E2EBFA;\n",
              "      box-shadow: 0px 1px 2px rgba(60, 64, 67, 0.3), 0px 1px 3px 1px rgba(60, 64, 67, 0.15);\n",
              "      fill: #174EA6;\n",
              "    }\n",
              "\n",
              "    .colab-df-buttons div {\n",
              "      margin-bottom: 4px;\n",
              "    }\n",
              "\n",
              "    [theme=dark] .colab-df-convert {\n",
              "      background-color: #3B4455;\n",
              "      fill: #D2E3FC;\n",
              "    }\n",
              "\n",
              "    [theme=dark] .colab-df-convert:hover {\n",
              "      background-color: #434B5C;\n",
              "      box-shadow: 0px 1px 3px 1px rgba(0, 0, 0, 0.15);\n",
              "      filter: drop-shadow(0px 1px 2px rgba(0, 0, 0, 0.3));\n",
              "      fill: #FFFFFF;\n",
              "    }\n",
              "  </style>\n",
              "\n",
              "    <script>\n",
              "      const buttonEl =\n",
              "        document.querySelector('#df-9b557b82-2a05-4d9c-b393-b36551fa60ba button.colab-df-convert');\n",
              "      buttonEl.style.display =\n",
              "        google.colab.kernel.accessAllowed ? 'block' : 'none';\n",
              "\n",
              "      async function convertToInteractive(key) {\n",
              "        const element = document.querySelector('#df-9b557b82-2a05-4d9c-b393-b36551fa60ba');\n",
              "        const dataTable =\n",
              "          await google.colab.kernel.invokeFunction('convertToInteractive',\n",
              "                                                    [key], {});\n",
              "        if (!dataTable) return;\n",
              "\n",
              "        const docLinkHtml = 'Like what you see? Visit the ' +\n",
              "          '<a target=\"_blank\" href=https://colab.research.google.com/notebooks/data_table.ipynb>data table notebook</a>'\n",
              "          + ' to learn more about interactive tables.';\n",
              "        element.innerHTML = '';\n",
              "        dataTable['output_type'] = 'display_data';\n",
              "        await google.colab.output.renderOutput(dataTable, element);\n",
              "        const docLink = document.createElement('div');\n",
              "        docLink.innerHTML = docLinkHtml;\n",
              "        element.appendChild(docLink);\n",
              "      }\n",
              "    </script>\n",
              "  </div>\n",
              "\n",
              "\n",
              "<div id=\"df-095dc4bb-bc1a-4496-802b-b81cd8847681\">\n",
              "  <button class=\"colab-df-quickchart\" onclick=\"quickchart('df-095dc4bb-bc1a-4496-802b-b81cd8847681')\"\n",
              "            title=\"Suggest charts\"\n",
              "            style=\"display:none;\">\n",
              "\n",
              "<svg xmlns=\"http://www.w3.org/2000/svg\" height=\"24px\"viewBox=\"0 0 24 24\"\n",
              "     width=\"24px\">\n",
              "    <g>\n",
              "        <path d=\"M19 3H5c-1.1 0-2 .9-2 2v14c0 1.1.9 2 2 2h14c1.1 0 2-.9 2-2V5c0-1.1-.9-2-2-2zM9 17H7v-7h2v7zm4 0h-2V7h2v10zm4 0h-2v-4h2v4z\"/>\n",
              "    </g>\n",
              "</svg>\n",
              "  </button>\n",
              "\n",
              "<style>\n",
              "  .colab-df-quickchart {\n",
              "      --bg-color: #E8F0FE;\n",
              "      --fill-color: #1967D2;\n",
              "      --hover-bg-color: #E2EBFA;\n",
              "      --hover-fill-color: #174EA6;\n",
              "      --disabled-fill-color: #AAA;\n",
              "      --disabled-bg-color: #DDD;\n",
              "  }\n",
              "\n",
              "  [theme=dark] .colab-df-quickchart {\n",
              "      --bg-color: #3B4455;\n",
              "      --fill-color: #D2E3FC;\n",
              "      --hover-bg-color: #434B5C;\n",
              "      --hover-fill-color: #FFFFFF;\n",
              "      --disabled-bg-color: #3B4455;\n",
              "      --disabled-fill-color: #666;\n",
              "  }\n",
              "\n",
              "  .colab-df-quickchart {\n",
              "    background-color: var(--bg-color);\n",
              "    border: none;\n",
              "    border-radius: 50%;\n",
              "    cursor: pointer;\n",
              "    display: none;\n",
              "    fill: var(--fill-color);\n",
              "    height: 32px;\n",
              "    padding: 0;\n",
              "    width: 32px;\n",
              "  }\n",
              "\n",
              "  .colab-df-quickchart:hover {\n",
              "    background-color: var(--hover-bg-color);\n",
              "    box-shadow: 0 1px 2px rgba(60, 64, 67, 0.3), 0 1px 3px 1px rgba(60, 64, 67, 0.15);\n",
              "    fill: var(--button-hover-fill-color);\n",
              "  }\n",
              "\n",
              "  .colab-df-quickchart-complete:disabled,\n",
              "  .colab-df-quickchart-complete:disabled:hover {\n",
              "    background-color: var(--disabled-bg-color);\n",
              "    fill: var(--disabled-fill-color);\n",
              "    box-shadow: none;\n",
              "  }\n",
              "\n",
              "  .colab-df-spinner {\n",
              "    border: 2px solid var(--fill-color);\n",
              "    border-color: transparent;\n",
              "    border-bottom-color: var(--fill-color);\n",
              "    animation:\n",
              "      spin 1s steps(1) infinite;\n",
              "  }\n",
              "\n",
              "  @keyframes spin {\n",
              "    0% {\n",
              "      border-color: transparent;\n",
              "      border-bottom-color: var(--fill-color);\n",
              "      border-left-color: var(--fill-color);\n",
              "    }\n",
              "    20% {\n",
              "      border-color: transparent;\n",
              "      border-left-color: var(--fill-color);\n",
              "      border-top-color: var(--fill-color);\n",
              "    }\n",
              "    30% {\n",
              "      border-color: transparent;\n",
              "      border-left-color: var(--fill-color);\n",
              "      border-top-color: var(--fill-color);\n",
              "      border-right-color: var(--fill-color);\n",
              "    }\n",
              "    40% {\n",
              "      border-color: transparent;\n",
              "      border-right-color: var(--fill-color);\n",
              "      border-top-color: var(--fill-color);\n",
              "    }\n",
              "    60% {\n",
              "      border-color: transparent;\n",
              "      border-right-color: var(--fill-color);\n",
              "    }\n",
              "    80% {\n",
              "      border-color: transparent;\n",
              "      border-right-color: var(--fill-color);\n",
              "      border-bottom-color: var(--fill-color);\n",
              "    }\n",
              "    90% {\n",
              "      border-color: transparent;\n",
              "      border-bottom-color: var(--fill-color);\n",
              "    }\n",
              "  }\n",
              "</style>\n",
              "\n",
              "  <script>\n",
              "    async function quickchart(key) {\n",
              "      const quickchartButtonEl =\n",
              "        document.querySelector('#' + key + ' button');\n",
              "      quickchartButtonEl.disabled = true;  // To prevent multiple clicks.\n",
              "      quickchartButtonEl.classList.add('colab-df-spinner');\n",
              "      try {\n",
              "        const charts = await google.colab.kernel.invokeFunction(\n",
              "            'suggestCharts', [key], {});\n",
              "      } catch (error) {\n",
              "        console.error('Error during call to suggestCharts:', error);\n",
              "      }\n",
              "      quickchartButtonEl.classList.remove('colab-df-spinner');\n",
              "      quickchartButtonEl.classList.add('colab-df-quickchart-complete');\n",
              "    }\n",
              "    (() => {\n",
              "      let quickchartButtonEl =\n",
              "        document.querySelector('#df-095dc4bb-bc1a-4496-802b-b81cd8847681 button');\n",
              "      quickchartButtonEl.style.display =\n",
              "        google.colab.kernel.accessAllowed ? 'block' : 'none';\n",
              "    })();\n",
              "  </script>\n",
              "</div>\n",
              "    </div>\n",
              "  </div>\n"
            ],
            "application/vnd.google.colaboratory.intrinsic+json": {
              "type": "dataframe",
              "variable_name": "data",
              "summary": "{\n  \"name\": \"data\",\n  \"rows\": 178,\n  \"fields\": [\n    {\n      \"column\": \"alcohol\",\n      \"properties\": {\n        \"dtype\": \"number\",\n        \"std\": 1.6238363624740928,\n        \"min\": 22.0625,\n        \"max\": 29.65625,\n        \"num_unique_values\": 126,\n        \"samples\": [\n          23.234375,\n          27.28125,\n          27.375\n        ],\n        \"semantic_type\": \"\",\n        \"description\": \"\"\n      }\n    },\n    {\n      \"column\": \"malic_acid\",\n      \"properties\": {\n        \"dtype\": \"number\",\n        \"std\": 1.1171460976144627,\n        \"min\": 0.74,\n        \"max\": 5.8,\n        \"num_unique_values\": 133,\n        \"samples\": [\n          1.21,\n          2.83,\n          1.8\n        ],\n        \"semantic_type\": \"\",\n        \"description\": \"\"\n      }\n    },\n    {\n      \"column\": \"ash\",\n      \"properties\": {\n        \"dtype\": \"category\",\n        \"num_unique_values\": 1,\n        \"samples\": [\n          \"low\"\n        ],\n        \"semantic_type\": \"\",\n        \"description\": \"\"\n      }\n    },\n    {\n      \"column\": \"alcalinity_of_ash\",\n      \"properties\": {\n        \"dtype\": \"number\",\n        \"std\": 3.339563767173505,\n        \"min\": 10.6,\n        \"max\": 30.0,\n        \"num_unique_values\": 63,\n        \"samples\": [\n          25.5\n        ],\n        \"semantic_type\": \"\",\n        \"description\": \"\"\n      }\n    },\n    {\n      \"column\": \"magnesium\",\n      \"properties\": {\n        \"dtype\": \"number\",\n        \"std\": 14.282483515295665,\n        \"min\": 70.0,\n        \"max\": 162.0,\n        \"num_unique_values\": 53,\n        \"samples\": [\n          126.0\n        ],\n        \"semantic_type\": \"\",\n        \"description\": \"\"\n      }\n    },\n    {\n      \"column\": \"total_phenols\",\n      \"properties\": {\n        \"dtype\": \"number\",\n        \"std\": 0.6258510488339893,\n        \"min\": 0.98,\n        \"max\": 3.88,\n        \"num_unique_values\": 97,\n        \"samples\": [\n          1.68\n        ],\n        \"semantic_type\": \"\",\n        \"description\": \"\"\n      }\n    },\n    {\n      \"column\": \"flavanoids\",\n      \"properties\": {\n        \"dtype\": \"number\",\n        \"std\": 0.9988586850169467,\n        \"min\": 0.34,\n        \"max\": 5.08,\n        \"num_unique_values\": 132,\n        \"samples\": [\n          3.18\n        ],\n        \"semantic_type\": \"\",\n        \"description\": \"\"\n      }\n    },\n    {\n      \"column\": \"nonflavanoid_phenols\",\n      \"properties\": {\n        \"dtype\": \"number\",\n        \"std\": 0.12445334029667937,\n        \"min\": 0.13,\n        \"max\": 0.66,\n        \"num_unique_values\": 39,\n        \"samples\": [\n          0.58\n        ],\n        \"semantic_type\": \"\",\n        \"description\": \"\"\n      }\n    },\n    {\n      \"column\": \"proanthocyanins\",\n      \"properties\": {\n        \"dtype\": \"float16\",\n        \"num_unique_values\": 101,\n        \"samples\": [\n          0.75\n        ],\n        \"semantic_type\": \"\",\n        \"description\": \"\"\n      }\n    },\n    {\n      \"column\": \"color_intensity\",\n      \"properties\": {\n        \"dtype\": \"float16\",\n        \"num_unique_values\": 132,\n        \"samples\": [\n          2.94921875\n        ],\n        \"semantic_type\": \"\",\n        \"description\": \"\"\n      }\n    },\n    {\n      \"column\": \"hue\",\n      \"properties\": {\n        \"dtype\": \"number\",\n        \"std\": 0.22857156582982338,\n        \"min\": 0.48,\n        \"max\": 1.71,\n        \"num_unique_values\": 78,\n        \"samples\": [\n          1.22\n        ],\n        \"semantic_type\": \"\",\n        \"description\": \"\"\n      }\n    },\n    {\n      \"column\": \"od280/od315_of_diluted_wines\",\n      \"properties\": {\n        \"dtype\": \"float16\",\n        \"num_unique_values\": 122,\n        \"samples\": [\n          4.0\n        ],\n        \"semantic_type\": \"\",\n        \"description\": \"\"\n      }\n    },\n    {\n      \"column\": \"proline\",\n      \"properties\": {\n        \"dtype\": \"number\",\n        \"std\": 314.9074742768491,\n        \"min\": 278.0,\n        \"max\": 1680.0,\n        \"num_unique_values\": 121,\n        \"samples\": [\n          1375.0\n        ],\n        \"semantic_type\": \"\",\n        \"description\": \"\"\n      }\n    }\n  ]\n}"
            }
          },
          "metadata": {},
          "execution_count": 72
        }
      ],
      "source": [
        "double = lambda x: x*2\n",
        "data['alcohol'] = data['alcohol'].map(double)\n",
        "data.head(2)"
      ]
    },
    {
      "cell_type": "markdown",
      "metadata": {
        "id": "5QjmC2LeueRR"
      },
      "source": [
        "**Группировка данных**\n",
        "\n",
        "В общем случае группировка данных в Pandas выглядит следующим образом:\n",
        "\n",
        "`df.groupby(by=grouping_columns)[columns_to_show].function()`\n",
        "\n",
        "Например, выведем статистики по трём столбцам в зависимости от значения признака alcohol."
      ]
    },
    {
      "cell_type": "code",
      "execution_count": null,
      "metadata": {
        "id": "SMXcnMWKueRR",
        "colab": {
          "base_uri": "https://localhost:8080/",
          "height": 481
        },
        "outputId": "a660c127-2924-465a-a987-9cdc935fe470"
      },
      "outputs": [
        {
          "output_type": "execute_result",
          "data": {
            "text/plain": [
              "          malic_acid                                   total_phenols                                     proanthocyanins                                                 \n",
              "               count  mean       std   min   50%   max         count   mean       std   min    50%   max           count      mean      std       min       50%       max\n",
              "alcohol                                                                                                                                                                  \n",
              "22.062500        1.0  1.51       NaN  1.51  1.51  1.51           1.0  2.460       NaN  2.46  2.460  2.46             1.0  2.009766      NaN  2.009766  2.009766  2.009766\n",
              "22.812500        1.0  0.74       NaN  0.74  0.74  0.74           1.0  2.480       NaN  2.48  2.480  2.48             1.0  1.440430      NaN  1.440430  1.440430  1.440430\n",
              "22.906250        1.0  2.40       NaN  2.40  2.40  2.40           1.0  2.900       NaN  2.90  2.900  2.90             1.0  1.830078      NaN  1.830078  1.830078  1.830078\n",
              "22.921875        1.0  3.74       NaN  3.74  3.74  3.74           1.0  3.180       NaN  3.18  3.180  3.18             1.0  3.580078      NaN  3.580078  3.580078  3.580078\n",
              "23.125000        1.0  2.05       NaN  2.05  2.05  2.05           1.0  3.180       NaN  3.18  3.180  3.18             1.0  1.870117      NaN  1.870117  1.870117  1.870117\n",
              "...              ...   ...       ...   ...   ...   ...           ...    ...       ...   ...    ...   ...             ...       ...      ...       ...       ...       ...\n",
              "28.734375        1.0  1.95       NaN  1.95  1.95  1.95           1.0  3.850       NaN  3.85  3.850  3.85             1.0  2.179688      NaN  2.179688  2.179688  2.179688\n",
              "28.765625        2.0  2.73  1.216224  1.87  2.73  3.59           2.0  3.275  0.035355  3.25  3.275  3.30             2.0  2.574219  0.54541  2.189453  2.575195  2.960938\n",
              "28.781250        1.0  1.87       NaN  1.87  1.87  1.87           1.0  2.500       NaN  2.50  2.500  2.50             1.0  1.980469      NaN  1.980469  1.980469  1.980469\n",
              "29.500000        1.0  1.73       NaN  1.73  1.73  1.73           1.0  3.100       NaN  3.10  3.100  3.10             1.0  2.810547      NaN  2.810547  2.810547  2.810547\n",
              "29.656250        1.0  1.64       NaN  1.64  1.64  1.64           1.0  2.800       NaN  2.80  2.800  2.80             1.0  1.980469      NaN  1.980469  1.980469  1.980469\n",
              "\n",
              "[126 rows x 18 columns]"
            ],
            "text/html": [
              "\n",
              "  <div id=\"df-a1710bfc-66c1-4e01-894c-52ab653a8fe8\" class=\"colab-df-container\">\n",
              "    <div>\n",
              "<style scoped>\n",
              "    .dataframe tbody tr th:only-of-type {\n",
              "        vertical-align: middle;\n",
              "    }\n",
              "\n",
              "    .dataframe tbody tr th {\n",
              "        vertical-align: top;\n",
              "    }\n",
              "\n",
              "    .dataframe thead tr th {\n",
              "        text-align: left;\n",
              "    }\n",
              "\n",
              "    .dataframe thead tr:last-of-type th {\n",
              "        text-align: right;\n",
              "    }\n",
              "</style>\n",
              "<table border=\"1\" class=\"dataframe\">\n",
              "  <thead>\n",
              "    <tr>\n",
              "      <th></th>\n",
              "      <th colspan=\"6\" halign=\"left\">malic_acid</th>\n",
              "      <th colspan=\"6\" halign=\"left\">total_phenols</th>\n",
              "      <th colspan=\"6\" halign=\"left\">proanthocyanins</th>\n",
              "    </tr>\n",
              "    <tr>\n",
              "      <th></th>\n",
              "      <th>count</th>\n",
              "      <th>mean</th>\n",
              "      <th>std</th>\n",
              "      <th>min</th>\n",
              "      <th>50%</th>\n",
              "      <th>max</th>\n",
              "      <th>count</th>\n",
              "      <th>mean</th>\n",
              "      <th>std</th>\n",
              "      <th>min</th>\n",
              "      <th>50%</th>\n",
              "      <th>max</th>\n",
              "      <th>count</th>\n",
              "      <th>mean</th>\n",
              "      <th>std</th>\n",
              "      <th>min</th>\n",
              "      <th>50%</th>\n",
              "      <th>max</th>\n",
              "    </tr>\n",
              "    <tr>\n",
              "      <th>alcohol</th>\n",
              "      <th></th>\n",
              "      <th></th>\n",
              "      <th></th>\n",
              "      <th></th>\n",
              "      <th></th>\n",
              "      <th></th>\n",
              "      <th></th>\n",
              "      <th></th>\n",
              "      <th></th>\n",
              "      <th></th>\n",
              "      <th></th>\n",
              "      <th></th>\n",
              "      <th></th>\n",
              "      <th></th>\n",
              "      <th></th>\n",
              "      <th></th>\n",
              "      <th></th>\n",
              "      <th></th>\n",
              "    </tr>\n",
              "  </thead>\n",
              "  <tbody>\n",
              "    <tr>\n",
              "      <th>22.062500</th>\n",
              "      <td>1.0</td>\n",
              "      <td>1.51</td>\n",
              "      <td>NaN</td>\n",
              "      <td>1.51</td>\n",
              "      <td>1.51</td>\n",
              "      <td>1.51</td>\n",
              "      <td>1.0</td>\n",
              "      <td>2.460</td>\n",
              "      <td>NaN</td>\n",
              "      <td>2.46</td>\n",
              "      <td>2.460</td>\n",
              "      <td>2.46</td>\n",
              "      <td>1.0</td>\n",
              "      <td>2.009766</td>\n",
              "      <td>NaN</td>\n",
              "      <td>2.009766</td>\n",
              "      <td>2.009766</td>\n",
              "      <td>2.009766</td>\n",
              "    </tr>\n",
              "    <tr>\n",
              "      <th>22.812500</th>\n",
              "      <td>1.0</td>\n",
              "      <td>0.74</td>\n",
              "      <td>NaN</td>\n",
              "      <td>0.74</td>\n",
              "      <td>0.74</td>\n",
              "      <td>0.74</td>\n",
              "      <td>1.0</td>\n",
              "      <td>2.480</td>\n",
              "      <td>NaN</td>\n",
              "      <td>2.48</td>\n",
              "      <td>2.480</td>\n",
              "      <td>2.48</td>\n",
              "      <td>1.0</td>\n",
              "      <td>1.440430</td>\n",
              "      <td>NaN</td>\n",
              "      <td>1.440430</td>\n",
              "      <td>1.440430</td>\n",
              "      <td>1.440430</td>\n",
              "    </tr>\n",
              "    <tr>\n",
              "      <th>22.906250</th>\n",
              "      <td>1.0</td>\n",
              "      <td>2.40</td>\n",
              "      <td>NaN</td>\n",
              "      <td>2.40</td>\n",
              "      <td>2.40</td>\n",
              "      <td>2.40</td>\n",
              "      <td>1.0</td>\n",
              "      <td>2.900</td>\n",
              "      <td>NaN</td>\n",
              "      <td>2.90</td>\n",
              "      <td>2.900</td>\n",
              "      <td>2.90</td>\n",
              "      <td>1.0</td>\n",
              "      <td>1.830078</td>\n",
              "      <td>NaN</td>\n",
              "      <td>1.830078</td>\n",
              "      <td>1.830078</td>\n",
              "      <td>1.830078</td>\n",
              "    </tr>\n",
              "    <tr>\n",
              "      <th>22.921875</th>\n",
              "      <td>1.0</td>\n",
              "      <td>3.74</td>\n",
              "      <td>NaN</td>\n",
              "      <td>3.74</td>\n",
              "      <td>3.74</td>\n",
              "      <td>3.74</td>\n",
              "      <td>1.0</td>\n",
              "      <td>3.180</td>\n",
              "      <td>NaN</td>\n",
              "      <td>3.18</td>\n",
              "      <td>3.180</td>\n",
              "      <td>3.18</td>\n",
              "      <td>1.0</td>\n",
              "      <td>3.580078</td>\n",
              "      <td>NaN</td>\n",
              "      <td>3.580078</td>\n",
              "      <td>3.580078</td>\n",
              "      <td>3.580078</td>\n",
              "    </tr>\n",
              "    <tr>\n",
              "      <th>23.125000</th>\n",
              "      <td>1.0</td>\n",
              "      <td>2.05</td>\n",
              "      <td>NaN</td>\n",
              "      <td>2.05</td>\n",
              "      <td>2.05</td>\n",
              "      <td>2.05</td>\n",
              "      <td>1.0</td>\n",
              "      <td>3.180</td>\n",
              "      <td>NaN</td>\n",
              "      <td>3.18</td>\n",
              "      <td>3.180</td>\n",
              "      <td>3.18</td>\n",
              "      <td>1.0</td>\n",
              "      <td>1.870117</td>\n",
              "      <td>NaN</td>\n",
              "      <td>1.870117</td>\n",
              "      <td>1.870117</td>\n",
              "      <td>1.870117</td>\n",
              "    </tr>\n",
              "    <tr>\n",
              "      <th>...</th>\n",
              "      <td>...</td>\n",
              "      <td>...</td>\n",
              "      <td>...</td>\n",
              "      <td>...</td>\n",
              "      <td>...</td>\n",
              "      <td>...</td>\n",
              "      <td>...</td>\n",
              "      <td>...</td>\n",
              "      <td>...</td>\n",
              "      <td>...</td>\n",
              "      <td>...</td>\n",
              "      <td>...</td>\n",
              "      <td>...</td>\n",
              "      <td>...</td>\n",
              "      <td>...</td>\n",
              "      <td>...</td>\n",
              "      <td>...</td>\n",
              "      <td>...</td>\n",
              "    </tr>\n",
              "    <tr>\n",
              "      <th>28.734375</th>\n",
              "      <td>1.0</td>\n",
              "      <td>1.95</td>\n",
              "      <td>NaN</td>\n",
              "      <td>1.95</td>\n",
              "      <td>1.95</td>\n",
              "      <td>1.95</td>\n",
              "      <td>1.0</td>\n",
              "      <td>3.850</td>\n",
              "      <td>NaN</td>\n",
              "      <td>3.85</td>\n",
              "      <td>3.850</td>\n",
              "      <td>3.85</td>\n",
              "      <td>1.0</td>\n",
              "      <td>2.179688</td>\n",
              "      <td>NaN</td>\n",
              "      <td>2.179688</td>\n",
              "      <td>2.179688</td>\n",
              "      <td>2.179688</td>\n",
              "    </tr>\n",
              "    <tr>\n",
              "      <th>28.765625</th>\n",
              "      <td>2.0</td>\n",
              "      <td>2.73</td>\n",
              "      <td>1.216224</td>\n",
              "      <td>1.87</td>\n",
              "      <td>2.73</td>\n",
              "      <td>3.59</td>\n",
              "      <td>2.0</td>\n",
              "      <td>3.275</td>\n",
              "      <td>0.035355</td>\n",
              "      <td>3.25</td>\n",
              "      <td>3.275</td>\n",
              "      <td>3.30</td>\n",
              "      <td>2.0</td>\n",
              "      <td>2.574219</td>\n",
              "      <td>0.54541</td>\n",
              "      <td>2.189453</td>\n",
              "      <td>2.575195</td>\n",
              "      <td>2.960938</td>\n",
              "    </tr>\n",
              "    <tr>\n",
              "      <th>28.781250</th>\n",
              "      <td>1.0</td>\n",
              "      <td>1.87</td>\n",
              "      <td>NaN</td>\n",
              "      <td>1.87</td>\n",
              "      <td>1.87</td>\n",
              "      <td>1.87</td>\n",
              "      <td>1.0</td>\n",
              "      <td>2.500</td>\n",
              "      <td>NaN</td>\n",
              "      <td>2.50</td>\n",
              "      <td>2.500</td>\n",
              "      <td>2.50</td>\n",
              "      <td>1.0</td>\n",
              "      <td>1.980469</td>\n",
              "      <td>NaN</td>\n",
              "      <td>1.980469</td>\n",
              "      <td>1.980469</td>\n",
              "      <td>1.980469</td>\n",
              "    </tr>\n",
              "    <tr>\n",
              "      <th>29.500000</th>\n",
              "      <td>1.0</td>\n",
              "      <td>1.73</td>\n",
              "      <td>NaN</td>\n",
              "      <td>1.73</td>\n",
              "      <td>1.73</td>\n",
              "      <td>1.73</td>\n",
              "      <td>1.0</td>\n",
              "      <td>3.100</td>\n",
              "      <td>NaN</td>\n",
              "      <td>3.10</td>\n",
              "      <td>3.100</td>\n",
              "      <td>3.10</td>\n",
              "      <td>1.0</td>\n",
              "      <td>2.810547</td>\n",
              "      <td>NaN</td>\n",
              "      <td>2.810547</td>\n",
              "      <td>2.810547</td>\n",
              "      <td>2.810547</td>\n",
              "    </tr>\n",
              "    <tr>\n",
              "      <th>29.656250</th>\n",
              "      <td>1.0</td>\n",
              "      <td>1.64</td>\n",
              "      <td>NaN</td>\n",
              "      <td>1.64</td>\n",
              "      <td>1.64</td>\n",
              "      <td>1.64</td>\n",
              "      <td>1.0</td>\n",
              "      <td>2.800</td>\n",
              "      <td>NaN</td>\n",
              "      <td>2.80</td>\n",
              "      <td>2.800</td>\n",
              "      <td>2.80</td>\n",
              "      <td>1.0</td>\n",
              "      <td>1.980469</td>\n",
              "      <td>NaN</td>\n",
              "      <td>1.980469</td>\n",
              "      <td>1.980469</td>\n",
              "      <td>1.980469</td>\n",
              "    </tr>\n",
              "  </tbody>\n",
              "</table>\n",
              "<p>126 rows × 18 columns</p>\n",
              "</div>\n",
              "    <div class=\"colab-df-buttons\">\n",
              "\n",
              "  <div class=\"colab-df-container\">\n",
              "    <button class=\"colab-df-convert\" onclick=\"convertToInteractive('df-a1710bfc-66c1-4e01-894c-52ab653a8fe8')\"\n",
              "            title=\"Convert this dataframe to an interactive table.\"\n",
              "            style=\"display:none;\">\n",
              "\n",
              "  <svg xmlns=\"http://www.w3.org/2000/svg\" height=\"24px\" viewBox=\"0 -960 960 960\">\n",
              "    <path d=\"M120-120v-720h720v720H120Zm60-500h600v-160H180v160Zm220 220h160v-160H400v160Zm0 220h160v-160H400v160ZM180-400h160v-160H180v160Zm440 0h160v-160H620v160ZM180-180h160v-160H180v160Zm440 0h160v-160H620v160Z\"/>\n",
              "  </svg>\n",
              "    </button>\n",
              "\n",
              "  <style>\n",
              "    .colab-df-container {\n",
              "      display:flex;\n",
              "      gap: 12px;\n",
              "    }\n",
              "\n",
              "    .colab-df-convert {\n",
              "      background-color: #E8F0FE;\n",
              "      border: none;\n",
              "      border-radius: 50%;\n",
              "      cursor: pointer;\n",
              "      display: none;\n",
              "      fill: #1967D2;\n",
              "      height: 32px;\n",
              "      padding: 0 0 0 0;\n",
              "      width: 32px;\n",
              "    }\n",
              "\n",
              "    .colab-df-convert:hover {\n",
              "      background-color: #E2EBFA;\n",
              "      box-shadow: 0px 1px 2px rgba(60, 64, 67, 0.3), 0px 1px 3px 1px rgba(60, 64, 67, 0.15);\n",
              "      fill: #174EA6;\n",
              "    }\n",
              "\n",
              "    .colab-df-buttons div {\n",
              "      margin-bottom: 4px;\n",
              "    }\n",
              "\n",
              "    [theme=dark] .colab-df-convert {\n",
              "      background-color: #3B4455;\n",
              "      fill: #D2E3FC;\n",
              "    }\n",
              "\n",
              "    [theme=dark] .colab-df-convert:hover {\n",
              "      background-color: #434B5C;\n",
              "      box-shadow: 0px 1px 3px 1px rgba(0, 0, 0, 0.15);\n",
              "      filter: drop-shadow(0px 1px 2px rgba(0, 0, 0, 0.3));\n",
              "      fill: #FFFFFF;\n",
              "    }\n",
              "  </style>\n",
              "\n",
              "    <script>\n",
              "      const buttonEl =\n",
              "        document.querySelector('#df-a1710bfc-66c1-4e01-894c-52ab653a8fe8 button.colab-df-convert');\n",
              "      buttonEl.style.display =\n",
              "        google.colab.kernel.accessAllowed ? 'block' : 'none';\n",
              "\n",
              "      async function convertToInteractive(key) {\n",
              "        const element = document.querySelector('#df-a1710bfc-66c1-4e01-894c-52ab653a8fe8');\n",
              "        const dataTable =\n",
              "          await google.colab.kernel.invokeFunction('convertToInteractive',\n",
              "                                                    [key], {});\n",
              "        if (!dataTable) return;\n",
              "\n",
              "        const docLinkHtml = 'Like what you see? Visit the ' +\n",
              "          '<a target=\"_blank\" href=https://colab.research.google.com/notebooks/data_table.ipynb>data table notebook</a>'\n",
              "          + ' to learn more about interactive tables.';\n",
              "        element.innerHTML = '';\n",
              "        dataTable['output_type'] = 'display_data';\n",
              "        await google.colab.output.renderOutput(dataTable, element);\n",
              "        const docLink = document.createElement('div');\n",
              "        docLink.innerHTML = docLinkHtml;\n",
              "        element.appendChild(docLink);\n",
              "      }\n",
              "    </script>\n",
              "  </div>\n",
              "\n",
              "\n",
              "<div id=\"df-ebb0eee9-8119-4841-88b9-817dd4e0d098\">\n",
              "  <button class=\"colab-df-quickchart\" onclick=\"quickchart('df-ebb0eee9-8119-4841-88b9-817dd4e0d098')\"\n",
              "            title=\"Suggest charts\"\n",
              "            style=\"display:none;\">\n",
              "\n",
              "<svg xmlns=\"http://www.w3.org/2000/svg\" height=\"24px\"viewBox=\"0 0 24 24\"\n",
              "     width=\"24px\">\n",
              "    <g>\n",
              "        <path d=\"M19 3H5c-1.1 0-2 .9-2 2v14c0 1.1.9 2 2 2h14c1.1 0 2-.9 2-2V5c0-1.1-.9-2-2-2zM9 17H7v-7h2v7zm4 0h-2V7h2v10zm4 0h-2v-4h2v4z\"/>\n",
              "    </g>\n",
              "</svg>\n",
              "  </button>\n",
              "\n",
              "<style>\n",
              "  .colab-df-quickchart {\n",
              "      --bg-color: #E8F0FE;\n",
              "      --fill-color: #1967D2;\n",
              "      --hover-bg-color: #E2EBFA;\n",
              "      --hover-fill-color: #174EA6;\n",
              "      --disabled-fill-color: #AAA;\n",
              "      --disabled-bg-color: #DDD;\n",
              "  }\n",
              "\n",
              "  [theme=dark] .colab-df-quickchart {\n",
              "      --bg-color: #3B4455;\n",
              "      --fill-color: #D2E3FC;\n",
              "      --hover-bg-color: #434B5C;\n",
              "      --hover-fill-color: #FFFFFF;\n",
              "      --disabled-bg-color: #3B4455;\n",
              "      --disabled-fill-color: #666;\n",
              "  }\n",
              "\n",
              "  .colab-df-quickchart {\n",
              "    background-color: var(--bg-color);\n",
              "    border: none;\n",
              "    border-radius: 50%;\n",
              "    cursor: pointer;\n",
              "    display: none;\n",
              "    fill: var(--fill-color);\n",
              "    height: 32px;\n",
              "    padding: 0;\n",
              "    width: 32px;\n",
              "  }\n",
              "\n",
              "  .colab-df-quickchart:hover {\n",
              "    background-color: var(--hover-bg-color);\n",
              "    box-shadow: 0 1px 2px rgba(60, 64, 67, 0.3), 0 1px 3px 1px rgba(60, 64, 67, 0.15);\n",
              "    fill: var(--button-hover-fill-color);\n",
              "  }\n",
              "\n",
              "  .colab-df-quickchart-complete:disabled,\n",
              "  .colab-df-quickchart-complete:disabled:hover {\n",
              "    background-color: var(--disabled-bg-color);\n",
              "    fill: var(--disabled-fill-color);\n",
              "    box-shadow: none;\n",
              "  }\n",
              "\n",
              "  .colab-df-spinner {\n",
              "    border: 2px solid var(--fill-color);\n",
              "    border-color: transparent;\n",
              "    border-bottom-color: var(--fill-color);\n",
              "    animation:\n",
              "      spin 1s steps(1) infinite;\n",
              "  }\n",
              "\n",
              "  @keyframes spin {\n",
              "    0% {\n",
              "      border-color: transparent;\n",
              "      border-bottom-color: var(--fill-color);\n",
              "      border-left-color: var(--fill-color);\n",
              "    }\n",
              "    20% {\n",
              "      border-color: transparent;\n",
              "      border-left-color: var(--fill-color);\n",
              "      border-top-color: var(--fill-color);\n",
              "    }\n",
              "    30% {\n",
              "      border-color: transparent;\n",
              "      border-left-color: var(--fill-color);\n",
              "      border-top-color: var(--fill-color);\n",
              "      border-right-color: var(--fill-color);\n",
              "    }\n",
              "    40% {\n",
              "      border-color: transparent;\n",
              "      border-right-color: var(--fill-color);\n",
              "      border-top-color: var(--fill-color);\n",
              "    }\n",
              "    60% {\n",
              "      border-color: transparent;\n",
              "      border-right-color: var(--fill-color);\n",
              "    }\n",
              "    80% {\n",
              "      border-color: transparent;\n",
              "      border-right-color: var(--fill-color);\n",
              "      border-bottom-color: var(--fill-color);\n",
              "    }\n",
              "    90% {\n",
              "      border-color: transparent;\n",
              "      border-bottom-color: var(--fill-color);\n",
              "    }\n",
              "  }\n",
              "</style>\n",
              "\n",
              "  <script>\n",
              "    async function quickchart(key) {\n",
              "      const quickchartButtonEl =\n",
              "        document.querySelector('#' + key + ' button');\n",
              "      quickchartButtonEl.disabled = true;  // To prevent multiple clicks.\n",
              "      quickchartButtonEl.classList.add('colab-df-spinner');\n",
              "      try {\n",
              "        const charts = await google.colab.kernel.invokeFunction(\n",
              "            'suggestCharts', [key], {});\n",
              "      } catch (error) {\n",
              "        console.error('Error during call to suggestCharts:', error);\n",
              "      }\n",
              "      quickchartButtonEl.classList.remove('colab-df-spinner');\n",
              "      quickchartButtonEl.classList.add('colab-df-quickchart-complete');\n",
              "    }\n",
              "    (() => {\n",
              "      let quickchartButtonEl =\n",
              "        document.querySelector('#df-ebb0eee9-8119-4841-88b9-817dd4e0d098 button');\n",
              "      quickchartButtonEl.style.display =\n",
              "        google.colab.kernel.accessAllowed ? 'block' : 'none';\n",
              "    })();\n",
              "  </script>\n",
              "</div>\n",
              "    </div>\n",
              "  </div>\n"
            ],
            "application/vnd.google.colaboratory.intrinsic+json": {
              "type": "dataframe",
              "summary": "{\n  \"name\": \"data\",\n  \"rows\": 126,\n  \"fields\": [\n    {\n      \"column\": [\n        \"malic_acid\",\n        \"count\"\n      ],\n      \"properties\": {\n        \"dtype\": \"number\",\n        \"std\": 0.8696651426367854,\n        \"min\": 1.0,\n        \"max\": 6.0,\n        \"num_unique_values\": 6,\n        \"samples\": [\n          1.0,\n          2.0,\n          6.0\n        ],\n        \"semantic_type\": \"\",\n        \"description\": \"\"\n      }\n    },\n    {\n      \"column\": [\n        \"malic_acid\",\n        \"mean\"\n      ],\n      \"properties\": {\n        \"dtype\": \"number\",\n        \"std\": 0.9862294913786055,\n        \"min\": 0.74,\n        \"max\": 5.51,\n        \"num_unique_values\": 109,\n        \"samples\": [\n          4.95,\n          2.68,\n          2.05\n        ],\n        \"semantic_type\": \"\",\n        \"description\": \"\"\n      }\n    },\n    {\n      \"column\": [\n        \"malic_acid\",\n        \"std\"\n      ],\n      \"properties\": {\n        \"dtype\": \"number\",\n        \"std\": 0.7006375165649952,\n        \"min\": 0.014142135623730963,\n        \"max\": 2.6799347006970153,\n        \"num_unique_values\": 35,\n        \"samples\": [\n          0.6505382386916239,\n          0.7353910524340095,\n          0.9263098833543773\n        ],\n        \"semantic_type\": \"\",\n        \"description\": \"\"\n      }\n    },\n    {\n      \"column\": [\n        \"malic_acid\",\n        \"min\"\n      ],\n      \"properties\": {\n        \"dtype\": \"number\",\n        \"std\": 0.9775802195801048,\n        \"min\": 0.74,\n        \"max\": 5.51,\n        \"num_unique_values\": 101,\n        \"samples\": [\n          2.76,\n          3.9,\n          2.56\n        ],\n        \"semantic_type\": \"\",\n        \"description\": \"\"\n      }\n    },\n    {\n      \"column\": [\n        \"malic_acid\",\n        \"50%\"\n      ],\n      \"properties\": {\n        \"dtype\": \"number\",\n        \"std\": 0.9935111442006043,\n        \"min\": 0.74,\n        \"max\": 5.51,\n        \"num_unique_values\": 108,\n        \"samples\": [\n          4.95,\n          2.68,\n          2.05\n        ],\n        \"semantic_type\": \"\",\n        \"description\": \"\"\n      }\n    },\n    {\n      \"column\": [\n        \"malic_acid\",\n        \"max\"\n      ],\n      \"properties\": {\n        \"dtype\": \"number\",\n        \"std\": 1.176447417857733,\n        \"min\": 0.74,\n        \"max\": 5.8,\n        \"num_unique_values\": 102,\n        \"samples\": [\n          3.83,\n          2.56,\n          4.28\n        ],\n        \"semantic_type\": \"\",\n        \"description\": \"\"\n      }\n    },\n    {\n      \"column\": [\n        \"total_phenols\",\n        \"count\"\n      ],\n      \"properties\": {\n        \"dtype\": \"number\",\n        \"std\": 0.8696651426367854,\n        \"min\": 1.0,\n        \"max\": 6.0,\n        \"num_unique_values\": 6,\n        \"samples\": [\n          1.0,\n          2.0,\n          6.0\n        ],\n        \"semantic_type\": \"\",\n        \"description\": \"\"\n      }\n    },\n    {\n      \"column\": [\n        \"total_phenols\",\n        \"mean\"\n      ],\n      \"properties\": {\n        \"dtype\": \"number\",\n        \"std\": 0.5930108470936456,\n        \"min\": 1.15,\n        \"max\": 3.88,\n        \"num_unique_values\": 94,\n        \"samples\": [\n          2.265,\n          1.25,\n          2.15\n        ],\n        \"semantic_type\": \"\",\n        \"description\": \"\"\n      }\n    },\n    {\n      \"column\": [\n        \"total_phenols\",\n        \"std\"\n      ],\n      \"properties\": {\n        \"dtype\": \"number\",\n        \"std\": 0.36629394985550934,\n        \"min\": 0.021213203435596288,\n        \"max\": 1.605132393293463,\n        \"num_unique_values\": 34,\n        \"samples\": [\n          0.6151828996322964,\n          0.06363961030678934,\n          0.6576093065034891\n        ],\n        \"semantic_type\": \"\",\n        \"description\": \"\"\n      }\n    },\n    {\n      \"column\": [\n        \"total_phenols\",\n        \"min\"\n      ],\n      \"properties\": {\n        \"dtype\": \"number\",\n        \"std\": 0.6514813449801482,\n        \"min\": 0.98,\n        \"max\": 3.88,\n        \"num_unique_values\": 80,\n        \"samples\": [\n          2.5,\n          2.46,\n          1.85\n        ],\n        \"semantic_type\": \"\",\n        \"description\": \"\"\n      }\n    },\n    {\n      \"column\": [\n        \"total_phenols\",\n        \"50%\"\n      ],\n      \"properties\": {\n        \"dtype\": \"number\",\n        \"std\": 0.5934848442188396,\n        \"min\": 1.15,\n        \"max\": 3.88,\n        \"num_unique_values\": 90,\n        \"samples\": [\n          2.32,\n          1.25,\n          1.8\n        ],\n        \"semantic_type\": \"\",\n        \"description\": \"\"\n      }\n    },\n    {\n      \"column\": [\n        \"total_phenols\",\n        \"max\"\n      ],\n      \"properties\": {\n        \"dtype\": \"number\",\n        \"std\": 0.6128722076070532,\n        \"min\": 1.15,\n        \"max\": 3.88,\n        \"num_unique_values\": 80,\n        \"samples\": [\n          1.9,\n          2.46,\n          1.25\n        ],\n        \"semantic_type\": \"\",\n        \"description\": \"\"\n      }\n    },\n    {\n      \"column\": [\n        \"proanthocyanins\",\n        \"count\"\n      ],\n      \"properties\": {\n        \"dtype\": \"number\",\n        \"std\": 0.8696651426367854,\n        \"min\": 1.0,\n        \"max\": 6.0,\n        \"num_unique_values\": 6,\n        \"samples\": [\n          1.0,\n          2.0,\n          6.0\n        ],\n        \"semantic_type\": \"\",\n        \"description\": \"\"\n      }\n    },\n    {\n      \"column\": [\n        \"proanthocyanins\",\n        \"mean\"\n      ],\n      \"properties\": {\n        \"dtype\": \"number\",\n        \"std\": 0.537808908583333,\n        \"min\": 0.419921875,\n        \"max\": 3.580078125,\n        \"num_unique_values\": 93,\n        \"samples\": [\n          1.69921875,\n          2.0078125,\n          1.2802734375\n        ],\n        \"semantic_type\": \"\",\n        \"description\": \"\"\n      }\n    },\n    {\n      \"column\": [\n        \"proanthocyanins\",\n        \"std\"\n      ],\n      \"properties\": {\n        \"dtype\": \"number\",\n        \"std\": 0.36346811905683457,\n        \"min\": 0.0,\n        \"max\": 1.6611328125,\n        \"num_unique_values\": 34,\n        \"samples\": [\n          0.8701171875,\n          0.06353759765625,\n          0.402587890625\n        ],\n        \"semantic_type\": \"\",\n        \"description\": \"\"\n      }\n    },\n    {\n      \"column\": [\n        \"proanthocyanins\",\n        \"min\"\n      ],\n      \"properties\": {\n        \"dtype\": \"number\",\n        \"std\": 0.5673991825020555,\n        \"min\": 0.409912109375,\n        \"max\": 3.580078125,\n        \"num_unique_values\": 81,\n        \"samples\": [\n          1.25,\n          2.009765625,\n          0.7998046875\n        ],\n        \"semantic_type\": \"\",\n        \"description\": \"\"\n      }\n    },\n    {\n      \"column\": [\n        \"proanthocyanins\",\n        \"50%\"\n      ],\n      \"properties\": {\n        \"dtype\": \"number\",\n        \"std\": 0.5379412404495904,\n        \"min\": 0.419921875,\n        \"max\": 3.580078125,\n        \"num_unique_values\": 95,\n        \"samples\": [\n          0.5498046875,\n          1.1396484375,\n          1.9697265625\n        ],\n        \"semantic_type\": \"\",\n        \"description\": \"\"\n      }\n    },\n    {\n      \"column\": [\n        \"proanthocyanins\",\n        \"max\"\n      ],\n      \"properties\": {\n        \"dtype\": \"number\",\n        \"std\": 0.5941424131147074,\n        \"min\": 0.419921875,\n        \"max\": 3.580078125,\n        \"num_unique_values\": 79,\n        \"samples\": [\n          1.48046875,\n          2.009765625,\n          2.810546875\n        ],\n        \"semantic_type\": \"\",\n        \"description\": \"\"\n      }\n    }\n  ]\n}"
            }
          },
          "metadata": {},
          "execution_count": 73
        }
      ],
      "source": [
        "columns_to_show = [\"malic_acid\", \"total_phenols\", \"proanthocyanins\"]\n",
        "\n",
        "data.groupby([\"alcohol\"])[columns_to_show].describe(percentiles=[])"
      ]
    },
    {
      "cell_type": "markdown",
      "metadata": {
        "id": "OHafhmclueRR"
      },
      "source": [
        "Сделаем то же самое, но немного по-другому, передав в `agg()` список функций:"
      ]
    },
    {
      "cell_type": "code",
      "execution_count": null,
      "metadata": {
        "id": "xQb4Map5ueRR",
        "colab": {
          "base_uri": "https://localhost:8080/",
          "height": 481
        },
        "outputId": "c99c90df-6a01-46ed-8bbd-3d2294bb1ab3"
      },
      "outputs": [
        {
          "output_type": "execute_result",
          "data": {
            "text/plain": [
              "          malic_acid                       total_phenols                       proanthocyanins                              \n",
              "                mean       std   min   max          mean       std   min   max            mean       std       min       max\n",
              "alcohol                                                                                                                     \n",
              "22.062500       1.51       NaN  1.51  1.51         2.460       NaN  2.46  2.46        2.009766       NaN  2.009766  2.009766\n",
              "22.812500       0.74       NaN  0.74  0.74         2.480       NaN  2.48  2.48        1.440430       NaN  1.440430  1.440430\n",
              "22.906250       2.40       NaN  2.40  2.40         2.900       NaN  2.90  2.90        1.830078       NaN  1.830078  1.830078\n",
              "22.921875       3.74       NaN  3.74  3.74         3.180       NaN  3.18  3.18        3.580078       NaN  3.580078  3.580078\n",
              "23.125000       2.05       NaN  2.05  2.05         3.180       NaN  3.18  3.18        1.870117       NaN  1.870117  1.870117\n",
              "...              ...       ...   ...   ...           ...       ...   ...   ...             ...       ...       ...       ...\n",
              "28.734375       1.95       NaN  1.95  1.95         3.850       NaN  3.85  3.85        2.179688       NaN  2.179688  2.179688\n",
              "28.765625       2.73  1.216224  1.87  3.59         3.275  0.035355  3.25  3.30        2.575195  0.545522  2.189453  2.960938\n",
              "28.781250       1.87       NaN  1.87  1.87         2.500       NaN  2.50  2.50        1.980469       NaN  1.980469  1.980469\n",
              "29.500000       1.73       NaN  1.73  1.73         3.100       NaN  3.10  3.10        2.810547       NaN  2.810547  2.810547\n",
              "29.656250       1.64       NaN  1.64  1.64         2.800       NaN  2.80  2.80        1.980469       NaN  1.980469  1.980469\n",
              "\n",
              "[126 rows x 12 columns]"
            ],
            "text/html": [
              "\n",
              "  <div id=\"df-5d5093d8-f176-418d-9483-69b7b15644f4\" class=\"colab-df-container\">\n",
              "    <div>\n",
              "<style scoped>\n",
              "    .dataframe tbody tr th:only-of-type {\n",
              "        vertical-align: middle;\n",
              "    }\n",
              "\n",
              "    .dataframe tbody tr th {\n",
              "        vertical-align: top;\n",
              "    }\n",
              "\n",
              "    .dataframe thead tr th {\n",
              "        text-align: left;\n",
              "    }\n",
              "\n",
              "    .dataframe thead tr:last-of-type th {\n",
              "        text-align: right;\n",
              "    }\n",
              "</style>\n",
              "<table border=\"1\" class=\"dataframe\">\n",
              "  <thead>\n",
              "    <tr>\n",
              "      <th></th>\n",
              "      <th colspan=\"4\" halign=\"left\">malic_acid</th>\n",
              "      <th colspan=\"4\" halign=\"left\">total_phenols</th>\n",
              "      <th colspan=\"4\" halign=\"left\">proanthocyanins</th>\n",
              "    </tr>\n",
              "    <tr>\n",
              "      <th></th>\n",
              "      <th>mean</th>\n",
              "      <th>std</th>\n",
              "      <th>min</th>\n",
              "      <th>max</th>\n",
              "      <th>mean</th>\n",
              "      <th>std</th>\n",
              "      <th>min</th>\n",
              "      <th>max</th>\n",
              "      <th>mean</th>\n",
              "      <th>std</th>\n",
              "      <th>min</th>\n",
              "      <th>max</th>\n",
              "    </tr>\n",
              "    <tr>\n",
              "      <th>alcohol</th>\n",
              "      <th></th>\n",
              "      <th></th>\n",
              "      <th></th>\n",
              "      <th></th>\n",
              "      <th></th>\n",
              "      <th></th>\n",
              "      <th></th>\n",
              "      <th></th>\n",
              "      <th></th>\n",
              "      <th></th>\n",
              "      <th></th>\n",
              "      <th></th>\n",
              "    </tr>\n",
              "  </thead>\n",
              "  <tbody>\n",
              "    <tr>\n",
              "      <th>22.062500</th>\n",
              "      <td>1.51</td>\n",
              "      <td>NaN</td>\n",
              "      <td>1.51</td>\n",
              "      <td>1.51</td>\n",
              "      <td>2.460</td>\n",
              "      <td>NaN</td>\n",
              "      <td>2.46</td>\n",
              "      <td>2.46</td>\n",
              "      <td>2.009766</td>\n",
              "      <td>NaN</td>\n",
              "      <td>2.009766</td>\n",
              "      <td>2.009766</td>\n",
              "    </tr>\n",
              "    <tr>\n",
              "      <th>22.812500</th>\n",
              "      <td>0.74</td>\n",
              "      <td>NaN</td>\n",
              "      <td>0.74</td>\n",
              "      <td>0.74</td>\n",
              "      <td>2.480</td>\n",
              "      <td>NaN</td>\n",
              "      <td>2.48</td>\n",
              "      <td>2.48</td>\n",
              "      <td>1.440430</td>\n",
              "      <td>NaN</td>\n",
              "      <td>1.440430</td>\n",
              "      <td>1.440430</td>\n",
              "    </tr>\n",
              "    <tr>\n",
              "      <th>22.906250</th>\n",
              "      <td>2.40</td>\n",
              "      <td>NaN</td>\n",
              "      <td>2.40</td>\n",
              "      <td>2.40</td>\n",
              "      <td>2.900</td>\n",
              "      <td>NaN</td>\n",
              "      <td>2.90</td>\n",
              "      <td>2.90</td>\n",
              "      <td>1.830078</td>\n",
              "      <td>NaN</td>\n",
              "      <td>1.830078</td>\n",
              "      <td>1.830078</td>\n",
              "    </tr>\n",
              "    <tr>\n",
              "      <th>22.921875</th>\n",
              "      <td>3.74</td>\n",
              "      <td>NaN</td>\n",
              "      <td>3.74</td>\n",
              "      <td>3.74</td>\n",
              "      <td>3.180</td>\n",
              "      <td>NaN</td>\n",
              "      <td>3.18</td>\n",
              "      <td>3.18</td>\n",
              "      <td>3.580078</td>\n",
              "      <td>NaN</td>\n",
              "      <td>3.580078</td>\n",
              "      <td>3.580078</td>\n",
              "    </tr>\n",
              "    <tr>\n",
              "      <th>23.125000</th>\n",
              "      <td>2.05</td>\n",
              "      <td>NaN</td>\n",
              "      <td>2.05</td>\n",
              "      <td>2.05</td>\n",
              "      <td>3.180</td>\n",
              "      <td>NaN</td>\n",
              "      <td>3.18</td>\n",
              "      <td>3.18</td>\n",
              "      <td>1.870117</td>\n",
              "      <td>NaN</td>\n",
              "      <td>1.870117</td>\n",
              "      <td>1.870117</td>\n",
              "    </tr>\n",
              "    <tr>\n",
              "      <th>...</th>\n",
              "      <td>...</td>\n",
              "      <td>...</td>\n",
              "      <td>...</td>\n",
              "      <td>...</td>\n",
              "      <td>...</td>\n",
              "      <td>...</td>\n",
              "      <td>...</td>\n",
              "      <td>...</td>\n",
              "      <td>...</td>\n",
              "      <td>...</td>\n",
              "      <td>...</td>\n",
              "      <td>...</td>\n",
              "    </tr>\n",
              "    <tr>\n",
              "      <th>28.734375</th>\n",
              "      <td>1.95</td>\n",
              "      <td>NaN</td>\n",
              "      <td>1.95</td>\n",
              "      <td>1.95</td>\n",
              "      <td>3.850</td>\n",
              "      <td>NaN</td>\n",
              "      <td>3.85</td>\n",
              "      <td>3.85</td>\n",
              "      <td>2.179688</td>\n",
              "      <td>NaN</td>\n",
              "      <td>2.179688</td>\n",
              "      <td>2.179688</td>\n",
              "    </tr>\n",
              "    <tr>\n",
              "      <th>28.765625</th>\n",
              "      <td>2.73</td>\n",
              "      <td>1.216224</td>\n",
              "      <td>1.87</td>\n",
              "      <td>3.59</td>\n",
              "      <td>3.275</td>\n",
              "      <td>0.035355</td>\n",
              "      <td>3.25</td>\n",
              "      <td>3.30</td>\n",
              "      <td>2.575195</td>\n",
              "      <td>0.545522</td>\n",
              "      <td>2.189453</td>\n",
              "      <td>2.960938</td>\n",
              "    </tr>\n",
              "    <tr>\n",
              "      <th>28.781250</th>\n",
              "      <td>1.87</td>\n",
              "      <td>NaN</td>\n",
              "      <td>1.87</td>\n",
              "      <td>1.87</td>\n",
              "      <td>2.500</td>\n",
              "      <td>NaN</td>\n",
              "      <td>2.50</td>\n",
              "      <td>2.50</td>\n",
              "      <td>1.980469</td>\n",
              "      <td>NaN</td>\n",
              "      <td>1.980469</td>\n",
              "      <td>1.980469</td>\n",
              "    </tr>\n",
              "    <tr>\n",
              "      <th>29.500000</th>\n",
              "      <td>1.73</td>\n",
              "      <td>NaN</td>\n",
              "      <td>1.73</td>\n",
              "      <td>1.73</td>\n",
              "      <td>3.100</td>\n",
              "      <td>NaN</td>\n",
              "      <td>3.10</td>\n",
              "      <td>3.10</td>\n",
              "      <td>2.810547</td>\n",
              "      <td>NaN</td>\n",
              "      <td>2.810547</td>\n",
              "      <td>2.810547</td>\n",
              "    </tr>\n",
              "    <tr>\n",
              "      <th>29.656250</th>\n",
              "      <td>1.64</td>\n",
              "      <td>NaN</td>\n",
              "      <td>1.64</td>\n",
              "      <td>1.64</td>\n",
              "      <td>2.800</td>\n",
              "      <td>NaN</td>\n",
              "      <td>2.80</td>\n",
              "      <td>2.80</td>\n",
              "      <td>1.980469</td>\n",
              "      <td>NaN</td>\n",
              "      <td>1.980469</td>\n",
              "      <td>1.980469</td>\n",
              "    </tr>\n",
              "  </tbody>\n",
              "</table>\n",
              "<p>126 rows × 12 columns</p>\n",
              "</div>\n",
              "    <div class=\"colab-df-buttons\">\n",
              "\n",
              "  <div class=\"colab-df-container\">\n",
              "    <button class=\"colab-df-convert\" onclick=\"convertToInteractive('df-5d5093d8-f176-418d-9483-69b7b15644f4')\"\n",
              "            title=\"Convert this dataframe to an interactive table.\"\n",
              "            style=\"display:none;\">\n",
              "\n",
              "  <svg xmlns=\"http://www.w3.org/2000/svg\" height=\"24px\" viewBox=\"0 -960 960 960\">\n",
              "    <path d=\"M120-120v-720h720v720H120Zm60-500h600v-160H180v160Zm220 220h160v-160H400v160Zm0 220h160v-160H400v160ZM180-400h160v-160H180v160Zm440 0h160v-160H620v160ZM180-180h160v-160H180v160Zm440 0h160v-160H620v160Z\"/>\n",
              "  </svg>\n",
              "    </button>\n",
              "\n",
              "  <style>\n",
              "    .colab-df-container {\n",
              "      display:flex;\n",
              "      gap: 12px;\n",
              "    }\n",
              "\n",
              "    .colab-df-convert {\n",
              "      background-color: #E8F0FE;\n",
              "      border: none;\n",
              "      border-radius: 50%;\n",
              "      cursor: pointer;\n",
              "      display: none;\n",
              "      fill: #1967D2;\n",
              "      height: 32px;\n",
              "      padding: 0 0 0 0;\n",
              "      width: 32px;\n",
              "    }\n",
              "\n",
              "    .colab-df-convert:hover {\n",
              "      background-color: #E2EBFA;\n",
              "      box-shadow: 0px 1px 2px rgba(60, 64, 67, 0.3), 0px 1px 3px 1px rgba(60, 64, 67, 0.15);\n",
              "      fill: #174EA6;\n",
              "    }\n",
              "\n",
              "    .colab-df-buttons div {\n",
              "      margin-bottom: 4px;\n",
              "    }\n",
              "\n",
              "    [theme=dark] .colab-df-convert {\n",
              "      background-color: #3B4455;\n",
              "      fill: #D2E3FC;\n",
              "    }\n",
              "\n",
              "    [theme=dark] .colab-df-convert:hover {\n",
              "      background-color: #434B5C;\n",
              "      box-shadow: 0px 1px 3px 1px rgba(0, 0, 0, 0.15);\n",
              "      filter: drop-shadow(0px 1px 2px rgba(0, 0, 0, 0.3));\n",
              "      fill: #FFFFFF;\n",
              "    }\n",
              "  </style>\n",
              "\n",
              "    <script>\n",
              "      const buttonEl =\n",
              "        document.querySelector('#df-5d5093d8-f176-418d-9483-69b7b15644f4 button.colab-df-convert');\n",
              "      buttonEl.style.display =\n",
              "        google.colab.kernel.accessAllowed ? 'block' : 'none';\n",
              "\n",
              "      async function convertToInteractive(key) {\n",
              "        const element = document.querySelector('#df-5d5093d8-f176-418d-9483-69b7b15644f4');\n",
              "        const dataTable =\n",
              "          await google.colab.kernel.invokeFunction('convertToInteractive',\n",
              "                                                    [key], {});\n",
              "        if (!dataTable) return;\n",
              "\n",
              "        const docLinkHtml = 'Like what you see? Visit the ' +\n",
              "          '<a target=\"_blank\" href=https://colab.research.google.com/notebooks/data_table.ipynb>data table notebook</a>'\n",
              "          + ' to learn more about interactive tables.';\n",
              "        element.innerHTML = '';\n",
              "        dataTable['output_type'] = 'display_data';\n",
              "        await google.colab.output.renderOutput(dataTable, element);\n",
              "        const docLink = document.createElement('div');\n",
              "        docLink.innerHTML = docLinkHtml;\n",
              "        element.appendChild(docLink);\n",
              "      }\n",
              "    </script>\n",
              "  </div>\n",
              "\n",
              "\n",
              "<div id=\"df-ad8f427c-314f-46a6-beaa-428371d17ba4\">\n",
              "  <button class=\"colab-df-quickchart\" onclick=\"quickchart('df-ad8f427c-314f-46a6-beaa-428371d17ba4')\"\n",
              "            title=\"Suggest charts\"\n",
              "            style=\"display:none;\">\n",
              "\n",
              "<svg xmlns=\"http://www.w3.org/2000/svg\" height=\"24px\"viewBox=\"0 0 24 24\"\n",
              "     width=\"24px\">\n",
              "    <g>\n",
              "        <path d=\"M19 3H5c-1.1 0-2 .9-2 2v14c0 1.1.9 2 2 2h14c1.1 0 2-.9 2-2V5c0-1.1-.9-2-2-2zM9 17H7v-7h2v7zm4 0h-2V7h2v10zm4 0h-2v-4h2v4z\"/>\n",
              "    </g>\n",
              "</svg>\n",
              "  </button>\n",
              "\n",
              "<style>\n",
              "  .colab-df-quickchart {\n",
              "      --bg-color: #E8F0FE;\n",
              "      --fill-color: #1967D2;\n",
              "      --hover-bg-color: #E2EBFA;\n",
              "      --hover-fill-color: #174EA6;\n",
              "      --disabled-fill-color: #AAA;\n",
              "      --disabled-bg-color: #DDD;\n",
              "  }\n",
              "\n",
              "  [theme=dark] .colab-df-quickchart {\n",
              "      --bg-color: #3B4455;\n",
              "      --fill-color: #D2E3FC;\n",
              "      --hover-bg-color: #434B5C;\n",
              "      --hover-fill-color: #FFFFFF;\n",
              "      --disabled-bg-color: #3B4455;\n",
              "      --disabled-fill-color: #666;\n",
              "  }\n",
              "\n",
              "  .colab-df-quickchart {\n",
              "    background-color: var(--bg-color);\n",
              "    border: none;\n",
              "    border-radius: 50%;\n",
              "    cursor: pointer;\n",
              "    display: none;\n",
              "    fill: var(--fill-color);\n",
              "    height: 32px;\n",
              "    padding: 0;\n",
              "    width: 32px;\n",
              "  }\n",
              "\n",
              "  .colab-df-quickchart:hover {\n",
              "    background-color: var(--hover-bg-color);\n",
              "    box-shadow: 0 1px 2px rgba(60, 64, 67, 0.3), 0 1px 3px 1px rgba(60, 64, 67, 0.15);\n",
              "    fill: var(--button-hover-fill-color);\n",
              "  }\n",
              "\n",
              "  .colab-df-quickchart-complete:disabled,\n",
              "  .colab-df-quickchart-complete:disabled:hover {\n",
              "    background-color: var(--disabled-bg-color);\n",
              "    fill: var(--disabled-fill-color);\n",
              "    box-shadow: none;\n",
              "  }\n",
              "\n",
              "  .colab-df-spinner {\n",
              "    border: 2px solid var(--fill-color);\n",
              "    border-color: transparent;\n",
              "    border-bottom-color: var(--fill-color);\n",
              "    animation:\n",
              "      spin 1s steps(1) infinite;\n",
              "  }\n",
              "\n",
              "  @keyframes spin {\n",
              "    0% {\n",
              "      border-color: transparent;\n",
              "      border-bottom-color: var(--fill-color);\n",
              "      border-left-color: var(--fill-color);\n",
              "    }\n",
              "    20% {\n",
              "      border-color: transparent;\n",
              "      border-left-color: var(--fill-color);\n",
              "      border-top-color: var(--fill-color);\n",
              "    }\n",
              "    30% {\n",
              "      border-color: transparent;\n",
              "      border-left-color: var(--fill-color);\n",
              "      border-top-color: var(--fill-color);\n",
              "      border-right-color: var(--fill-color);\n",
              "    }\n",
              "    40% {\n",
              "      border-color: transparent;\n",
              "      border-right-color: var(--fill-color);\n",
              "      border-top-color: var(--fill-color);\n",
              "    }\n",
              "    60% {\n",
              "      border-color: transparent;\n",
              "      border-right-color: var(--fill-color);\n",
              "    }\n",
              "    80% {\n",
              "      border-color: transparent;\n",
              "      border-right-color: var(--fill-color);\n",
              "      border-bottom-color: var(--fill-color);\n",
              "    }\n",
              "    90% {\n",
              "      border-color: transparent;\n",
              "      border-bottom-color: var(--fill-color);\n",
              "    }\n",
              "  }\n",
              "</style>\n",
              "\n",
              "  <script>\n",
              "    async function quickchart(key) {\n",
              "      const quickchartButtonEl =\n",
              "        document.querySelector('#' + key + ' button');\n",
              "      quickchartButtonEl.disabled = true;  // To prevent multiple clicks.\n",
              "      quickchartButtonEl.classList.add('colab-df-spinner');\n",
              "      try {\n",
              "        const charts = await google.colab.kernel.invokeFunction(\n",
              "            'suggestCharts', [key], {});\n",
              "      } catch (error) {\n",
              "        console.error('Error during call to suggestCharts:', error);\n",
              "      }\n",
              "      quickchartButtonEl.classList.remove('colab-df-spinner');\n",
              "      quickchartButtonEl.classList.add('colab-df-quickchart-complete');\n",
              "    }\n",
              "    (() => {\n",
              "      let quickchartButtonEl =\n",
              "        document.querySelector('#df-ad8f427c-314f-46a6-beaa-428371d17ba4 button');\n",
              "      quickchartButtonEl.style.display =\n",
              "        google.colab.kernel.accessAllowed ? 'block' : 'none';\n",
              "    })();\n",
              "  </script>\n",
              "</div>\n",
              "    </div>\n",
              "  </div>\n"
            ],
            "application/vnd.google.colaboratory.intrinsic+json": {
              "type": "dataframe",
              "summary": "{\n  \"name\": \"data\",\n  \"rows\": 126,\n  \"fields\": [\n    {\n      \"column\": [\n        \"malic_acid\",\n        \"mean\"\n      ],\n      \"properties\": {\n        \"dtype\": \"number\",\n        \"std\": 0.9862294913786055,\n        \"min\": 0.74,\n        \"max\": 5.51,\n        \"num_unique_values\": 109,\n        \"samples\": [\n          4.95,\n          2.68,\n          2.05\n        ],\n        \"semantic_type\": \"\",\n        \"description\": \"\"\n      }\n    },\n    {\n      \"column\": [\n        \"malic_acid\",\n        \"std\"\n      ],\n      \"properties\": {\n        \"dtype\": \"number\",\n        \"std\": 0.7006375165649953,\n        \"min\": 0.014142135623730963,\n        \"max\": 2.6799347006970153,\n        \"num_unique_values\": 36,\n        \"samples\": [\n          1.2162236636408617,\n          0.7353910524340095,\n          0.6505382386916237\n        ],\n        \"semantic_type\": \"\",\n        \"description\": \"\"\n      }\n    },\n    {\n      \"column\": [\n        \"malic_acid\",\n        \"min\"\n      ],\n      \"properties\": {\n        \"dtype\": \"number\",\n        \"std\": 0.9775802195801048,\n        \"min\": 0.74,\n        \"max\": 5.51,\n        \"num_unique_values\": 101,\n        \"samples\": [\n          2.76,\n          3.9,\n          2.56\n        ],\n        \"semantic_type\": \"\",\n        \"description\": \"\"\n      }\n    },\n    {\n      \"column\": [\n        \"malic_acid\",\n        \"max\"\n      ],\n      \"properties\": {\n        \"dtype\": \"number\",\n        \"std\": 1.176447417857733,\n        \"min\": 0.74,\n        \"max\": 5.8,\n        \"num_unique_values\": 102,\n        \"samples\": [\n          3.83,\n          2.56,\n          4.28\n        ],\n        \"semantic_type\": \"\",\n        \"description\": \"\"\n      }\n    },\n    {\n      \"column\": [\n        \"total_phenols\",\n        \"mean\"\n      ],\n      \"properties\": {\n        \"dtype\": \"number\",\n        \"std\": 0.5930108470936456,\n        \"min\": 1.15,\n        \"max\": 3.88,\n        \"num_unique_values\": 94,\n        \"samples\": [\n          2.265,\n          1.25,\n          2.15\n        ],\n        \"semantic_type\": \"\",\n        \"description\": \"\"\n      }\n    },\n    {\n      \"column\": [\n        \"total_phenols\",\n        \"std\"\n      ],\n      \"properties\": {\n        \"dtype\": \"number\",\n        \"std\": 0.36629394985550934,\n        \"min\": 0.021213203435596132,\n        \"max\": 1.605132393293463,\n        \"num_unique_values\": 34,\n        \"samples\": [\n          0.6151828996322964,\n          0.06363961030678926,\n          0.6576093065034893\n        ],\n        \"semantic_type\": \"\",\n        \"description\": \"\"\n      }\n    },\n    {\n      \"column\": [\n        \"total_phenols\",\n        \"min\"\n      ],\n      \"properties\": {\n        \"dtype\": \"number\",\n        \"std\": 0.6514813449801482,\n        \"min\": 0.98,\n        \"max\": 3.88,\n        \"num_unique_values\": 80,\n        \"samples\": [\n          2.5,\n          2.46,\n          1.85\n        ],\n        \"semantic_type\": \"\",\n        \"description\": \"\"\n      }\n    },\n    {\n      \"column\": [\n        \"total_phenols\",\n        \"max\"\n      ],\n      \"properties\": {\n        \"dtype\": \"number\",\n        \"std\": 0.6128722076070532,\n        \"min\": 1.15,\n        \"max\": 3.88,\n        \"num_unique_values\": 80,\n        \"samples\": [\n          1.9,\n          2.46,\n          1.25\n        ],\n        \"semantic_type\": \"\",\n        \"description\": \"\"\n      }\n    },\n    {\n      \"column\": [\n        \"proanthocyanins\",\n        \"mean\"\n      ],\n      \"properties\": {\n        \"dtype\": \"float32\",\n        \"num_unique_values\": 97,\n        \"samples\": [\n          0.64013671875,\n          1.39501953125,\n          2.69921875\n        ],\n        \"semantic_type\": \"\",\n        \"description\": \"\"\n      }\n    },\n    {\n      \"column\": [\n        \"proanthocyanins\",\n        \"std\"\n      ],\n      \"properties\": {\n        \"dtype\": \"number\",\n        \"std\": 0.36349437459621636,\n        \"min\": 0.0,\n        \"max\": 1.6615973556934862,\n        \"num_unique_values\": 34,\n        \"samples\": [\n          0.8700727971631347,\n          0.06352912487222888,\n          0.4025813021794504\n        ],\n        \"semantic_type\": \"\",\n        \"description\": \"\"\n      }\n    },\n    {\n      \"column\": [\n        \"proanthocyanins\",\n        \"min\"\n      ],\n      \"properties\": {\n        \"dtype\": \"float16\",\n        \"num_unique_values\": 81,\n        \"samples\": [\n          1.25,\n          2.009765625,\n          0.7998046875\n        ],\n        \"semantic_type\": \"\",\n        \"description\": \"\"\n      }\n    },\n    {\n      \"column\": [\n        \"proanthocyanins\",\n        \"max\"\n      ],\n      \"properties\": {\n        \"dtype\": \"float16\",\n        \"num_unique_values\": 79,\n        \"samples\": [\n          1.48046875,\n          2.009765625,\n          2.810546875\n        ],\n        \"semantic_type\": \"\",\n        \"description\": \"\"\n      }\n    }\n  ]\n}"
            }
          },
          "metadata": {},
          "execution_count": 74
        }
      ],
      "source": [
        "data.groupby([\"alcohol\"])[columns_to_show].agg([np.mean, np.std, np.min, np.max])"
      ]
    },
    {
      "cell_type": "markdown",
      "metadata": {
        "id": "CMl0iOQEueRR"
      },
      "source": [
        "Когда данных много, просто смотреть на цифры крайне неинформативно.\n",
        "\n",
        "Для визуализации данных в этом курсе мы будем использовать библиотеку `matplotlib`. **Давайте её импортируем**."
      ]
    },
    {
      "cell_type": "code",
      "execution_count": null,
      "metadata": {
        "id": "pRlAVUFuueRR",
        "colab": {
          "base_uri": "https://localhost:8080/",
          "height": 321
        },
        "outputId": "8733d1a9-18ca-40f6-bb16-2f62f0c04413"
      },
      "outputs": [
        {
          "output_type": "display_data",
          "data": {
            "text/plain": [
              "<Figure size 400x300 with 1 Axes>"
            ],
            "image/png": "[encoded data removed]"
          },
          "metadata": {}
        }
      ],
      "source": [
        "import matplotlib.pyplot as plt\n",
        "\n",
        "fig, axs = plt.subplots(figsize=(4, 3))\n",
        "labels.hist()\n",
        "plt.suptitle(\"Label balance\")\n",
        "plt.show()"
      ]
    },
    {
      "cell_type": "markdown",
      "metadata": {
        "id": "j1Gw3FRSueRR"
      },
      "source": [
        "Объединим данные и метки в один фрейм. Нам это потребуется для упрощения визуализации."
      ]
    },
    {
      "cell_type": "code",
      "execution_count": null,
      "metadata": {
        "id": "UdrDYUxuueRR"
      },
      "outputs": [],
      "source": [
        "df = pd.concat([data, labels], axis=1)"
      ]
    },
    {
      "cell_type": "markdown",
      "metadata": {
        "id": "sEFQXJN2ueRR"
      },
      "source": [
        "Теперь мы можем посмотреть, как меняется средняя крепость алкоголя в зависимости от значения метки в *target*. Реализация функции `plot` в `pandas` основана на библиотеке `matplotlib`.\n",
        "\n",
        "Здесь `show()` позволяет нам убрать служебные сообщения."
      ]
    },
    {
      "cell_type": "code",
      "execution_count": null,
      "metadata": {
        "id": "7806iNUXueRS",
        "colab": {
          "base_uri": "https://localhost:8080/",
          "height": 449
        },
        "outputId": "8349a200-c55d-42fe-87b8-e64da10e6d89"
      },
      "outputs": [
        {
          "output_type": "display_data",
          "data": {
            "text/plain": [
              "<Figure size 640x480 with 1 Axes>"
            ],
            "image/png": "[encoded data removed]"
          },
          "metadata": {}
        }
      ],
      "source": [
        "df.groupby(\"target\")[\"alcohol\"].mean().plot(legend=True)\n",
        "plt.show()"
      ]
    },
    {
      "cell_type": "markdown",
      "metadata": {
        "id": "bC_mOl0zueRS"
      },
      "source": [
        "C помощью параметра `kind` можно изменить тип графика, например, на **bar chart**. `Matplotlib` позволяет очень гибко настраивать графики. На графике можно изменить почти все, что угодно, но потребуется порыться в документации и найти нужные параметры. Например, параметр `rot` отвечает за угол наклона подписей к оси `x`"
      ]
    },
    {
      "cell_type": "code",
      "execution_count": null,
      "metadata": {
        "id": "Jl4-5MKbueRS",
        "colab": {
          "base_uri": "https://localhost:8080/",
          "height": 452
        },
        "outputId": "0ba4db50-7b6a-4f94-c168-4ee7303bd562"
      },
      "outputs": [
        {
          "output_type": "display_data",
          "data": {
            "text/plain": [
              "<Figure size 640x480 with 1 Axes>"
            ],
            "image/png": "[encoded data removed]"
          },
          "metadata": {}
        }
      ],
      "source": [
        "df.groupby(\"target\")[\"alcohol\"].mean().plot(kind=\"bar\", legend=True, rot=45)\n",
        "plt.show()"
      ]
    },
    {
      "cell_type": "markdown",
      "metadata": {
        "id": "f7uadxdGueRS"
      },
      "source": [
        "**Seaborn**\n",
        "\n",
        "Теперь давайте перейдем к библиотеке `seaborn`. `Seaborn` — более высокоуровневое API на базе библиотеки `matplotlib`. `Seaborn` содержит более адекватные дефолтные настройки оформления графиков. Также в библиотеке есть достаточно сложные типы визуализации, которые в `matplotlib` потребовали бы большого количество кода."
      ]
    },
    {
      "cell_type": "markdown",
      "metadata": {
        "id": "FOc_GvmeueRS"
      },
      "source": [
        "Познакомимся с первым таким \"сложным\" типом графиков — pair plot (scatter plot matrix). Эта визуализация поможет нам посмотреть на одной картинке, как связаны между собой различные признаки."
      ]
    },
    {
      "cell_type": "code",
      "execution_count": null,
      "metadata": {
        "id": "BYR6P8tQueRS",
        "colab": {
          "base_uri": "https://localhost:8080/",
          "height": 1000
        },
        "outputId": "088151af-09a8-4517-d0d8-df057537c716"
      },
      "outputs": [
        {
          "output_type": "display_data",
          "data": {
            "text/plain": [
              "<Figure size 1000x1000 with 20 Axes>"
            ],
            "image/png": "[encoded data removed]"
          },
          "metadata": {}
        }
      ],
      "source": [
        "import seaborn as sns\n",
        "\n",
        "data, labels = load_wine(return_X_y=True, as_frame=True)\n",
        "df = pd.concat([data, labels], axis=1)\n",
        "cols = [\"alcohol\", \"malic_acid\", \"ash\", \"target\"]\n",
        "sns_plot = sns.pairplot(df[cols])\n",
        "sns_plot.savefig(\"pairplot.png\")"
      ]
    },
    {
      "cell_type": "markdown",
      "metadata": {
        "id": "0OmX5eO9ueRS"
      },
      "source": [
        "Как можно видеть, на диагонали матрицы графиков расположены гистограммы распределений признака. Остальные же графики — это обычные `scatter plots` для соответствующих пар признаков.\n",
        "\n",
        "Для сохранения графиков в файлы стоит использовать метод `savefig`.\n",
        "\n",
        "Выведите аналогичный график по иным 5 колонкам."
      ]
    },
    {
      "cell_type": "code",
      "execution_count": null,
      "metadata": {
        "id": "yFOReLPmueRS",
        "colab": {
          "base_uri": "https://localhost:8080/",
          "height": 843
        },
        "outputId": "58e3618f-23df-4cd0-a9fa-f8cdd101f0e2"
      },
      "outputs": [
        {
          "output_type": "stream",
          "name": "stdout",
          "text": [
            "Index(['alcohol', 'malic_acid', 'ash', 'alcalinity_of_ash', 'magnesium',\n",
            "       'total_phenols', 'flavanoids', 'nonflavanoid_phenols',\n",
            "       'proanthocyanins', 'color_intensity', 'hue',\n",
            "       'od280/od315_of_diluted_wines', 'proline'],\n",
            "      dtype='object')\n"
          ]
        },
        {
          "output_type": "display_data",
          "data": {
            "text/plain": [
              "<Figure size 750x750 with 12 Axes>"
            ],
            "image/png": "[encoded data removed]"
          },
          "metadata": {}
        }
      ],
      "source": [
        "import seaborn as sns\n",
        "\n",
        "print(data.columns)\n",
        "\n",
        "data, labels = load_wine(return_X_y=True, as_frame=True)\n",
        "df = pd.concat([data, labels], axis=1)\n",
        "cols = ['flavanoids', 'nonflavanoid_phenols', 'proline']\n",
        "sns_plot = sns.pairplot(df[cols])\n",
        "sns_plot.savefig(\"pairplot.png\")"
      ]
    },
    {
      "cell_type": "markdown",
      "metadata": {
        "id": "qctNCJbvueRT"
      },
      "source": [
        "С помощью `seaborn` можно построить и распределение dist plot. Для примера посмотрим на распределение `color_intensity`. Обратите внимание, что так тоже можно обращаться к колонкам."
      ]
    },
    {
      "cell_type": "code",
      "execution_count": null,
      "metadata": {
        "id": "phhkIiqPueRT",
        "colab": {
          "base_uri": "https://localhost:8080/",
          "height": 450
        },
        "outputId": "46b7aecd-8046-4791-ad9e-044bfa01d391"
      },
      "outputs": [
        {
          "output_type": "display_data",
          "data": {
            "text/plain": [
              "<Figure size 640x480 with 1 Axes>"
            ],
            "image/png": "[encoded data removed]"
          },
          "metadata": {}
        }
      ],
      "source": [
        "sns.histplot(df.color_intensity, kde=True)\n",
        "plt.show()"
      ]
    },
    {
      "cell_type": "markdown",
      "metadata": {
        "id": "lw68osrDueRT"
      },
      "source": [
        "Для того, чтобы посмотреть на диапазон и распределение данных, используется `box plot`. Посмотрим на то, как связаны между собой 5 наиболее часто встречаемых крепостей напитков и `flavanoids`."
      ]
    },
    {
      "cell_type": "code",
      "execution_count": null,
      "metadata": {
        "id": "-xNxf5JdueRT",
        "colab": {
          "base_uri": "https://localhost:8080/",
          "height": 449
        },
        "outputId": "d47822bf-8a4e-43a6-8ecf-5f9f089d84c9"
      },
      "outputs": [
        {
          "output_type": "display_data",
          "data": {
            "text/plain": [
              "<Figure size 640x480 with 1 Axes>"
            ],
            "image/png": "[encoded data removed]"
          },
          "metadata": {}
        }
      ],
      "source": [
        "top_alcohol = (\n",
        "    df.alcohol.value_counts().sort_values(ascending=False).head(5).index.values\n",
        ")\n",
        "sns.boxplot(\n",
        "    y=\"alcohol\", x=\"flavanoids\", data=df[df.alcohol.isin(top_alcohol)], orient=\"h\"\n",
        ")\n",
        "plt.show()"
      ]
    },
    {
      "cell_type": "markdown",
      "metadata": {
        "id": "YHgyweiZueRT"
      },
      "source": [
        "`Box plot` состоит из коробки (поэтому он и называется `box plot`), усов и точек (иначе его называют *ящик с усами*). Коробка показывает интерквартильный размах распределения, то есть соответственно 25% (Q1) и 75% (Q3) перцентили. Черта внутри коробки обозначает медиану распределения.\n",
        "\n",
        "Усы отображают весь разброс точек кроме выбросов, то есть минимальные и максимальные значения, которые попадают в промежуток ($Q1 - 1.5*IQR$, $Q3 + 1.5*IQR$), где $IQR = Q3 - Q1$ — интерквартильный размах. Точками на графике обозначаются выбросы (outliers) — те значения, которые не вписываются в промежуток значений, заданный усами графика.\n",
        "\n",
        "[[wiki] Box plot](https://en.wikipedia.org/wiki/Box_plot)"
      ]
    },
    {
      "cell_type": "markdown",
      "metadata": {
        "id": "g9lALr-oueRT"
      },
      "source": [
        "**Постройте свой ящик с усами!** Для этого выберите какую-нибудь подвыборку данных, которую можно визуально анализировать."
      ]
    },
    {
      "cell_type": "code",
      "execution_count": null,
      "metadata": {
        "id": "CMcppSunueRT",
        "colab": {
          "base_uri": "https://localhost:8080/",
          "height": 535
        },
        "outputId": "40fd67a1-ceac-49df-e4a1-afd10cfec83f"
      },
      "outputs": [
        {
          "output_type": "stream",
          "name": "stdout",
          "text": [
            "Index(['alcohol', 'malic_acid', 'ash', 'alcalinity_of_ash', 'magnesium',\n",
            "       'total_phenols', 'flavanoids', 'nonflavanoid_phenols',\n",
            "       'proanthocyanins', 'color_intensity', 'hue',\n",
            "       'od280/od315_of_diluted_wines', 'proline'],\n",
            "      dtype='object')\n"
          ]
        },
        {
          "output_type": "display_data",
          "data": {
            "text/plain": [
              "<Figure size 640x480 with 1 Axes>"
            ],
            "image/png": "[encoded data removed]"
          },
          "metadata": {}
        }
      ],
      "source": [
        "print(data.columns)\n",
        "\n",
        "top_alcohol = (\n",
        "    df.alcohol.value_counts().sort_values(ascending=False).head(5).index.values\n",
        ")\n",
        "sns.boxplot(\n",
        "    y=\"alcohol\", x=\"malic_acid\", data=df[df.alcohol.isin(top_alcohol)], orient=\"h\"\n",
        ")\n",
        "plt.show()"
      ]
    },
    {
      "cell_type": "markdown",
      "metadata": {
        "id": "oVZ9yE0NueRU"
      },
      "source": [
        "Последний график, который рассмотрим в этом задании — это **heat map**. Сгруппируем значения крепости в 5 бинов (примерно такой же подход при построении гистограмм), и посмотрим на распределение численного признака (`proanthocyanins`) по двум категориальным."
      ]
    },
    {
      "cell_type": "code",
      "execution_count": null,
      "metadata": {
        "id": "4m1nx_esueRU"
      },
      "outputs": [],
      "source": [
        "df[\"alcoholGroup\"] = pd.cut(df[\"alcohol\"], bins=5)"
      ]
    },
    {
      "cell_type": "code",
      "execution_count": null,
      "metadata": {
        "id": "MlCBxTZTueRU",
        "colab": {
          "base_uri": "https://localhost:8080/",
          "height": 543
        },
        "outputId": "9baf55d1-040a-4bc7-834f-a4478728ab05"
      },
      "outputs": [
        {
          "output_type": "display_data",
          "data": {
            "text/plain": [
              "<Figure size 640x480 with 2 Axes>"
            ],
            "image/png": "[encoded data removed]"
          },
          "metadata": {}
        }
      ],
      "source": [
        "platform_genre_sales = (\n",
        "    df.pivot_table(\n",
        "        index=\"target\", columns=\"alcoholGroup\", values=\"proanthocyanins\", aggfunc=sum\n",
        "    )\n",
        "    .fillna(0)\n",
        "    .applymap(float)\n",
        ")\n",
        "sns.heatmap(platform_genre_sales, annot=True, fmt=\".1f\", linewidths=0.05)\n",
        "plt.show()"
      ]
    },
    {
      "cell_type": "markdown",
      "metadata": {
        "id": "g9VH9c1lueRU"
      },
      "source": [
        "Постройте аналогичную тепловую карту. Быть может, вы ожидаете какие-то закономерности?"
      ]
    },
    {
      "cell_type": "code",
      "execution_count": null,
      "metadata": {
        "id": "C3ZP4SVXueRU",
        "colab": {
          "base_uri": "https://localhost:8080/",
          "height": 543
        },
        "outputId": "1540e3b6-dc2d-410d-c041-9eb08c4b4367"
      },
      "outputs": [
        {
          "output_type": "display_data",
          "data": {
            "text/plain": [
              "<Figure size 640x480 with 2 Axes>"
            ],
            "image/png": "[encoded data removed]"
          },
          "metadata": {}
        }
      ],
      "source": [
        "platform_genre_sales = (\n",
        "    df.pivot_table(\n",
        "        index=\"target\", columns=\"alcoholGroup\", values=\"malic_acid\", aggfunc=sum\n",
        "    )\n",
        "    .fillna(0)\n",
        "    .applymap(float)\n",
        ")\n",
        "sns.heatmap(platform_genre_sales, annot=True, fmt=\".1f\", linewidths=0.05)\n",
        "\n",
        "plt.show()"
      ]
    },
    {
      "cell_type": "markdown",
      "metadata": {
        "id": "9Y5ZrQUzueRU"
      },
      "source": [
        "В дальнейших лекциях и заданиях на основе подобных визуализаций и подсчётов вы будете производить разведочный анализ и строить гипотезы о том, какой **baseline** можно получить, выведя грубую (или не очень) связь между данными и целевой переменной."
      ]
    },
    {
      "cell_type": "markdown",
      "metadata": {
        "id": "SvL40gfsueRU"
      },
      "source": [
        "В следующем задании вы продложите анализ датасета."
      ]
    },
    {
      "cell_type": "markdown",
      "metadata": {
        "id": "N7pfJzGYueRV"
      },
      "source": [
        "## Формат результата"
      ]
    },
    {
      "cell_type": "markdown",
      "metadata": {
        "id": "8WX5pQ5ZueRV"
      },
      "source": [
        "Результат выполнения — таблицы и графики."
      ]
    },
    {
      "cell_type": "markdown",
      "metadata": {
        "id": "AcctQ26tueRV"
      },
      "source": [
        "# Задание 2. Кросс-валидация"
      ]
    },
    {
      "cell_type": "markdown",
      "metadata": {
        "id": "5h6xLGD2ueRV"
      },
      "source": [
        "Напишите свою реализацию кросс-валидации, используя только библиотеку `numpy`. Обучите модель `KNeighborsClassifier` с параметрами `n_neighbors=3, metric='euclidean'` с помощью кросс-валидации, получите значения `accuracy` по всем 5 фолдам."
      ]
    },
    {
      "cell_type": "markdown",
      "metadata": {
        "id": "m7ZzI-5tueRV"
      },
      "source": [
        "## Формат результата"
      ]
    },
    {
      "cell_type": "markdown",
      "metadata": {
        "id": "5vkfmncOueRV"
      },
      "source": [
        "Результат выполнения — значения метрики `accuracy` для пяти фолдов c использованием разных способов."
      ]
    },
    {
      "cell_type": "code",
      "execution_count": null,
      "metadata": {
        "id": "6BiANPeeueRV",
        "colab": {
          "base_uri": "https://localhost:8080/"
        },
        "outputId": "41ba60cf-3f2d-4871-d581-9f120f1b1da8"
      },
      "outputs": [
        {
          "output_type": "stream",
          "name": "stdout",
          "text": [
            "{1: array([ 1,  2,  3,  4,  5,  6,  7,  8,  9, 10, 11, 12, 13, 14, 15, 16, 17,\n",
            "       18, 19, 20, 21, 22, 23, 24, 25, 26, 27, 28, 29, 30]), 2: array([31, 32, 33, 34, 35, 36, 37, 38, 39, 40, 41, 42, 43, 44, 45, 46, 47,\n",
            "       48, 49, 50, 51, 52, 53, 54, 55, 56, 57, 58, 59, 60]), 3: array([61, 62, 63, 64, 65, 66, 67, 68, 69, 70, 71, 72, 73, 74, 75, 76, 77,\n",
            "       78, 79, 80, 81, 82, 83, 84, 85, 86, 87, 88, 89, 90]), 4: array([ 91,  92,  93,  94,  95,  96,  97,  98,  99, 100, 101, 102, 103,\n",
            "       104, 105, 106, 107, 108, 109, 110, 111, 112, 113, 114, 115, 116,\n",
            "       117, 118, 119, 120]), 5: array([121, 122, 123, 124, 125, 126, 127, 128, 129, 130, 131, 132, 133,\n",
            "       134, 135, 136, 137, 138, 139, 140, 141, 142, 143, 144, 145, 146,\n",
            "       147, 148, 149, 150])}\n"
          ]
        }
      ],
      "source": [
        "from sklearn.neighbors import KNeighborsClassifier\n",
        "from sklearn.model_selection import train_test_split\n",
        "from sklearn.metrics import accuracy_score\n",
        "from sklearn.datasets import load_iris\n",
        "import numpy as np\n",
        "\n",
        "\n",
        "iris = load_iris()\n",
        "x, y = iris.data, iris.target\n",
        "\n",
        "\n",
        "def in_take(index_arr, arr):\n",
        "\n",
        "  new_arr = []\n",
        "\n",
        "  for i in range(len(index_arr)):\n",
        "\n",
        "    new_arr.append(arr[index_arr])\n",
        "\n",
        "\n",
        "\n",
        "\n",
        "model = KNeighborsClassifier(n_neighbors=3, metric='euclidean')\n",
        "\n",
        "def custom_cv(num_folds, x, y, model, metric=accuracy_score):\n",
        "\n",
        "    np.random.seed(42)\n",
        "\n",
        "    index_arr = np.arange(1, len(y)+1)\n",
        "    index = {}\n",
        "    flag = 0\n",
        "    delta = (len(y) // num_folds)\n",
        "\n",
        "\n",
        "    for i in range (1, num_folds + 1):\n",
        "      index[i] = index_arr[flag:flag+delta]\n",
        "      flag = flag + delta\n",
        "\n",
        "\n",
        "    for i in range(num_folds):\n",
        "\n",
        "      x_val = index[i]\n",
        "\n",
        "\n",
        "\n",
        "     model.fit(x_train, y_train)\n",
        "#         predictions = model.predict(x_val)\n",
        "#         score = metric(y_val, predictions)\n",
        "#         results.append(score)\n",
        "#         print(f'Accuracy for fold {i + 1}: {score}')\n",
        "\n",
        "\n",
        "    print(index)\n",
        "\n",
        "custom_cv(5, x, y, model)\n",
        "\n",
        "#     for i in range(num_folds):\n",
        "\n",
        "\n",
        "#         model.fit(x_train, y_train)\n",
        "#         predictions = model.predict(x_val)\n",
        "#         score = metric(y_val, predictions)\n",
        "#         results.append(score)\n",
        "#         print(f'Accuracy for fold {i + 1}: {score}')\n",
        "\n",
        "#     return np.array(results)\n",
        "\n",
        "# results = custom_cv(5, x, y, model)\n",
        "# print('Mean: ', results.mean())"
      ]
    },
    {
      "cell_type": "markdown",
      "metadata": {
        "id": "T_jQNWg2ueRV"
      },
      "source": [
        "Теперь сделайте кросс-валидацию, используя `KFold` из `sklearn.model_selection`:"
      ]
    },
    {
      "cell_type": "code",
      "execution_count": null,
      "metadata": {
        "id": "S-zmyapEueRV",
        "colab": {
          "base_uri": "https://localhost:8080/"
        },
        "outputId": "15bac07c-571f-4785-9ab1-8974b3962cc1"
      },
      "outputs": [
        {
          "output_type": "stream",
          "name": "stdout",
          "text": [
            "Accuracy for fold 1: 1.0\n",
            "Accuracy for fold 2: 0.9666666666666667\n",
            "Accuracy for fold 3: 0.9666666666666667\n",
            "Accuracy for fold 4: 0.9333333333333333\n",
            "Accuracy for fold 5: 0.9666666666666667\n",
            "Mean:  0.9666666666666668\n"
          ]
        }
      ],
      "source": [
        "from sklearn.model_selection import KFold\n",
        "\n",
        "np.random.seed(42)\n",
        "\n",
        "def custom_cv_1(num_folds, x, y, model, metric=accuracy_score):\n",
        "\n",
        "    results = []\n",
        "    kf = KFold(n_splits=5, random_state=42, shuffle=True)\n",
        "    for i, (train_indices, val_indices) in enumerate(kf.split(x)):\n",
        "\n",
        "        x_train, y_train = x[train_indices], y[train_indices]\n",
        "        y_val, x_val = y[val_indices], x[val_indices]\n",
        "        model.fit(x_train, y_train)\n",
        "        predictions = model.predict(x_val)\n",
        "        score = metric(y_val, predictions)\n",
        "        results.append(score)\n",
        "        print(f'Accuracy for fold {i + 1}: {score}')\n",
        "\n",
        "    return np.array(results)\n",
        "\n",
        "results = custom_cv_1(5, x, y, model)\n",
        "print('Mean: ', results.mean())"
      ]
    },
    {
      "cell_type": "markdown",
      "metadata": {
        "id": "74KhHIe7ueRW"
      },
      "source": [
        "Теперь используйте `cross_val_score` или `cross_validate`:"
      ]
    },
    {
      "cell_type": "code",
      "execution_count": null,
      "metadata": {
        "id": "OV-aLFTAueRW",
        "colab": {
          "base_uri": "https://localhost:8080/"
        },
        "outputId": "b6a36009-d3b8-4c52-9c44-9a60840064c8"
      },
      "outputs": [
        {
          "output_type": "stream",
          "name": "stdout",
          "text": [
            "0.9666666666666668\n"
          ]
        }
      ],
      "source": [
        "from sklearn.model_selection import cross_val_score\n",
        "\n",
        "cv = KFold(5, random_state=42, shuffle=True)\n",
        "results = cross_val_score(model, x, y, cv=cv)\n",
        "\n",
        "print(results.mean())"
      ]
    },
    {
      "cell_type": "markdown",
      "metadata": {
        "id": "q9TPJXl4ueRW"
      },
      "source": [
        "# Задание 3. Метрики классификации"
      ]
    },
    {
      "cell_type": "markdown",
      "metadata": {
        "id": "XXDX7B5mueRW"
      },
      "source": [
        "Чаще всего модели, с которыми вы будете работать для задачи классификации, будут выдавать вероятность принадлежности к классу. Стандартный порог для задачи классификации — 0.5, но бывают ситуации, когда порог можно подобрать лучше. Подберем разные пороги и посчитаем метрики при различных порогах."
      ]
    },
    {
      "cell_type": "markdown",
      "metadata": {
        "id": "qpqLmGxBueRW"
      },
      "source": [
        "## Формат результата"
      ]
    },
    {
      "cell_type": "markdown",
      "metadata": {
        "id": "dXLrEuWSueRW"
      },
      "source": [
        "Подобранный порог, при котором `f1-score` максимальный, и значения метрик при разных порогах"
      ]
    },
    {
      "cell_type": "markdown",
      "metadata": {
        "id": "NqEldnojueRW"
      },
      "source": [
        "Загрузите предсказания модели:"
      ]
    },
    {
      "cell_type": "code",
      "execution_count": null,
      "metadata": {
        "id": "w8D5UJgjueRW",
        "colab": {
          "base_uri": "https://localhost:8080/",
          "height": 419
        },
        "outputId": "9db3b064-8f0b-409f-ad4b-113a22e90e1b"
      },
      "outputs": [
        {
          "output_type": "execute_result",
          "data": {
            "text/plain": [
              "       y_pred  y_true\n",
              "0    0.010604       0\n",
              "1    0.085969       0\n",
              "2    0.257839       1\n",
              "3    0.163190       0\n",
              "4    0.210487       0\n",
              "..        ...     ...\n",
              "195  0.748444       1\n",
              "196  0.536695       1\n",
              "197  0.567285       1\n",
              "198  0.823948       1\n",
              "199  0.579972       1\n",
              "\n",
              "[200 rows x 2 columns]"
            ],
            "text/html": [
              "\n",
              "  <div id=\"df-bb9a70f7-c9a2-4072-b37d-2c20898e153f\" class=\"colab-df-container\">\n",
              "    <div>\n",
              "<style scoped>\n",
              "    .dataframe tbody tr th:only-of-type {\n",
              "        vertical-align: middle;\n",
              "    }\n",
              "\n",
              "    .dataframe tbody tr th {\n",
              "        vertical-align: top;\n",
              "    }\n",
              "\n",
              "    .dataframe thead th {\n",
              "        text-align: right;\n",
              "    }\n",
              "</style>\n",
              "<table border=\"1\" class=\"dataframe\">\n",
              "  <thead>\n",
              "    <tr style=\"text-align: right;\">\n",
              "      <th></th>\n",
              "      <th>y_pred</th>\n",
              "      <th>y_true</th>\n",
              "    </tr>\n",
              "  </thead>\n",
              "  <tbody>\n",
              "    <tr>\n",
              "      <th>0</th>\n",
              "      <td>0.010604</td>\n",
              "      <td>0</td>\n",
              "    </tr>\n",
              "    <tr>\n",
              "      <th>1</th>\n",
              "      <td>0.085969</td>\n",
              "      <td>0</td>\n",
              "    </tr>\n",
              "    <tr>\n",
              "      <th>2</th>\n",
              "      <td>0.257839</td>\n",
              "      <td>1</td>\n",
              "    </tr>\n",
              "    <tr>\n",
              "      <th>3</th>\n",
              "      <td>0.163190</td>\n",
              "      <td>0</td>\n",
              "    </tr>\n",
              "    <tr>\n",
              "      <th>4</th>\n",
              "      <td>0.210487</td>\n",
              "      <td>0</td>\n",
              "    </tr>\n",
              "    <tr>\n",
              "      <th>...</th>\n",
              "      <td>...</td>\n",
              "      <td>...</td>\n",
              "    </tr>\n",
              "    <tr>\n",
              "      <th>195</th>\n",
              "      <td>0.748444</td>\n",
              "      <td>1</td>\n",
              "    </tr>\n",
              "    <tr>\n",
              "      <th>196</th>\n",
              "      <td>0.536695</td>\n",
              "      <td>1</td>\n",
              "    </tr>\n",
              "    <tr>\n",
              "      <th>197</th>\n",
              "      <td>0.567285</td>\n",
              "      <td>1</td>\n",
              "    </tr>\n",
              "    <tr>\n",
              "      <th>198</th>\n",
              "      <td>0.823948</td>\n",
              "      <td>1</td>\n",
              "    </tr>\n",
              "    <tr>\n",
              "      <th>199</th>\n",
              "      <td>0.579972</td>\n",
              "      <td>1</td>\n",
              "    </tr>\n",
              "  </tbody>\n",
              "</table>\n",
              "<p>200 rows × 2 columns</p>\n",
              "</div>\n",
              "    <div class=\"colab-df-buttons\">\n",
              "\n",
              "  <div class=\"colab-df-container\">\n",
              "    <button class=\"colab-df-convert\" onclick=\"convertToInteractive('df-bb9a70f7-c9a2-4072-b37d-2c20898e153f')\"\n",
              "            title=\"Convert this dataframe to an interactive table.\"\n",
              "            style=\"display:none;\">\n",
              "\n",
              "  <svg xmlns=\"http://www.w3.org/2000/svg\" height=\"24px\" viewBox=\"0 -960 960 960\">\n",
              "    <path d=\"M120-120v-720h720v720H120Zm60-500h600v-160H180v160Zm220 220h160v-160H400v160Zm0 220h160v-160H400v160ZM180-400h160v-160H180v160Zm440 0h160v-160H620v160ZM180-180h160v-160H180v160Zm440 0h160v-160H620v160Z\"/>\n",
              "  </svg>\n",
              "    </button>\n",
              "\n",
              "  <style>\n",
              "    .colab-df-container {\n",
              "      display:flex;\n",
              "      gap: 12px;\n",
              "    }\n",
              "\n",
              "    .colab-df-convert {\n",
              "      background-color: #E8F0FE;\n",
              "      border: none;\n",
              "      border-radius: 50%;\n",
              "      cursor: pointer;\n",
              "      display: none;\n",
              "      fill: #1967D2;\n",
              "      height: 32px;\n",
              "      padding: 0 0 0 0;\n",
              "      width: 32px;\n",
              "    }\n",
              "\n",
              "    .colab-df-convert:hover {\n",
              "      background-color: #E2EBFA;\n",
              "      box-shadow: 0px 1px 2px rgba(60, 64, 67, 0.3), 0px 1px 3px 1px rgba(60, 64, 67, 0.15);\n",
              "      fill: #174EA6;\n",
              "    }\n",
              "\n",
              "    .colab-df-buttons div {\n",
              "      margin-bottom: 4px;\n",
              "    }\n",
              "\n",
              "    [theme=dark] .colab-df-convert {\n",
              "      background-color: #3B4455;\n",
              "      fill: #D2E3FC;\n",
              "    }\n",
              "\n",
              "    [theme=dark] .colab-df-convert:hover {\n",
              "      background-color: #434B5C;\n",
              "      box-shadow: 0px 1px 3px 1px rgba(0, 0, 0, 0.15);\n",
              "      filter: drop-shadow(0px 1px 2px rgba(0, 0, 0, 0.3));\n",
              "      fill: #FFFFFF;\n",
              "    }\n",
              "  </style>\n",
              "\n",
              "    <script>\n",
              "      const buttonEl =\n",
              "        document.querySelector('#df-bb9a70f7-c9a2-4072-b37d-2c20898e153f button.colab-df-convert');\n",
              "      buttonEl.style.display =\n",
              "        google.colab.kernel.accessAllowed ? 'block' : 'none';\n",
              "\n",
              "      async function convertToInteractive(key) {\n",
              "        const element = document.querySelector('#df-bb9a70f7-c9a2-4072-b37d-2c20898e153f');\n",
              "        const dataTable =\n",
              "          await google.colab.kernel.invokeFunction('convertToInteractive',\n",
              "                                                    [key], {});\n",
              "        if (!dataTable) return;\n",
              "\n",
              "        const docLinkHtml = 'Like what you see? Visit the ' +\n",
              "          '<a target=\"_blank\" href=https://colab.research.google.com/notebooks/data_table.ipynb>data table notebook</a>'\n",
              "          + ' to learn more about interactive tables.';\n",
              "        element.innerHTML = '';\n",
              "        dataTable['output_type'] = 'display_data';\n",
              "        await google.colab.output.renderOutput(dataTable, element);\n",
              "        const docLink = document.createElement('div');\n",
              "        docLink.innerHTML = docLinkHtml;\n",
              "        element.appendChild(docLink);\n",
              "      }\n",
              "    </script>\n",
              "  </div>\n",
              "\n",
              "\n",
              "<div id=\"df-7b2374f8-be7f-44f5-b086-ff940cfba299\">\n",
              "  <button class=\"colab-df-quickchart\" onclick=\"quickchart('df-7b2374f8-be7f-44f5-b086-ff940cfba299')\"\n",
              "            title=\"Suggest charts\"\n",
              "            style=\"display:none;\">\n",
              "\n",
              "<svg xmlns=\"http://www.w3.org/2000/svg\" height=\"24px\"viewBox=\"0 0 24 24\"\n",
              "     width=\"24px\">\n",
              "    <g>\n",
              "        <path d=\"M19 3H5c-1.1 0-2 .9-2 2v14c0 1.1.9 2 2 2h14c1.1 0 2-.9 2-2V5c0-1.1-.9-2-2-2zM9 17H7v-7h2v7zm4 0h-2V7h2v10zm4 0h-2v-4h2v4z\"/>\n",
              "    </g>\n",
              "</svg>\n",
              "  </button>\n",
              "\n",
              "<style>\n",
              "  .colab-df-quickchart {\n",
              "      --bg-color: #E8F0FE;\n",
              "      --fill-color: #1967D2;\n",
              "      --hover-bg-color: #E2EBFA;\n",
              "      --hover-fill-color: #174EA6;\n",
              "      --disabled-fill-color: #AAA;\n",
              "      --disabled-bg-color: #DDD;\n",
              "  }\n",
              "\n",
              "  [theme=dark] .colab-df-quickchart {\n",
              "      --bg-color: #3B4455;\n",
              "      --fill-color: #D2E3FC;\n",
              "      --hover-bg-color: #434B5C;\n",
              "      --hover-fill-color: #FFFFFF;\n",
              "      --disabled-bg-color: #3B4455;\n",
              "      --disabled-fill-color: #666;\n",
              "  }\n",
              "\n",
              "  .colab-df-quickchart {\n",
              "    background-color: var(--bg-color);\n",
              "    border: none;\n",
              "    border-radius: 50%;\n",
              "    cursor: pointer;\n",
              "    display: none;\n",
              "    fill: var(--fill-color);\n",
              "    height: 32px;\n",
              "    padding: 0;\n",
              "    width: 32px;\n",
              "  }\n",
              "\n",
              "  .colab-df-quickchart:hover {\n",
              "    background-color: var(--hover-bg-color);\n",
              "    box-shadow: 0 1px 2px rgba(60, 64, 67, 0.3), 0 1px 3px 1px rgba(60, 64, 67, 0.15);\n",
              "    fill: var(--button-hover-fill-color);\n",
              "  }\n",
              "\n",
              "  .colab-df-quickchart-complete:disabled,\n",
              "  .colab-df-quickchart-complete:disabled:hover {\n",
              "    background-color: var(--disabled-bg-color);\n",
              "    fill: var(--disabled-fill-color);\n",
              "    box-shadow: none;\n",
              "  }\n",
              "\n",
              "  .colab-df-spinner {\n",
              "    border: 2px solid var(--fill-color);\n",
              "    border-color: transparent;\n",
              "    border-bottom-color: var(--fill-color);\n",
              "    animation:\n",
              "      spin 1s steps(1) infinite;\n",
              "  }\n",
              "\n",
              "  @keyframes spin {\n",
              "    0% {\n",
              "      border-color: transparent;\n",
              "      border-bottom-color: var(--fill-color);\n",
              "      border-left-color: var(--fill-color);\n",
              "    }\n",
              "    20% {\n",
              "      border-color: transparent;\n",
              "      border-left-color: var(--fill-color);\n",
              "      border-top-color: var(--fill-color);\n",
              "    }\n",
              "    30% {\n",
              "      border-color: transparent;\n",
              "      border-left-color: var(--fill-color);\n",
              "      border-top-color: var(--fill-color);\n",
              "      border-right-color: var(--fill-color);\n",
              "    }\n",
              "    40% {\n",
              "      border-color: transparent;\n",
              "      border-right-color: var(--fill-color);\n",
              "      border-top-color: var(--fill-color);\n",
              "    }\n",
              "    60% {\n",
              "      border-color: transparent;\n",
              "      border-right-color: var(--fill-color);\n",
              "    }\n",
              "    80% {\n",
              "      border-color: transparent;\n",
              "      border-right-color: var(--fill-color);\n",
              "      border-bottom-color: var(--fill-color);\n",
              "    }\n",
              "    90% {\n",
              "      border-color: transparent;\n",
              "      border-bottom-color: var(--fill-color);\n",
              "    }\n",
              "  }\n",
              "</style>\n",
              "\n",
              "  <script>\n",
              "    async function quickchart(key) {\n",
              "      const quickchartButtonEl =\n",
              "        document.querySelector('#' + key + ' button');\n",
              "      quickchartButtonEl.disabled = true;  // To prevent multiple clicks.\n",
              "      quickchartButtonEl.classList.add('colab-df-spinner');\n",
              "      try {\n",
              "        const charts = await google.colab.kernel.invokeFunction(\n",
              "            'suggestCharts', [key], {});\n",
              "      } catch (error) {\n",
              "        console.error('Error during call to suggestCharts:', error);\n",
              "      }\n",
              "      quickchartButtonEl.classList.remove('colab-df-spinner');\n",
              "      quickchartButtonEl.classList.add('colab-df-quickchart-complete');\n",
              "    }\n",
              "    (() => {\n",
              "      let quickchartButtonEl =\n",
              "        document.querySelector('#df-7b2374f8-be7f-44f5-b086-ff940cfba299 button');\n",
              "      quickchartButtonEl.style.display =\n",
              "        google.colab.kernel.accessAllowed ? 'block' : 'none';\n",
              "    })();\n",
              "  </script>\n",
              "</div>\n",
              "    </div>\n",
              "  </div>\n"
            ],
            "application/vnd.google.colaboratory.intrinsic+json": {
              "type": "dataframe",
              "variable_name": "df_tmp",
              "summary": "{\n  \"name\": \"df_tmp\",\n  \"rows\": 200,\n  \"fields\": [\n    {\n      \"column\": \"y_pred\",\n      \"properties\": {\n        \"dtype\": \"number\",\n        \"std\": 0.2548998713086436,\n        \"min\": 0.0104891798417861,\n        \"max\": 0.9180952957861294,\n        \"num_unique_values\": 200,\n        \"samples\": [\n          0.120728020393198,\n          0.0917568789602299,\n          0.2116701234915793\n        ],\n        \"semantic_type\": \"\",\n        \"description\": \"\"\n      }\n    },\n    {\n      \"column\": \"y_true\",\n      \"properties\": {\n        \"dtype\": \"number\",\n        \"std\": 0,\n        \"min\": 0,\n        \"max\": 1,\n        \"num_unique_values\": 2,\n        \"samples\": [\n          1,\n          0\n        ],\n        \"semantic_type\": \"\",\n        \"description\": \"\"\n      }\n    }\n  ]\n}"
            }
          },
          "metadata": {},
          "execution_count": 135
        }
      ],
      "source": [
        "import pandas as pd\n",
        "\n",
        "df_tmp = pd.read_csv('https://edunet.kea.su/repo/EduNet-web_dependencies/datasets/y_pred_proba.csv')\n",
        "df_tmp"
      ]
    },
    {
      "cell_type": "markdown",
      "metadata": {
        "id": "pFJESab4ueRX"
      },
      "source": [
        "Посчитайте `classification_report` при пороге 0.5:"
      ]
    },
    {
      "cell_type": "code",
      "execution_count": null,
      "metadata": {
        "id": "WoKkW-6gueRX"
      },
      "outputs": [],
      "source": [
        "df_tmp[\"y_pred_05\"] = df_tmp[\"y_pred\"].apply(lambda x: 1 if x >= 0.5 else 0)"
      ]
    },
    {
      "cell_type": "code",
      "execution_count": null,
      "metadata": {
        "id": "JkT_nx3QueRX",
        "colab": {
          "base_uri": "https://localhost:8080/"
        },
        "outputId": "64d0d767-6782-43a1-e08a-b4a29aed13df"
      },
      "outputs": [
        {
          "output_type": "stream",
          "name": "stdout",
          "text": [
            "              precision    recall  f1-score   support\n",
            "\n",
            "           0       0.59      0.96      0.73        82\n",
            "           1       0.95      0.53      0.68       118\n",
            "\n",
            "    accuracy                           0.71       200\n",
            "   macro avg       0.77      0.75      0.71       200\n",
            "weighted avg       0.80      0.71      0.70       200\n",
            "\n"
          ]
        }
      ],
      "source": [
        "from sklearn.metrics import classification_report\n",
        "\n",
        "y_true = df_tmp['y_true']\n",
        "y_pred = df_tmp['y_pred_05']\n",
        "\n",
        "print(classification_report(y_true, y_pred))\n"
      ]
    },
    {
      "cell_type": "markdown",
      "metadata": {
        "id": "lcUgot2rueRX"
      },
      "source": [
        "Нарисуйте распределение классов, используя `sns.histplot`:"
      ]
    },
    {
      "cell_type": "code",
      "execution_count": null,
      "metadata": {
        "id": "gq1nczYZueRX",
        "colab": {
          "base_uri": "https://localhost:8080/",
          "height": 433
        },
        "outputId": "171e4bf8-1643-4489-ba20-78c10ddba155"
      },
      "outputs": [
        {
          "output_type": "display_data",
          "data": {
            "text/plain": [
              "<Figure size 640x480 with 1 Axes>"
            ],
            "image/png": "[encoded data removed]"
          },
          "metadata": {}
        }
      ],
      "source": [
        "import seaborn as sns\n",
        "import matplotlib.pyplot as plt\n",
        "\n",
        "sns.histplot(df_tmp)\n",
        "plt.axvline(x=0.5, c=\"r\", linestyle=\"--\")\n",
        "plt.show()\n"
      ]
    },
    {
      "cell_type": "markdown",
      "metadata": {
        "id": "r8j4DF2-ueRX"
      },
      "source": [
        "Видно, что оптимальный порог находится ниже 0.5, но подбирать его по графику довольно проблематично, воспользуемся `precision_recall_curve`:"
      ]
    },
    {
      "cell_type": "code",
      "execution_count": null,
      "metadata": {
        "id": "tQgy16_zueRX",
        "colab": {
          "base_uri": "https://localhost:8080/",
          "height": 449
        },
        "outputId": "d7918322-f7fe-407f-b3b9-6ba3c7b575bb"
      },
      "outputs": [
        {
          "output_type": "display_data",
          "data": {
            "text/plain": [
              "<Figure size 640x480 with 1 Axes>"
            ],
            "image/png": "[encoded data removed]"
          },
          "metadata": {}
        }
      ],
      "source": [
        "from sklearn.metrics import precision_recall_curve, PrecisionRecallDisplay\n",
        "\n",
        "precision, recall, thresholds = precision_recall_curve(df_tmp['y_true'], df_tmp['y_pred'])\n",
        "\n",
        "pr_display = PrecisionRecallDisplay(precision=precision, recall=recall)\n",
        "pr_display.plot()\n",
        "plt.show()"
      ]
    },
    {
      "cell_type": "markdown",
      "metadata": {
        "id": "hYaKauPYueRX"
      },
      "source": [
        "Теперь у нас есть все значения `precision` и `recall` при всех порогах. Посчитайте `f1-score` и выберите порог, при котором `f1-score` максимален:"
      ]
    },
    {
      "cell_type": "code",
      "execution_count": null,
      "metadata": {
        "id": "nARwCPs1ueRX",
        "colab": {
          "base_uri": "https://localhost:8080/"
        },
        "outputId": "fdf8e7b9-d4ce-4d4a-ef32-57b6f8fd2344"
      },
      "outputs": [
        {
          "output_type": "stream",
          "name": "stdout",
          "text": [
            "57\n",
            "0.2578390429251129\n"
          ]
        }
      ],
      "source": [
        "import numpy as np\n",
        "\n",
        "f1 = 2*(precision*recall) / (precision + recall)\n",
        "best_f1_index = f1.argmax()\n",
        "best_threshold = thresholds[best_f1_index]\n",
        "\n",
        "print(best_f1_index)\n",
        "print(best_threshold)"
      ]
    },
    {
      "cell_type": "markdown",
      "metadata": {
        "id": "UCqJqOxuueRY"
      },
      "source": [
        "Отобразите новый порог на графике:"
      ]
    },
    {
      "cell_type": "code",
      "execution_count": null,
      "metadata": {
        "id": "mIqBHcJaueRY",
        "colab": {
          "base_uri": "https://localhost:8080/",
          "height": 433
        },
        "outputId": "3dc34b5a-f667-4529-c28b-af7e50b15a0f"
      },
      "outputs": [
        {
          "output_type": "display_data",
          "data": {
            "text/plain": [
              "<Figure size 640x480 with 1 Axes>"
            ],
            "image/png": "[encoded data removed]"
          },
          "metadata": {}
        }
      ],
      "source": [
        "sns.histplot(df_tmp)\n",
        "plt.axvline(x=thresholds[best_f1_index], c=\"r\", linestyle=\"--\")\n",
        "plt.show()"
      ]
    },
    {
      "cell_type": "markdown",
      "metadata": {
        "id": "1S2Ep-MXueRY"
      },
      "source": [
        "Посчитайте `classification_report` с новым порогом:"
      ]
    },
    {
      "cell_type": "code",
      "execution_count": null,
      "metadata": {
        "id": "KZPSGadGueRY"
      },
      "outputs": [],
      "source": [
        "df_tmp['y_pred_best'] = # Your code here\n",
        "\n",
        "# Your code here"
      ]
    },
    {
      "cell_type": "markdown",
      "metadata": {
        "id": "NgaIZtohueRY"
      },
      "source": [
        "# Задание 4. Реализация k-NN"
      ]
    },
    {
      "cell_type": "markdown",
      "metadata": {
        "id": "yvrOEDhZueRY"
      },
      "source": [
        "В этом задании мы поработаем в концепии ОПП (Объектно-Ориентированного Программирования).  Реализуйте алгоритм k-NN для изображений и примените его.\n",
        "\n",
        "[ООП на Python: концепции, принципы и примеры реализации](https://proglib.io/p/python-oop)\n"
      ]
    },
    {
      "cell_type": "markdown",
      "metadata": {
        "id": "LZUCqMNtueRY"
      },
      "source": [
        "Импорт необходимых библиотек:"
      ]
    },
    {
      "cell_type": "code",
      "execution_count": null,
      "metadata": {
        "id": "fQ6gM3p-ueRY"
      },
      "outputs": [],
      "source": [
        "import numpy as np\n",
        "from scipy.stats import mode\n",
        "from torchvision import datasets\n",
        "from sklearn.neighbors import KNeighborsClassifier\n",
        "from sklearn.model_selection import train_test_split"
      ]
    },
    {
      "cell_type": "markdown",
      "metadata": {
        "id": "VGnUYVwtueRZ"
      },
      "source": [
        "Функция, которая считает расстояние L1 между 2-мя векторами:"
      ]
    },
    {
      "cell_type": "code",
      "execution_count": null,
      "metadata": {
        "id": "1yEfCrZjueRZ"
      },
      "outputs": [],
      "source": [
        "def compute_L1(a, b):\n",
        "    return  # Your code here"
      ]
    },
    {
      "cell_type": "markdown",
      "metadata": {
        "id": "O5QXYfVDueRZ"
      },
      "source": [
        "Загрузите датасет CIFAR-10 и разбейте его на тренировочный, валидационный и тестовый наборы. Укажите аргументы `random_state=42`, `stratify`."
      ]
    },
    {
      "cell_type": "code",
      "execution_count": null,
      "metadata": {
        "id": "xyLQEVleueRZ"
      },
      "outputs": [],
      "source": [
        "dataset = datasets.CIFAR10(\"content\", train=True, download=True)\n",
        "\n",
        "np.random.seed(42)\n",
        "data, _, labels, _ = train_test_split(\n",
        "    dataset.data / 255,  # Normalize\n",
        "    np.array(dataset.targets),\n",
        "    train_size=0.1,  # get only fraction of the dataset\n",
        "    random_state=42,\n",
        "    stratify=dataset.targets,\n",
        ")\n",
        "\n",
        "# Your code here"
      ]
    },
    {
      "cell_type": "markdown",
      "metadata": {
        "id": "GEuY0unUueRZ"
      },
      "source": [
        "Создайте класс k-NN и реализуйте его методы."
      ]
    },
    {
      "cell_type": "code",
      "execution_count": null,
      "metadata": {
        "id": "Y5ic2nreueRZ"
      },
      "outputs": [],
      "source": [
        "class kNN:\n",
        "    def __init__(self, k, distance_func):\n",
        "        self.k = # Your code here\n",
        "        self.distance_func = # Your code here\n",
        "\n",
        "    def fit(self, x, y):\n",
        "        self.train_data = # Your code here\n",
        "        self.train_labels = # Your code here\n",
        "\n",
        "    def predict(self, x):\n",
        "        distances = self.compute_distances(x)\n",
        "        indexes = np.argsort(distances, axis=1)[:, :self.k]\n",
        "        labels_of_top_classes = self.train_labels[indexes]\n",
        "        predicted_class, _ = mode(labels_of_top_classes, axis=1, keepdims=True)\n",
        "        return predicted_class.flatten()\n",
        "\n",
        "    def compute_distances(self, test):\n",
        "        # Your code here\n",
        "\n",
        "        return distances"
      ]
    },
    {
      "cell_type": "code",
      "execution_count": null,
      "metadata": {
        "id": "ps6o8dnDueRZ"
      },
      "outputs": [],
      "source": [
        "kNN_classifier = kNN(k=1, distance_func=compute_L1)\n",
        "kNN_classifier.fit(x=x_train, y=y_train)\n",
        "out = kNN_classifier.predict(x_test)"
      ]
    },
    {
      "cell_type": "code",
      "execution_count": null,
      "metadata": {
        "id": "gc16d8vmueRZ"
      },
      "outputs": [],
      "source": [
        "np.mean(y_test == out)"
      ]
    },
    {
      "cell_type": "markdown",
      "metadata": {
        "id": "XPRctywzueRa"
      },
      "source": [
        "Сравните время работы вашей реализации и реализации из sklearn. Используйте `%%time`."
      ]
    },
    {
      "cell_type": "code",
      "execution_count": null,
      "metadata": {
        "id": "o4xf-DUcueRa"
      },
      "outputs": [],
      "source": [
        "# Your code here"
      ]
    },
    {
      "cell_type": "code",
      "execution_count": null,
      "metadata": {
        "id": "-WnQycicueRa"
      },
      "outputs": [],
      "source": [
        "# Your code here"
      ]
    },
    {
      "cell_type": "code",
      "execution_count": null,
      "metadata": {
        "id": "H2zmftsRueRa"
      },
      "outputs": [],
      "source": [
        "# Your code here"
      ]
    },
    {
      "cell_type": "markdown",
      "metadata": {
        "id": "j_LS0wx_ueRa"
      },
      "source": [
        "**Оптимальный k-NN. Погружение в ООП**\n",
        "\n",
        "Эта часть задания даёт дополнительные баллы и не обязательна к выполнению.\n",
        "\n",
        "* Реализуйте выбор ближайших соседей эффективно. Можно сделать [KD дерево](https://scikit-learn.org/stable/modules/generated/sklearn.neighbors.KDTree.html#sklearn.neighbors.KDTree), таким образом мы приблизимся к библиотечной реализации.\n",
        "\n",
        "   [[wiki] K-d tree](https://en.m.wikipedia.org/wiki/K-d_tree).\n",
        "\n",
        "   Сравните по эффективности как с исходной (простой) реализацией, так и с библиотечной.\n",
        "\n",
        "* *Примечание*. Предполагается, что вы самостоятельно реализуете алгоритм."
      ]
    },
    {
      "cell_type": "markdown",
      "metadata": {
        "id": "g6pnNZWaueRa"
      },
      "source": [
        "На практике метод ближайших соседей для классификации используется редко.\n",
        "Проблема заключается в следующем.\n",
        "\n",
        "Предположим, что точность классификации нас устраивает. Применим k-NN на больших данных (e.g. миллион картинок). Для определения класса каждой из картинок необходимо сравнить ее со всеми другими картинками в базе данных, а такие расчеты, даже в существенно оптимизированном виде, занимают много времени.\n",
        "\n",
        "Тем не менее, метод ближайших соседей используется в других задачах, где без него обойтись сложно. Например, **в задаче распознавания лиц**. Представим, что у нас есть большая база данных с фотографиями лиц (например, по 5 разных фотографий всех сотрудников, которые работают в офисном здании) и есть камера, установленная на входе в это здание. Мы хотим узнать, кто и во сколько пришел на работу. Для того, чтобы понять, кто прошел перед камерой, нам нужно зафиксировать лицо этого человека и сравнить его со всеми фотографиями лиц в базе. В такой формулировке мы не пытаемся определить конкретный класс фотографии, а всего лишь определяем **“похож-не похож”**. Мы смотрим на k ближайших соседей, и если из k соседей, 5 — это фотографии, например, Джеки Чана, то, скорее всего, под камерой прошел именно он.\n",
        "\n"
      ]
    },
    {
      "cell_type": "markdown",
      "metadata": {
        "id": "zXejZuQsueRa"
      },
      "source": [
        "Примеры эффективной реализации метода на основе k-NN:\n",
        "* [[git] 🐾 Facebook AI Research Similarity Search](https://github.com/facebookresearch/faiss) – разработка команды Facebook AI Research для быстрого поиска ближайших соседей и кластеризации в векторном пространстве. Высокая скорость поиска позволяет работать с очень большими данными – до нескольких миллиардов векторов.\n",
        "* [[arxiv] 🎓 Hierarchical Navigable Small World](https://arxiv.org/abs/1603.09320) — алгоритм поиска ближайших соседей."
      ]
    },
    {
      "cell_type": "code",
      "execution_count": null,
      "metadata": {
        "id": "30sZJmuwueRa"
      },
      "outputs": [],
      "source": [
        "# Your code here"
      ]
    },
    {
      "cell_type": "markdown",
      "metadata": {
        "id": "yO9BJChWueRa"
      },
      "source": [
        "## Формат результата"
      ]
    },
    {
      "cell_type": "markdown",
      "metadata": {
        "id": "p_kIFBrlueRb"
      },
      "source": [
        "Демонстрация времени работы вашей реализации и реализации из sklearn (с помощью %%time)"
      ]
    }
  ],
  "metadata": {
    "colab": {
      "provenance": []
    },
    "language_info": {
      "name": "python"
    },
    "kernelspec": {
      "name": "python3",
      "display_name": "Python 3"
    }
  },
  "nbformat": 4,
  "nbformat_minor": 0
}