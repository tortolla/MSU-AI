{
  "cells": [
    {
      "cell_type": "markdown",
      "metadata": {
        "id": "oCJk8auj_L-o"
      },
      "source": [
        "# Задание 1. Bootstrap"
      ]
    },
    {
      "cell_type": "markdown",
      "metadata": {
        "id": "QzqNa5aD_L-q"
      },
      "source": [
        "В этом задании используйте датасет breast_cancer — классический датасет для задачи бинарной классификации. Обучите модели:\n",
        "\n",
        " - `DecisionTreeClassifier`\n",
        " - `RandomForestClassifier`\n",
        " - `LGBMClassifier`\n",
        " - `SVC`\n",
        " - `BaggingClassifier` с базовым класификатором `SVC`.\n",
        "\n",
        "Параметры моделей можете оставить по умолчанию или задать сами.\n",
        "\n",
        "Для каждой модели посчитайте [корреляцию Мэтьюса](https://en.wikipedia.org/wiki/Phi_coefficient) — метрику для оценки качества бинарной классификации, в частности, устойчивую к дисбалансу классов, ([`sklearn.metrics.matthews_corrcoef`](https://scikit-learn.org/stable/modules/generated/sklearn.metrics.matthews_corrcoef.html), подробнее почитать про его пользу можно [здесь](https://bmcgenomics.biomedcentral.com/articles/10.1186/s12864-019-6413-7)) — для предсказанного ею класса и реального.\n",
        "\n",
        "С помощью bootstrap-подхода постройте 90% доверительные интервалы для качества полученных моделей. Используйте функцию `bootstrap_metric()` из лекции.\n",
        "\n",
        "Постройте [боксплоты](https://seaborn.pydata.org/generated/seaborn.boxplot.html) для качества полученных моделей."
      ]
    },
    {
      "cell_type": "markdown",
      "metadata": {
        "id": "1OuwCLwR_L-r"
      },
      "source": [
        "Импорт необходимых библиотек:"
      ]
    },
    {
      "cell_type": "code",
      "execution_count": 1,
      "metadata": {
        "id": "l6AGmVg-_L-s"
      },
      "outputs": [],
      "source": [
        "import lightgbm\n",
        "import numpy as np\n",
        "import pandas as pd\n",
        "import seaborn as sns\n",
        "import sklearn.datasets\n",
        "import matplotlib.pyplot as plt\n",
        "\n",
        "from sklearn.svm import SVC\n",
        "from sklearn.metrics import matthews_corrcoef\n",
        "from sklearn.tree import DecisionTreeClassifier\n",
        "from sklearn.model_selection import train_test_split\n",
        "from sklearn.ensemble import RandomForestClassifier, BaggingClassifier"
      ]
    },
    {
      "cell_type": "markdown",
      "metadata": {
        "id": "sRLP5RHX_L-t"
      },
      "source": [
        "Загрузка датасета:"
      ]
    },
    {
      "cell_type": "code",
      "execution_count": 2,
      "metadata": {
        "id": "tmJi-uUx_L-t",
        "colab": {
          "base_uri": "https://localhost:8080/"
        },
        "outputId": "95587860-4449-42fb-e309-578fb787ab96"
      },
      "outputs": [
        {
          "output_type": "stream",
          "name": "stdout",
          "text": [
            ".. _breast_cancer_dataset:\n",
            "\n",
            "Breast cancer wisconsin (diagnostic) dataset\n",
            "--------------------------------------------\n",
            "\n",
            "**Data Set Characteristics:**\n",
            "\n",
            "    :Number of Instances: 569\n",
            "\n",
            "    :Number of Attributes: 30 numeric, predictive attributes and the class\n",
            "\n",
            "    :Attribute Information:\n",
            "        - radius (mean of distances from center to points on the perimeter)\n",
            "        - texture (standard deviation of gray-scale values)\n",
            "        - perimeter\n",
            "        - area\n",
            "        - smoothness (local variation in radius lengths)\n",
            "        - compactness (perimeter^2 / area - 1.0)\n",
            "        - concavity (severity of concave portions of the contour)\n",
            "        - concave points (number of concave portions of the contour)\n",
            "        - symmetry\n",
            "        - fractal dimension (\"coastline approximation\" - 1)\n",
            "\n",
            "        The mean, standard error, and \"worst\" or largest (mean of the three\n",
            "        worst/largest values) of these features were computed for each image,\n",
            "        resulting in 30 features.  For instance, field 0 is Mean Radius, field\n",
            "        10 is Radius SE, field 20 is Worst Radius.\n",
            "\n",
            "        - class:\n",
            "                - WDBC-Malignant\n",
            "                - WDBC-Benign\n",
            "\n",
            "    :Summary Statistics:\n",
            "\n",
            "    ===================================== ====== ======\n",
            "                                           Min    Max\n",
            "    ===================================== ====== ======\n",
            "    radius (mean):                        6.981  28.11\n",
            "    texture (mean):                       9.71   39.28\n",
            "    perimeter (mean):                     43.79  188.5\n",
            "    area (mean):                          143.5  2501.0\n",
            "    smoothness (mean):                    0.053  0.163\n",
            "    compactness (mean):                   0.019  0.345\n",
            "    concavity (mean):                     0.0    0.427\n",
            "    concave points (mean):                0.0    0.201\n",
            "    symmetry (mean):                      0.106  0.304\n",
            "    fractal dimension (mean):             0.05   0.097\n",
            "    radius (standard error):              0.112  2.873\n",
            "    texture (standard error):             0.36   4.885\n",
            "    perimeter (standard error):           0.757  21.98\n",
            "    area (standard error):                6.802  542.2\n",
            "    smoothness (standard error):          0.002  0.031\n",
            "    compactness (standard error):         0.002  0.135\n",
            "    concavity (standard error):           0.0    0.396\n",
            "    concave points (standard error):      0.0    0.053\n",
            "    symmetry (standard error):            0.008  0.079\n",
            "    fractal dimension (standard error):   0.001  0.03\n",
            "    radius (worst):                       7.93   36.04\n",
            "    texture (worst):                      12.02  49.54\n",
            "    perimeter (worst):                    50.41  251.2\n",
            "    area (worst):                         185.2  4254.0\n",
            "    smoothness (worst):                   0.071  0.223\n",
            "    compactness (worst):                  0.027  1.058\n",
            "    concavity (worst):                    0.0    1.252\n",
            "    concave points (worst):               0.0    0.291\n",
            "    symmetry (worst):                     0.156  0.664\n",
            "    fractal dimension (worst):            0.055  0.208\n",
            "    ===================================== ====== ======\n",
            "\n",
            "    :Missing Attribute Values: None\n",
            "\n",
            "    :Class Distribution: 212 - Malignant, 357 - Benign\n",
            "\n",
            "    :Creator:  Dr. William H. Wolberg, W. Nick Street, Olvi L. Mangasarian\n",
            "\n",
            "    :Donor: Nick Street\n",
            "\n",
            "    :Date: November, 1995\n",
            "\n",
            "This is a copy of UCI ML Breast Cancer Wisconsin (Diagnostic) datasets.\n",
            "https://goo.gl/U2Uwz2\n",
            "\n",
            "Features are computed from a digitized image of a fine needle\n",
            "aspirate (FNA) of a breast mass.  They describe\n",
            "characteristics of the cell nuclei present in the image.\n",
            "\n",
            "Separating plane described above was obtained using\n",
            "Multisurface Method-Tree (MSM-T) [K. P. Bennett, \"Decision Tree\n",
            "Construction Via Linear Programming.\" Proceedings of the 4th\n",
            "Midwest Artificial Intelligence and Cognitive Science Society,\n",
            "pp. 97-101, 1992], a classification method which uses linear\n",
            "programming to construct a decision tree.  Relevant features\n",
            "were selected using an exhaustive search in the space of 1-4\n",
            "features and 1-3 separating planes.\n",
            "\n",
            "The actual linear program used to obtain the separating plane\n",
            "in the 3-dimensional space is that described in:\n",
            "[K. P. Bennett and O. L. Mangasarian: \"Robust Linear\n",
            "Programming Discrimination of Two Linearly Inseparable Sets\",\n",
            "Optimization Methods and Software 1, 1992, 23-34].\n",
            "\n",
            "This database is also available through the UW CS ftp server:\n",
            "\n",
            "ftp ftp.cs.wisc.edu\n",
            "cd math-prog/cpo-dataset/machine-learn/WDBC/\n",
            "\n",
            ".. topic:: References\n",
            "\n",
            "   - W.N. Street, W.H. Wolberg and O.L. Mangasarian. Nuclear feature extraction \n",
            "     for breast tumor diagnosis. IS&T/SPIE 1993 International Symposium on \n",
            "     Electronic Imaging: Science and Technology, volume 1905, pages 861-870,\n",
            "     San Jose, CA, 1993.\n",
            "   - O.L. Mangasarian, W.N. Street and W.H. Wolberg. Breast cancer diagnosis and \n",
            "     prognosis via linear programming. Operations Research, 43(4), pages 570-577, \n",
            "     July-August 1995.\n",
            "   - W.H. Wolberg, W.N. Street, and O.L. Mangasarian. Machine learning techniques\n",
            "     to diagnose breast cancer from fine-needle aspirates. Cancer Letters 77 (1994) \n",
            "     163-171.\n"
          ]
        }
      ],
      "source": [
        "breast_cancer = sklearn.datasets.load_breast_cancer()\n",
        "print(breast_cancer.DESCR)"
      ]
    },
    {
      "cell_type": "code",
      "execution_count": 12,
      "metadata": {
        "id": "u4CfL6Zd_L-t"
      },
      "outputs": [],
      "source": [
        "x = breast_cancer.data\n",
        "y = breast_cancer.target\n",
        "x_train, x_test, y_train, y_test = train_test_split(x, y, random_state=42)"
      ]
    },
    {
      "cell_type": "code",
      "execution_count": 11,
      "metadata": {
        "id": "uLajZTGN_L-t",
        "colab": {
          "base_uri": "https://localhost:8080/"
        },
        "outputId": "027815bc-e2ab-4f18-92cb-ec754eb03a83"
      },
      "outputs": [
        {
          "output_type": "stream",
          "name": "stdout",
          "text": [
            "0.8548351525379624\n"
          ]
        }
      ],
      "source": [
        "clc = SVC(random_state=0)\n",
        "clf.fit(x_train, y_train)\n",
        "y_pred1 = clf.predict(x_test)\n",
        "print(matthews_corrcoef(y_test, y_pred1))"
      ]
    },
    {
      "cell_type": "code",
      "source": [
        "clf = DecisionTreeClassifier(random_state=0)\n",
        "clf.fit(x_train, y_train)\n",
        "y_pred2 = clf.predict(x_test)\n",
        "\n",
        "print(matthews_corrcoef(y_test, y_pred2))"
      ],
      "metadata": {
        "colab": {
          "base_uri": "https://localhost:8080/"
        },
        "id": "eTd2GU1gHaph",
        "outputId": "60721442-2461-4c5a-d721-edf783581b68"
      },
      "execution_count": 13,
      "outputs": [
        {
          "output_type": "stream",
          "name": "stdout",
          "text": [
            "0.8548351525379624\n"
          ]
        }
      ]
    },
    {
      "cell_type": "code",
      "source": [
        "from sklearn.ensemble import RandomForestClassifier\n",
        "\n",
        "clf = RandomForestClassifier(max_depth=2, random_state=0)\n",
        "clf.fit(x_train, y_train)\n",
        "y_pred3 = clf.predict(x_test)\n",
        "\n",
        "print(matthews_corrcoef(y_test, y_pred3))"
      ],
      "metadata": {
        "colab": {
          "base_uri": "https://localhost:8080/"
        },
        "id": "Bep2OVWEHz4n",
        "outputId": "8df496ef-764c-4be7-fdad-cd34563ed375"
      },
      "execution_count": 15,
      "outputs": [
        {
          "output_type": "stream",
          "name": "stdout",
          "text": [
            "0.940477037066757\n"
          ]
        }
      ]
    },
    {
      "cell_type": "code",
      "source": [
        "from sklearn.ensemble import BaggingClassifier\n",
        "\n",
        "\n",
        "clf = BaggingClassifier(n_estimators=10, random_state=0).fit(x_train, y_train)\n",
        "y_pred4 = clf.predict(x_test)\n",
        "\n",
        "print(matthews_corrcoef(y_test, y_pred4))"
      ],
      "metadata": {
        "colab": {
          "base_uri": "https://localhost:8080/"
        },
        "id": "ghE1lMKVIcBD",
        "outputId": "3dc877fb-8cac-40c4-d2eb-91334ebfb769"
      },
      "execution_count": 17,
      "outputs": [
        {
          "output_type": "stream",
          "name": "stdout",
          "text": [
            "0.8822275826137275\n"
          ]
        }
      ]
    },
    {
      "cell_type": "code",
      "source": [
        "def bootstrap_metric(x, y, metric_fn, samples_cnt=1000, random_state=42):\n",
        "    np.random.seed(random_state)\n",
        "    b_metric = np.zeros(samples_cnt)\n",
        "    for it in range(samples_cnt):\n",
        "        poses = np.random.choice(x.shape[0], size=x.shape[0], replace=True)\n",
        "\n",
        "        x_boot = x[poses]\n",
        "        y_boot = y[poses]\n",
        "        m_val = metric_fn(x_boot, y_boot)\n",
        "        b_metric[it] = m_val\n",
        "\n",
        "    return b_metric"
      ],
      "metadata": {
        "id": "YB_IIwfuJMMg"
      },
      "execution_count": 18,
      "outputs": []
    },
    {
      "cell_type": "code",
      "source": [
        "boot_f1score_m1 = bootstrap_metric(\n",
        "    y_test, y_pred1, metric_fn=lambda x, y: matthews_corrcoef(y_true=x, y_pred=y)\n",
        ")\n",
        "boot_f1score_m2 = bootstrap_metric(\n",
        "    y_test, y_pred2, metric_fn=lambda x, y: matthews_corrcoef(y_true=x, y_pred=y)\n",
        ")\n",
        "boot_f1score_m3 = bootstrap_metric(\n",
        "    y_test, y_pred3, metric_fn=lambda x, y: matthews_corrcoef(y_true=x, y_pred=y)\n",
        ")\n",
        "boot_f1score_m4 = bootstrap_metric(\n",
        "    y_test, y_pred4, metric_fn=lambda x, y: matthews_corrcoef(y_true=x, y_pred=y)\n",
        ")"
      ],
      "metadata": {
        "id": "il2f5ocILxkH"
      },
      "execution_count": 19,
      "outputs": []
    },
    {
      "cell_type": "code",
      "source": [
        "alpha = 0.10\n",
        "print(\n",
        "    \"matthews_corrcoef score for the 1st model: \",\n",
        "    np.quantile(boot_f1score_m1, q=[alpha / 2, 1 - alpha / 2]),\n",
        ")\n",
        "print(\n",
        "    \"matthews_corrcoef score for the 2st model: \",\n",
        "    np.quantile(boot_f1score_m2, q=[alpha / 2, 1 - alpha / 2]),\n",
        ")\n",
        "print(\n",
        "    \"matthews_corrcoef score for the 3st model: \",\n",
        "    np.quantile(boot_f1score_m3, q=[alpha / 2, 1 - alpha / 2]),\n",
        ")\n",
        "print(\n",
        "    \"matthews_corrcoef score for the 4st model: \",\n",
        "    np.quantile(boot_f1score_m4, q=[alpha / 2, 1 - alpha / 2]),\n",
        ")"
      ],
      "metadata": {
        "colab": {
          "base_uri": "https://localhost:8080/"
        },
        "id": "e6ujiYZHNMRP",
        "outputId": "b5eeb88c-5a82-4600-f1d8-4766896aeed5"
      },
      "execution_count": 20,
      "outputs": [
        {
          "output_type": "stream",
          "name": "stdout",
          "text": [
            "matthews_corrcoef score for the 1st model:  [0.77790878 0.92734472]\n",
            "matthews_corrcoef score for the 2st model:  [0.77790878 0.92734472]\n",
            "matthews_corrcoef score for the 3st model:  [0.88953352 0.98517822]\n",
            "matthews_corrcoef score for the 4st model:  [0.81296945 0.94345159]\n"
          ]
        }
      ]
    },
    {
      "cell_type": "code",
      "source": [
        "import pandas as pd\n",
        "\n",
        "\n",
        "plt.figure(figsize=(16, 6))\n",
        "sns.boxplot(\n",
        "    data=pd.DataFrame(\n",
        "        {\n",
        "            \"SVC\": boot_f1score_m1,\n",
        "            \"DecisionTreeClassifier\": boot_f1score_m2,\n",
        "            \"RandomForestClassifier\": boot_f1score_m3,\n",
        "            \"BaggingClassifier\":boot_f1score_m4,\n",
        "        }\n",
        "    )\n",
        ")\n",
        "plt.ylabel(\"f1 score\", size=20)\n",
        "plt.tick_params(axis=\"both\", which=\"major\", labelsize=14)\n",
        "plt.show()"
      ],
      "metadata": {
        "colab": {
          "base_uri": "https://localhost:8080/",
          "height": 527
        },
        "id": "FclghPj3NVBW",
        "outputId": "cd245d00-4fff-4d60-ccf8-797bf6fb52a1"
      },
      "execution_count": 21,
      "outputs": [
        {
          "output_type": "display_data",
          "data": {
            "text/plain": [
              "<Figure size 1600x600 with 1 Axes>"
            ],
            "image/png": "[encoded data removed]"
          },
          "metadata": {}
        }
      ]
    },
    {
      "cell_type": "markdown",
      "source": [
        "Очевидно лучшей моделью в рамках данной задачи является RandomForestClassifier - так как у него высокая точность"
      ],
      "metadata": {
        "id": "Ru5DNEhXODhV"
      }
    },
    {
      "cell_type": "markdown",
      "metadata": {
        "id": "1_XBPRko_L-u"
      },
      "source": [
        "Сделайте вывод о том, какие модели работают лучше.\n",
        "\n",
        "**Напишите вывод**"
      ]
    },
    {
      "cell_type": "markdown",
      "metadata": {
        "id": "U8BE7IA__L-u"
      },
      "source": [
        "## Формат результата"
      ]
    },
    {
      "cell_type": "markdown",
      "metadata": {
        "id": "ax4gJpvn_L-u"
      },
      "source": [
        "График с демонстрацией корреляции Мэтьюса для следующих моделей:\n",
        "\n",
        " - `DecisionTreeClassifier`\n",
        " - `RandomForestClassifier`\n",
        " - `LGBMClassifier`\n",
        " - `SVC`\n",
        " - `BaggingClassifier` с базовым класификатором `SVC`\n",
        "\n",
        "Пример графика:"
      ]
    },
    {
      "cell_type": "markdown",
      "metadata": {
        "id": "iL2V_LlY_L-u"
      },
      "source": [
        "<img src =\"https://edunet.kea.su/repo/EduNet-web_dependencies/dev-2.1/Exercises/EX03/result_1_task_ex03.png\" width=\"600\">"
      ]
    },
    {
      "cell_type": "markdown",
      "metadata": {
        "id": "jIrtNaMs_L-u"
      },
      "source": [
        "# Задание 2. Дисбаланс классов"
      ]
    },
    {
      "cell_type": "markdown",
      "metadata": {
        "id": "NUU-I1xj_L-v"
      },
      "source": [
        "Установка и импорт необходимых библиотек:"
      ]
    },
    {
      "cell_type": "code",
      "execution_count": 22,
      "metadata": {
        "id": "JNuDokY__L-v",
        "colab": {
          "base_uri": "https://localhost:8080/"
        },
        "outputId": "150da318-d0ff-4cb8-cb85-a41e12d666d5"
      },
      "outputs": [
        {
          "output_type": "stream",
          "name": "stdout",
          "text": [
            "\u001b[?25l     \u001b[90m━━━━━━━━━━━━━━━━━━━━━━━━━━━━━━━━━━━━━━━━\u001b[0m \u001b[32m0.0/257.7 kB\u001b[0m \u001b[31m?\u001b[0m eta \u001b[36m-:--:--\u001b[0m\r\u001b[2K     \u001b[91m━━━━━━━━━━━━━━━━━━━━━━━━━━━━━━━━━━━━━━━\u001b[0m\u001b[91m╸\u001b[0m \u001b[32m256.0/257.7 kB\u001b[0m \u001b[31m7.5 MB/s\u001b[0m eta \u001b[36m0:00:01\u001b[0m\r\u001b[2K     \u001b[90m━━━━━━━━━━━━━━━━━━━━━━━━━━━━━━━━━━━━━━━━\u001b[0m \u001b[32m257.7/257.7 kB\u001b[0m \u001b[31m5.6 MB/s\u001b[0m eta \u001b[36m0:00:00\u001b[0m\n",
            "\u001b[?25h"
          ]
        }
      ],
      "source": [
        "!pip install -qU imbalanced-learn"
      ]
    },
    {
      "cell_type": "code",
      "execution_count": 23,
      "metadata": {
        "id": "lzfIl7yy_L-v"
      },
      "outputs": [],
      "source": [
        "import imblearn\n",
        "import numpy as np\n",
        "import pandas as pd\n",
        "import seaborn as sns\n",
        "import matplotlib.pyplot as plt\n",
        "\n",
        "from sklearn.ensemble import RandomForestClassifier\n",
        "from sklearn.metrics import accuracy_score, balanced_accuracy_score\n",
        "from sklearn.model_selection import (\n",
        "    train_test_split,\n",
        "    KFold,\n",
        "    StratifiedKFold,\n",
        "    cross_validate,\n",
        ")"
      ]
    },
    {
      "cell_type": "markdown",
      "metadata": {
        "id": "QpQjW-7s_L-v"
      },
      "source": [
        "Важно обращать внимание на сбалансированность классов в наборе.\n",
        "Предположим, у нас есть некоторый набор данных со следующими метками классов:"
      ]
    },
    {
      "cell_type": "code",
      "execution_count": 24,
      "metadata": {
        "id": "ARFRXXaZ_L-v"
      },
      "outputs": [],
      "source": [
        "real_labels = [1, 0, 1, 0, 0, 0, 0, 1, 0, 0, 0, 0, 1, 0, 0, 1, 0, 0, 0, 0, 0]"
      ]
    },
    {
      "cell_type": "markdown",
      "metadata": {
        "id": "iM42q9Dr_L-w"
      },
      "source": [
        "В наборе 16 объектов относятся к классу 0, а 5 — к классу 1.\n",
        "\n",
        "Мы обучили две модели. Первая всегда выдает 0:"
      ]
    },
    {
      "cell_type": "code",
      "execution_count": 25,
      "metadata": {
        "id": "A1JtGeAG_L-w"
      },
      "outputs": [],
      "source": [
        "model1_res = [0, 0, 0, 0, 0, 0, 0, 0, 0, 0, 0, 0, 0, 0, 0, 0, 0, 0, 0, 0, 0]"
      ]
    },
    {
      "cell_type": "markdown",
      "metadata": {
        "id": "FrJ5s01-_L-w"
      },
      "source": [
        "Вторая сумела обнаружить некоторую закономерность в признаках:"
      ]
    },
    {
      "cell_type": "code",
      "execution_count": 26,
      "metadata": {
        "id": "VLpm4AYl_L-w"
      },
      "outputs": [],
      "source": [
        "model2_res = [1, 0, 1, 1, 0, 0, 0, 0, 1, 0, 0, 0, 1, 0, 0, 1, 0, 0, 1, 0, 1]"
      ]
    },
    {
      "cell_type": "markdown",
      "metadata": {
        "id": "YLt9LiYO_L-w"
      },
      "source": [
        "Рассчитаем точность Accuracy (см. лекцию 1) для этих моделей:"
      ]
    },
    {
      "cell_type": "code",
      "execution_count": 27,
      "metadata": {
        "id": "vtpxpALK_L-w",
        "colab": {
          "base_uri": "https://localhost:8080/"
        },
        "outputId": "95edbc87-74fb-4a67-cd14-97eb4486676d"
      },
      "outputs": [
        {
          "output_type": "stream",
          "name": "stdout",
          "text": [
            "Accuracy for model1:  0.7619047619047619\n",
            "Accuracy for model2:  0.7619047619047619\n"
          ]
        }
      ],
      "source": [
        "print(\"Accuracy for model1: \", accuracy_score(real_labels, model1_res))\n",
        "print(\"Accuracy for model2: \", accuracy_score(real_labels, model2_res))"
      ]
    },
    {
      "cell_type": "markdown",
      "metadata": {
        "id": "pxjJ8M_6_L-x"
      },
      "source": [
        "Accuracy нельзя использовать, если данные не сбалансированы. Для несбалансированных данных необходимо использовать свои метрики и модели. Одной из таких метрик является balanced accuracy. При вычислении данной метрики считается полнота (recall) отдельно для каждого класса и вычисляется среднее значение:"
      ]
    },
    {
      "cell_type": "code",
      "execution_count": 28,
      "metadata": {
        "id": "0jlUtVhS_L-x",
        "colab": {
          "base_uri": "https://localhost:8080/"
        },
        "outputId": "820b134a-e843-4b4d-dac4-d2f5f925a9fa"
      },
      "outputs": [
        {
          "output_type": "stream",
          "name": "stdout",
          "text": [
            "Balanced accuracy for model1:  0.5\n",
            "Balanced accuracy for model2:  0.775\n"
          ]
        }
      ],
      "source": [
        "# Balanced accuracy for model1 = (16/16+0/5)/2 = 0.5\n",
        "print(\n",
        "    \"Balanced accuracy for model1: \", balanced_accuracy_score(real_labels, model1_res)\n",
        ")\n",
        "# Balanced accuracy for model2 = (12/16+4/5)/2 = 0.775\n",
        "print(\n",
        "    \"Balanced accuracy for model2: \", balanced_accuracy_score(real_labels, model2_res)\n",
        ")"
      ]
    },
    {
      "cell_type": "markdown",
      "metadata": {
        "id": "YR9OUFsx_L-x"
      },
      "source": [
        "**Всегда проверяйте**, являются ли ваши данные сбалансированными и могут ли выбранные для оценки модели метрики работать с несбалансированными классами."
      ]
    },
    {
      "cell_type": "markdown",
      "metadata": {
        "id": "zmAD1OTQ_L-x"
      },
      "source": [
        "Загрузим датасет с различными биомаркерами пациентов с меланомой (обезличенный, информации о пациентах нет) и переменной, содержащей 1, если пациент ответил на иммунотерапию (терапия помогла пациенту и произошло уменьшение размеров опухоли), и 0, если не ответил. Количество пациентов, отвечающих на терапию, сильно меньше пациентов, которым терапия не помогает, поэтому предсказание ответа пациента на терапию на основании биомаркеров — актуальная задача в онкологии. В данном задании вам предстоит попробовать её решить."
      ]
    },
    {
      "cell_type": "code",
      "execution_count": 29,
      "metadata": {
        "id": "HCljlYmR_L-x",
        "colab": {
          "base_uri": "https://localhost:8080/",
          "height": 320
        },
        "outputId": "96c21679-7698-4f3e-9db2-0f6666dfefac"
      },
      "outputs": [
        {
          "output_type": "display_data",
          "data": {
            "text/plain": [
              "                  IgG1/IgA      IL21     CXCL9    CXCL10      CD8A      GZMB  \\\n",
              "sample_id                                                                      \n",
              "SAM4b0175e8db6e   3.242746  0.001280 -0.002986 -0.036366  0.096658  0.063467   \n",
              "SAMd215b503f99a   2.139016 -0.000089  0.030495  0.243958  0.161128  0.565798   \n",
              "SAM7fb6987514a4  12.614972  0.008103  0.502043  0.530783  0.388455  0.528142   \n",
              "SAMd636e3461955   6.365973 -0.000139  0.024035  0.115127  0.084455  0.200038   \n",
              "SAMc0da5d48686d   2.764089  0.006107  0.015533  0.135470  0.067686  0.053499   \n",
              "\n",
              "                    KLRC2     KLRC3     KLRC4      GNLY       TGFB1  Response  \n",
              "sample_id                                                                      \n",
              "SAM4b0175e8db6e  0.502058 -0.083862  0.053659  0.091930   61.934119         0  \n",
              "SAMd215b503f99a -0.203495 -0.026902 -0.035405  0.030125  103.265837         0  \n",
              "SAM7fb6987514a4 -0.156209  0.001147 -0.028690  0.260703   53.552817         0  \n",
              "SAMd636e3461955 -0.387373 -0.057837  0.045938  0.073192   80.837318         0  \n",
              "SAMc0da5d48686d -0.116040  0.063714  0.088201  0.082940  114.422926         0  "
            ],
            "text/html": [
              "\n",
              "  <div id=\"df-857a8a1b-e358-46e2-9aab-3ba7bb25839d\" class=\"colab-df-container\">\n",
              "    <div>\n",
              "<style scoped>\n",
              "    .dataframe tbody tr th:only-of-type {\n",
              "        vertical-align: middle;\n",
              "    }\n",
              "\n",
              "    .dataframe tbody tr th {\n",
              "        vertical-align: top;\n",
              "    }\n",
              "\n",
              "    .dataframe thead th {\n",
              "        text-align: right;\n",
              "    }\n",
              "</style>\n",
              "<table border=\"1\" class=\"dataframe\">\n",
              "  <thead>\n",
              "    <tr style=\"text-align: right;\">\n",
              "      <th></th>\n",
              "      <th>IgG1/IgA</th>\n",
              "      <th>IL21</th>\n",
              "      <th>CXCL9</th>\n",
              "      <th>CXCL10</th>\n",
              "      <th>CD8A</th>\n",
              "      <th>GZMB</th>\n",
              "      <th>KLRC2</th>\n",
              "      <th>KLRC3</th>\n",
              "      <th>KLRC4</th>\n",
              "      <th>GNLY</th>\n",
              "      <th>TGFB1</th>\n",
              "      <th>Response</th>\n",
              "    </tr>\n",
              "    <tr>\n",
              "      <th>sample_id</th>\n",
              "      <th></th>\n",
              "      <th></th>\n",
              "      <th></th>\n",
              "      <th></th>\n",
              "      <th></th>\n",
              "      <th></th>\n",
              "      <th></th>\n",
              "      <th></th>\n",
              "      <th></th>\n",
              "      <th></th>\n",
              "      <th></th>\n",
              "      <th></th>\n",
              "    </tr>\n",
              "  </thead>\n",
              "  <tbody>\n",
              "    <tr>\n",
              "      <th>SAM4b0175e8db6e</th>\n",
              "      <td>3.242746</td>\n",
              "      <td>0.001280</td>\n",
              "      <td>-0.002986</td>\n",
              "      <td>-0.036366</td>\n",
              "      <td>0.096658</td>\n",
              "      <td>0.063467</td>\n",
              "      <td>0.502058</td>\n",
              "      <td>-0.083862</td>\n",
              "      <td>0.053659</td>\n",
              "      <td>0.091930</td>\n",
              "      <td>61.934119</td>\n",
              "      <td>0</td>\n",
              "    </tr>\n",
              "    <tr>\n",
              "      <th>SAMd215b503f99a</th>\n",
              "      <td>2.139016</td>\n",
              "      <td>-0.000089</td>\n",
              "      <td>0.030495</td>\n",
              "      <td>0.243958</td>\n",
              "      <td>0.161128</td>\n",
              "      <td>0.565798</td>\n",
              "      <td>-0.203495</td>\n",
              "      <td>-0.026902</td>\n",
              "      <td>-0.035405</td>\n",
              "      <td>0.030125</td>\n",
              "      <td>103.265837</td>\n",
              "      <td>0</td>\n",
              "    </tr>\n",
              "    <tr>\n",
              "      <th>SAM7fb6987514a4</th>\n",
              "      <td>12.614972</td>\n",
              "      <td>0.008103</td>\n",
              "      <td>0.502043</td>\n",
              "      <td>0.530783</td>\n",
              "      <td>0.388455</td>\n",
              "      <td>0.528142</td>\n",
              "      <td>-0.156209</td>\n",
              "      <td>0.001147</td>\n",
              "      <td>-0.028690</td>\n",
              "      <td>0.260703</td>\n",
              "      <td>53.552817</td>\n",
              "      <td>0</td>\n",
              "    </tr>\n",
              "    <tr>\n",
              "      <th>SAMd636e3461955</th>\n",
              "      <td>6.365973</td>\n",
              "      <td>-0.000139</td>\n",
              "      <td>0.024035</td>\n",
              "      <td>0.115127</td>\n",
              "      <td>0.084455</td>\n",
              "      <td>0.200038</td>\n",
              "      <td>-0.387373</td>\n",
              "      <td>-0.057837</td>\n",
              "      <td>0.045938</td>\n",
              "      <td>0.073192</td>\n",
              "      <td>80.837318</td>\n",
              "      <td>0</td>\n",
              "    </tr>\n",
              "    <tr>\n",
              "      <th>SAMc0da5d48686d</th>\n",
              "      <td>2.764089</td>\n",
              "      <td>0.006107</td>\n",
              "      <td>0.015533</td>\n",
              "      <td>0.135470</td>\n",
              "      <td>0.067686</td>\n",
              "      <td>0.053499</td>\n",
              "      <td>-0.116040</td>\n",
              "      <td>0.063714</td>\n",
              "      <td>0.088201</td>\n",
              "      <td>0.082940</td>\n",
              "      <td>114.422926</td>\n",
              "      <td>0</td>\n",
              "    </tr>\n",
              "  </tbody>\n",
              "</table>\n",
              "</div>\n",
              "    <div class=\"colab-df-buttons\">\n",
              "\n",
              "  <div class=\"colab-df-container\">\n",
              "    <button class=\"colab-df-convert\" onclick=\"convertToInteractive('df-857a8a1b-e358-46e2-9aab-3ba7bb25839d')\"\n",
              "            title=\"Convert this dataframe to an interactive table.\"\n",
              "            style=\"display:none;\">\n",
              "\n",
              "  <svg xmlns=\"http://www.w3.org/2000/svg\" height=\"24px\" viewBox=\"0 -960 960 960\">\n",
              "    <path d=\"M120-120v-720h720v720H120Zm60-500h600v-160H180v160Zm220 220h160v-160H400v160Zm0 220h160v-160H400v160ZM180-400h160v-160H180v160Zm440 0h160v-160H620v160ZM180-180h160v-160H180v160Zm440 0h160v-160H620v160Z\"/>\n",
              "  </svg>\n",
              "    </button>\n",
              "\n",
              "  <style>\n",
              "    .colab-df-container {\n",
              "      display:flex;\n",
              "      gap: 12px;\n",
              "    }\n",
              "\n",
              "    .colab-df-convert {\n",
              "      background-color: #E8F0FE;\n",
              "      border: none;\n",
              "      border-radius: 50%;\n",
              "      cursor: pointer;\n",
              "      display: none;\n",
              "      fill: #1967D2;\n",
              "      height: 32px;\n",
              "      padding: 0 0 0 0;\n",
              "      width: 32px;\n",
              "    }\n",
              "\n",
              "    .colab-df-convert:hover {\n",
              "      background-color: #E2EBFA;\n",
              "      box-shadow: 0px 1px 2px rgba(60, 64, 67, 0.3), 0px 1px 3px 1px rgba(60, 64, 67, 0.15);\n",
              "      fill: #174EA6;\n",
              "    }\n",
              "\n",
              "    .colab-df-buttons div {\n",
              "      margin-bottom: 4px;\n",
              "    }\n",
              "\n",
              "    [theme=dark] .colab-df-convert {\n",
              "      background-color: #3B4455;\n",
              "      fill: #D2E3FC;\n",
              "    }\n",
              "\n",
              "    [theme=dark] .colab-df-convert:hover {\n",
              "      background-color: #434B5C;\n",
              "      box-shadow: 0px 1px 3px 1px rgba(0, 0, 0, 0.15);\n",
              "      filter: drop-shadow(0px 1px 2px rgba(0, 0, 0, 0.3));\n",
              "      fill: #FFFFFF;\n",
              "    }\n",
              "  </style>\n",
              "\n",
              "    <script>\n",
              "      const buttonEl =\n",
              "        document.querySelector('#df-857a8a1b-e358-46e2-9aab-3ba7bb25839d button.colab-df-convert');\n",
              "      buttonEl.style.display =\n",
              "        google.colab.kernel.accessAllowed ? 'block' : 'none';\n",
              "\n",
              "      async function convertToInteractive(key) {\n",
              "        const element = document.querySelector('#df-857a8a1b-e358-46e2-9aab-3ba7bb25839d');\n",
              "        const dataTable =\n",
              "          await google.colab.kernel.invokeFunction('convertToInteractive',\n",
              "                                                    [key], {});\n",
              "        if (!dataTable) return;\n",
              "\n",
              "        const docLinkHtml = 'Like what you see? Visit the ' +\n",
              "          '<a target=\"_blank\" href=https://colab.research.google.com/notebooks/data_table.ipynb>data table notebook</a>'\n",
              "          + ' to learn more about interactive tables.';\n",
              "        element.innerHTML = '';\n",
              "        dataTable['output_type'] = 'display_data';\n",
              "        await google.colab.output.renderOutput(dataTable, element);\n",
              "        const docLink = document.createElement('div');\n",
              "        docLink.innerHTML = docLinkHtml;\n",
              "        element.appendChild(docLink);\n",
              "      }\n",
              "    </script>\n",
              "  </div>\n",
              "\n",
              "\n",
              "<div id=\"df-3c6f07b4-82cf-47f1-b925-277e5b49e4bb\">\n",
              "  <button class=\"colab-df-quickchart\" onclick=\"quickchart('df-3c6f07b4-82cf-47f1-b925-277e5b49e4bb')\"\n",
              "            title=\"Suggest charts\"\n",
              "            style=\"display:none;\">\n",
              "\n",
              "<svg xmlns=\"http://www.w3.org/2000/svg\" height=\"24px\"viewBox=\"0 0 24 24\"\n",
              "     width=\"24px\">\n",
              "    <g>\n",
              "        <path d=\"M19 3H5c-1.1 0-2 .9-2 2v14c0 1.1.9 2 2 2h14c1.1 0 2-.9 2-2V5c0-1.1-.9-2-2-2zM9 17H7v-7h2v7zm4 0h-2V7h2v10zm4 0h-2v-4h2v4z\"/>\n",
              "    </g>\n",
              "</svg>\n",
              "  </button>\n",
              "\n",
              "<style>\n",
              "  .colab-df-quickchart {\n",
              "      --bg-color: #E8F0FE;\n",
              "      --fill-color: #1967D2;\n",
              "      --hover-bg-color: #E2EBFA;\n",
              "      --hover-fill-color: #174EA6;\n",
              "      --disabled-fill-color: #AAA;\n",
              "      --disabled-bg-color: #DDD;\n",
              "  }\n",
              "\n",
              "  [theme=dark] .colab-df-quickchart {\n",
              "      --bg-color: #3B4455;\n",
              "      --fill-color: #D2E3FC;\n",
              "      --hover-bg-color: #434B5C;\n",
              "      --hover-fill-color: #FFFFFF;\n",
              "      --disabled-bg-color: #3B4455;\n",
              "      --disabled-fill-color: #666;\n",
              "  }\n",
              "\n",
              "  .colab-df-quickchart {\n",
              "    background-color: var(--bg-color);\n",
              "    border: none;\n",
              "    border-radius: 50%;\n",
              "    cursor: pointer;\n",
              "    display: none;\n",
              "    fill: var(--fill-color);\n",
              "    height: 32px;\n",
              "    padding: 0;\n",
              "    width: 32px;\n",
              "  }\n",
              "\n",
              "  .colab-df-quickchart:hover {\n",
              "    background-color: var(--hover-bg-color);\n",
              "    box-shadow: 0 1px 2px rgba(60, 64, 67, 0.3), 0 1px 3px 1px rgba(60, 64, 67, 0.15);\n",
              "    fill: var(--button-hover-fill-color);\n",
              "  }\n",
              "\n",
              "  .colab-df-quickchart-complete:disabled,\n",
              "  .colab-df-quickchart-complete:disabled:hover {\n",
              "    background-color: var(--disabled-bg-color);\n",
              "    fill: var(--disabled-fill-color);\n",
              "    box-shadow: none;\n",
              "  }\n",
              "\n",
              "  .colab-df-spinner {\n",
              "    border: 2px solid var(--fill-color);\n",
              "    border-color: transparent;\n",
              "    border-bottom-color: var(--fill-color);\n",
              "    animation:\n",
              "      spin 1s steps(1) infinite;\n",
              "  }\n",
              "\n",
              "  @keyframes spin {\n",
              "    0% {\n",
              "      border-color: transparent;\n",
              "      border-bottom-color: var(--fill-color);\n",
              "      border-left-color: var(--fill-color);\n",
              "    }\n",
              "    20% {\n",
              "      border-color: transparent;\n",
              "      border-left-color: var(--fill-color);\n",
              "      border-top-color: var(--fill-color);\n",
              "    }\n",
              "    30% {\n",
              "      border-color: transparent;\n",
              "      border-left-color: var(--fill-color);\n",
              "      border-top-color: var(--fill-color);\n",
              "      border-right-color: var(--fill-color);\n",
              "    }\n",
              "    40% {\n",
              "      border-color: transparent;\n",
              "      border-right-color: var(--fill-color);\n",
              "      border-top-color: var(--fill-color);\n",
              "    }\n",
              "    60% {\n",
              "      border-color: transparent;\n",
              "      border-right-color: var(--fill-color);\n",
              "    }\n",
              "    80% {\n",
              "      border-color: transparent;\n",
              "      border-right-color: var(--fill-color);\n",
              "      border-bottom-color: var(--fill-color);\n",
              "    }\n",
              "    90% {\n",
              "      border-color: transparent;\n",
              "      border-bottom-color: var(--fill-color);\n",
              "    }\n",
              "  }\n",
              "</style>\n",
              "\n",
              "  <script>\n",
              "    async function quickchart(key) {\n",
              "      const quickchartButtonEl =\n",
              "        document.querySelector('#' + key + ' button');\n",
              "      quickchartButtonEl.disabled = true;  // To prevent multiple clicks.\n",
              "      quickchartButtonEl.classList.add('colab-df-spinner');\n",
              "      try {\n",
              "        const charts = await google.colab.kernel.invokeFunction(\n",
              "            'suggestCharts', [key], {});\n",
              "      } catch (error) {\n",
              "        console.error('Error during call to suggestCharts:', error);\n",
              "      }\n",
              "      quickchartButtonEl.classList.remove('colab-df-spinner');\n",
              "      quickchartButtonEl.classList.add('colab-df-quickchart-complete');\n",
              "    }\n",
              "    (() => {\n",
              "      let quickchartButtonEl =\n",
              "        document.querySelector('#df-3c6f07b4-82cf-47f1-b925-277e5b49e4bb button');\n",
              "      quickchartButtonEl.style.display =\n",
              "        google.colab.kernel.accessAllowed ? 'block' : 'none';\n",
              "    })();\n",
              "  </script>\n",
              "</div>\n",
              "    </div>\n",
              "  </div>\n"
            ],
            "application/vnd.google.colaboratory.intrinsic+json": {
              "type": "dataframe",
              "summary": "{\n  \"name\": \"display(y\",\n  \"rows\": 5,\n  \"fields\": [\n    {\n      \"column\": \"sample_id\",\n      \"properties\": {\n        \"dtype\": \"string\",\n        \"num_unique_values\": 5,\n        \"samples\": [\n          \"SAMd215b503f99a\",\n          \"SAMc0da5d48686d\",\n          \"SAM7fb6987514a4\"\n        ],\n        \"semantic_type\": \"\",\n        \"description\": \"\"\n      }\n    },\n    {\n      \"column\": \"IgG1/IgA\",\n      \"properties\": {\n        \"dtype\": \"number\",\n        \"std\": 4.336516131030748,\n        \"min\": 2.1390162680442666,\n        \"max\": 12.614971518429773,\n        \"num_unique_values\": 5,\n        \"samples\": [\n          2.1390162680442666,\n          2.764088601964564,\n          12.614971518429773\n        ],\n        \"semantic_type\": \"\",\n        \"description\": \"\"\n      }\n    },\n    {\n      \"column\": \"IL21\",\n      \"properties\": {\n        \"dtype\": \"number\",\n        \"std\": 0.00380889617604994,\n        \"min\": -0.0001388498153087,\n        \"max\": 0.0081030209571419,\n        \"num_unique_values\": 5,\n        \"samples\": [\n          -8.893814644625583e-05,\n          0.0061065875078736,\n          0.0081030209571419\n        ],\n        \"semantic_type\": \"\",\n        \"description\": \"\"\n      }\n    },\n    {\n      \"column\": \"CXCL9\",\n      \"properties\": {\n        \"dtype\": \"number\",\n        \"std\": 0.21738547329753688,\n        \"min\": -0.0029863401619796,\n        \"max\": 0.5020432006016782,\n        \"num_unique_values\": 5,\n        \"samples\": [\n          0.0304946704036539,\n          0.0155327165946915,\n          0.5020432006016782\n        ],\n        \"semantic_type\": \"\",\n        \"description\": \"\"\n      }\n    },\n    {\n      \"column\": \"CXCL10\",\n      \"properties\": {\n        \"dtype\": \"number\",\n        \"std\": 0.211283092537428,\n        \"min\": -0.0363664642116282,\n        \"max\": 0.5307833290514908,\n        \"num_unique_values\": 5,\n        \"samples\": [\n          0.2439575071974413,\n          0.1354700642781154,\n          0.5307833290514908\n        ],\n        \"semantic_type\": \"\",\n        \"description\": \"\"\n      }\n    },\n    {\n      \"column\": \"CD8A\",\n      \"properties\": {\n        \"dtype\": \"number\",\n        \"std\": 0.13269648200533504,\n        \"min\": 0.0676862641834773,\n        \"max\": 0.3884550403564303,\n        \"num_unique_values\": 5,\n        \"samples\": [\n          0.161127818839325,\n          0.0676862641834773,\n          0.3884550403564303\n        ],\n        \"semantic_type\": \"\",\n        \"description\": \"\"\n      }\n    },\n    {\n      \"column\": \"GZMB\",\n      \"properties\": {\n        \"dtype\": \"number\",\n        \"std\": 0.248904631338728,\n        \"min\": 0.0534987504763072,\n        \"max\": 0.5657980098838621,\n        \"num_unique_values\": 5,\n        \"samples\": [\n          0.5657980098838621,\n          0.0534987504763072,\n          0.5281416626901745\n        ],\n        \"semantic_type\": \"\",\n        \"description\": \"\"\n      }\n    },\n    {\n      \"column\": \"KLRC2\",\n      \"properties\": {\n        \"dtype\": \"number\",\n        \"std\": 0.3373884704161336,\n        \"min\": -0.3873725336312784,\n        \"max\": 0.5020582002204187,\n        \"num_unique_values\": 5,\n        \"samples\": [\n          -0.2034945826631211,\n          -0.1160401526617025,\n          -0.1562088546043653\n        ],\n        \"semantic_type\": \"\",\n        \"description\": \"\"\n      }\n    },\n    {\n      \"column\": \"KLRC3\",\n      \"properties\": {\n        \"dtype\": \"number\",\n        \"std\": 0.057030752132511374,\n        \"min\": -0.0838623550923506,\n        \"max\": 0.0637136519258656,\n        \"num_unique_values\": 5,\n        \"samples\": [\n          -0.0269020883054512,\n          0.0637136519258656,\n          0.0011469040291496\n        ],\n        \"semantic_type\": \"\",\n        \"description\": \"\"\n      }\n    },\n    {\n      \"column\": \"KLRC4\",\n      \"properties\": {\n        \"dtype\": \"number\",\n        \"std\": 0.05427963946515479,\n        \"min\": -0.035405019005983,\n        \"max\": 0.0882013027712291,\n        \"num_unique_values\": 5,\n        \"samples\": [\n          -0.035405019005983,\n          0.0882013027712291,\n          -0.0286895144329407\n        ],\n        \"semantic_type\": \"\",\n        \"description\": \"\"\n      }\n    },\n    {\n      \"column\": \"GNLY\",\n      \"properties\": {\n        \"dtype\": \"number\",\n        \"std\": 0.08871351180542986,\n        \"min\": 0.0301251118618957,\n        \"max\": 0.2607031139685462,\n        \"num_unique_values\": 5,\n        \"samples\": [\n          0.0301251118618957,\n          0.0829399689765805,\n          0.2607031139685462\n        ],\n        \"semantic_type\": \"\",\n        \"description\": \"\"\n      }\n    },\n    {\n      \"column\": \"TGFB1\",\n      \"properties\": {\n        \"dtype\": \"number\",\n        \"std\": 26.045607610224625,\n        \"min\": 53.55281726755536,\n        \"max\": 114.4229256006832,\n        \"num_unique_values\": 5,\n        \"samples\": [\n          103.26583725635012,\n          114.4229256006832,\n          53.55281726755536\n        ],\n        \"semantic_type\": \"\",\n        \"description\": \"\"\n      }\n    },\n    {\n      \"column\": \"Response\",\n      \"properties\": {\n        \"dtype\": \"number\",\n        \"std\": 0,\n        \"min\": 0,\n        \"max\": 0,\n        \"num_unique_values\": 1,\n        \"samples\": [\n          0\n        ],\n        \"semantic_type\": \"\",\n        \"description\": \"\"\n      }\n    }\n  ]\n}"
            }
          },
          "metadata": {}
        },
        {
          "output_type": "stream",
          "name": "stdout",
          "text": [
            "\n",
            "Number of patients responded to immunotherapy:\n"
          ]
        },
        {
          "output_type": "display_data",
          "data": {
            "text/plain": [
              "0    228\n",
              "1     37\n",
              "Name: Response, dtype: int64"
            ]
          },
          "metadata": {}
        }
      ],
      "source": [
        "cancer = pd.read_table(\n",
        "    \"https://edunet.kea.su/repo/EduNet-web_dependencies/datasets/Cancer_dataset_2.tsv\",\n",
        "    index_col=\"sample_id\",\n",
        ")\n",
        "display(cancer.head())\n",
        "\n",
        "# split the data on features (x) and dependant variable (y)\n",
        "y = cancer[\"Response\"]\n",
        "x = cancer.drop(\"Response\", axis=1)\n",
        "print(\"\\nNumber of patients responded to immunotherapy:\")\n",
        "display(y.value_counts())"
      ]
    },
    {
      "cell_type": "markdown",
      "metadata": {
        "id": "vsUgA8cZ_L-x"
      },
      "source": [
        "В данном случае имеет место несбалансированность классов в наборе данных: пациентов, ответивших на терапию, гораздо меньше.\n",
        "\n",
        "Есть два способа работы с несбалансированными по классам данными. Первый способ &mdash; это получение стратифицированных выборок. Необходимо иметь одинаковую долю образцов каждого класса в тренировочной и тестовой выборках, иначе возникает риск получения смещённых выборок, что приводит к некорректной оценке качества модели. Второй способ &mdash; это использование специальных алгоритмов, учитывающих несбалансированность классов.\n",
        "\n",
        "\n",
        "В данном задании вам нужно продемонстрировать эффективность различных подходов  работы с несбалансированными выборками. Для этого вы будете использовать три модели, представленные ниже:\n",
        "\n",
        "1. [`RandomForestClassifier`](https://scikit-learn.org/stable/modules/generated/sklearn.ensemble.RandomForestClassifier.html), библиотека sklearn\n",
        "2. [`RandomForestClassifier` с балансировкой классов](https://scikit-learn.org/stable/modules/generated/sklearn.ensemble.RandomForestClassifier.html), библиотека sklearn — меняет стандартный вес каждого класса, равный 1, на долю класса во входных данных (см. `class_weight`).\n",
        "3. [`BalancedRandomForestClassifier`](https://imbalanced-learn.org/stable/references/generated/imblearn.ensemble.BalancedRandomForestClassifier.html), библиотека imblearn — сэмплирует псевдовыборки таким образом, что в каждой псевдовыборке, которая подается на вход модели, баланс классов оказывается \"выправлен\".\n",
        "\n",
        "Оцените эффективность подходов с помощью кросс-валидации, производя разбиение с учетом репрезентации классов и без него. В качестве метрики, отображающей эффективность модели, используйте значения `accuracy` и `balanced_accuracy`. Проинтерпретируйте результаты."
      ]
    },
    {
      "cell_type": "code",
      "execution_count": 30,
      "metadata": {
        "id": "rAecmjXv_L-y"
      },
      "outputs": [],
      "source": [
        "from sklearn.ensemble import RandomForestClassifier\n",
        "from imblearn.ensemble import BalancedRandomForestClassifier"
      ]
    },
    {
      "cell_type": "code",
      "source": [
        "x_train, x_test, y_train, y_test = train_test_split(x, y, random_state=42)"
      ],
      "metadata": {
        "id": "88hNGOCWUIN4"
      },
      "execution_count": 31,
      "outputs": []
    },
    {
      "cell_type": "code",
      "execution_count": 32,
      "metadata": {
        "id": "dHE43WkX_L-y",
        "colab": {
          "base_uri": "https://localhost:8080/"
        },
        "outputId": "7af6a185-4f55-4f8b-aef2-1667a2b8493c"
      },
      "outputs": [
        {
          "output_type": "execute_result",
          "data": {
            "text/plain": [
              "0.8955223880597015"
            ]
          },
          "metadata": {},
          "execution_count": 32
        }
      ],
      "source": [
        "from sklearn.metrics import accuracy_score\n",
        "\n",
        "clf = RandomForestClassifier()\n",
        "clf.fit(x_train, y_train)\n",
        "\n",
        "accuracy_score(y_test, clf.predict(x_test))"
      ]
    },
    {
      "cell_type": "code",
      "source": [
        "clf = RandomForestClassifier(class_weight = 'balanced_subsample')\n",
        "clf.fit(x_train, y_train)\n",
        "\n",
        "accuracy_score(y_test, clf.predict(x_test))"
      ],
      "metadata": {
        "colab": {
          "base_uri": "https://localhost:8080/"
        },
        "id": "z5TJFq6DTDXk",
        "outputId": "7f1f8231-2a27-401f-8930-67d346926c1e"
      },
      "execution_count": 33,
      "outputs": [
        {
          "output_type": "execute_result",
          "data": {
            "text/plain": [
              "0.8955223880597015"
            ]
          },
          "metadata": {},
          "execution_count": 33
        }
      ]
    },
    {
      "cell_type": "code",
      "source": [
        "clf = BalancedRandomForestClassifier()\n",
        "clf.fit(x_train, y_train)\n",
        "\n",
        "accuracy_score(y_test, clf.predict(x_test))"
      ],
      "metadata": {
        "colab": {
          "base_uri": "https://localhost:8080/"
        },
        "id": "EsOIKWEMWKO3",
        "outputId": "0bcff31a-65e3-4f86-ec6b-5737cd333470"
      },
      "execution_count": 34,
      "outputs": [
        {
          "output_type": "stream",
          "name": "stderr",
          "text": [
            "/usr/local/lib/python3.10/dist-packages/imblearn/ensemble/_forest.py:576: FutureWarning: The default of `sampling_strategy` will change from `'auto'` to `'all'` in version 0.13. This change will follow the implementation proposed in the original paper. Set to `'all'` to silence this warning and adopt the future behaviour.\n",
            "  warn(\n",
            "/usr/local/lib/python3.10/dist-packages/imblearn/ensemble/_forest.py:588: FutureWarning: The default of `replacement` will change from `False` to `True` in version 0.13. This change will follow the implementation proposed in the original paper. Set to `True` to silence this warning and adopt the future behaviour.\n",
            "  warn(\n",
            "/usr/local/lib/python3.10/dist-packages/imblearn/ensemble/_forest.py:600: FutureWarning: The default of `bootstrap` will change from `True` to `False` in version 0.13. This change will follow the implementation proposed in the original paper. Set to `False` to silence this warning and adopt the future behaviour.\n",
            "  warn(\n"
          ]
        },
        {
          "output_type": "execute_result",
          "data": {
            "text/plain": [
              "0.6865671641791045"
            ]
          },
          "metadata": {},
          "execution_count": 34
        }
      ]
    },
    {
      "cell_type": "code",
      "source": [
        "from sklearn.model_selection import cross_val_score, StratifiedKFold\n",
        "\n",
        "rf_clf = RandomForestClassifier(random_state=42)\n",
        "\n",
        "kf = StratifiedKFold(n_splits=5, shuffle=True, random_state=42)\n",
        "\n",
        "scores_rf = cross_val_score(rf_clf, x_train, y_train, cv=kf, scoring='accuracy')\n",
        "balanced_scores_rf = cross_val_score(rf_clf, x_train, y_train, cv=kf, scoring='balanced_accuracy')\n",
        "\n",
        "print(scores_rf)\n",
        "print(balanced_scores_rf)"
      ],
      "metadata": {
        "colab": {
          "base_uri": "https://localhost:8080/"
        },
        "id": "B3htqpuPZJUs",
        "outputId": "0d846de7-9a02-4abd-8674-ccab7922c609"
      },
      "execution_count": 37,
      "outputs": [
        {
          "output_type": "stream",
          "name": "stdout",
          "text": [
            "[0.85       0.875      0.825      0.84615385 0.87179487]\n",
            "[0.56862745 0.58333333 0.48529412 0.56818182 0.58333333]\n"
          ]
        }
      ]
    },
    {
      "cell_type": "markdown",
      "metadata": {
        "id": "-XwxFKeI_L-y"
      },
      "source": [
        "Объекты, принадлежащие разным классам, распределены неравномерно. Для адекватной работы cross_validate нужно перемешать данные. Для этого используйте флаг `shuffle=True`, применяя `KFold` и `StratifiedKFold` (см. параметр `cv` в функции cross_validate)."
      ]
    },
    {
      "cell_type": "code",
      "execution_count": null,
      "metadata": {
        "id": "4YEn-6Dt_L-y"
      },
      "outputs": [],
      "source": [
        "from sklearn.model_selection import cross_val_score\n",
        "\n",
        "rf_clf = BalancedRandomForestClassifier()\n",
        "\n",
        "\n",
        "kf = StratifiedKFold(n_splits=5, shuffle=True, random_state=42)\n",
        "\n",
        "scores_rf = cross_val_score(rf_clf, x_train, y_train, cv=kf, scoring='accuracy')\n",
        "balanced_scores_rf = cross_val_score(rf_clf, x_train, y_train, cv=kf, scoring='balanced_accuracy')\n",
        "\n",
        "print(scores_rf)\n",
        "print(balanced_scores_rf)"
      ]
    },
    {
      "cell_type": "code",
      "source": [
        "from sklearn.model_selection import cross_val_score\n",
        "\n",
        "rf_clf = RandomForestClassifier(class_weight = 'balanced_subsample')\n",
        "\n",
        "\n",
        "kf = StratifiedKFold(n_splits=5, shuffle=True, random_state=42)\n",
        "\n",
        "scores_rf = cross_val_score(rf_clf, x_train, y_train, cv=kf, scoring='accuracy')\n",
        "balanced_scores_rf = cross_val_score(rf_clf, x_train, y_train, cv=kf, scoring='balanced_accuracy')\n",
        "\n",
        "print(scores_rf)\n",
        "print(balanced_scores_rf)"
      ],
      "metadata": {
        "colab": {
          "base_uri": "https://localhost:8080/"
        },
        "id": "xCwaX8fybp_-",
        "outputId": "d11f396f-48f4-4349-f04d-07c557e1b314"
      },
      "execution_count": 39,
      "outputs": [
        {
          "output_type": "stream",
          "name": "stdout",
          "text": [
            "[0.875      0.875      0.85       0.84615385 0.84615385]\n",
            "[0.66666667 0.58333333 0.5        0.56818182 0.5       ]\n"
          ]
        }
      ]
    },
    {
      "cell_type": "code",
      "source": [
        "from sklearn.model_selection import cross_val_score\n",
        "\n",
        "rf_clf = RandomForestClassifier(class_weight = 'balanced_subsample')\n",
        "\n",
        "\n",
        "kf = KFold(n_splits=5, shuffle=True, random_state=42)\n",
        "\n",
        "scores_rf = cross_val_score(rf_clf, x_train, y_train, cv=kf, scoring='accuracy')\n",
        "balanced_scores_rf = cross_val_score(rf_clf, x_train, y_train, cv=kf, scoring='balanced_accuracy')\n",
        "\n",
        "print(scores_rf)\n",
        "print(balanced_scores_rf)"
      ],
      "metadata": {
        "colab": {
          "base_uri": "https://localhost:8080/"
        },
        "id": "wqTm0azQchNu",
        "outputId": "adfabf29-fcce-40fd-ff59-24aa0a853e3c"
      },
      "execution_count": 40,
      "outputs": [
        {
          "output_type": "stream",
          "name": "stdout",
          "text": [
            "[0.875      0.9        0.85       0.71794872 0.8974359 ]\n",
            "[0.58333333 0.5        0.48571429 0.53275862 0.6       ]\n"
          ]
        }
      ]
    },
    {
      "cell_type": "markdown",
      "metadata": {
        "id": "pcwsEH_h_L-y"
      },
      "source": [
        "Сбалансированная точность меньше,: чем стандартная точность, так как она учитывает неверное разбиение на классы.\n",
        "Разницы между KFold и St=ratifiedKFold не заметил, хотя поидее она должна быть."
      ]
    },
    {
      "cell_type": "markdown",
      "metadata": {
        "id": "IPLiEPzj_L-z"
      },
      "source": [
        "## Формат результата"
      ]
    },
    {
      "cell_type": "markdown",
      "metadata": {
        "id": "TlgjDr3k_L-z"
      },
      "source": [
        "Получить значения `accuracy` и `balanced_accuracy`для моделей:\n",
        "1. `RandomForestClassifier`, библиотека sklearn;\n",
        "2. `RandomForestClassifier с балансировкой классов`, библиотека sklearn;\n",
        "3. `BalancedRandomForestClassifier`, библиотека imblearn;\n",
        "\n",
        "оцененные на кросс-валидации с учетом стратификации по классам и без."
      ]
    },
    {
      "cell_type": "markdown",
      "metadata": {
        "id": "Hb05Tn83_L-z"
      },
      "source": [
        "# Задание 3. Разные типы бустингов"
      ]
    },
    {
      "cell_type": "markdown",
      "metadata": {
        "id": "ICTP7oYn_L-z"
      },
      "source": [
        "В этом задании будем использовать датасет с рейтингом блюд по некоторым характеристикам.\n",
        "\n",
        "В некоторых реализациях градиентного бустинга есть возможность использовать другой метод обучения. Например, в XGB есть тип `dart`, а в lgbm — `goss`. Это позволяет составлять более эффективные ансамбли.\n",
        "\n",
        "Используя кросс-валидацию (используйте 3 фолда), обучите модели:\n",
        "* `CatBoostRegressor`\n",
        "* `XGBRegressor`\n",
        "* `LGBMRegressor`\n",
        "\n",
        "Сохраните модель на каждом фолде и посчитайте `mse` для тестовой выборки, используя модель с каждого фолда. Получите предсказания всех 9 моделей на тестовой выборке и усредните их. Затем посчитайте `mse` для усредненных предсказаний.\n",
        "\n",
        "Напишите выводы о полученном качестве моделей."
      ]
    },
    {
      "cell_type": "markdown",
      "metadata": {
        "id": "XkV7BZsU_L-0"
      },
      "source": [
        "Установка и импорт необходимых библиотек:"
      ]
    },
    {
      "cell_type": "code",
      "execution_count": 41,
      "metadata": {
        "id": "cKyqy9Jv_L-0",
        "colab": {
          "base_uri": "https://localhost:8080/"
        },
        "outputId": "a675b5e8-cfe0-4c62-fa3a-379047bdfe59"
      },
      "outputs": [
        {
          "output_type": "stream",
          "name": "stdout",
          "text": [
            "\u001b[2K     \u001b[90m━━━━━━━━━━━━━━━━━━━━━━━━━━━━━━━━━━━━━━━━\u001b[0m \u001b[32m98.5/98.5 MB\u001b[0m \u001b[31m7.5 MB/s\u001b[0m eta \u001b[36m0:00:00\u001b[0m\n",
            "\u001b[?25h"
          ]
        }
      ],
      "source": [
        "!pip install -q catboost"
      ]
    },
    {
      "cell_type": "code",
      "execution_count": 42,
      "metadata": {
        "id": "MwzA-LYy_L-1"
      },
      "outputs": [],
      "source": [
        "import xgboost\n",
        "import catboost\n",
        "import lightgbm\n",
        "import numpy as np\n",
        "import pandas as pd\n",
        "from sklearn.metrics import mean_squared_error as mse\n",
        "from sklearn.model_selection import train_test_split, KFold"
      ]
    },
    {
      "cell_type": "markdown",
      "metadata": {
        "id": "CQbB-JVS_L-1"
      },
      "source": [
        "Загрузка датасета:"
      ]
    },
    {
      "cell_type": "code",
      "execution_count": 43,
      "metadata": {
        "id": "nnh6Cl68_L-1",
        "colab": {
          "base_uri": "https://localhost:8080/",
          "height": 419
        },
        "outputId": "3846da25-6362-40d8-8049-a2ff2bff4249"
      },
      "outputs": [
        {
          "output_type": "execute_result",
          "data": {
            "text/plain": [
              "       calories  protein   fat  sodium  cakeweek  wasteless  rating\n",
              "0         426.0     30.0   7.0   559.0       0.0        0.0   2.500\n",
              "1         403.0     18.0  23.0  1439.0       0.0        0.0   4.375\n",
              "2         165.0      6.0   7.0   165.0       0.0        0.0   3.750\n",
              "3         547.0     20.0  32.0   452.0       0.0        0.0   3.125\n",
              "4         948.0     19.0  79.0  1042.0       0.0        0.0   4.375\n",
              "...         ...      ...   ...     ...       ...        ...     ...\n",
              "15859      28.0      2.0   2.0    64.0       0.0        0.0   3.125\n",
              "15860     671.0     22.0  28.0   583.0       0.0        0.0   4.375\n",
              "15861     563.0     31.0  38.0   652.0       0.0        0.0   4.375\n",
              "15862     631.0     45.0  24.0   517.0       0.0        0.0   4.375\n",
              "15863     560.0     73.0  10.0  3698.0       0.0        0.0   4.375\n",
              "\n",
              "[15864 rows x 7 columns]"
            ],
            "text/html": [
              "\n",
              "  <div id=\"df-3daf6bb3-795f-491f-bcd8-05f7b9212fc8\" class=\"colab-df-container\">\n",
              "    <div>\n",
              "<style scoped>\n",
              "    .dataframe tbody tr th:only-of-type {\n",
              "        vertical-align: middle;\n",
              "    }\n",
              "\n",
              "    .dataframe tbody tr th {\n",
              "        vertical-align: top;\n",
              "    }\n",
              "\n",
              "    .dataframe thead th {\n",
              "        text-align: right;\n",
              "    }\n",
              "</style>\n",
              "<table border=\"1\" class=\"dataframe\">\n",
              "  <thead>\n",
              "    <tr style=\"text-align: right;\">\n",
              "      <th></th>\n",
              "      <th>calories</th>\n",
              "      <th>protein</th>\n",
              "      <th>fat</th>\n",
              "      <th>sodium</th>\n",
              "      <th>cakeweek</th>\n",
              "      <th>wasteless</th>\n",
              "      <th>rating</th>\n",
              "    </tr>\n",
              "  </thead>\n",
              "  <tbody>\n",
              "    <tr>\n",
              "      <th>0</th>\n",
              "      <td>426.0</td>\n",
              "      <td>30.0</td>\n",
              "      <td>7.0</td>\n",
              "      <td>559.0</td>\n",
              "      <td>0.0</td>\n",
              "      <td>0.0</td>\n",
              "      <td>2.500</td>\n",
              "    </tr>\n",
              "    <tr>\n",
              "      <th>1</th>\n",
              "      <td>403.0</td>\n",
              "      <td>18.0</td>\n",
              "      <td>23.0</td>\n",
              "      <td>1439.0</td>\n",
              "      <td>0.0</td>\n",
              "      <td>0.0</td>\n",
              "      <td>4.375</td>\n",
              "    </tr>\n",
              "    <tr>\n",
              "      <th>2</th>\n",
              "      <td>165.0</td>\n",
              "      <td>6.0</td>\n",
              "      <td>7.0</td>\n",
              "      <td>165.0</td>\n",
              "      <td>0.0</td>\n",
              "      <td>0.0</td>\n",
              "      <td>3.750</td>\n",
              "    </tr>\n",
              "    <tr>\n",
              "      <th>3</th>\n",
              "      <td>547.0</td>\n",
              "      <td>20.0</td>\n",
              "      <td>32.0</td>\n",
              "      <td>452.0</td>\n",
              "      <td>0.0</td>\n",
              "      <td>0.0</td>\n",
              "      <td>3.125</td>\n",
              "    </tr>\n",
              "    <tr>\n",
              "      <th>4</th>\n",
              "      <td>948.0</td>\n",
              "      <td>19.0</td>\n",
              "      <td>79.0</td>\n",
              "      <td>1042.0</td>\n",
              "      <td>0.0</td>\n",
              "      <td>0.0</td>\n",
              "      <td>4.375</td>\n",
              "    </tr>\n",
              "    <tr>\n",
              "      <th>...</th>\n",
              "      <td>...</td>\n",
              "      <td>...</td>\n",
              "      <td>...</td>\n",
              "      <td>...</td>\n",
              "      <td>...</td>\n",
              "      <td>...</td>\n",
              "      <td>...</td>\n",
              "    </tr>\n",
              "    <tr>\n",
              "      <th>15859</th>\n",
              "      <td>28.0</td>\n",
              "      <td>2.0</td>\n",
              "      <td>2.0</td>\n",
              "      <td>64.0</td>\n",
              "      <td>0.0</td>\n",
              "      <td>0.0</td>\n",
              "      <td>3.125</td>\n",
              "    </tr>\n",
              "    <tr>\n",
              "      <th>15860</th>\n",
              "      <td>671.0</td>\n",
              "      <td>22.0</td>\n",
              "      <td>28.0</td>\n",
              "      <td>583.0</td>\n",
              "      <td>0.0</td>\n",
              "      <td>0.0</td>\n",
              "      <td>4.375</td>\n",
              "    </tr>\n",
              "    <tr>\n",
              "      <th>15861</th>\n",
              "      <td>563.0</td>\n",
              "      <td>31.0</td>\n",
              "      <td>38.0</td>\n",
              "      <td>652.0</td>\n",
              "      <td>0.0</td>\n",
              "      <td>0.0</td>\n",
              "      <td>4.375</td>\n",
              "    </tr>\n",
              "    <tr>\n",
              "      <th>15862</th>\n",
              "      <td>631.0</td>\n",
              "      <td>45.0</td>\n",
              "      <td>24.0</td>\n",
              "      <td>517.0</td>\n",
              "      <td>0.0</td>\n",
              "      <td>0.0</td>\n",
              "      <td>4.375</td>\n",
              "    </tr>\n",
              "    <tr>\n",
              "      <th>15863</th>\n",
              "      <td>560.0</td>\n",
              "      <td>73.0</td>\n",
              "      <td>10.0</td>\n",
              "      <td>3698.0</td>\n",
              "      <td>0.0</td>\n",
              "      <td>0.0</td>\n",
              "      <td>4.375</td>\n",
              "    </tr>\n",
              "  </tbody>\n",
              "</table>\n",
              "<p>15864 rows × 7 columns</p>\n",
              "</div>\n",
              "    <div class=\"colab-df-buttons\">\n",
              "\n",
              "  <div class=\"colab-df-container\">\n",
              "    <button class=\"colab-df-convert\" onclick=\"convertToInteractive('df-3daf6bb3-795f-491f-bcd8-05f7b9212fc8')\"\n",
              "            title=\"Convert this dataframe to an interactive table.\"\n",
              "            style=\"display:none;\">\n",
              "\n",
              "  <svg xmlns=\"http://www.w3.org/2000/svg\" height=\"24px\" viewBox=\"0 -960 960 960\">\n",
              "    <path d=\"M120-120v-720h720v720H120Zm60-500h600v-160H180v160Zm220 220h160v-160H400v160Zm0 220h160v-160H400v160ZM180-400h160v-160H180v160Zm440 0h160v-160H620v160ZM180-180h160v-160H180v160Zm440 0h160v-160H620v160Z\"/>\n",
              "  </svg>\n",
              "    </button>\n",
              "\n",
              "  <style>\n",
              "    .colab-df-container {\n",
              "      display:flex;\n",
              "      gap: 12px;\n",
              "    }\n",
              "\n",
              "    .colab-df-convert {\n",
              "      background-color: #E8F0FE;\n",
              "      border: none;\n",
              "      border-radius: 50%;\n",
              "      cursor: pointer;\n",
              "      display: none;\n",
              "      fill: #1967D2;\n",
              "      height: 32px;\n",
              "      padding: 0 0 0 0;\n",
              "      width: 32px;\n",
              "    }\n",
              "\n",
              "    .colab-df-convert:hover {\n",
              "      background-color: #E2EBFA;\n",
              "      box-shadow: 0px 1px 2px rgba(60, 64, 67, 0.3), 0px 1px 3px 1px rgba(60, 64, 67, 0.15);\n",
              "      fill: #174EA6;\n",
              "    }\n",
              "\n",
              "    .colab-df-buttons div {\n",
              "      margin-bottom: 4px;\n",
              "    }\n",
              "\n",
              "    [theme=dark] .colab-df-convert {\n",
              "      background-color: #3B4455;\n",
              "      fill: #D2E3FC;\n",
              "    }\n",
              "\n",
              "    [theme=dark] .colab-df-convert:hover {\n",
              "      background-color: #434B5C;\n",
              "      box-shadow: 0px 1px 3px 1px rgba(0, 0, 0, 0.15);\n",
              "      filter: drop-shadow(0px 1px 2px rgba(0, 0, 0, 0.3));\n",
              "      fill: #FFFFFF;\n",
              "    }\n",
              "  </style>\n",
              "\n",
              "    <script>\n",
              "      const buttonEl =\n",
              "        document.querySelector('#df-3daf6bb3-795f-491f-bcd8-05f7b9212fc8 button.colab-df-convert');\n",
              "      buttonEl.style.display =\n",
              "        google.colab.kernel.accessAllowed ? 'block' : 'none';\n",
              "\n",
              "      async function convertToInteractive(key) {\n",
              "        const element = document.querySelector('#df-3daf6bb3-795f-491f-bcd8-05f7b9212fc8');\n",
              "        const dataTable =\n",
              "          await google.colab.kernel.invokeFunction('convertToInteractive',\n",
              "                                                    [key], {});\n",
              "        if (!dataTable) return;\n",
              "\n",
              "        const docLinkHtml = 'Like what you see? Visit the ' +\n",
              "          '<a target=\"_blank\" href=https://colab.research.google.com/notebooks/data_table.ipynb>data table notebook</a>'\n",
              "          + ' to learn more about interactive tables.';\n",
              "        element.innerHTML = '';\n",
              "        dataTable['output_type'] = 'display_data';\n",
              "        await google.colab.output.renderOutput(dataTable, element);\n",
              "        const docLink = document.createElement('div');\n",
              "        docLink.innerHTML = docLinkHtml;\n",
              "        element.appendChild(docLink);\n",
              "      }\n",
              "    </script>\n",
              "  </div>\n",
              "\n",
              "\n",
              "<div id=\"df-38af46d9-40bd-485f-ae75-ca025d711796\">\n",
              "  <button class=\"colab-df-quickchart\" onclick=\"quickchart('df-38af46d9-40bd-485f-ae75-ca025d711796')\"\n",
              "            title=\"Suggest charts\"\n",
              "            style=\"display:none;\">\n",
              "\n",
              "<svg xmlns=\"http://www.w3.org/2000/svg\" height=\"24px\"viewBox=\"0 0 24 24\"\n",
              "     width=\"24px\">\n",
              "    <g>\n",
              "        <path d=\"M19 3H5c-1.1 0-2 .9-2 2v14c0 1.1.9 2 2 2h14c1.1 0 2-.9 2-2V5c0-1.1-.9-2-2-2zM9 17H7v-7h2v7zm4 0h-2V7h2v10zm4 0h-2v-4h2v4z\"/>\n",
              "    </g>\n",
              "</svg>\n",
              "  </button>\n",
              "\n",
              "<style>\n",
              "  .colab-df-quickchart {\n",
              "      --bg-color: #E8F0FE;\n",
              "      --fill-color: #1967D2;\n",
              "      --hover-bg-color: #E2EBFA;\n",
              "      --hover-fill-color: #174EA6;\n",
              "      --disabled-fill-color: #AAA;\n",
              "      --disabled-bg-color: #DDD;\n",
              "  }\n",
              "\n",
              "  [theme=dark] .colab-df-quickchart {\n",
              "      --bg-color: #3B4455;\n",
              "      --fill-color: #D2E3FC;\n",
              "      --hover-bg-color: #434B5C;\n",
              "      --hover-fill-color: #FFFFFF;\n",
              "      --disabled-bg-color: #3B4455;\n",
              "      --disabled-fill-color: #666;\n",
              "  }\n",
              "\n",
              "  .colab-df-quickchart {\n",
              "    background-color: var(--bg-color);\n",
              "    border: none;\n",
              "    border-radius: 50%;\n",
              "    cursor: pointer;\n",
              "    display: none;\n",
              "    fill: var(--fill-color);\n",
              "    height: 32px;\n",
              "    padding: 0;\n",
              "    width: 32px;\n",
              "  }\n",
              "\n",
              "  .colab-df-quickchart:hover {\n",
              "    background-color: var(--hover-bg-color);\n",
              "    box-shadow: 0 1px 2px rgba(60, 64, 67, 0.3), 0 1px 3px 1px rgba(60, 64, 67, 0.15);\n",
              "    fill: var(--button-hover-fill-color);\n",
              "  }\n",
              "\n",
              "  .colab-df-quickchart-complete:disabled,\n",
              "  .colab-df-quickchart-complete:disabled:hover {\n",
              "    background-color: var(--disabled-bg-color);\n",
              "    fill: var(--disabled-fill-color);\n",
              "    box-shadow: none;\n",
              "  }\n",
              "\n",
              "  .colab-df-spinner {\n",
              "    border: 2px solid var(--fill-color);\n",
              "    border-color: transparent;\n",
              "    border-bottom-color: var(--fill-color);\n",
              "    animation:\n",
              "      spin 1s steps(1) infinite;\n",
              "  }\n",
              "\n",
              "  @keyframes spin {\n",
              "    0% {\n",
              "      border-color: transparent;\n",
              "      border-bottom-color: var(--fill-color);\n",
              "      border-left-color: var(--fill-color);\n",
              "    }\n",
              "    20% {\n",
              "      border-color: transparent;\n",
              "      border-left-color: var(--fill-color);\n",
              "      border-top-color: var(--fill-color);\n",
              "    }\n",
              "    30% {\n",
              "      border-color: transparent;\n",
              "      border-left-color: var(--fill-color);\n",
              "      border-top-color: var(--fill-color);\n",
              "      border-right-color: var(--fill-color);\n",
              "    }\n",
              "    40% {\n",
              "      border-color: transparent;\n",
              "      border-right-color: var(--fill-color);\n",
              "      border-top-color: var(--fill-color);\n",
              "    }\n",
              "    60% {\n",
              "      border-color: transparent;\n",
              "      border-right-color: var(--fill-color);\n",
              "    }\n",
              "    80% {\n",
              "      border-color: transparent;\n",
              "      border-right-color: var(--fill-color);\n",
              "      border-bottom-color: var(--fill-color);\n",
              "    }\n",
              "    90% {\n",
              "      border-color: transparent;\n",
              "      border-bottom-color: var(--fill-color);\n",
              "    }\n",
              "  }\n",
              "</style>\n",
              "\n",
              "  <script>\n",
              "    async function quickchart(key) {\n",
              "      const quickchartButtonEl =\n",
              "        document.querySelector('#' + key + ' button');\n",
              "      quickchartButtonEl.disabled = true;  // To prevent multiple clicks.\n",
              "      quickchartButtonEl.classList.add('colab-df-spinner');\n",
              "      try {\n",
              "        const charts = await google.colab.kernel.invokeFunction(\n",
              "            'suggestCharts', [key], {});\n",
              "      } catch (error) {\n",
              "        console.error('Error during call to suggestCharts:', error);\n",
              "      }\n",
              "      quickchartButtonEl.classList.remove('colab-df-spinner');\n",
              "      quickchartButtonEl.classList.add('colab-df-quickchart-complete');\n",
              "    }\n",
              "    (() => {\n",
              "      let quickchartButtonEl =\n",
              "        document.querySelector('#df-38af46d9-40bd-485f-ae75-ca025d711796 button');\n",
              "      quickchartButtonEl.style.display =\n",
              "        google.colab.kernel.accessAllowed ? 'block' : 'none';\n",
              "    })();\n",
              "  </script>\n",
              "</div>\n",
              "    </div>\n",
              "  </div>\n"
            ],
            "application/vnd.google.colaboratory.intrinsic+json": {
              "type": "dataframe",
              "variable_name": "recipies",
              "summary": "{\n  \"name\": \"recipies\",\n  \"rows\": 15864,\n  \"fields\": [\n    {\n      \"column\": \"calories\",\n      \"properties\": {\n        \"dtype\": \"number\",\n        \"std\": 359848.417868309,\n        \"min\": 0.0,\n        \"max\": 30111218.0,\n        \"num_unique_values\": 1858,\n        \"samples\": [\n          156.0,\n          765.0,\n          1807.0\n        ],\n        \"semantic_type\": \"\",\n        \"description\": \"\"\n      }\n    },\n    {\n      \"column\": \"protein\",\n      \"properties\": {\n        \"dtype\": \"number\",\n        \"std\": 3843.4623117543633,\n        \"min\": 0.0,\n        \"max\": 236489.0,\n        \"num_unique_values\": 282,\n        \"samples\": [\n          81.0,\n          91.0,\n          200210.0\n        ],\n        \"semantic_type\": \"\",\n        \"description\": \"\"\n      }\n    },\n    {\n      \"column\": \"fat\",\n      \"properties\": {\n        \"dtype\": \"number\",\n        \"std\": 20459.32954892197,\n        \"min\": 0.0,\n        \"max\": 1722763.0,\n        \"num_unique_values\": 326,\n        \"samples\": [\n          1007.0,\n          221495.0,\n          313.0\n        ],\n        \"semantic_type\": \"\",\n        \"description\": \"\"\n      }\n    },\n    {\n      \"column\": \"sodium\",\n      \"properties\": {\n        \"dtype\": \"number\",\n        \"std\": 334042.0784483918,\n        \"min\": 0.0,\n        \"max\": 27675110.0,\n        \"num_unique_values\": 2433,\n        \"samples\": [\n          201.0,\n          2362.0,\n          1414.0\n        ],\n        \"semantic_type\": \"\",\n        \"description\": \"\"\n      }\n    },\n    {\n      \"column\": \"cakeweek\",\n      \"properties\": {\n        \"dtype\": \"number\",\n        \"std\": 0.019444680844067544,\n        \"min\": 0.0,\n        \"max\": 1.0,\n        \"num_unique_values\": 2,\n        \"samples\": [\n          1.0,\n          0.0\n        ],\n        \"semantic_type\": \"\",\n        \"description\": \"\"\n      }\n    },\n    {\n      \"column\": \"wasteless\",\n      \"properties\": {\n        \"dtype\": \"number\",\n        \"std\": 0.007939509074046287,\n        \"min\": 0.0,\n        \"max\": 1.0,\n        \"num_unique_values\": 2,\n        \"samples\": [\n          1.0,\n          0.0\n        ],\n        \"semantic_type\": \"\",\n        \"description\": \"\"\n      }\n    },\n    {\n      \"column\": \"rating\",\n      \"properties\": {\n        \"dtype\": \"number\",\n        \"std\": 1.2855179766910438,\n        \"min\": 0.0,\n        \"max\": 5.0,\n        \"num_unique_values\": 8,\n        \"samples\": [\n          4.375,\n          5.0\n        ],\n        \"semantic_type\": \"\",\n        \"description\": \"\"\n      }\n    }\n  ]\n}"
            }
          },
          "metadata": {},
          "execution_count": 43
        }
      ],
      "source": [
        "recipies = pd.read_csv(\n",
        "    \"https://edunet.kea.su/repo/EduNet-web_dependencies/datasets/recipes.csv\"\n",
        ")\n",
        "recipies"
      ]
    },
    {
      "cell_type": "code",
      "execution_count": 44,
      "metadata": {
        "id": "Jw_fx5Ms_L-1"
      },
      "outputs": [],
      "source": [
        "y = recipies[\"rating\"]\n",
        "x = recipies.drop([\"rating\"], axis=1)\n",
        "\n",
        "x_train_all, x_test, y_train_all, y_test = train_test_split(\n",
        "    x.values, y.values, train_size=0.7, random_state=42\n",
        ")"
      ]
    },
    {
      "cell_type": "code",
      "source": [
        "from sklearn.model_selection import cross_val_score\n",
        "from catboost import CatBoostRegressor\n",
        "\n",
        "rf_clf = CatBoostRegressor()\n",
        "\n",
        "kf = KFold(n_splits=3, shuffle=True, random_state=42)\n",
        "\n",
        "balanced_scores_rf = cross_val_score(rf_clf, x_train_all, y_train_all, cv=kf, scoring='neg_mean_squared_error', verbose=0)\n",
        "\n",
        "print(balanced_scores_rf)\n",
        "res = abs(np.mean(balanced_scores_rf))"
      ],
      "metadata": {
        "id": "faMlxE7En0Bc"
      },
      "execution_count": null,
      "outputs": []
    },
    {
      "cell_type": "code",
      "source": [
        "print(res)"
      ],
      "metadata": {
        "colab": {
          "base_uri": "https://localhost:8080/"
        },
        "id": "VdNZwDwZxoZt",
        "outputId": "26f1f8e1-c071-4501-cce8-7a5ef3a0e25d"
      },
      "execution_count": 47,
      "outputs": [
        {
          "output_type": "stream",
          "name": "stdout",
          "text": [
            "1.558188035458187\n"
          ]
        }
      ]
    },
    {
      "cell_type": "code",
      "source": [
        "from xgboost import XGBRegressor\n",
        "from sklearn.metrics import mean_squared_error\n",
        "\n",
        "\n",
        "rf_clf = XGBRegressor()\n",
        "\n",
        "\n",
        "kf = KFold(n_splits=3, shuffle=True, random_state=42)\n",
        "\n",
        "balanced_scores_rf = cross_val_score(rf_clf, x_train_all, y_train_all, cv=kf, scoring='neg_mean_squared_error', verbose=0)\n",
        "\n",
        "print(balanced_scores_rf)\n",
        "res = abs(np.mean(balanced_scores_rf))"
      ],
      "metadata": {
        "colab": {
          "base_uri": "https://localhost:8080/"
        },
        "id": "sxV1G8GVy-Us",
        "outputId": "4e271734-757d-4d75-a11a-e7217b40d779"
      },
      "execution_count": 48,
      "outputs": [
        {
          "output_type": "stream",
          "name": "stdout",
          "text": [
            "[-1.62130865 -1.67147928 -1.64502224]\n"
          ]
        }
      ]
    },
    {
      "cell_type": "code",
      "source": [
        "print(res)"
      ],
      "metadata": {
        "colab": {
          "base_uri": "https://localhost:8080/"
        },
        "id": "pfE08zHry-gD",
        "outputId": "218b5cee-8344-4144-cd8c-7006b02c41db"
      },
      "execution_count": 49,
      "outputs": [
        {
          "output_type": "stream",
          "name": "stdout",
          "text": [
            "1.6459367230899042\n"
          ]
        }
      ]
    },
    {
      "cell_type": "code",
      "source": [
        "from lightgbm import LGBMRegressor\n",
        "from sklearn.metrics import mean_squared_error\n",
        "\n",
        "\n",
        "rf_clf = LGBMRegressor()\n",
        "\n",
        "\n",
        "kf = KFold(n_splits=3, shuffle=True, random_state=42)\n",
        "\n",
        "balanced_scores_rf = cross_val_score(rf_clf, x_train_all, y_train_all, cv=kf, scoring='neg_mean_squared_error', verbose=0)\n",
        "\n",
        "print(balanced_scores_rf)\n",
        "res = abs(np.mean(balanced_scores_rf))\n"
      ],
      "metadata": {
        "colab": {
          "base_uri": "https://localhost:8080/"
        },
        "id": "mxOoGAJqxdZE",
        "outputId": "e896dfe6-eb1c-4837-9f88-275a147a23e7"
      },
      "execution_count": 50,
      "outputs": [
        {
          "output_type": "stream",
          "name": "stdout",
          "text": [
            "[LightGBM] [Info] Auto-choosing col-wise multi-threading, the overhead of testing was 0.000433 seconds.\n",
            "You can set `force_col_wise=true` to remove the overhead.\n",
            "[LightGBM] [Info] Total Bins 825\n",
            "[LightGBM] [Info] Number of data points in the train set: 7402, number of used features: 4\n",
            "[LightGBM] [Info] Start training from score 3.760977\n",
            "[LightGBM] [Info] Auto-choosing col-wise multi-threading, the overhead of testing was 0.000328 seconds.\n",
            "You can set `force_col_wise=true` to remove the overhead.\n",
            "[LightGBM] [Info] Total Bins 908\n",
            "[LightGBM] [Info] Number of data points in the train set: 7403, number of used features: 4\n",
            "[LightGBM] [Info] Start training from score 3.758611\n",
            "[LightGBM] [Info] Auto-choosing col-wise multi-threading, the overhead of testing was 0.000332 seconds.\n",
            "You can set `force_col_wise=true` to remove the overhead.\n",
            "[LightGBM] [Info] Total Bins 830\n",
            "[LightGBM] [Info] Number of data points in the train set: 7403, number of used features: 4\n",
            "[LightGBM] [Info] Start training from score 3.761144\n",
            "[-1.5531884  -1.62805976 -1.56800662]\n"
          ]
        }
      ]
    },
    {
      "cell_type": "code",
      "source": [
        "print(res)"
      ],
      "metadata": {
        "colab": {
          "base_uri": "https://localhost:8080/"
        },
        "id": "PEcsqPWrxqKa",
        "outputId": "db1ae543-8650-428e-e2bf-502aac1ae295"
      },
      "execution_count": 51,
      "outputs": [
        {
          "output_type": "stream",
          "name": "stdout",
          "text": [
            "1.5830849222897092\n"
          ]
        }
      ]
    },
    {
      "cell_type": "markdown",
      "metadata": {
        "id": "gEidcslr_L-1"
      },
      "source": [
        "## Вывод:\n",
        "Лучшая модель для данной даты - XGBRegressor()!!!!!\n"
      ]
    },
    {
      "cell_type": "markdown",
      "metadata": {
        "id": "0VTlugF4_L-2"
      },
      "source": [
        "Получить значения MSE для всех моделей и среднее значение MSE по предсказаниям всех моделей. Написать вывод.\n"
      ]
    },
    {
      "cell_type": "markdown",
      "metadata": {
        "id": "j-iflnuD_L-2"
      },
      "source": [
        "# Задание 4. Подбор гиперпараметров"
      ]
    },
    {
      "cell_type": "markdown",
      "source": [],
      "metadata": {
        "id": "peJYC9ECzKVY"
      }
    },
    {
      "cell_type": "markdown",
      "metadata": {
        "id": "nDMofC9M_L-2"
      },
      "source": [
        "В этом задании нужно подобрать параметры для бустинга `CatBoostRegressor`, используя библиотеку `optuna`. И улучшить результат по сравнению со стандартными параметрами.\n",
        "\n",
        "Список параметров для подбора:\n",
        "\n",
        "* `depth`\n",
        "* `iterations`\n",
        "* `learning_rate`\n",
        "* `colsample_bylevel`\n",
        "* `subsample`\n",
        "* `l2_leaf_reg`\n",
        "* `min_data_in_leaf`\n",
        "* `max_bin`\n",
        "* `random_strength`\n",
        "* `bootstrap_type`\n",
        "\n",
        "**Важно!** *Подбирать параметры нужно на валидационной выборке*"
      ]
    },
    {
      "cell_type": "markdown",
      "metadata": {
        "id": "7BpCNfDu_L-2"
      },
      "source": [
        "Установка и импорт необходимых библиотек:"
      ]
    },
    {
      "cell_type": "code",
      "execution_count": 52,
      "metadata": {
        "id": "8ee93HZ1_L-2",
        "colab": {
          "base_uri": "https://localhost:8080/"
        },
        "outputId": "6af9fa50-296a-428e-8ebe-d9edc52ee314"
      },
      "outputs": [
        {
          "output_type": "stream",
          "name": "stdout",
          "text": [
            "\u001b[2K     \u001b[90m━━━━━━━━━━━━━━━━━━━━━━━━━━━━━━━━━━━━━━━━\u001b[0m \u001b[32m413.4/413.4 kB\u001b[0m \u001b[31m6.9 MB/s\u001b[0m eta \u001b[36m0:00:00\u001b[0m\n",
            "\u001b[2K     \u001b[90m━━━━━━━━━━━━━━━━━━━━━━━━━━━━━━━━━━━━━━━━\u001b[0m \u001b[32m233.4/233.4 kB\u001b[0m \u001b[31m11.7 MB/s\u001b[0m eta \u001b[36m0:00:00\u001b[0m\n",
            "\u001b[2K     \u001b[90m━━━━━━━━━━━━━━━━━━━━━━━━━━━━━━━━━━━━━━━━\u001b[0m \u001b[32m78.7/78.7 kB\u001b[0m \u001b[31m9.4 MB/s\u001b[0m eta \u001b[36m0:00:00\u001b[0m\n",
            "\u001b[?25h"
          ]
        }
      ],
      "source": [
        "!pip install -q catboost\n",
        "!pip install -q optuna"
      ]
    },
    {
      "cell_type": "code",
      "execution_count": 53,
      "metadata": {
        "id": "bUJDHbSt_L-2"
      },
      "outputs": [],
      "source": [
        "import optuna\n",
        "import numpy as np\n",
        "import pandas as pd\n",
        "from catboost import CatBoostRegressor\n",
        "from optuna.samplers import RandomSampler\n",
        "from sklearn.metrics import mean_squared_error as mse\n",
        "from sklearn.model_selection import train_test_split, KFold"
      ]
    },
    {
      "cell_type": "markdown",
      "metadata": {
        "id": "kl4267Uh_L-3"
      },
      "source": [
        "Загрузка датасета:"
      ]
    },
    {
      "cell_type": "code",
      "execution_count": 54,
      "metadata": {
        "id": "h70vTJtt_L-3"
      },
      "outputs": [],
      "source": [
        "recipies = pd.read_csv(\n",
        "    \"https://edunet.kea.su/repo/EduNet-web_dependencies/datasets/recipes.csv\"\n",
        ")"
      ]
    },
    {
      "cell_type": "code",
      "execution_count": 63,
      "metadata": {
        "id": "NGHJqtRZ_L-3"
      },
      "outputs": [],
      "source": [
        "y = recipies[\"rating\"]\n",
        "x = recipies.drop([\"rating\"], axis=1)\n",
        "\n",
        "# x_train_all, x_test, y_train_all, y_test = train_test_split(\n",
        "#     x.values, y.values, train_size=0.7, random_state=42\n",
        "# )\n",
        "\n",
        "\n",
        "x_train_val, x_test, y_train_val, y_test = train_test_split(x, y, test_size=0.2, random_state=42)\n",
        "\n",
        "x_train, x_val, y_train, y_val = train_test_split(x_train_val, y_train_val, test_size=0.25, random_state=42)"
      ]
    },
    {
      "cell_type": "code",
      "execution_count": 64,
      "metadata": {
        "id": "zGDp_j2W_L-3",
        "colab": {
          "base_uri": "https://localhost:8080/"
        },
        "outputId": "98beeb99-2b02-47b6-ed08-a89ce125fac1"
      },
      "outputs": [
        {
          "output_type": "stream",
          "name": "stdout",
          "text": [
            "Learning rate set to 0.074308\n",
            "0:\tlearn: 1.2817437\ttest: 1.2426123\tbest: 1.2426123 (0)\ttotal: 4.07ms\tremaining: 4.07s\n",
            "200:\tlearn: 1.1884099\ttest: 1.2085599\tbest: 1.2082339 (193)\ttotal: 552ms\tremaining: 2.19s\n",
            "400:\tlearn: 1.1488674\ttest: 1.2094838\tbest: 1.2081885 (320)\ttotal: 1.09s\tremaining: 1.63s\n",
            "Stopped by overfitting detector  (100 iterations wait)\n",
            "\n",
            "bestTest = 1.208188477\n",
            "bestIteration = 320\n",
            "\n",
            "Shrink model to first 321 iterations.\n",
            "\n",
            "mse_score before tuning:  1.4597193954968208\n"
          ]
        }
      ],
      "source": [
        "model = CatBoostRegressor(random_seed=42)\n",
        "\n",
        "model.fit(\n",
        "    x_train_all,\n",
        "    y_train_all,\n",
        "    eval_set=(x_test, y_test),\n",
        "    verbose=200,\n",
        "    use_best_model=True,\n",
        "    plot=False,\n",
        "    early_stopping_rounds=100,\n",
        ")\n",
        "\n",
        "print(\"\\nmse_score before tuning: \", mse(y_test, model.predict(x_test)))"
      ]
    },
    {
      "cell_type": "code",
      "source": [
        "from sklearn.metrics import mean_squared_error"
      ],
      "metadata": {
        "id": "XuyYQdUn0R9l"
      },
      "execution_count": 78,
      "outputs": []
    },
    {
      "cell_type": "code",
      "source": [
        "import optuna\n",
        "import numpy as np\n",
        "from catboost import CatBoostRegressor, cv, Pool\n",
        "from sklearn.metrics import mean_squared_error\n",
        "from sklearn.model_selection import train_test_split\n",
        "\n",
        "# Предполагается, что x и y уже загружены в вашу среду выполнения\n",
        "\n",
        "# Деление данных на тренировочный и тестовый наборы\n",
        "x_train_val, x_test, y_train_val, y_test = train_test_split(x, y, test_size=0.2, random_state=42)\n",
        "x_train, x_val, y_train, y_val = train_test_split(x_train_val, y_train_val, test_size=0.25, random_state=42) # 0.25 * 0.8 = 0.2\n",
        "\n",
        "def objective(trial):\n",
        "    params = {\n",
        "        'iterations': trial.suggest_int('iterations', 100, 1000),\n",
        "        'learning_rate': trial.suggest_float('learning_rate', 0.001, 0.1, log=True),\n",
        "        'depth': trial.suggest_int('depth', 4, 10),\n",
        "        'colsample_bylevel': trial.suggest_float('colsample_bylevel', 0.5, 1.0),\n",
        "        'l2_leaf_reg': trial.suggest_float('l2_leaf_reg', 1e-8, 100, log=True),\n",
        "        'min_data_in_leaf': trial.suggest_int('min_data_in_leaf', 1, 50),\n",
        "        'max_bin': trial.suggest_int('max_bin', 32, 255),\n",
        "        'random_strength': trial.suggest_float('random_strength', 0.1, 1.0),\n",
        "        'bootstrap_type': trial.suggest_categorical('bootstrap_type', ['Bayesian', 'Bernoulli']),\n",
        "        'loss_function': 'RMSE',\n",
        "        'random_seed': 42,\n",
        "        'silent': True,\n",
        "    }\n",
        "\n",
        "    train_pool = Pool(x_train, y_train)\n",
        "\n",
        "    cv_results = cv(\n",
        "        params=params,\n",
        "        pool=train_pool,\n",
        "        fold_count=5,\n",
        "        partition_random_seed=42,\n",
        "        shuffle=True,\n",
        "        stratified=False,\n",
        "        verbose=False\n",
        "    )\n",
        "\n",
        "    mean_mse = np.mean(cv_results['test-RMSE-mean'])\n",
        "    return mean_mse\n",
        "\n",
        "study = optuna.create_study(direction='minimize')\n",
        "study.optimize(objective, n_trials=10)\n",
        "\n",
        "print(\"Лучшие параметры:\", study.best_params)\n",
        "\n",
        "# Обучение модели с лучшими параметрами на тренировочном и валидационном наборах данных\n",
        "final_model = CatBoostRegressor(**study.best_params, random_seed=42, silent=True)\n",
        "final_model.fit(x_train_val, y_train_val)\n",
        "\n",
        "# Оценка MSE на тестовом наборе данных\n",
        "y_pred = final_model.predict(x_test)\n",
        "mse_test = mean_squared_error(y_test, y_pred)\n",
        "\n",
        "print(\"MSE на тестовом наборе:\", mse_test)\n"
      ],
      "metadata": {
        "colab": {
          "base_uri": "https://localhost:8080/"
        },
        "id": "Bv0-FrXsNFjv",
        "outputId": "ab9b16c0-355b-4a7b-d6ba-cb5c66de79d2"
      },
      "execution_count": 79,
      "outputs": [
        {
          "output_type": "stream",
          "name": "stderr",
          "text": [
            "[I 2024-03-14 18:28:41,033] A new study created in memory with name: no-name-deb4923f-6e0f-4e61-969b-a6a25e364988\n"
          ]
        },
        {
          "output_type": "stream",
          "name": "stdout",
          "text": [
            "Training on fold [0/5]\n",
            "\n",
            "bestTest = 1.28020138\n",
            "bestIteration = 114\n",
            "\n",
            "Training on fold [1/5]\n",
            "\n",
            "bestTest = 1.236277329\n",
            "bestIteration = 68\n",
            "\n",
            "Training on fold [2/5]\n",
            "\n",
            "bestTest = 1.202955897\n",
            "bestIteration = 191\n",
            "\n",
            "Training on fold [3/5]\n",
            "\n",
            "bestTest = 1.283762743\n",
            "bestIteration = 127\n",
            "\n",
            "Training on fold [4/5]\n"
          ]
        },
        {
          "output_type": "stream",
          "name": "stderr",
          "text": [
            "[I 2024-03-14 18:29:03,757] Trial 0 finished with value: 1.2896391702241472 and parameters: {'iterations': 931, 'learning_rate': 0.08739528299631436, 'depth': 9, 'colsample_bylevel': 0.7868689881643873, 'l2_leaf_reg': 9.986900632815545e-05, 'min_data_in_leaf': 33, 'max_bin': 121, 'random_strength': 0.5955266867241721, 'bootstrap_type': 'Bernoulli'}. Best is trial 0 with value: 1.2896391702241472.\n"
          ]
        },
        {
          "output_type": "stream",
          "name": "stdout",
          "text": [
            "\n",
            "bestTest = 1.240673196\n",
            "bestIteration = 218\n",
            "\n",
            "Training on fold [0/5]\n",
            "\n",
            "bestTest = 1.284046178\n",
            "bestIteration = 493\n",
            "\n",
            "Training on fold [1/5]\n",
            "\n",
            "bestTest = 1.236456992\n",
            "bestIteration = 444\n",
            "\n",
            "Training on fold [2/5]\n",
            "\n",
            "bestTest = 1.20709872\n",
            "bestIteration = 531\n",
            "\n",
            "Training on fold [3/5]\n",
            "\n",
            "bestTest = 1.287737414\n",
            "bestIteration = 531\n",
            "\n",
            "Training on fold [4/5]\n"
          ]
        },
        {
          "output_type": "stream",
          "name": "stderr",
          "text": [
            "[I 2024-03-14 18:29:08,405] Trial 1 finished with value: 1.5140235445659818 and parameters: {'iterations': 532, 'learning_rate': 0.01310340444392436, 'depth': 4, 'colsample_bylevel': 0.9977956702402404, 'l2_leaf_reg': 23.065994744808446, 'min_data_in_leaf': 37, 'max_bin': 70, 'random_strength': 0.1301025813637465, 'bootstrap_type': 'Bayesian'}. Best is trial 0 with value: 1.2896391702241472.\n"
          ]
        },
        {
          "output_type": "stream",
          "name": "stdout",
          "text": [
            "\n",
            "bestTest = 1.247515464\n",
            "bestIteration = 514\n",
            "\n",
            "Training on fold [0/5]\n",
            "\n",
            "bestTest = 1.282811011\n",
            "bestIteration = 398\n",
            "\n",
            "Training on fold [1/5]\n",
            "\n",
            "bestTest = 1.239992207\n",
            "bestIteration = 234\n",
            "\n",
            "Training on fold [2/5]\n",
            "\n",
            "bestTest = 1.203477052\n",
            "bestIteration = 738\n",
            "\n",
            "Training on fold [3/5]\n",
            "\n",
            "bestTest = 1.284253859\n",
            "bestIteration = 553\n",
            "\n",
            "Training on fold [4/5]\n"
          ]
        },
        {
          "output_type": "stream",
          "name": "stderr",
          "text": [
            "[I 2024-03-14 18:29:12,776] Trial 2 finished with value: 1.3556470159714529 and parameters: {'iterations': 743, 'learning_rate': 0.02308782998005454, 'depth': 5, 'colsample_bylevel': 0.829368798190724, 'l2_leaf_reg': 1.1059658668398474e-07, 'min_data_in_leaf': 45, 'max_bin': 52, 'random_strength': 0.15233682039805013, 'bootstrap_type': 'Bernoulli'}. Best is trial 0 with value: 1.2896391702241472.\n"
          ]
        },
        {
          "output_type": "stream",
          "name": "stdout",
          "text": [
            "\n",
            "bestTest = 1.245684742\n",
            "bestIteration = 567\n",
            "\n",
            "Training on fold [0/5]\n",
            "\n",
            "bestTest = 1.277023628\n",
            "bestIteration = 452\n",
            "\n",
            "Training on fold [1/5]\n",
            "\n",
            "bestTest = 1.235232618\n",
            "bestIteration = 357\n",
            "\n",
            "Training on fold [2/5]\n",
            "\n",
            "bestTest = 1.196235333\n",
            "bestIteration = 503\n",
            "\n",
            "Training on fold [3/5]\n",
            "\n",
            "bestTest = 1.280744387\n",
            "bestIteration = 506\n",
            "\n",
            "Training on fold [4/5]\n"
          ]
        },
        {
          "output_type": "stream",
          "name": "stderr",
          "text": [
            "[I 2024-03-14 18:29:24,151] Trial 3 finished with value: 1.4991742673602833 and parameters: {'iterations': 508, 'learning_rate': 0.01406008678910975, 'depth': 9, 'colsample_bylevel': 0.8604374846925429, 'l2_leaf_reg': 1.7357004509136372e-07, 'min_data_in_leaf': 4, 'max_bin': 106, 'random_strength': 0.16507462261667877, 'bootstrap_type': 'Bernoulli'}. Best is trial 0 with value: 1.2896391702241472.\n"
          ]
        },
        {
          "output_type": "stream",
          "name": "stdout",
          "text": [
            "\n",
            "bestTest = 1.240225222\n",
            "bestIteration = 478\n",
            "\n",
            "Training on fold [0/5]\n",
            "\n",
            "bestTest = 1.283751365\n",
            "bestIteration = 633\n",
            "\n",
            "Training on fold [1/5]\n",
            "\n",
            "bestTest = 1.235100025\n",
            "bestIteration = 283\n",
            "\n",
            "Training on fold [2/5]\n",
            "\n",
            "bestTest = 1.202822147\n",
            "bestIteration = 698\n",
            "\n",
            "Training on fold [3/5]\n",
            "\n",
            "bestTest = 1.284697287\n",
            "bestIteration = 700\n",
            "\n",
            "Training on fold [4/5]\n"
          ]
        },
        {
          "output_type": "stream",
          "name": "stderr",
          "text": [
            "[I 2024-03-14 18:29:31,259] Trial 4 finished with value: 1.3868578514967862 and parameters: {'iterations': 716, 'learning_rate': 0.01908635977973409, 'depth': 7, 'colsample_bylevel': 0.8202041561114162, 'l2_leaf_reg': 14.16278661743151, 'min_data_in_leaf': 30, 'max_bin': 94, 'random_strength': 0.7923316178369446, 'bootstrap_type': 'Bernoulli'}. Best is trial 0 with value: 1.2896391702241472.\n"
          ]
        },
        {
          "output_type": "stream",
          "name": "stdout",
          "text": [
            "\n",
            "bestTest = 1.246858815\n",
            "bestIteration = 710\n",
            "\n",
            "Training on fold [0/5]\n",
            "\n",
            "bestTest = 1.282292726\n",
            "bestIteration = 434\n",
            "\n",
            "Training on fold [1/5]\n",
            "\n",
            "bestTest = 1.235107803\n",
            "bestIteration = 322\n",
            "\n",
            "Training on fold [2/5]\n",
            "\n",
            "bestTest = 1.203057388\n",
            "bestIteration = 445\n",
            "\n",
            "Training on fold [3/5]\n",
            "\n",
            "bestTest = 1.284499644\n",
            "bestIteration = 418\n",
            "\n",
            "Training on fold [4/5]\n"
          ]
        },
        {
          "output_type": "stream",
          "name": "stderr",
          "text": [
            "[I 2024-03-14 18:29:36,924] Trial 5 finished with value: 1.3834964669725374 and parameters: {'iterations': 451, 'learning_rate': 0.02948116726330539, 'depth': 5, 'colsample_bylevel': 0.940762673273464, 'l2_leaf_reg': 3.508878597813937e-07, 'min_data_in_leaf': 23, 'max_bin': 193, 'random_strength': 0.2607419037139973, 'bootstrap_type': 'Bayesian'}. Best is trial 0 with value: 1.2896391702241472.\n"
          ]
        },
        {
          "output_type": "stream",
          "name": "stdout",
          "text": [
            "\n",
            "bestTest = 1.242565763\n",
            "bestIteration = 297\n",
            "\n",
            "Training on fold [0/5]\n",
            "\n",
            "bestTest = 3.271863715\n",
            "bestIteration = 120\n",
            "\n",
            "Training on fold [1/5]\n",
            "\n",
            "bestTest = 3.263559702\n",
            "bestIteration = 120\n",
            "\n",
            "Training on fold [2/5]\n",
            "\n",
            "bestTest = 3.278094962\n",
            "bestIteration = 120\n",
            "\n",
            "Training on fold [3/5]\n",
            "\n",
            "bestTest = 3.2222372\n",
            "bestIteration = 120\n",
            "\n",
            "Training on fold [4/5]\n"
          ]
        },
        {
          "output_type": "stream",
          "name": "stderr",
          "text": [
            "[I 2024-03-14 18:29:39,305] Trial 6 finished with value: 3.600826040501763 and parameters: {'iterations': 121, 'learning_rate': 0.0018644368081953788, 'depth': 9, 'colsample_bylevel': 0.6172427709138002, 'l2_leaf_reg': 0.0430922266027728, 'min_data_in_leaf': 14, 'max_bin': 152, 'random_strength': 0.10897028029495576, 'bootstrap_type': 'Bayesian'}. Best is trial 0 with value: 1.2896391702241472.\n"
          ]
        },
        {
          "output_type": "stream",
          "name": "stdout",
          "text": [
            "\n",
            "bestTest = 3.277213499\n",
            "bestIteration = 120\n",
            "\n",
            "Training on fold [0/5]\n",
            "\n",
            "bestTest = 1.280766183\n",
            "bestIteration = 812\n",
            "\n",
            "Training on fold [1/5]\n",
            "\n",
            "bestTest = 1.236869906\n",
            "bestIteration = 810\n",
            "\n",
            "Training on fold [2/5]\n",
            "\n",
            "bestTest = 1.207143771\n",
            "bestIteration = 818\n",
            "\n",
            "Training on fold [3/5]\n",
            "\n",
            "bestTest = 1.28515347\n",
            "bestIteration = 818\n",
            "\n",
            "Training on fold [4/5]\n"
          ]
        },
        {
          "output_type": "stream",
          "name": "stderr",
          "text": [
            "[I 2024-03-14 18:29:52,240] Trial 7 finished with value: 1.602473978888827 and parameters: {'iterations': 819, 'learning_rate': 0.006323634434630552, 'depth': 9, 'colsample_bylevel': 0.86703226276554, 'l2_leaf_reg': 1.4127405215123042e-08, 'min_data_in_leaf': 24, 'max_bin': 66, 'random_strength': 0.8497342659663844, 'bootstrap_type': 'Bayesian'}. Best is trial 0 with value: 1.2896391702241472.\n"
          ]
        },
        {
          "output_type": "stream",
          "name": "stdout",
          "text": [
            "\n",
            "bestTest = 1.248157516\n",
            "bestIteration = 818\n",
            "\n",
            "Training on fold [0/5]\n",
            "\n",
            "bestTest = 1.69051956\n",
            "bestIteration = 152\n",
            "\n",
            "Training on fold [1/5]\n",
            "\n",
            "bestTest = 1.666985396\n",
            "bestIteration = 152\n",
            "\n",
            "Training on fold [2/5]\n",
            "\n",
            "bestTest = 1.670957234\n",
            "bestIteration = 152\n",
            "\n",
            "Training on fold [3/5]\n",
            "\n",
            "bestTest = 1.661140723\n",
            "bestIteration = 152\n",
            "\n",
            "Training on fold [4/5]\n"
          ]
        },
        {
          "output_type": "stream",
          "name": "stderr",
          "text": [
            "[I 2024-03-14 18:29:53,206] Trial 8 finished with value: 2.5282975447999863 and parameters: {'iterations': 153, 'learning_rate': 0.008120642287379468, 'depth': 4, 'colsample_bylevel': 0.7095534119267795, 'l2_leaf_reg': 6.161556496300177, 'min_data_in_leaf': 42, 'max_bin': 79, 'random_strength': 0.6863369250073931, 'bootstrap_type': 'Bernoulli'}. Best is trial 0 with value: 1.2896391702241472.\n"
          ]
        },
        {
          "output_type": "stream",
          "name": "stdout",
          "text": [
            "\n",
            "bestTest = 1.682272879\n",
            "bestIteration = 152\n",
            "\n",
            "Training on fold [0/5]\n",
            "\n",
            "bestTest = 1.280182153\n",
            "bestIteration = 680\n",
            "\n",
            "Training on fold [1/5]\n",
            "\n",
            "bestTest = 1.23603199\n",
            "bestIteration = 672\n",
            "\n",
            "Training on fold [2/5]\n",
            "\n",
            "bestTest = 1.200039676\n",
            "bestIteration = 678\n",
            "\n",
            "Training on fold [3/5]\n",
            "\n",
            "bestTest = 1.284853869\n",
            "bestIteration = 681\n",
            "\n",
            "Training on fold [4/5]\n"
          ]
        },
        {
          "output_type": "stream",
          "name": "stderr",
          "text": [
            "[I 2024-03-14 18:30:19,665] Trial 9 finished with value: 1.5345007822749352 and parameters: {'iterations': 682, 'learning_rate': 0.009371292942368672, 'depth': 10, 'colsample_bylevel': 0.642778980888152, 'l2_leaf_reg': 0.2764758714689273, 'min_data_in_leaf': 27, 'max_bin': 209, 'random_strength': 0.5325012722706207, 'bootstrap_type': 'Bayesian'}. Best is trial 0 with value: 1.2896391702241472.\n"
          ]
        },
        {
          "output_type": "stream",
          "name": "stdout",
          "text": [
            "\n",
            "bestTest = 1.241822961\n",
            "bestIteration = 674\n",
            "\n",
            "Лучшие параметры: {'iterations': 931, 'learning_rate': 0.08739528299631436, 'depth': 9, 'colsample_bylevel': 0.7868689881643873, 'l2_leaf_reg': 9.986900632815545e-05, 'min_data_in_leaf': 33, 'max_bin': 121, 'random_strength': 0.5955266867241721, 'bootstrap_type': 'Bernoulli'}\n",
            "MSE на тестовом наборе: 1.4496252987161369\n"
          ]
        }
      ]
    },
    {
      "cell_type": "markdown",
      "metadata": {
        "id": "3VmuCs0u_L-3"
      },
      "source": [
        "## Формат результата\n",
        "\n",
        "Значение `mse` с подобранными параметрами меньше, чем при стандартных параметрах."
      ]
    },
    {
      "cell_type": "markdown",
      "metadata": {
        "id": "qsilhyGD_L-4"
      },
      "source": [
        "# Задание 5. Ансамблевое обучение (дополнительно)"
      ]
    },
    {
      "cell_type": "markdown",
      "metadata": {
        "id": "SJCbWnLh_L-4"
      },
      "source": [
        "В данной задаче вам нужно диагностировать сердечное заболевание у людей по [медицинским показателям](https://www.kaggle.com/datasets/cherngs/heart-disease-cleveland-uci)."
      ]
    },
    {
      "cell_type": "markdown",
      "metadata": {
        "id": "uUSesp3K_L-4"
      },
      "source": [
        "Установка и импорт необходимых библиотек:"
      ]
    },
    {
      "cell_type": "code",
      "execution_count": null,
      "metadata": {
        "id": "ktTUyi9i_L-4"
      },
      "outputs": [],
      "source": [
        "!pip install -q catboost\n",
        "!pip install -q lightgbm==3.0"
      ]
    },
    {
      "cell_type": "code",
      "execution_count": null,
      "metadata": {
        "id": "JiDWzK_O_L-4"
      },
      "outputs": [],
      "source": [
        "import catboost\n",
        "import lightgbm\n",
        "import xgboost\n",
        "import sklearn\n",
        "import numpy as np\n",
        "import pandas as pd\n",
        "import seaborn as sns\n",
        "import matplotlib.pyplot as plt\n",
        "\n",
        "from sklearn.svm import SVC\n",
        "from sklearn.naive_bayes import GaussianNB\n",
        "from sklearn.tree import DecisionTreeClassifier\n",
        "from sklearn.neighbors import KNeighborsClassifier\n",
        "from sklearn.linear_model import LogisticRegression\n",
        "from sklearn.model_selection import (\n",
        "    train_test_split,\n",
        "    cross_val_score,\n",
        "    KFold,\n",
        ")\n",
        "from sklearn.ensemble import (\n",
        "    RandomForestClassifier,\n",
        "    ExtraTreesClassifier,\n",
        "    VotingClassifier,\n",
        ")"
      ]
    },
    {
      "cell_type": "markdown",
      "metadata": {
        "id": "BUtKB9mH_L-4"
      },
      "source": [
        "Загрузка датасета:"
      ]
    },
    {
      "cell_type": "code",
      "execution_count": null,
      "metadata": {
        "id": "rqbASJWt_L-5"
      },
      "outputs": [],
      "source": [
        "heart_dataset = pd.read_csv(\n",
        "    \"https://edunet.kea.su/repo/EduNet-web_dependencies/datasets/heart.csv\"\n",
        ")"
      ]
    },
    {
      "cell_type": "code",
      "execution_count": null,
      "metadata": {
        "id": "5CW7rmOF_L-5"
      },
      "outputs": [],
      "source": [
        "x = heart_dataset.drop(\"target\", axis=1)\n",
        "y = heart_dataset[\"target\"]\n",
        "x_train, x_test, y_train, y_test = train_test_split(x, y, random_state=42)"
      ]
    },
    {
      "cell_type": "markdown",
      "metadata": {
        "id": "fqgBP6bo_L-5"
      },
      "source": [
        "Обучите разнообразные классификаторы, приведенные ниже, а также ансамбль `VotingClassifier` из `sklearn.ensemble`, объединяющий эти классификаторы с помощью жесткого или мякого голосования (параметр `voting =` `'hard'` или `'soft'` соответственно). Оцените качество моделей с помощью кросс-валидации на тренировочном наборе, используя функцию `cross_val_score` и метрику `f1`."
      ]
    },
    {
      "cell_type": "code",
      "execution_count": null,
      "metadata": {
        "id": "5ojA1Br6_L-5"
      },
      "outputs": [],
      "source": [
        "rng = np.random.RandomState(42)\n",
        "\n",
        "dt = DecisionTreeClassifier(random_state=rng, max_depth=10, min_samples_leaf=10)\n",
        "rf = RandomForestClassifier(n_estimators=50, random_state=rng)\n",
        "etc = ExtraTreesClassifier(random_state=rng)\n",
        "knn = KNeighborsClassifier(n_neighbors=5, weights=\"distance\")\n",
        "svc_lin = SVC(kernel=\"linear\", probability=True, random_state=rng)\n",
        "svc_rbf = SVC(kernel=\"rbf\", probability=True, random_state=rng)\n",
        "cat = catboost.CatBoostClassifier(verbose=0, random_seed=42)\n",
        "lgbm = lightgbm.LGBMClassifier(random_state=42, verbose=-1)\n",
        "lgbm_rf = lightgbm.LGBMClassifier(\n",
        "    boosting_type=\"rf\", subsample_freq=1, subsample=0.7, random_state=42, verbose=-1\n",
        ")\n",
        "xgb = xgboost.XGBClassifier(random_state=42)\n",
        "xgb_rf = xgboost.XGBRFClassifier(random_state=42)\n",
        "lr = LogisticRegression(solver=\"liblinear\", max_iter=10000)\n",
        "nb = GaussianNB()\n",
        "\n",
        "# Your code here\n",
        "\n",
        "voting_hard =\n",
        "voting_soft =\n",
        "# -----------\n",
        "\n",
        "\n",
        "for model in [voting_hard, voting_soft]:\n",
        "    scores = cross_val_score(\n",
        "        model,\n",
        "        x_train,\n",
        "        y_train,\n",
        "        cv=KFold(n_splits=3, shuffle=True, random_state=rng),\n",
        "        scoring=\"f1\",\n",
        "    )\n",
        "    print(f\"{model.__class__.__name__}: {scores.mean()}\")"
      ]
    },
    {
      "cell_type": "markdown",
      "metadata": {
        "id": "OhYgF2RA_L-5"
      },
      "source": [
        "Вы можете заметить, что ансамбль показывает хорошее, но не лучшее качество предсказания, попробуем его улучшить. Как вы знаете, ансамбли работают лучше, когда модели, входящие в них, не скоррелированы друг с другом. Определите корреляцию предсказаний базовых моделей в ансамбле на тренировочном наборе и удалите из ансамбля те модели, чьи предсказания будут сильнее коррелировать с остальными. Можете модифицировать функцию `base_model_pair_correlation` из лекции."
      ]
    },
    {
      "cell_type": "code",
      "execution_count": null,
      "metadata": {
        "id": "ici4YXH0_L-6"
      },
      "outputs": [],
      "source": [
        "# Your code here"
      ]
    },
    {
      "cell_type": "markdown",
      "metadata": {
        "id": "KZigZcST_L-6"
      },
      "source": [
        "Создайте новый ансамбль, на исправленном наборе моделей и оцените его качество с помощью кросс-валидации на тренировочном наборе, используя функцию `cross_val_score` и метрику `f1`."
      ]
    },
    {
      "cell_type": "code",
      "execution_count": null,
      "metadata": {
        "id": "s1Hl3p1x_L-6"
      },
      "outputs": [],
      "source": [
        "# Your code here\n",
        "\n",
        "voting_hard_2 =\n",
        "voting_soft_2 =\n",
        "# ------------\n",
        "\n",
        "for model in [voting_hard_2, voting_soft_2]:\n",
        "    scores = cross_val_score(\n",
        "        model,\n",
        "        x_train,\n",
        "        y_train,\n",
        "        cv=KFold(n_splits=3, shuffle=True, random_state=rng),\n",
        "        scoring=\"f1\",\n",
        "    )\n",
        "    print(f\"{model.__class__.__name__}: {scores.mean()}\")"
      ]
    },
    {
      "cell_type": "markdown",
      "metadata": {
        "id": "KJaqSk6l_L-6"
      },
      "source": [
        "Обучите все получившиеся модели на тренировочном наборе и испытайте их качество на тестовом наборе. Получилось ли у улучшенных версий ансамблевого классификатора превзойти базовые модели, входящие в него, и свои предыдущие версии?"
      ]
    },
    {
      "cell_type": "code",
      "execution_count": null,
      "metadata": {
        "id": "h5gcGA83_L-6"
      },
      "outputs": [],
      "source": [
        "# Your code here"
      ]
    },
    {
      "cell_type": "markdown",
      "metadata": {
        "id": "EUSRil-r_L-6"
      },
      "source": [
        "Какие ансамбли работают лучше? Всегда ли больше моделей значит лучше?\n",
        "\n",
        "**Напишите вывод**"
      ]
    },
    {
      "cell_type": "markdown",
      "metadata": {
        "id": "iODH5ElQ_L-6"
      },
      "source": [
        "## Формат результата"
      ]
    },
    {
      "cell_type": "markdown",
      "metadata": {
        "id": "jEUC3XlW_L-6"
      },
      "source": [
        "Получить значения качества для ансамблей и моделей."
      ]
    }
  ],
  "metadata": {
    "colab": {
      "provenance": [],
      "toc_visible": true
    },
    "language_info": {
      "name": "python"
    },
    "kernelspec": {
      "name": "python3",
      "display_name": "Python 3"
    }
  },
  "nbformat": 4,
  "nbformat_minor": 0
}