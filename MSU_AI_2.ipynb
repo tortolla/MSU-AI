{
  "cells": [
    {
      "cell_type": "markdown",
      "metadata": {
        "id": "ZjnzsprY3IV4"
      },
      "source": [
        "# Вспомогательный код"
      ]
    },
    {
      "cell_type": "code",
      "execution_count": null,
      "metadata": {
        "id": "xopwBoB33IV8"
      },
      "outputs": [],
      "source": [
        "import random\n",
        "import numpy as np\n",
        "\n",
        "\n",
        "def set_seed():\n",
        "    random.seed(42)\n",
        "    np.random.seed(42)"
      ]
    },
    {
      "cell_type": "markdown",
      "metadata": {
        "id": "cuK7SZmr3IV_"
      },
      "source": [
        "# Задание 1. Множественная линейная регрессия"
      ]
    },
    {
      "cell_type": "markdown",
      "metadata": {
        "id": "lVrGD5GY3IWA"
      },
      "source": [
        "Почти все проблемы реального мира, с которыми вы столкнетесь, будут иметь более двух переменных. Линейная регрессия с участием нескольких переменных называется **«множественной линейной регрессией» (Multiple Linear Regression)**.\n",
        "\n",
        "Уравнение множественной линейной регрессии имеет вид:\n",
        "\n",
        "$y = b_0 + b_1 * x_1 + b_2 * x_2 + ... + b_n * x_n$\n",
        "\n",
        "Отличие между простой и множественной линейной регрессией заключается в том, что в случае множественной линейной регрессии вместо линии регрессии используется гиперплоскость.\n",
        "\n",
        "В этом задании мы будем использовать множественную линейную регрессию для прогнозирования потребления бензина (в миллионах галлонов) в 48 штатах США на основе: налогов на бензин (в центах), дохода на душу населения (в долларах), шоссе с твердым покрытием (в милях) и доли населения, имеющего водительские права."
      ]
    },
    {
      "cell_type": "markdown",
      "metadata": {
        "id": "HcbM2NaB3IWB"
      },
      "source": [
        "Задание:\n",
        "\n",
        "1. Разделить датасет на тренировочную и тестовую части в соотношении 4 к 1 (`random_state=42`)\n",
        "1. Провести нормализацию/стандартизацию данных одним из рассмотренных на лекции способов\n",
        "1. Реализовать множественную линейную регрессию с помощью Sklearn\n",
        "1. Обучить модель\n",
        "1. Вывести сравнительную таблицу `y_test` и `y_pred`\n",
        "1. Вывести параметры качества модели:\n",
        "  - Mean Absolute Error\n",
        "  - Mean Squared Error\n",
        "  - Root Mean Squared Error"
      ]
    },
    {
      "cell_type": "markdown",
      "metadata": {
        "id": "diPMDm5y3IWD"
      },
      "source": [
        "Импорт необходимых библиотек:"
      ]
    },
    {
      "cell_type": "code",
      "execution_count": null,
      "metadata": {
        "id": "6nQS4Vp43IWE"
      },
      "outputs": [],
      "source": [
        "import pandas as pd\n",
        "import matplotlib.pyplot as plt\n",
        "from sklearn import metrics\n",
        "from sklearn.preprocessing import StandardScaler\n",
        "from sklearn.linear_model import LinearRegression\n",
        "from sklearn.model_selection import train_test_split"
      ]
    },
    {
      "cell_type": "markdown",
      "metadata": {
        "id": "0Oxg6ks93IWE"
      },
      "source": [
        "Загрузка датасета:"
      ]
    },
    {
      "cell_type": "code",
      "execution_count": null,
      "metadata": {
        "id": "kcyqR8bb3IWF"
      },
      "outputs": [],
      "source": [
        "!wget -q https://edunet.kea.su/repo/EduNet-web_dependencies/datasets/petrol_consumption.csv"
      ]
    },
    {
      "cell_type": "markdown",
      "metadata": {
        "id": "aFPqi0-V3IWF"
      },
      "source": [
        "!wget доступен в colab, но недоступен через локальный jupyter.\n",
        "\n",
        "В локальном случае требуется [скачать](https://www.kaggle.com/code/kerneler/starter-petrol-consumption-2d0bf1e7-0/input) `petrol_consumption.csv` самостоятельно."
      ]
    },
    {
      "cell_type": "code",
      "execution_count": null,
      "metadata": {
        "id": "P6Z5qZYr3IWG",
        "colab": {
          "base_uri": "https://localhost:8080/",
          "height": 221
        },
        "outputId": "48d8a508-6bf5-4d5c-dea1-88d0703968bb"
      },
      "outputs": [
        {
          "output_type": "stream",
          "name": "stdout",
          "text": [
            "(48, 5)\n"
          ]
        },
        {
          "output_type": "execute_result",
          "data": {
            "text/plain": [
              "   Petrol_tax  Average_income  Paved_Highways  Population_Driver_licence(%)  \\\n",
              "0         9.0            3571            1976                         0.525   \n",
              "1         9.0            4092            1250                         0.572   \n",
              "2         9.0            3865            1586                         0.580   \n",
              "3         7.5            4870            2351                         0.529   \n",
              "4         8.0            4399             431                         0.544   \n",
              "\n",
              "   Petrol_Consumption  \n",
              "0                 541  \n",
              "1                 524  \n",
              "2                 561  \n",
              "3                 414  \n",
              "4                 410  "
            ],
            "text/html": [
              "\n",
              "  <div id=\"df-8e61c650-49aa-488e-a5cd-baff24b58652\" class=\"colab-df-container\">\n",
              "    <div>\n",
              "<style scoped>\n",
              "    .dataframe tbody tr th:only-of-type {\n",
              "        vertical-align: middle;\n",
              "    }\n",
              "\n",
              "    .dataframe tbody tr th {\n",
              "        vertical-align: top;\n",
              "    }\n",
              "\n",
              "    .dataframe thead th {\n",
              "        text-align: right;\n",
              "    }\n",
              "</style>\n",
              "<table border=\"1\" class=\"dataframe\">\n",
              "  <thead>\n",
              "    <tr style=\"text-align: right;\">\n",
              "      <th></th>\n",
              "      <th>Petrol_tax</th>\n",
              "      <th>Average_income</th>\n",
              "      <th>Paved_Highways</th>\n",
              "      <th>Population_Driver_licence(%)</th>\n",
              "      <th>Petrol_Consumption</th>\n",
              "    </tr>\n",
              "  </thead>\n",
              "  <tbody>\n",
              "    <tr>\n",
              "      <th>0</th>\n",
              "      <td>9.0</td>\n",
              "      <td>3571</td>\n",
              "      <td>1976</td>\n",
              "      <td>0.525</td>\n",
              "      <td>541</td>\n",
              "    </tr>\n",
              "    <tr>\n",
              "      <th>1</th>\n",
              "      <td>9.0</td>\n",
              "      <td>4092</td>\n",
              "      <td>1250</td>\n",
              "      <td>0.572</td>\n",
              "      <td>524</td>\n",
              "    </tr>\n",
              "    <tr>\n",
              "      <th>2</th>\n",
              "      <td>9.0</td>\n",
              "      <td>3865</td>\n",
              "      <td>1586</td>\n",
              "      <td>0.580</td>\n",
              "      <td>561</td>\n",
              "    </tr>\n",
              "    <tr>\n",
              "      <th>3</th>\n",
              "      <td>7.5</td>\n",
              "      <td>4870</td>\n",
              "      <td>2351</td>\n",
              "      <td>0.529</td>\n",
              "      <td>414</td>\n",
              "    </tr>\n",
              "    <tr>\n",
              "      <th>4</th>\n",
              "      <td>8.0</td>\n",
              "      <td>4399</td>\n",
              "      <td>431</td>\n",
              "      <td>0.544</td>\n",
              "      <td>410</td>\n",
              "    </tr>\n",
              "  </tbody>\n",
              "</table>\n",
              "</div>\n",
              "    <div class=\"colab-df-buttons\">\n",
              "\n",
              "  <div class=\"colab-df-container\">\n",
              "    <button class=\"colab-df-convert\" onclick=\"convertToInteractive('df-8e61c650-49aa-488e-a5cd-baff24b58652')\"\n",
              "            title=\"Convert this dataframe to an interactive table.\"\n",
              "            style=\"display:none;\">\n",
              "\n",
              "  <svg xmlns=\"http://www.w3.org/2000/svg\" height=\"24px\" viewBox=\"0 -960 960 960\">\n",
              "    <path d=\"M120-120v-720h720v720H120Zm60-500h600v-160H180v160Zm220 220h160v-160H400v160Zm0 220h160v-160H400v160ZM180-400h160v-160H180v160Zm440 0h160v-160H620v160ZM180-180h160v-160H180v160Zm440 0h160v-160H620v160Z\"/>\n",
              "  </svg>\n",
              "    </button>\n",
              "\n",
              "  <style>\n",
              "    .colab-df-container {\n",
              "      display:flex;\n",
              "      gap: 12px;\n",
              "    }\n",
              "\n",
              "    .colab-df-convert {\n",
              "      background-color: #E8F0FE;\n",
              "      border: none;\n",
              "      border-radius: 50%;\n",
              "      cursor: pointer;\n",
              "      display: none;\n",
              "      fill: #1967D2;\n",
              "      height: 32px;\n",
              "      padding: 0 0 0 0;\n",
              "      width: 32px;\n",
              "    }\n",
              "\n",
              "    .colab-df-convert:hover {\n",
              "      background-color: #E2EBFA;\n",
              "      box-shadow: 0px 1px 2px rgba(60, 64, 67, 0.3), 0px 1px 3px 1px rgba(60, 64, 67, 0.15);\n",
              "      fill: #174EA6;\n",
              "    }\n",
              "\n",
              "    .colab-df-buttons div {\n",
              "      margin-bottom: 4px;\n",
              "    }\n",
              "\n",
              "    [theme=dark] .colab-df-convert {\n",
              "      background-color: #3B4455;\n",
              "      fill: #D2E3FC;\n",
              "    }\n",
              "\n",
              "    [theme=dark] .colab-df-convert:hover {\n",
              "      background-color: #434B5C;\n",
              "      box-shadow: 0px 1px 3px 1px rgba(0, 0, 0, 0.15);\n",
              "      filter: drop-shadow(0px 1px 2px rgba(0, 0, 0, 0.3));\n",
              "      fill: #FFFFFF;\n",
              "    }\n",
              "  </style>\n",
              "\n",
              "    <script>\n",
              "      const buttonEl =\n",
              "        document.querySelector('#df-8e61c650-49aa-488e-a5cd-baff24b58652 button.colab-df-convert');\n",
              "      buttonEl.style.display =\n",
              "        google.colab.kernel.accessAllowed ? 'block' : 'none';\n",
              "\n",
              "      async function convertToInteractive(key) {\n",
              "        const element = document.querySelector('#df-8e61c650-49aa-488e-a5cd-baff24b58652');\n",
              "        const dataTable =\n",
              "          await google.colab.kernel.invokeFunction('convertToInteractive',\n",
              "                                                    [key], {});\n",
              "        if (!dataTable) return;\n",
              "\n",
              "        const docLinkHtml = 'Like what you see? Visit the ' +\n",
              "          '<a target=\"_blank\" href=https://colab.research.google.com/notebooks/data_table.ipynb>data table notebook</a>'\n",
              "          + ' to learn more about interactive tables.';\n",
              "        element.innerHTML = '';\n",
              "        dataTable['output_type'] = 'display_data';\n",
              "        await google.colab.output.renderOutput(dataTable, element);\n",
              "        const docLink = document.createElement('div');\n",
              "        docLink.innerHTML = docLinkHtml;\n",
              "        element.appendChild(docLink);\n",
              "      }\n",
              "    </script>\n",
              "  </div>\n",
              "\n",
              "\n",
              "<div id=\"df-eb7ff97e-8a4b-4691-9e3f-17df818b352f\">\n",
              "  <button class=\"colab-df-quickchart\" onclick=\"quickchart('df-eb7ff97e-8a4b-4691-9e3f-17df818b352f')\"\n",
              "            title=\"Suggest charts\"\n",
              "            style=\"display:none;\">\n",
              "\n",
              "<svg xmlns=\"http://www.w3.org/2000/svg\" height=\"24px\"viewBox=\"0 0 24 24\"\n",
              "     width=\"24px\">\n",
              "    <g>\n",
              "        <path d=\"M19 3H5c-1.1 0-2 .9-2 2v14c0 1.1.9 2 2 2h14c1.1 0 2-.9 2-2V5c0-1.1-.9-2-2-2zM9 17H7v-7h2v7zm4 0h-2V7h2v10zm4 0h-2v-4h2v4z\"/>\n",
              "    </g>\n",
              "</svg>\n",
              "  </button>\n",
              "\n",
              "<style>\n",
              "  .colab-df-quickchart {\n",
              "      --bg-color: #E8F0FE;\n",
              "      --fill-color: #1967D2;\n",
              "      --hover-bg-color: #E2EBFA;\n",
              "      --hover-fill-color: #174EA6;\n",
              "      --disabled-fill-color: #AAA;\n",
              "      --disabled-bg-color: #DDD;\n",
              "  }\n",
              "\n",
              "  [theme=dark] .colab-df-quickchart {\n",
              "      --bg-color: #3B4455;\n",
              "      --fill-color: #D2E3FC;\n",
              "      --hover-bg-color: #434B5C;\n",
              "      --hover-fill-color: #FFFFFF;\n",
              "      --disabled-bg-color: #3B4455;\n",
              "      --disabled-fill-color: #666;\n",
              "  }\n",
              "\n",
              "  .colab-df-quickchart {\n",
              "    background-color: var(--bg-color);\n",
              "    border: none;\n",
              "    border-radius: 50%;\n",
              "    cursor: pointer;\n",
              "    display: none;\n",
              "    fill: var(--fill-color);\n",
              "    height: 32px;\n",
              "    padding: 0;\n",
              "    width: 32px;\n",
              "  }\n",
              "\n",
              "  .colab-df-quickchart:hover {\n",
              "    background-color: var(--hover-bg-color);\n",
              "    box-shadow: 0 1px 2px rgba(60, 64, 67, 0.3), 0 1px 3px 1px rgba(60, 64, 67, 0.15);\n",
              "    fill: var(--button-hover-fill-color);\n",
              "  }\n",
              "\n",
              "  .colab-df-quickchart-complete:disabled,\n",
              "  .colab-df-quickchart-complete:disabled:hover {\n",
              "    background-color: var(--disabled-bg-color);\n",
              "    fill: var(--disabled-fill-color);\n",
              "    box-shadow: none;\n",
              "  }\n",
              "\n",
              "  .colab-df-spinner {\n",
              "    border: 2px solid var(--fill-color);\n",
              "    border-color: transparent;\n",
              "    border-bottom-color: var(--fill-color);\n",
              "    animation:\n",
              "      spin 1s steps(1) infinite;\n",
              "  }\n",
              "\n",
              "  @keyframes spin {\n",
              "    0% {\n",
              "      border-color: transparent;\n",
              "      border-bottom-color: var(--fill-color);\n",
              "      border-left-color: var(--fill-color);\n",
              "    }\n",
              "    20% {\n",
              "      border-color: transparent;\n",
              "      border-left-color: var(--fill-color);\n",
              "      border-top-color: var(--fill-color);\n",
              "    }\n",
              "    30% {\n",
              "      border-color: transparent;\n",
              "      border-left-color: var(--fill-color);\n",
              "      border-top-color: var(--fill-color);\n",
              "      border-right-color: var(--fill-color);\n",
              "    }\n",
              "    40% {\n",
              "      border-color: transparent;\n",
              "      border-right-color: var(--fill-color);\n",
              "      border-top-color: var(--fill-color);\n",
              "    }\n",
              "    60% {\n",
              "      border-color: transparent;\n",
              "      border-right-color: var(--fill-color);\n",
              "    }\n",
              "    80% {\n",
              "      border-color: transparent;\n",
              "      border-right-color: var(--fill-color);\n",
              "      border-bottom-color: var(--fill-color);\n",
              "    }\n",
              "    90% {\n",
              "      border-color: transparent;\n",
              "      border-bottom-color: var(--fill-color);\n",
              "    }\n",
              "  }\n",
              "</style>\n",
              "\n",
              "  <script>\n",
              "    async function quickchart(key) {\n",
              "      const quickchartButtonEl =\n",
              "        document.querySelector('#' + key + ' button');\n",
              "      quickchartButtonEl.disabled = true;  // To prevent multiple clicks.\n",
              "      quickchartButtonEl.classList.add('colab-df-spinner');\n",
              "      try {\n",
              "        const charts = await google.colab.kernel.invokeFunction(\n",
              "            'suggestCharts', [key], {});\n",
              "      } catch (error) {\n",
              "        console.error('Error during call to suggestCharts:', error);\n",
              "      }\n",
              "      quickchartButtonEl.classList.remove('colab-df-spinner');\n",
              "      quickchartButtonEl.classList.add('colab-df-quickchart-complete');\n",
              "    }\n",
              "    (() => {\n",
              "      let quickchartButtonEl =\n",
              "        document.querySelector('#df-eb7ff97e-8a4b-4691-9e3f-17df818b352f button');\n",
              "      quickchartButtonEl.style.display =\n",
              "        google.colab.kernel.accessAllowed ? 'block' : 'none';\n",
              "    })();\n",
              "  </script>\n",
              "</div>\n",
              "    </div>\n",
              "  </div>\n"
            ],
            "application/vnd.google.colaboratory.intrinsic+json": {
              "type": "dataframe",
              "variable_name": "dataset",
              "summary": "{\n  \"name\": \"dataset\",\n  \"rows\": 48,\n  \"fields\": [\n    {\n      \"column\": \"Petrol_tax\",\n      \"properties\": {\n        \"dtype\": \"number\",\n        \"std\": 0.9507697516051801,\n        \"min\": 5.0,\n        \"max\": 10.0,\n        \"num_unique_values\": 9,\n        \"samples\": [\n          5.0,\n          7.5,\n          8.5\n        ],\n        \"semantic_type\": \"\",\n        \"description\": \"\"\n      }\n    },\n    {\n      \"column\": \"Average_income\",\n      \"properties\": {\n        \"dtype\": \"number\",\n        \"std\": 573,\n        \"min\": 3063,\n        \"max\": 5342,\n        \"num_unique_values\": 47,\n        \"samples\": [\n          4188,\n          4449,\n          3846\n        ],\n        \"semantic_type\": \"\",\n        \"description\": \"\"\n      }\n    },\n    {\n      \"column\": \"Paved_Highways\",\n      \"properties\": {\n        \"dtype\": \"number\",\n        \"std\": 3491,\n        \"min\": 431,\n        \"max\": 17782,\n        \"num_unique_values\": 47,\n        \"samples\": [\n          9061,\n          4639,\n          5399\n        ],\n        \"semantic_type\": \"\",\n        \"description\": \"\"\n      }\n    },\n    {\n      \"column\": \"Population_Driver_licence(%)\",\n      \"properties\": {\n        \"dtype\": \"number\",\n        \"std\": 0.05547026549972453,\n        \"min\": 0.451,\n        \"max\": 0.724,\n        \"num_unique_values\": 39,\n        \"samples\": [\n          0.672,\n          0.508,\n          0.544\n        ],\n        \"semantic_type\": \"\",\n        \"description\": \"\"\n      }\n    },\n    {\n      \"column\": \"Petrol_Consumption\",\n      \"properties\": {\n        \"dtype\": \"number\",\n        \"std\": 111,\n        \"min\": 344,\n        \"max\": 968,\n        \"num_unique_values\": 43,\n        \"samples\": [\n          699,\n          577,\n          631\n        ],\n        \"semantic_type\": \"\",\n        \"description\": \"\"\n      }\n    }\n  ]\n}"
            }
          },
          "metadata": {},
          "execution_count": 4
        }
      ],
      "source": [
        "dataset = pd.read_csv(\"/content/petrol_consumption.csv\")\n",
        "print(dataset.shape)\n",
        "dataset.head()"
      ]
    },
    {
      "cell_type": "code",
      "execution_count": null,
      "metadata": {
        "id": "U0desM-c3IWG",
        "colab": {
          "base_uri": "https://localhost:8080/",
          "height": 297
        },
        "outputId": "62857ebf-ed0a-4ddf-e633-6013ebf740b9"
      },
      "outputs": [
        {
          "output_type": "execute_result",
          "data": {
            "text/plain": [
              "       Petrol_tax  Average_income  Paved_Highways  \\\n",
              "count   48.000000       48.000000       48.000000   \n",
              "mean     7.668333     4241.833333     5565.416667   \n",
              "std      0.950770      573.623768     3491.507166   \n",
              "min      5.000000     3063.000000      431.000000   \n",
              "25%      7.000000     3739.000000     3110.250000   \n",
              "50%      7.500000     4298.000000     4735.500000   \n",
              "75%      8.125000     4578.750000     7156.000000   \n",
              "max     10.000000     5342.000000    17782.000000   \n",
              "\n",
              "       Population_Driver_licence(%)  Petrol_Consumption  \n",
              "count                     48.000000           48.000000  \n",
              "mean                       0.570333          576.770833  \n",
              "std                        0.055470          111.885816  \n",
              "min                        0.451000          344.000000  \n",
              "25%                        0.529750          509.500000  \n",
              "50%                        0.564500          568.500000  \n",
              "75%                        0.595250          632.750000  \n",
              "max                        0.724000          968.000000  "
            ],
            "text/html": [
              "\n",
              "  <div id=\"df-58efce1e-e949-426a-8153-81cdfd8ce582\" class=\"colab-df-container\">\n",
              "    <div>\n",
              "<style scoped>\n",
              "    .dataframe tbody tr th:only-of-type {\n",
              "        vertical-align: middle;\n",
              "    }\n",
              "\n",
              "    .dataframe tbody tr th {\n",
              "        vertical-align: top;\n",
              "    }\n",
              "\n",
              "    .dataframe thead th {\n",
              "        text-align: right;\n",
              "    }\n",
              "</style>\n",
              "<table border=\"1\" class=\"dataframe\">\n",
              "  <thead>\n",
              "    <tr style=\"text-align: right;\">\n",
              "      <th></th>\n",
              "      <th>Petrol_tax</th>\n",
              "      <th>Average_income</th>\n",
              "      <th>Paved_Highways</th>\n",
              "      <th>Population_Driver_licence(%)</th>\n",
              "      <th>Petrol_Consumption</th>\n",
              "    </tr>\n",
              "  </thead>\n",
              "  <tbody>\n",
              "    <tr>\n",
              "      <th>count</th>\n",
              "      <td>48.000000</td>\n",
              "      <td>48.000000</td>\n",
              "      <td>48.000000</td>\n",
              "      <td>48.000000</td>\n",
              "      <td>48.000000</td>\n",
              "    </tr>\n",
              "    <tr>\n",
              "      <th>mean</th>\n",
              "      <td>7.668333</td>\n",
              "      <td>4241.833333</td>\n",
              "      <td>5565.416667</td>\n",
              "      <td>0.570333</td>\n",
              "      <td>576.770833</td>\n",
              "    </tr>\n",
              "    <tr>\n",
              "      <th>std</th>\n",
              "      <td>0.950770</td>\n",
              "      <td>573.623768</td>\n",
              "      <td>3491.507166</td>\n",
              "      <td>0.055470</td>\n",
              "      <td>111.885816</td>\n",
              "    </tr>\n",
              "    <tr>\n",
              "      <th>min</th>\n",
              "      <td>5.000000</td>\n",
              "      <td>3063.000000</td>\n",
              "      <td>431.000000</td>\n",
              "      <td>0.451000</td>\n",
              "      <td>344.000000</td>\n",
              "    </tr>\n",
              "    <tr>\n",
              "      <th>25%</th>\n",
              "      <td>7.000000</td>\n",
              "      <td>3739.000000</td>\n",
              "      <td>3110.250000</td>\n",
              "      <td>0.529750</td>\n",
              "      <td>509.500000</td>\n",
              "    </tr>\n",
              "    <tr>\n",
              "      <th>50%</th>\n",
              "      <td>7.500000</td>\n",
              "      <td>4298.000000</td>\n",
              "      <td>4735.500000</td>\n",
              "      <td>0.564500</td>\n",
              "      <td>568.500000</td>\n",
              "    </tr>\n",
              "    <tr>\n",
              "      <th>75%</th>\n",
              "      <td>8.125000</td>\n",
              "      <td>4578.750000</td>\n",
              "      <td>7156.000000</td>\n",
              "      <td>0.595250</td>\n",
              "      <td>632.750000</td>\n",
              "    </tr>\n",
              "    <tr>\n",
              "      <th>max</th>\n",
              "      <td>10.000000</td>\n",
              "      <td>5342.000000</td>\n",
              "      <td>17782.000000</td>\n",
              "      <td>0.724000</td>\n",
              "      <td>968.000000</td>\n",
              "    </tr>\n",
              "  </tbody>\n",
              "</table>\n",
              "</div>\n",
              "    <div class=\"colab-df-buttons\">\n",
              "\n",
              "  <div class=\"colab-df-container\">\n",
              "    <button class=\"colab-df-convert\" onclick=\"convertToInteractive('df-58efce1e-e949-426a-8153-81cdfd8ce582')\"\n",
              "            title=\"Convert this dataframe to an interactive table.\"\n",
              "            style=\"display:none;\">\n",
              "\n",
              "  <svg xmlns=\"http://www.w3.org/2000/svg\" height=\"24px\" viewBox=\"0 -960 960 960\">\n",
              "    <path d=\"M120-120v-720h720v720H120Zm60-500h600v-160H180v160Zm220 220h160v-160H400v160Zm0 220h160v-160H400v160ZM180-400h160v-160H180v160Zm440 0h160v-160H620v160ZM180-180h160v-160H180v160Zm440 0h160v-160H620v160Z\"/>\n",
              "  </svg>\n",
              "    </button>\n",
              "\n",
              "  <style>\n",
              "    .colab-df-container {\n",
              "      display:flex;\n",
              "      gap: 12px;\n",
              "    }\n",
              "\n",
              "    .colab-df-convert {\n",
              "      background-color: #E8F0FE;\n",
              "      border: none;\n",
              "      border-radius: 50%;\n",
              "      cursor: pointer;\n",
              "      display: none;\n",
              "      fill: #1967D2;\n",
              "      height: 32px;\n",
              "      padding: 0 0 0 0;\n",
              "      width: 32px;\n",
              "    }\n",
              "\n",
              "    .colab-df-convert:hover {\n",
              "      background-color: #E2EBFA;\n",
              "      box-shadow: 0px 1px 2px rgba(60, 64, 67, 0.3), 0px 1px 3px 1px rgba(60, 64, 67, 0.15);\n",
              "      fill: #174EA6;\n",
              "    }\n",
              "\n",
              "    .colab-df-buttons div {\n",
              "      margin-bottom: 4px;\n",
              "    }\n",
              "\n",
              "    [theme=dark] .colab-df-convert {\n",
              "      background-color: #3B4455;\n",
              "      fill: #D2E3FC;\n",
              "    }\n",
              "\n",
              "    [theme=dark] .colab-df-convert:hover {\n",
              "      background-color: #434B5C;\n",
              "      box-shadow: 0px 1px 3px 1px rgba(0, 0, 0, 0.15);\n",
              "      filter: drop-shadow(0px 1px 2px rgba(0, 0, 0, 0.3));\n",
              "      fill: #FFFFFF;\n",
              "    }\n",
              "  </style>\n",
              "\n",
              "    <script>\n",
              "      const buttonEl =\n",
              "        document.querySelector('#df-58efce1e-e949-426a-8153-81cdfd8ce582 button.colab-df-convert');\n",
              "      buttonEl.style.display =\n",
              "        google.colab.kernel.accessAllowed ? 'block' : 'none';\n",
              "\n",
              "      async function convertToInteractive(key) {\n",
              "        const element = document.querySelector('#df-58efce1e-e949-426a-8153-81cdfd8ce582');\n",
              "        const dataTable =\n",
              "          await google.colab.kernel.invokeFunction('convertToInteractive',\n",
              "                                                    [key], {});\n",
              "        if (!dataTable) return;\n",
              "\n",
              "        const docLinkHtml = 'Like what you see? Visit the ' +\n",
              "          '<a target=\"_blank\" href=https://colab.research.google.com/notebooks/data_table.ipynb>data table notebook</a>'\n",
              "          + ' to learn more about interactive tables.';\n",
              "        element.innerHTML = '';\n",
              "        dataTable['output_type'] = 'display_data';\n",
              "        await google.colab.output.renderOutput(dataTable, element);\n",
              "        const docLink = document.createElement('div');\n",
              "        docLink.innerHTML = docLinkHtml;\n",
              "        element.appendChild(docLink);\n",
              "      }\n",
              "    </script>\n",
              "  </div>\n",
              "\n",
              "\n",
              "<div id=\"df-ed2eaeb8-5a05-4149-b9f5-0bb26e4f6f47\">\n",
              "  <button class=\"colab-df-quickchart\" onclick=\"quickchart('df-ed2eaeb8-5a05-4149-b9f5-0bb26e4f6f47')\"\n",
              "            title=\"Suggest charts\"\n",
              "            style=\"display:none;\">\n",
              "\n",
              "<svg xmlns=\"http://www.w3.org/2000/svg\" height=\"24px\"viewBox=\"0 0 24 24\"\n",
              "     width=\"24px\">\n",
              "    <g>\n",
              "        <path d=\"M19 3H5c-1.1 0-2 .9-2 2v14c0 1.1.9 2 2 2h14c1.1 0 2-.9 2-2V5c0-1.1-.9-2-2-2zM9 17H7v-7h2v7zm4 0h-2V7h2v10zm4 0h-2v-4h2v4z\"/>\n",
              "    </g>\n",
              "</svg>\n",
              "  </button>\n",
              "\n",
              "<style>\n",
              "  .colab-df-quickchart {\n",
              "      --bg-color: #E8F0FE;\n",
              "      --fill-color: #1967D2;\n",
              "      --hover-bg-color: #E2EBFA;\n",
              "      --hover-fill-color: #174EA6;\n",
              "      --disabled-fill-color: #AAA;\n",
              "      --disabled-bg-color: #DDD;\n",
              "  }\n",
              "\n",
              "  [theme=dark] .colab-df-quickchart {\n",
              "      --bg-color: #3B4455;\n",
              "      --fill-color: #D2E3FC;\n",
              "      --hover-bg-color: #434B5C;\n",
              "      --hover-fill-color: #FFFFFF;\n",
              "      --disabled-bg-color: #3B4455;\n",
              "      --disabled-fill-color: #666;\n",
              "  }\n",
              "\n",
              "  .colab-df-quickchart {\n",
              "    background-color: var(--bg-color);\n",
              "    border: none;\n",
              "    border-radius: 50%;\n",
              "    cursor: pointer;\n",
              "    display: none;\n",
              "    fill: var(--fill-color);\n",
              "    height: 32px;\n",
              "    padding: 0;\n",
              "    width: 32px;\n",
              "  }\n",
              "\n",
              "  .colab-df-quickchart:hover {\n",
              "    background-color: var(--hover-bg-color);\n",
              "    box-shadow: 0 1px 2px rgba(60, 64, 67, 0.3), 0 1px 3px 1px rgba(60, 64, 67, 0.15);\n",
              "    fill: var(--button-hover-fill-color);\n",
              "  }\n",
              "\n",
              "  .colab-df-quickchart-complete:disabled,\n",
              "  .colab-df-quickchart-complete:disabled:hover {\n",
              "    background-color: var(--disabled-bg-color);\n",
              "    fill: var(--disabled-fill-color);\n",
              "    box-shadow: none;\n",
              "  }\n",
              "\n",
              "  .colab-df-spinner {\n",
              "    border: 2px solid var(--fill-color);\n",
              "    border-color: transparent;\n",
              "    border-bottom-color: var(--fill-color);\n",
              "    animation:\n",
              "      spin 1s steps(1) infinite;\n",
              "  }\n",
              "\n",
              "  @keyframes spin {\n",
              "    0% {\n",
              "      border-color: transparent;\n",
              "      border-bottom-color: var(--fill-color);\n",
              "      border-left-color: var(--fill-color);\n",
              "    }\n",
              "    20% {\n",
              "      border-color: transparent;\n",
              "      border-left-color: var(--fill-color);\n",
              "      border-top-color: var(--fill-color);\n",
              "    }\n",
              "    30% {\n",
              "      border-color: transparent;\n",
              "      border-left-color: var(--fill-color);\n",
              "      border-top-color: var(--fill-color);\n",
              "      border-right-color: var(--fill-color);\n",
              "    }\n",
              "    40% {\n",
              "      border-color: transparent;\n",
              "      border-right-color: var(--fill-color);\n",
              "      border-top-color: var(--fill-color);\n",
              "    }\n",
              "    60% {\n",
              "      border-color: transparent;\n",
              "      border-right-color: var(--fill-color);\n",
              "    }\n",
              "    80% {\n",
              "      border-color: transparent;\n",
              "      border-right-color: var(--fill-color);\n",
              "      border-bottom-color: var(--fill-color);\n",
              "    }\n",
              "    90% {\n",
              "      border-color: transparent;\n",
              "      border-bottom-color: var(--fill-color);\n",
              "    }\n",
              "  }\n",
              "</style>\n",
              "\n",
              "  <script>\n",
              "    async function quickchart(key) {\n",
              "      const quickchartButtonEl =\n",
              "        document.querySelector('#' + key + ' button');\n",
              "      quickchartButtonEl.disabled = true;  // To prevent multiple clicks.\n",
              "      quickchartButtonEl.classList.add('colab-df-spinner');\n",
              "      try {\n",
              "        const charts = await google.colab.kernel.invokeFunction(\n",
              "            'suggestCharts', [key], {});\n",
              "      } catch (error) {\n",
              "        console.error('Error during call to suggestCharts:', error);\n",
              "      }\n",
              "      quickchartButtonEl.classList.remove('colab-df-spinner');\n",
              "      quickchartButtonEl.classList.add('colab-df-quickchart-complete');\n",
              "    }\n",
              "    (() => {\n",
              "      let quickchartButtonEl =\n",
              "        document.querySelector('#df-ed2eaeb8-5a05-4149-b9f5-0bb26e4f6f47 button');\n",
              "      quickchartButtonEl.style.display =\n",
              "        google.colab.kernel.accessAllowed ? 'block' : 'none';\n",
              "    })();\n",
              "  </script>\n",
              "</div>\n",
              "    </div>\n",
              "  </div>\n"
            ],
            "application/vnd.google.colaboratory.intrinsic+json": {
              "type": "dataframe",
              "summary": "{\n  \"name\": \"dataset\",\n  \"rows\": 8,\n  \"fields\": [\n    {\n      \"column\": \"Petrol_tax\",\n      \"properties\": {\n        \"dtype\": \"number\",\n        \"std\": 14.879175540936947,\n        \"min\": 0.9507697516051801,\n        \"max\": 48.0,\n        \"num_unique_values\": 8,\n        \"samples\": [\n          7.668333333333333,\n          7.5,\n          48.0\n        ],\n        \"semantic_type\": \"\",\n        \"description\": \"\"\n      }\n    },\n    {\n      \"column\": \"Average_income\",\n      \"properties\": {\n        \"dtype\": \"number\",\n        \"std\": 1923.99456713774,\n        \"min\": 48.0,\n        \"max\": 5342.0,\n        \"num_unique_values\": 8,\n        \"samples\": [\n          4241.833333333333,\n          4298.0,\n          48.0\n        ],\n        \"semantic_type\": \"\",\n        \"description\": \"\"\n      }\n    },\n    {\n      \"column\": \"Paved_Highways\",\n      \"properties\": {\n        \"dtype\": \"number\",\n        \"std\": 5593.231574388373,\n        \"min\": 48.0,\n        \"max\": 17782.0,\n        \"num_unique_values\": 8,\n        \"samples\": [\n          5565.416666666667,\n          4735.5,\n          48.0\n        ],\n        \"semantic_type\": \"\",\n        \"description\": \"\"\n      }\n    },\n    {\n      \"column\": \"Population_Driver_licence(%)\",\n      \"properties\": {\n        \"dtype\": \"number\",\n        \"std\": 16.79542085275867,\n        \"min\": 0.05547026549972453,\n        \"max\": 48.0,\n        \"num_unique_values\": 8,\n        \"samples\": [\n          0.5703333333333332,\n          0.5645,\n          48.0\n        ],\n        \"semantic_type\": \"\",\n        \"description\": \"\"\n      }\n    },\n    {\n      \"column\": \"Petrol_Consumption\",\n      \"properties\": {\n        \"dtype\": \"number\",\n        \"std\": 297.4558306775915,\n        \"min\": 48.0,\n        \"max\": 968.0,\n        \"num_unique_values\": 8,\n        \"samples\": [\n          576.7708333333334,\n          568.5,\n          48.0\n        ],\n        \"semantic_type\": \"\",\n        \"description\": \"\"\n      }\n    }\n  ]\n}"
            }
          },
          "metadata": {},
          "execution_count": 5
        }
      ],
      "source": [
        "dataset.describe()"
      ]
    },
    {
      "cell_type": "code",
      "execution_count": null,
      "metadata": {
        "id": "8DKZzF9a3IWH"
      },
      "outputs": [],
      "source": [
        "x = dataset[\n",
        "    [\"Petrol_tax\", \"Average_income\", \"Paved_Highways\", \"Population_Driver_licence(%)\"]\n",
        "]\n",
        "y = dataset[\"Petrol_Consumption\"]"
      ]
    },
    {
      "cell_type": "code",
      "execution_count": null,
      "metadata": {
        "id": "M6xsVyjH3IWI",
        "colab": {
          "base_uri": "https://localhost:8080/",
          "height": 204
        },
        "outputId": "135353d7-b601-4ac8-ada7-80619d102add"
      },
      "outputs": [
        {
          "output_type": "execute_result",
          "data": {
            "text/plain": [
              "    Petrol_tax  Average_income  Paved_Highways  Population_Driver_licence(%)\n",
              "8          8.0            4447            8577                         0.529\n",
              "3          7.5            4870            2351                         0.529\n",
              "6          8.0            5319           11868                         0.451\n",
              "39         7.0            4345            3905                         0.672\n",
              "33         7.5            3357            4121                         0.547"
            ],
            "text/html": [
              "\n",
              "  <div id=\"df-b4d73623-2682-4f85-818e-66f0a7687fcc\" class=\"colab-df-container\">\n",
              "    <div>\n",
              "<style scoped>\n",
              "    .dataframe tbody tr th:only-of-type {\n",
              "        vertical-align: middle;\n",
              "    }\n",
              "\n",
              "    .dataframe tbody tr th {\n",
              "        vertical-align: top;\n",
              "    }\n",
              "\n",
              "    .dataframe thead th {\n",
              "        text-align: right;\n",
              "    }\n",
              "</style>\n",
              "<table border=\"1\" class=\"dataframe\">\n",
              "  <thead>\n",
              "    <tr style=\"text-align: right;\">\n",
              "      <th></th>\n",
              "      <th>Petrol_tax</th>\n",
              "      <th>Average_income</th>\n",
              "      <th>Paved_Highways</th>\n",
              "      <th>Population_Driver_licence(%)</th>\n",
              "    </tr>\n",
              "  </thead>\n",
              "  <tbody>\n",
              "    <tr>\n",
              "      <th>8</th>\n",
              "      <td>8.0</td>\n",
              "      <td>4447</td>\n",
              "      <td>8577</td>\n",
              "      <td>0.529</td>\n",
              "    </tr>\n",
              "    <tr>\n",
              "      <th>3</th>\n",
              "      <td>7.5</td>\n",
              "      <td>4870</td>\n",
              "      <td>2351</td>\n",
              "      <td>0.529</td>\n",
              "    </tr>\n",
              "    <tr>\n",
              "      <th>6</th>\n",
              "      <td>8.0</td>\n",
              "      <td>5319</td>\n",
              "      <td>11868</td>\n",
              "      <td>0.451</td>\n",
              "    </tr>\n",
              "    <tr>\n",
              "      <th>39</th>\n",
              "      <td>7.0</td>\n",
              "      <td>4345</td>\n",
              "      <td>3905</td>\n",
              "      <td>0.672</td>\n",
              "    </tr>\n",
              "    <tr>\n",
              "      <th>33</th>\n",
              "      <td>7.5</td>\n",
              "      <td>3357</td>\n",
              "      <td>4121</td>\n",
              "      <td>0.547</td>\n",
              "    </tr>\n",
              "  </tbody>\n",
              "</table>\n",
              "</div>\n",
              "    <div class=\"colab-df-buttons\">\n",
              "\n",
              "  <div class=\"colab-df-container\">\n",
              "    <button class=\"colab-df-convert\" onclick=\"convertToInteractive('df-b4d73623-2682-4f85-818e-66f0a7687fcc')\"\n",
              "            title=\"Convert this dataframe to an interactive table.\"\n",
              "            style=\"display:none;\">\n",
              "\n",
              "  <svg xmlns=\"http://www.w3.org/2000/svg\" height=\"24px\" viewBox=\"0 -960 960 960\">\n",
              "    <path d=\"M120-120v-720h720v720H120Zm60-500h600v-160H180v160Zm220 220h160v-160H400v160Zm0 220h160v-160H400v160ZM180-400h160v-160H180v160Zm440 0h160v-160H620v160ZM180-180h160v-160H180v160Zm440 0h160v-160H620v160Z\"/>\n",
              "  </svg>\n",
              "    </button>\n",
              "\n",
              "  <style>\n",
              "    .colab-df-container {\n",
              "      display:flex;\n",
              "      gap: 12px;\n",
              "    }\n",
              "\n",
              "    .colab-df-convert {\n",
              "      background-color: #E8F0FE;\n",
              "      border: none;\n",
              "      border-radius: 50%;\n",
              "      cursor: pointer;\n",
              "      display: none;\n",
              "      fill: #1967D2;\n",
              "      height: 32px;\n",
              "      padding: 0 0 0 0;\n",
              "      width: 32px;\n",
              "    }\n",
              "\n",
              "    .colab-df-convert:hover {\n",
              "      background-color: #E2EBFA;\n",
              "      box-shadow: 0px 1px 2px rgba(60, 64, 67, 0.3), 0px 1px 3px 1px rgba(60, 64, 67, 0.15);\n",
              "      fill: #174EA6;\n",
              "    }\n",
              "\n",
              "    .colab-df-buttons div {\n",
              "      margin-bottom: 4px;\n",
              "    }\n",
              "\n",
              "    [theme=dark] .colab-df-convert {\n",
              "      background-color: #3B4455;\n",
              "      fill: #D2E3FC;\n",
              "    }\n",
              "\n",
              "    [theme=dark] .colab-df-convert:hover {\n",
              "      background-color: #434B5C;\n",
              "      box-shadow: 0px 1px 3px 1px rgba(0, 0, 0, 0.15);\n",
              "      filter: drop-shadow(0px 1px 2px rgba(0, 0, 0, 0.3));\n",
              "      fill: #FFFFFF;\n",
              "    }\n",
              "  </style>\n",
              "\n",
              "    <script>\n",
              "      const buttonEl =\n",
              "        document.querySelector('#df-b4d73623-2682-4f85-818e-66f0a7687fcc button.colab-df-convert');\n",
              "      buttonEl.style.display =\n",
              "        google.colab.kernel.accessAllowed ? 'block' : 'none';\n",
              "\n",
              "      async function convertToInteractive(key) {\n",
              "        const element = document.querySelector('#df-b4d73623-2682-4f85-818e-66f0a7687fcc');\n",
              "        const dataTable =\n",
              "          await google.colab.kernel.invokeFunction('convertToInteractive',\n",
              "                                                    [key], {});\n",
              "        if (!dataTable) return;\n",
              "\n",
              "        const docLinkHtml = 'Like what you see? Visit the ' +\n",
              "          '<a target=\"_blank\" href=https://colab.research.google.com/notebooks/data_table.ipynb>data table notebook</a>'\n",
              "          + ' to learn more about interactive tables.';\n",
              "        element.innerHTML = '';\n",
              "        dataTable['output_type'] = 'display_data';\n",
              "        await google.colab.output.renderOutput(dataTable, element);\n",
              "        const docLink = document.createElement('div');\n",
              "        docLink.innerHTML = docLinkHtml;\n",
              "        element.appendChild(docLink);\n",
              "      }\n",
              "    </script>\n",
              "  </div>\n",
              "\n",
              "\n",
              "<div id=\"df-b1d6b904-e03d-4e81-a3e5-e464b00a72dd\">\n",
              "  <button class=\"colab-df-quickchart\" onclick=\"quickchart('df-b1d6b904-e03d-4e81-a3e5-e464b00a72dd')\"\n",
              "            title=\"Suggest charts\"\n",
              "            style=\"display:none;\">\n",
              "\n",
              "<svg xmlns=\"http://www.w3.org/2000/svg\" height=\"24px\"viewBox=\"0 0 24 24\"\n",
              "     width=\"24px\">\n",
              "    <g>\n",
              "        <path d=\"M19 3H5c-1.1 0-2 .9-2 2v14c0 1.1.9 2 2 2h14c1.1 0 2-.9 2-2V5c0-1.1-.9-2-2-2zM9 17H7v-7h2v7zm4 0h-2V7h2v10zm4 0h-2v-4h2v4z\"/>\n",
              "    </g>\n",
              "</svg>\n",
              "  </button>\n",
              "\n",
              "<style>\n",
              "  .colab-df-quickchart {\n",
              "      --bg-color: #E8F0FE;\n",
              "      --fill-color: #1967D2;\n",
              "      --hover-bg-color: #E2EBFA;\n",
              "      --hover-fill-color: #174EA6;\n",
              "      --disabled-fill-color: #AAA;\n",
              "      --disabled-bg-color: #DDD;\n",
              "  }\n",
              "\n",
              "  [theme=dark] .colab-df-quickchart {\n",
              "      --bg-color: #3B4455;\n",
              "      --fill-color: #D2E3FC;\n",
              "      --hover-bg-color: #434B5C;\n",
              "      --hover-fill-color: #FFFFFF;\n",
              "      --disabled-bg-color: #3B4455;\n",
              "      --disabled-fill-color: #666;\n",
              "  }\n",
              "\n",
              "  .colab-df-quickchart {\n",
              "    background-color: var(--bg-color);\n",
              "    border: none;\n",
              "    border-radius: 50%;\n",
              "    cursor: pointer;\n",
              "    display: none;\n",
              "    fill: var(--fill-color);\n",
              "    height: 32px;\n",
              "    padding: 0;\n",
              "    width: 32px;\n",
              "  }\n",
              "\n",
              "  .colab-df-quickchart:hover {\n",
              "    background-color: var(--hover-bg-color);\n",
              "    box-shadow: 0 1px 2px rgba(60, 64, 67, 0.3), 0 1px 3px 1px rgba(60, 64, 67, 0.15);\n",
              "    fill: var(--button-hover-fill-color);\n",
              "  }\n",
              "\n",
              "  .colab-df-quickchart-complete:disabled,\n",
              "  .colab-df-quickchart-complete:disabled:hover {\n",
              "    background-color: var(--disabled-bg-color);\n",
              "    fill: var(--disabled-fill-color);\n",
              "    box-shadow: none;\n",
              "  }\n",
              "\n",
              "  .colab-df-spinner {\n",
              "    border: 2px solid var(--fill-color);\n",
              "    border-color: transparent;\n",
              "    border-bottom-color: var(--fill-color);\n",
              "    animation:\n",
              "      spin 1s steps(1) infinite;\n",
              "  }\n",
              "\n",
              "  @keyframes spin {\n",
              "    0% {\n",
              "      border-color: transparent;\n",
              "      border-bottom-color: var(--fill-color);\n",
              "      border-left-color: var(--fill-color);\n",
              "    }\n",
              "    20% {\n",
              "      border-color: transparent;\n",
              "      border-left-color: var(--fill-color);\n",
              "      border-top-color: var(--fill-color);\n",
              "    }\n",
              "    30% {\n",
              "      border-color: transparent;\n",
              "      border-left-color: var(--fill-color);\n",
              "      border-top-color: var(--fill-color);\n",
              "      border-right-color: var(--fill-color);\n",
              "    }\n",
              "    40% {\n",
              "      border-color: transparent;\n",
              "      border-right-color: var(--fill-color);\n",
              "      border-top-color: var(--fill-color);\n",
              "    }\n",
              "    60% {\n",
              "      border-color: transparent;\n",
              "      border-right-color: var(--fill-color);\n",
              "    }\n",
              "    80% {\n",
              "      border-color: transparent;\n",
              "      border-right-color: var(--fill-color);\n",
              "      border-bottom-color: var(--fill-color);\n",
              "    }\n",
              "    90% {\n",
              "      border-color: transparent;\n",
              "      border-bottom-color: var(--fill-color);\n",
              "    }\n",
              "  }\n",
              "</style>\n",
              "\n",
              "  <script>\n",
              "    async function quickchart(key) {\n",
              "      const quickchartButtonEl =\n",
              "        document.querySelector('#' + key + ' button');\n",
              "      quickchartButtonEl.disabled = true;  // To prevent multiple clicks.\n",
              "      quickchartButtonEl.classList.add('colab-df-spinner');\n",
              "      try {\n",
              "        const charts = await google.colab.kernel.invokeFunction(\n",
              "            'suggestCharts', [key], {});\n",
              "      } catch (error) {\n",
              "        console.error('Error during call to suggestCharts:', error);\n",
              "      }\n",
              "      quickchartButtonEl.classList.remove('colab-df-spinner');\n",
              "      quickchartButtonEl.classList.add('colab-df-quickchart-complete');\n",
              "    }\n",
              "    (() => {\n",
              "      let quickchartButtonEl =\n",
              "        document.querySelector('#df-b1d6b904-e03d-4e81-a3e5-e464b00a72dd button');\n",
              "      quickchartButtonEl.style.display =\n",
              "        google.colab.kernel.accessAllowed ? 'block' : 'none';\n",
              "    })();\n",
              "  </script>\n",
              "</div>\n",
              "    </div>\n",
              "  </div>\n"
            ],
            "application/vnd.google.colaboratory.intrinsic+json": {
              "type": "dataframe",
              "variable_name": "x_train",
              "summary": "{\n  \"name\": \"x_train\",\n  \"rows\": 38,\n  \"fields\": [\n    {\n      \"column\": \"Petrol_tax\",\n      \"properties\": {\n        \"dtype\": \"number\",\n        \"std\": 1.0037365468470942,\n        \"min\": 5.0,\n        \"max\": 10.0,\n        \"num_unique_values\": 9,\n        \"samples\": [\n          6.58,\n          7.5,\n          6.0\n        ],\n        \"semantic_type\": \"\",\n        \"description\": \"\"\n      }\n    },\n    {\n      \"column\": \"Average_income\",\n      \"properties\": {\n        \"dtype\": \"number\",\n        \"std\": 603,\n        \"min\": 3063,\n        \"max\": 5342,\n        \"num_unique_values\": 37,\n        \"samples\": [\n          5342,\n          4296,\n          3357\n        ],\n        \"semantic_type\": \"\",\n        \"description\": \"\"\n      }\n    },\n    {\n      \"column\": \"Paved_Highways\",\n      \"properties\": {\n        \"dtype\": \"number\",\n        \"std\": 3717,\n        \"min\": 602,\n        \"max\": 17782,\n        \"num_unique_values\": 37,\n        \"samples\": [\n          1333,\n          4083,\n          4121\n        ],\n        \"semantic_type\": \"\",\n        \"description\": \"\"\n      }\n    },\n    {\n      \"column\": \"Population_Driver_licence(%)\",\n      \"properties\": {\n        \"dtype\": \"number\",\n        \"std\": 0.05780474934589439,\n        \"min\": 0.451,\n        \"max\": 0.724,\n        \"num_unique_values\": 31,\n        \"samples\": [\n          0.663,\n          0.518,\n          0.53\n        ],\n        \"semantic_type\": \"\",\n        \"description\": \"\"\n      }\n    }\n  ]\n}"
            }
          },
          "metadata": {},
          "execution_count": 14
        }
      ],
      "source": [
        "set_seed() #????\n",
        "x_train, x_test, y_train, y_test = train_test_split(\n",
        "    x, y, test_size=0.2, random_state=42\n",
        ")\n",
        "\n",
        "x_train.head()"
      ]
    },
    {
      "cell_type": "code",
      "execution_count": null,
      "metadata": {
        "id": "PT2lRHxE3IWJ"
      },
      "outputs": [],
      "source": [
        "from sklearn.preprocessing import StandardScaler\n",
        "\n",
        "scaler = StandardScaler()\n",
        "\n",
        "\n",
        "x_train_scaled = scaler.fit_transform(x_train)\n",
        "x_test_scaled = scaler.transform(x_test)"
      ]
    },
    {
      "cell_type": "code",
      "execution_count": null,
      "metadata": {
        "id": "9_Itzob93IWK",
        "colab": {
          "base_uri": "https://localhost:8080/",
          "height": 51
        },
        "outputId": "cc71cb15-4067-4aef-8784-792daff637df"
      },
      "outputs": [
        {
          "output_type": "execute_result",
          "data": {
            "text/plain": [
              "LinearRegression()"
            ],
            "text/html": [
              "<style>#sk-container-id-1 {color: black;background-color: white;}#sk-container-id-1 pre{padding: 0;}#sk-container-id-1 div.sk-toggleable {background-color: white;}#sk-container-id-1 label.sk-toggleable__label {cursor: pointer;display: block;width: 100%;margin-bottom: 0;padding: 0.3em;box-sizing: border-box;text-align: center;}#sk-container-id-1 label.sk-toggleable__label-arrow:before {content: \"▸\";float: left;margin-right: 0.25em;color: #696969;}#sk-container-id-1 label.sk-toggleable__label-arrow:hover:before {color: black;}#sk-container-id-1 div.sk-estimator:hover label.sk-toggleable__label-arrow:before {color: black;}#sk-container-id-1 div.sk-toggleable__content {max-height: 0;max-width: 0;overflow: hidden;text-align: left;background-color: #f0f8ff;}#sk-container-id-1 div.sk-toggleable__content pre {margin: 0.2em;color: black;border-radius: 0.25em;background-color: #f0f8ff;}#sk-container-id-1 input.sk-toggleable__control:checked~div.sk-toggleable__content {max-height: 200px;max-width: 100%;overflow: auto;}#sk-container-id-1 input.sk-toggleable__control:checked~label.sk-toggleable__label-arrow:before {content: \"▾\";}#sk-container-id-1 div.sk-estimator input.sk-toggleable__control:checked~label.sk-toggleable__label {background-color: #d4ebff;}#sk-container-id-1 div.sk-label input.sk-toggleable__control:checked~label.sk-toggleable__label {background-color: #d4ebff;}#sk-container-id-1 input.sk-hidden--visually {border: 0;clip: rect(1px 1px 1px 1px);clip: rect(1px, 1px, 1px, 1px);height: 1px;margin: -1px;overflow: hidden;padding: 0;position: absolute;width: 1px;}#sk-container-id-1 div.sk-estimator {font-family: monospace;background-color: #f0f8ff;border: 1px dotted black;border-radius: 0.25em;box-sizing: border-box;margin-bottom: 0.5em;}#sk-container-id-1 div.sk-estimator:hover {background-color: #d4ebff;}#sk-container-id-1 div.sk-parallel-item::after {content: \"\";width: 100%;border-bottom: 1px solid gray;flex-grow: 1;}#sk-container-id-1 div.sk-label:hover label.sk-toggleable__label {background-color: #d4ebff;}#sk-container-id-1 div.sk-serial::before {content: \"\";position: absolute;border-left: 1px solid gray;box-sizing: border-box;top: 0;bottom: 0;left: 50%;z-index: 0;}#sk-container-id-1 div.sk-serial {display: flex;flex-direction: column;align-items: center;background-color: white;padding-right: 0.2em;padding-left: 0.2em;position: relative;}#sk-container-id-1 div.sk-item {position: relative;z-index: 1;}#sk-container-id-1 div.sk-parallel {display: flex;align-items: stretch;justify-content: center;background-color: white;position: relative;}#sk-container-id-1 div.sk-item::before, #sk-container-id-1 div.sk-parallel-item::before {content: \"\";position: absolute;border-left: 1px solid gray;box-sizing: border-box;top: 0;bottom: 0;left: 50%;z-index: -1;}#sk-container-id-1 div.sk-parallel-item {display: flex;flex-direction: column;z-index: 1;position: relative;background-color: white;}#sk-container-id-1 div.sk-parallel-item:first-child::after {align-self: flex-end;width: 50%;}#sk-container-id-1 div.sk-parallel-item:last-child::after {align-self: flex-start;width: 50%;}#sk-container-id-1 div.sk-parallel-item:only-child::after {width: 0;}#sk-container-id-1 div.sk-dashed-wrapped {border: 1px dashed gray;margin: 0 0.4em 0.5em 0.4em;box-sizing: border-box;padding-bottom: 0.4em;background-color: white;}#sk-container-id-1 div.sk-label label {font-family: monospace;font-weight: bold;display: inline-block;line-height: 1.2em;}#sk-container-id-1 div.sk-label-container {text-align: center;}#sk-container-id-1 div.sk-container {/* jupyter's `normalize.less` sets `[hidden] { display: none; }` but bootstrap.min.css set `[hidden] { display: none !important; }` so we also need the `!important` here to be able to override the default hidden behavior on the sphinx rendered scikit-learn.org. See: https://github.com/scikit-learn/scikit-learn/issues/21755 */display: inline-block !important;position: relative;}#sk-container-id-1 div.sk-text-repr-fallback {display: none;}</style><div id=\"sk-container-id-1\" class=\"sk-top-container\"><div class=\"sk-text-repr-fallback\"><pre>LinearRegression()</pre><b>In a Jupyter environment, please rerun this cell to show the HTML representation or trust the notebook. <br />On GitHub, the HTML representation is unable to render, please try loading this page with nbviewer.org.</b></div><div class=\"sk-container\" hidden><div class=\"sk-item\"><div class=\"sk-estimator sk-toggleable\"><input class=\"sk-toggleable__control sk-hidden--visually\" id=\"sk-estimator-id-1\" type=\"checkbox\" checked><label for=\"sk-estimator-id-1\" class=\"sk-toggleable__label sk-toggleable__label-arrow\">LinearRegression</label><div class=\"sk-toggleable__content\"><pre>LinearRegression()</pre></div></div></div></div></div>"
            ]
          },
          "metadata": {},
          "execution_count": 19
        }
      ],
      "source": [
        "from sklearn.linear_model import LinearRegression\n",
        "\n",
        "\n",
        "regressor = LinearRegression()\n",
        "regressor.fit(x_train, y_train)\n",
        "# Multiple regression\n",
        "# Your code here"
      ]
    },
    {
      "cell_type": "code",
      "execution_count": null,
      "metadata": {
        "id": "TI_rfwYc3IWK",
        "colab": {
          "base_uri": "https://localhost:8080/",
          "height": 173
        },
        "outputId": "f8361250-91b2-4c85-c0b5-49c581fb68f6"
      },
      "outputs": [
        {
          "output_type": "execute_result",
          "data": {
            "text/plain": [
              "                              Coefficient\n",
              "Petrol_tax                     -36.993746\n",
              "Average_income                  -0.056536\n",
              "Paved_Highways                  -0.004382\n",
              "Population_Driver_licence(%)  1346.869298"
            ],
            "text/html": [
              "\n",
              "  <div id=\"df-52ed3e0e-9574-48b5-a1ac-e75a669d087b\" class=\"colab-df-container\">\n",
              "    <div>\n",
              "<style scoped>\n",
              "    .dataframe tbody tr th:only-of-type {\n",
              "        vertical-align: middle;\n",
              "    }\n",
              "\n",
              "    .dataframe tbody tr th {\n",
              "        vertical-align: top;\n",
              "    }\n",
              "\n",
              "    .dataframe thead th {\n",
              "        text-align: right;\n",
              "    }\n",
              "</style>\n",
              "<table border=\"1\" class=\"dataframe\">\n",
              "  <thead>\n",
              "    <tr style=\"text-align: right;\">\n",
              "      <th></th>\n",
              "      <th>Coefficient</th>\n",
              "    </tr>\n",
              "  </thead>\n",
              "  <tbody>\n",
              "    <tr>\n",
              "      <th>Petrol_tax</th>\n",
              "      <td>-36.993746</td>\n",
              "    </tr>\n",
              "    <tr>\n",
              "      <th>Average_income</th>\n",
              "      <td>-0.056536</td>\n",
              "    </tr>\n",
              "    <tr>\n",
              "      <th>Paved_Highways</th>\n",
              "      <td>-0.004382</td>\n",
              "    </tr>\n",
              "    <tr>\n",
              "      <th>Population_Driver_licence(%)</th>\n",
              "      <td>1346.869298</td>\n",
              "    </tr>\n",
              "  </tbody>\n",
              "</table>\n",
              "</div>\n",
              "    <div class=\"colab-df-buttons\">\n",
              "\n",
              "  <div class=\"colab-df-container\">\n",
              "    <button class=\"colab-df-convert\" onclick=\"convertToInteractive('df-52ed3e0e-9574-48b5-a1ac-e75a669d087b')\"\n",
              "            title=\"Convert this dataframe to an interactive table.\"\n",
              "            style=\"display:none;\">\n",
              "\n",
              "  <svg xmlns=\"http://www.w3.org/2000/svg\" height=\"24px\" viewBox=\"0 -960 960 960\">\n",
              "    <path d=\"M120-120v-720h720v720H120Zm60-500h600v-160H180v160Zm220 220h160v-160H400v160Zm0 220h160v-160H400v160ZM180-400h160v-160H180v160Zm440 0h160v-160H620v160ZM180-180h160v-160H180v160Zm440 0h160v-160H620v160Z\"/>\n",
              "  </svg>\n",
              "    </button>\n",
              "\n",
              "  <style>\n",
              "    .colab-df-container {\n",
              "      display:flex;\n",
              "      gap: 12px;\n",
              "    }\n",
              "\n",
              "    .colab-df-convert {\n",
              "      background-color: #E8F0FE;\n",
              "      border: none;\n",
              "      border-radius: 50%;\n",
              "      cursor: pointer;\n",
              "      display: none;\n",
              "      fill: #1967D2;\n",
              "      height: 32px;\n",
              "      padding: 0 0 0 0;\n",
              "      width: 32px;\n",
              "    }\n",
              "\n",
              "    .colab-df-convert:hover {\n",
              "      background-color: #E2EBFA;\n",
              "      box-shadow: 0px 1px 2px rgba(60, 64, 67, 0.3), 0px 1px 3px 1px rgba(60, 64, 67, 0.15);\n",
              "      fill: #174EA6;\n",
              "    }\n",
              "\n",
              "    .colab-df-buttons div {\n",
              "      margin-bottom: 4px;\n",
              "    }\n",
              "\n",
              "    [theme=dark] .colab-df-convert {\n",
              "      background-color: #3B4455;\n",
              "      fill: #D2E3FC;\n",
              "    }\n",
              "\n",
              "    [theme=dark] .colab-df-convert:hover {\n",
              "      background-color: #434B5C;\n",
              "      box-shadow: 0px 1px 3px 1px rgba(0, 0, 0, 0.15);\n",
              "      filter: drop-shadow(0px 1px 2px rgba(0, 0, 0, 0.3));\n",
              "      fill: #FFFFFF;\n",
              "    }\n",
              "  </style>\n",
              "\n",
              "    <script>\n",
              "      const buttonEl =\n",
              "        document.querySelector('#df-52ed3e0e-9574-48b5-a1ac-e75a669d087b button.colab-df-convert');\n",
              "      buttonEl.style.display =\n",
              "        google.colab.kernel.accessAllowed ? 'block' : 'none';\n",
              "\n",
              "      async function convertToInteractive(key) {\n",
              "        const element = document.querySelector('#df-52ed3e0e-9574-48b5-a1ac-e75a669d087b');\n",
              "        const dataTable =\n",
              "          await google.colab.kernel.invokeFunction('convertToInteractive',\n",
              "                                                    [key], {});\n",
              "        if (!dataTable) return;\n",
              "\n",
              "        const docLinkHtml = 'Like what you see? Visit the ' +\n",
              "          '<a target=\"_blank\" href=https://colab.research.google.com/notebooks/data_table.ipynb>data table notebook</a>'\n",
              "          + ' to learn more about interactive tables.';\n",
              "        element.innerHTML = '';\n",
              "        dataTable['output_type'] = 'display_data';\n",
              "        await google.colab.output.renderOutput(dataTable, element);\n",
              "        const docLink = document.createElement('div');\n",
              "        docLink.innerHTML = docLinkHtml;\n",
              "        element.appendChild(docLink);\n",
              "      }\n",
              "    </script>\n",
              "  </div>\n",
              "\n",
              "\n",
              "<div id=\"df-d0a48903-afc8-4aa7-9c6f-5ff110949381\">\n",
              "  <button class=\"colab-df-quickchart\" onclick=\"quickchart('df-d0a48903-afc8-4aa7-9c6f-5ff110949381')\"\n",
              "            title=\"Suggest charts\"\n",
              "            style=\"display:none;\">\n",
              "\n",
              "<svg xmlns=\"http://www.w3.org/2000/svg\" height=\"24px\"viewBox=\"0 0 24 24\"\n",
              "     width=\"24px\">\n",
              "    <g>\n",
              "        <path d=\"M19 3H5c-1.1 0-2 .9-2 2v14c0 1.1.9 2 2 2h14c1.1 0 2-.9 2-2V5c0-1.1-.9-2-2-2zM9 17H7v-7h2v7zm4 0h-2V7h2v10zm4 0h-2v-4h2v4z\"/>\n",
              "    </g>\n",
              "</svg>\n",
              "  </button>\n",
              "\n",
              "<style>\n",
              "  .colab-df-quickchart {\n",
              "      --bg-color: #E8F0FE;\n",
              "      --fill-color: #1967D2;\n",
              "      --hover-bg-color: #E2EBFA;\n",
              "      --hover-fill-color: #174EA6;\n",
              "      --disabled-fill-color: #AAA;\n",
              "      --disabled-bg-color: #DDD;\n",
              "  }\n",
              "\n",
              "  [theme=dark] .colab-df-quickchart {\n",
              "      --bg-color: #3B4455;\n",
              "      --fill-color: #D2E3FC;\n",
              "      --hover-bg-color: #434B5C;\n",
              "      --hover-fill-color: #FFFFFF;\n",
              "      --disabled-bg-color: #3B4455;\n",
              "      --disabled-fill-color: #666;\n",
              "  }\n",
              "\n",
              "  .colab-df-quickchart {\n",
              "    background-color: var(--bg-color);\n",
              "    border: none;\n",
              "    border-radius: 50%;\n",
              "    cursor: pointer;\n",
              "    display: none;\n",
              "    fill: var(--fill-color);\n",
              "    height: 32px;\n",
              "    padding: 0;\n",
              "    width: 32px;\n",
              "  }\n",
              "\n",
              "  .colab-df-quickchart:hover {\n",
              "    background-color: var(--hover-bg-color);\n",
              "    box-shadow: 0 1px 2px rgba(60, 64, 67, 0.3), 0 1px 3px 1px rgba(60, 64, 67, 0.15);\n",
              "    fill: var(--button-hover-fill-color);\n",
              "  }\n",
              "\n",
              "  .colab-df-quickchart-complete:disabled,\n",
              "  .colab-df-quickchart-complete:disabled:hover {\n",
              "    background-color: var(--disabled-bg-color);\n",
              "    fill: var(--disabled-fill-color);\n",
              "    box-shadow: none;\n",
              "  }\n",
              "\n",
              "  .colab-df-spinner {\n",
              "    border: 2px solid var(--fill-color);\n",
              "    border-color: transparent;\n",
              "    border-bottom-color: var(--fill-color);\n",
              "    animation:\n",
              "      spin 1s steps(1) infinite;\n",
              "  }\n",
              "\n",
              "  @keyframes spin {\n",
              "    0% {\n",
              "      border-color: transparent;\n",
              "      border-bottom-color: var(--fill-color);\n",
              "      border-left-color: var(--fill-color);\n",
              "    }\n",
              "    20% {\n",
              "      border-color: transparent;\n",
              "      border-left-color: var(--fill-color);\n",
              "      border-top-color: var(--fill-color);\n",
              "    }\n",
              "    30% {\n",
              "      border-color: transparent;\n",
              "      border-left-color: var(--fill-color);\n",
              "      border-top-color: var(--fill-color);\n",
              "      border-right-color: var(--fill-color);\n",
              "    }\n",
              "    40% {\n",
              "      border-color: transparent;\n",
              "      border-right-color: var(--fill-color);\n",
              "      border-top-color: var(--fill-color);\n",
              "    }\n",
              "    60% {\n",
              "      border-color: transparent;\n",
              "      border-right-color: var(--fill-color);\n",
              "    }\n",
              "    80% {\n",
              "      border-color: transparent;\n",
              "      border-right-color: var(--fill-color);\n",
              "      border-bottom-color: var(--fill-color);\n",
              "    }\n",
              "    90% {\n",
              "      border-color: transparent;\n",
              "      border-bottom-color: var(--fill-color);\n",
              "    }\n",
              "  }\n",
              "</style>\n",
              "\n",
              "  <script>\n",
              "    async function quickchart(key) {\n",
              "      const quickchartButtonEl =\n",
              "        document.querySelector('#' + key + ' button');\n",
              "      quickchartButtonEl.disabled = true;  // To prevent multiple clicks.\n",
              "      quickchartButtonEl.classList.add('colab-df-spinner');\n",
              "      try {\n",
              "        const charts = await google.colab.kernel.invokeFunction(\n",
              "            'suggestCharts', [key], {});\n",
              "      } catch (error) {\n",
              "        console.error('Error during call to suggestCharts:', error);\n",
              "      }\n",
              "      quickchartButtonEl.classList.remove('colab-df-spinner');\n",
              "      quickchartButtonEl.classList.add('colab-df-quickchart-complete');\n",
              "    }\n",
              "    (() => {\n",
              "      let quickchartButtonEl =\n",
              "        document.querySelector('#df-d0a48903-afc8-4aa7-9c6f-5ff110949381 button');\n",
              "      quickchartButtonEl.style.display =\n",
              "        google.colab.kernel.accessAllowed ? 'block' : 'none';\n",
              "    })();\n",
              "  </script>\n",
              "</div>\n",
              "    </div>\n",
              "  </div>\n"
            ],
            "application/vnd.google.colaboratory.intrinsic+json": {
              "type": "dataframe",
              "variable_name": "coeff_df",
              "summary": "{\n  \"name\": \"coeff_df\",\n  \"rows\": 4,\n  \"fields\": [\n    {\n      \"column\": \"Coefficient\",\n      \"properties\": {\n        \"dtype\": \"number\",\n        \"std\": 679.8337672139389,\n        \"min\": -36.99374587212599,\n        \"max\": 1346.8692984602394,\n        \"num_unique_values\": 4,\n        \"samples\": [\n          -0.056535514524492445,\n          1346.8692984602394,\n          -36.99374587212599\n        ],\n        \"semantic_type\": \"\",\n        \"description\": \"\"\n      }\n    }\n  ]\n}"
            }
          },
          "metadata": {},
          "execution_count": 20
        }
      ],
      "source": [
        "# Print table\n",
        "coeff_df = pd.DataFrame(regressor.coef_, x.columns, columns=[\"Coefficient\"])\n",
        "coeff_df"
      ]
    },
    {
      "cell_type": "code",
      "execution_count": null,
      "metadata": {
        "id": "-rWWiTdZ3IWL"
      },
      "outputs": [],
      "source": [
        "y_predicted = regressor.predict(x_test)"
      ]
    },
    {
      "cell_type": "code",
      "execution_count": null,
      "metadata": {
        "id": "fxUREpLL3IWM",
        "colab": {
          "base_uri": "https://localhost:8080/",
          "height": 359
        },
        "outputId": "ba1fdaea-7c4c-4800-ae42-fd4be7e1c3da"
      },
      "outputs": [
        {
          "output_type": "execute_result",
          "data": {
            "text/plain": [
              "    Actual   Predicted\n",
              "27     631  606.692665\n",
              "40     587  673.779442\n",
              "26     577  584.991490\n",
              "43     591  563.536910\n",
              "24     460  519.058672\n",
              "37     704  643.461003\n",
              "12     525  572.897614\n",
              "19     640  687.077036\n",
              "4      410  547.609366\n",
              "25     566  530.037630"
            ],
            "text/html": [
              "\n",
              "  <div id=\"df-0f3f1b33-3baa-4796-9892-448594e13a96\" class=\"colab-df-container\">\n",
              "    <div>\n",
              "<style scoped>\n",
              "    .dataframe tbody tr th:only-of-type {\n",
              "        vertical-align: middle;\n",
              "    }\n",
              "\n",
              "    .dataframe tbody tr th {\n",
              "        vertical-align: top;\n",
              "    }\n",
              "\n",
              "    .dataframe thead th {\n",
              "        text-align: right;\n",
              "    }\n",
              "</style>\n",
              "<table border=\"1\" class=\"dataframe\">\n",
              "  <thead>\n",
              "    <tr style=\"text-align: right;\">\n",
              "      <th></th>\n",
              "      <th>Actual</th>\n",
              "      <th>Predicted</th>\n",
              "    </tr>\n",
              "  </thead>\n",
              "  <tbody>\n",
              "    <tr>\n",
              "      <th>27</th>\n",
              "      <td>631</td>\n",
              "      <td>606.692665</td>\n",
              "    </tr>\n",
              "    <tr>\n",
              "      <th>40</th>\n",
              "      <td>587</td>\n",
              "      <td>673.779442</td>\n",
              "    </tr>\n",
              "    <tr>\n",
              "      <th>26</th>\n",
              "      <td>577</td>\n",
              "      <td>584.991490</td>\n",
              "    </tr>\n",
              "    <tr>\n",
              "      <th>43</th>\n",
              "      <td>591</td>\n",
              "      <td>563.536910</td>\n",
              "    </tr>\n",
              "    <tr>\n",
              "      <th>24</th>\n",
              "      <td>460</td>\n",
              "      <td>519.058672</td>\n",
              "    </tr>\n",
              "    <tr>\n",
              "      <th>37</th>\n",
              "      <td>704</td>\n",
              "      <td>643.461003</td>\n",
              "    </tr>\n",
              "    <tr>\n",
              "      <th>12</th>\n",
              "      <td>525</td>\n",
              "      <td>572.897614</td>\n",
              "    </tr>\n",
              "    <tr>\n",
              "      <th>19</th>\n",
              "      <td>640</td>\n",
              "      <td>687.077036</td>\n",
              "    </tr>\n",
              "    <tr>\n",
              "      <th>4</th>\n",
              "      <td>410</td>\n",
              "      <td>547.609366</td>\n",
              "    </tr>\n",
              "    <tr>\n",
              "      <th>25</th>\n",
              "      <td>566</td>\n",
              "      <td>530.037630</td>\n",
              "    </tr>\n",
              "  </tbody>\n",
              "</table>\n",
              "</div>\n",
              "    <div class=\"colab-df-buttons\">\n",
              "\n",
              "  <div class=\"colab-df-container\">\n",
              "    <button class=\"colab-df-convert\" onclick=\"convertToInteractive('df-0f3f1b33-3baa-4796-9892-448594e13a96')\"\n",
              "            title=\"Convert this dataframe to an interactive table.\"\n",
              "            style=\"display:none;\">\n",
              "\n",
              "  <svg xmlns=\"http://www.w3.org/2000/svg\" height=\"24px\" viewBox=\"0 -960 960 960\">\n",
              "    <path d=\"M120-120v-720h720v720H120Zm60-500h600v-160H180v160Zm220 220h160v-160H400v160Zm0 220h160v-160H400v160ZM180-400h160v-160H180v160Zm440 0h160v-160H620v160ZM180-180h160v-160H180v160Zm440 0h160v-160H620v160Z\"/>\n",
              "  </svg>\n",
              "    </button>\n",
              "\n",
              "  <style>\n",
              "    .colab-df-container {\n",
              "      display:flex;\n",
              "      gap: 12px;\n",
              "    }\n",
              "\n",
              "    .colab-df-convert {\n",
              "      background-color: #E8F0FE;\n",
              "      border: none;\n",
              "      border-radius: 50%;\n",
              "      cursor: pointer;\n",
              "      display: none;\n",
              "      fill: #1967D2;\n",
              "      height: 32px;\n",
              "      padding: 0 0 0 0;\n",
              "      width: 32px;\n",
              "    }\n",
              "\n",
              "    .colab-df-convert:hover {\n",
              "      background-color: #E2EBFA;\n",
              "      box-shadow: 0px 1px 2px rgba(60, 64, 67, 0.3), 0px 1px 3px 1px rgba(60, 64, 67, 0.15);\n",
              "      fill: #174EA6;\n",
              "    }\n",
              "\n",
              "    .colab-df-buttons div {\n",
              "      margin-bottom: 4px;\n",
              "    }\n",
              "\n",
              "    [theme=dark] .colab-df-convert {\n",
              "      background-color: #3B4455;\n",
              "      fill: #D2E3FC;\n",
              "    }\n",
              "\n",
              "    [theme=dark] .colab-df-convert:hover {\n",
              "      background-color: #434B5C;\n",
              "      box-shadow: 0px 1px 3px 1px rgba(0, 0, 0, 0.15);\n",
              "      filter: drop-shadow(0px 1px 2px rgba(0, 0, 0, 0.3));\n",
              "      fill: #FFFFFF;\n",
              "    }\n",
              "  </style>\n",
              "\n",
              "    <script>\n",
              "      const buttonEl =\n",
              "        document.querySelector('#df-0f3f1b33-3baa-4796-9892-448594e13a96 button.colab-df-convert');\n",
              "      buttonEl.style.display =\n",
              "        google.colab.kernel.accessAllowed ? 'block' : 'none';\n",
              "\n",
              "      async function convertToInteractive(key) {\n",
              "        const element = document.querySelector('#df-0f3f1b33-3baa-4796-9892-448594e13a96');\n",
              "        const dataTable =\n",
              "          await google.colab.kernel.invokeFunction('convertToInteractive',\n",
              "                                                    [key], {});\n",
              "        if (!dataTable) return;\n",
              "\n",
              "        const docLinkHtml = 'Like what you see? Visit the ' +\n",
              "          '<a target=\"_blank\" href=https://colab.research.google.com/notebooks/data_table.ipynb>data table notebook</a>'\n",
              "          + ' to learn more about interactive tables.';\n",
              "        element.innerHTML = '';\n",
              "        dataTable['output_type'] = 'display_data';\n",
              "        await google.colab.output.renderOutput(dataTable, element);\n",
              "        const docLink = document.createElement('div');\n",
              "        docLink.innerHTML = docLinkHtml;\n",
              "        element.appendChild(docLink);\n",
              "      }\n",
              "    </script>\n",
              "  </div>\n",
              "\n",
              "\n",
              "<div id=\"df-75f1c3db-859a-484b-8545-95df7e7bfaef\">\n",
              "  <button class=\"colab-df-quickchart\" onclick=\"quickchart('df-75f1c3db-859a-484b-8545-95df7e7bfaef')\"\n",
              "            title=\"Suggest charts\"\n",
              "            style=\"display:none;\">\n",
              "\n",
              "<svg xmlns=\"http://www.w3.org/2000/svg\" height=\"24px\"viewBox=\"0 0 24 24\"\n",
              "     width=\"24px\">\n",
              "    <g>\n",
              "        <path d=\"M19 3H5c-1.1 0-2 .9-2 2v14c0 1.1.9 2 2 2h14c1.1 0 2-.9 2-2V5c0-1.1-.9-2-2-2zM9 17H7v-7h2v7zm4 0h-2V7h2v10zm4 0h-2v-4h2v4z\"/>\n",
              "    </g>\n",
              "</svg>\n",
              "  </button>\n",
              "\n",
              "<style>\n",
              "  .colab-df-quickchart {\n",
              "      --bg-color: #E8F0FE;\n",
              "      --fill-color: #1967D2;\n",
              "      --hover-bg-color: #E2EBFA;\n",
              "      --hover-fill-color: #174EA6;\n",
              "      --disabled-fill-color: #AAA;\n",
              "      --disabled-bg-color: #DDD;\n",
              "  }\n",
              "\n",
              "  [theme=dark] .colab-df-quickchart {\n",
              "      --bg-color: #3B4455;\n",
              "      --fill-color: #D2E3FC;\n",
              "      --hover-bg-color: #434B5C;\n",
              "      --hover-fill-color: #FFFFFF;\n",
              "      --disabled-bg-color: #3B4455;\n",
              "      --disabled-fill-color: #666;\n",
              "  }\n",
              "\n",
              "  .colab-df-quickchart {\n",
              "    background-color: var(--bg-color);\n",
              "    border: none;\n",
              "    border-radius: 50%;\n",
              "    cursor: pointer;\n",
              "    display: none;\n",
              "    fill: var(--fill-color);\n",
              "    height: 32px;\n",
              "    padding: 0;\n",
              "    width: 32px;\n",
              "  }\n",
              "\n",
              "  .colab-df-quickchart:hover {\n",
              "    background-color: var(--hover-bg-color);\n",
              "    box-shadow: 0 1px 2px rgba(60, 64, 67, 0.3), 0 1px 3px 1px rgba(60, 64, 67, 0.15);\n",
              "    fill: var(--button-hover-fill-color);\n",
              "  }\n",
              "\n",
              "  .colab-df-quickchart-complete:disabled,\n",
              "  .colab-df-quickchart-complete:disabled:hover {\n",
              "    background-color: var(--disabled-bg-color);\n",
              "    fill: var(--disabled-fill-color);\n",
              "    box-shadow: none;\n",
              "  }\n",
              "\n",
              "  .colab-df-spinner {\n",
              "    border: 2px solid var(--fill-color);\n",
              "    border-color: transparent;\n",
              "    border-bottom-color: var(--fill-color);\n",
              "    animation:\n",
              "      spin 1s steps(1) infinite;\n",
              "  }\n",
              "\n",
              "  @keyframes spin {\n",
              "    0% {\n",
              "      border-color: transparent;\n",
              "      border-bottom-color: var(--fill-color);\n",
              "      border-left-color: var(--fill-color);\n",
              "    }\n",
              "    20% {\n",
              "      border-color: transparent;\n",
              "      border-left-color: var(--fill-color);\n",
              "      border-top-color: var(--fill-color);\n",
              "    }\n",
              "    30% {\n",
              "      border-color: transparent;\n",
              "      border-left-color: var(--fill-color);\n",
              "      border-top-color: var(--fill-color);\n",
              "      border-right-color: var(--fill-color);\n",
              "    }\n",
              "    40% {\n",
              "      border-color: transparent;\n",
              "      border-right-color: var(--fill-color);\n",
              "      border-top-color: var(--fill-color);\n",
              "    }\n",
              "    60% {\n",
              "      border-color: transparent;\n",
              "      border-right-color: var(--fill-color);\n",
              "    }\n",
              "    80% {\n",
              "      border-color: transparent;\n",
              "      border-right-color: var(--fill-color);\n",
              "      border-bottom-color: var(--fill-color);\n",
              "    }\n",
              "    90% {\n",
              "      border-color: transparent;\n",
              "      border-bottom-color: var(--fill-color);\n",
              "    }\n",
              "  }\n",
              "</style>\n",
              "\n",
              "  <script>\n",
              "    async function quickchart(key) {\n",
              "      const quickchartButtonEl =\n",
              "        document.querySelector('#' + key + ' button');\n",
              "      quickchartButtonEl.disabled = true;  // To prevent multiple clicks.\n",
              "      quickchartButtonEl.classList.add('colab-df-spinner');\n",
              "      try {\n",
              "        const charts = await google.colab.kernel.invokeFunction(\n",
              "            'suggestCharts', [key], {});\n",
              "      } catch (error) {\n",
              "        console.error('Error during call to suggestCharts:', error);\n",
              "      }\n",
              "      quickchartButtonEl.classList.remove('colab-df-spinner');\n",
              "      quickchartButtonEl.classList.add('colab-df-quickchart-complete');\n",
              "    }\n",
              "    (() => {\n",
              "      let quickchartButtonEl =\n",
              "        document.querySelector('#df-75f1c3db-859a-484b-8545-95df7e7bfaef button');\n",
              "      quickchartButtonEl.style.display =\n",
              "        google.colab.kernel.accessAllowed ? 'block' : 'none';\n",
              "    })();\n",
              "  </script>\n",
              "</div>\n",
              "    </div>\n",
              "  </div>\n"
            ],
            "application/vnd.google.colaboratory.intrinsic+json": {
              "type": "dataframe",
              "variable_name": "df",
              "summary": "{\n  \"name\": \"df\",\n  \"rows\": 10,\n  \"fields\": [\n    {\n      \"column\": \"Actual\",\n      \"properties\": {\n        \"dtype\": \"number\",\n        \"std\": 86,\n        \"min\": 410,\n        \"max\": 704,\n        \"num_unique_values\": 10,\n        \"samples\": [\n          410,\n          587,\n          704\n        ],\n        \"semantic_type\": \"\",\n        \"description\": \"\"\n      }\n    },\n    {\n      \"column\": \"Predicted\",\n      \"properties\": {\n        \"dtype\": \"number\",\n        \"std\": 58.63042489296799,\n        \"min\": 519.0586723529872,\n        \"max\": 687.077035728799,\n        \"num_unique_values\": 10,\n        \"samples\": [\n          547.6093661983457,\n          673.779441694621,\n          643.4610025623728\n        ],\n        \"semantic_type\": \"\",\n        \"description\": \"\"\n      }\n    }\n  ]\n}"
            }
          },
          "metadata": {},
          "execution_count": 25
        }
      ],
      "source": [
        "df = pd.DataFrame({\"Actual\": y_test, \"Predicted\": y_pred})\n",
        "df"
      ]
    },
    {
      "cell_type": "code",
      "execution_count": null,
      "metadata": {
        "id": "kh8l9NqH3IWN",
        "colab": {
          "base_uri": "https://localhost:8080/"
        },
        "outputId": "14b6839e-49bf-4f89-b5f2-88e78308d1ea"
      },
      "outputs": [
        {
          "output_type": "stream",
          "name": "stdout",
          "text": [
            "Mean squared error: 4083.256\n",
            "Root mean squared error:  63.900\n",
            "Mean absolute error: 53.469\n",
            "R2 score: 0.391\n"
          ]
        }
      ],
      "source": [
        "# Mean Absolute Error\n",
        "# Mean Squared Error\n",
        "# Root Mean Squared Error\n",
        "\n",
        "from sklearn.metrics import mean_squared_error, mean_absolute_error, r2_score\n",
        "\n",
        "\n",
        "def print_metrics(y_true, y_predicted):\n",
        "    print(f\"Mean squared error: {mean_squared_error(y_true, y_predicted):.3f}\")\n",
        "    print(\n",
        "        \"Root mean squared error: \",\n",
        "        f\"{mean_squared_error(y_true, y_predicted, squared=False):.3f}\",\n",
        "    )\n",
        "    print(f\"Mean absolute error: {mean_absolute_error(y_true, y_predicted):.3f}\")\n",
        "    print(f\"R2 score: {r2_score(y_true, y_predicted):.3f}\")\n",
        "\n",
        "\n",
        "print_metrics(y_test, y_predicted)"
      ]
    },
    {
      "cell_type": "markdown",
      "metadata": {
        "id": "3Gwr5Ut53IWN"
      },
      "source": [
        "## Формат результата"
      ]
    },
    {
      "cell_type": "markdown",
      "metadata": {
        "id": "u2v9Wk1X3IWN"
      },
      "source": [
        "Вывод метрик качества:\n",
        "\n",
        "* Mean Absolute Error ~ 53\n",
        "* Mean Squared Error: ~ 4083\n",
        "* Root Mean Squared Error: ~ 64"
      ]
    },
    {
      "cell_type": "markdown",
      "metadata": {
        "id": "cgxjHdNx3IWO"
      },
      "source": [
        "# Задание 2. Kernel SVM"
      ]
    },
    {
      "cell_type": "markdown",
      "metadata": {
        "id": "GSNWN9Ng3IWP"
      },
      "source": [
        "В этом задании вы будете применять обобщенную линейную модель Kernel SVM для решения нелинейной задачи.\n",
        "\n",
        "Для этого задания мы сгенерируем датасет, представляющий собой **две закрученные спирали**, относящиеся к разным классам. Для этого воспользуемся кодом из [источника](https://glowingpython.blogspot.com/2017/04/solving-two-spirals-problem-with-keras.html). Такие данные могут вызвать проблемы не только у линейной модели, но и у маленькой нейронной сети."
      ]
    },
    {
      "cell_type": "markdown",
      "metadata": {
        "id": "uJfhlKrj3IWP"
      },
      "source": [
        "Импорт необходимых библиотек:"
      ]
    },
    {
      "cell_type": "code",
      "execution_count": null,
      "metadata": {
        "id": "RHOGI8ia3IWQ"
      },
      "outputs": [],
      "source": [
        "import random\n",
        "import numpy as np\n",
        "import seaborn as sns\n",
        "import matplotlib.pyplot as plt\n",
        "from sklearn import svm\n",
        "from sklearn.model_selection import train_test_split\n",
        "from sklearn.preprocessing import StandardScaler\n",
        "from matplotlib.colors import ListedColormap\n",
        "from sklearn.inspection import DecisionBoundaryDisplay\n",
        "from sklearn.metrics import accuracy_score\n",
        "from sklearn.model_selection import cross_val_score"
      ]
    },
    {
      "cell_type": "markdown",
      "metadata": {
        "id": "3T2FZkCW3IWQ"
      },
      "source": [
        "Генерация датасета:"
      ]
    },
    {
      "cell_type": "code",
      "execution_count": null,
      "metadata": {
        "id": "b2oOCSyz3IWR",
        "colab": {
          "base_uri": "https://localhost:8080/",
          "height": 465
        },
        "outputId": "c49eaa3f-082e-413f-f241-aa3c347295a1"
      },
      "outputs": [
        {
          "output_type": "display_data",
          "data": {
            "text/plain": [
              "<Figure size 500x500 with 1 Axes>"
            ],
            "image/png": "[encoded data removed]"
          },
          "metadata": {}
        }
      ],
      "source": [
        "set_seed()\n",
        "\n",
        "\n",
        "def twospirals(n_points, noise=0.8):\n",
        "    \"\"\"\n",
        "    Returns the two spirals dataset.\n",
        "    \"\"\"\n",
        "    n = np.sqrt(np.random.rand(n_points, 1)) * 780 * (2 * np.pi) / 360\n",
        "    d1x = -np.cos(n) * n + np.random.rand(n_points, 1) * noise\n",
        "    d1y = np.sin(n) * n + np.random.rand(n_points, 1) * noise\n",
        "    return (\n",
        "        np.vstack((np.hstack((d1x, d1y)), np.hstack((-d1x, -d1y)))),\n",
        "        np.hstack((np.zeros(n_points), np.ones(n_points))),\n",
        "    )\n",
        "\n",
        "\n",
        "x, y = twospirals(500)\n",
        "fig, ax = plt.subplots(1, 1, figsize=(5, 5))\n",
        "\n",
        "sns.scatterplot(x=x[:, 0], y=x[:, 1], hue=y, s=50, ax=ax)\n",
        "handles, labels = ax.get_legend_handles_labels()\n",
        "ax.legend(handles, [\"class 0\", \"class 1\"])\n",
        "ax.set(xlabel=\"feature 1\", ylabel=\"feature 2\")\n",
        "plt.show()"
      ]
    },
    {
      "cell_type": "markdown",
      "metadata": {
        "id": "EjDHi36u3IWV"
      },
      "source": [
        "Разделите датасет на **тренировочную и тестовую части** в соотношении 4 к 1 (`random_state=42`):"
      ]
    },
    {
      "cell_type": "code",
      "execution_count": null,
      "metadata": {
        "id": "5cbi-t0w3IWV"
      },
      "outputs": [],
      "source": [
        "set_seed()\n",
        "\n",
        "x_train, x_test, y_train, y_test = train_test_split(\n",
        "    x, y, test_size=0.2, random_state=42\n",
        ")"
      ]
    },
    {
      "cell_type": "markdown",
      "metadata": {
        "id": "3tOFk5da3IWW"
      },
      "source": [
        "**Нормализуйте признаки** (подсказка: не “подглядывайте” в test):\n"
      ]
    },
    {
      "cell_type": "code",
      "execution_count": null,
      "metadata": {
        "id": "e_ZW72aY3IWW"
      },
      "outputs": [],
      "source": [
        "from sklearn.preprocessing import StandardScaler\n",
        "\n",
        "scaler = StandardScaler()\n",
        "\n",
        "\n",
        "x_train_scaled = scaler.fit_transform(x_train)\n",
        "x_test_scaled = scaler.transform(x_test)"
      ]
    },
    {
      "cell_type": "markdown",
      "metadata": {
        "id": "yyOrlHOj3IWX"
      },
      "source": [
        "Попробуйте применить различные ядра для `svm.SVC`. Постройте **разделяющие кривые для train** части датасета. Посчитайте значения метрики **accuracy для test** части датасета."
      ]
    },
    {
      "cell_type": "code",
      "execution_count": null,
      "metadata": {
        "id": "gpNd0Xi13IWY",
        "colab": {
          "base_uri": "https://localhost:8080/",
          "height": 893
        },
        "outputId": "f7f58a8f-6f10-4b41-ceea-7856ceaf6015"
      },
      "outputs": [
        {
          "output_type": "display_data",
          "data": {
            "text/plain": [
              "<Figure size 500x500 with 1 Axes>"
            ],
            "image/png": "[encoded data removed]"
          },
          "metadata": {}
        },
        {
          "output_type": "display_data",
          "data": {
            "text/plain": [
              "<Figure size 500x500 with 1 Axes>"
            ],
            "image/png": "[encoded data removed]"
          },
          "metadata": {}
        }
      ],
      "source": [
        "from matplotlib.colors import ListedColormap\n",
        "from sklearn.inspection import DecisionBoundaryDisplay\n",
        "from sklearn import svm\n",
        "\n",
        "fig, ax = plt.subplots(1, 1, figsize=(5, 5))\n",
        "\n",
        "sns.scatterplot(\n",
        "    x=x[:, 0],\n",
        "    y=x[:, 1],\n",
        "    hue=y,\n",
        "    s=50,\n",
        "    ax=ax,\n",
        "    palette=sns.color_palette([\"#2DA9E1\", \"#F9B041\"]),\n",
        ")\n",
        "#plt.show()\n",
        "\n",
        "\n",
        "def plot_svm(x, y, clf):\n",
        "    dull_cmap = ListedColormap([\"#B8E1EC\", \"#FEE7D0\"])\n",
        "    fig, ax = plt.subplots(1, 1, figsize=(5, 5))\n",
        "\n",
        "    disp = DecisionBoundaryDisplay.from_estimator(\n",
        "        clf,\n",
        "        x,\n",
        "        response_method=\"predict\",\n",
        "        cmap=dull_cmap,\n",
        "        alpha=0.8,\n",
        "        xlabel=\"feature 1\",\n",
        "        ylabel=\"feature 2\",\n",
        "        ax=ax,\n",
        "    )\n",
        "\n",
        "    sns.scatterplot(\n",
        "        x=x[:, 0],\n",
        "        y=x[:, 1],\n",
        "        hue=y,\n",
        "        s=50,\n",
        "        ax=ax,\n",
        "        palette=sns.color_palette([\"#2DA9E1\", \"#F9B041\"]),\n",
        "    )\n",
        "    plt.show()\n",
        "\n",
        "\n",
        "clf = svm.SVC(kernel=\"rbf\")\n",
        "clf.fit(x, y)\n",
        "plot_svm(x, y, clf)\n"
      ]
    },
    {
      "cell_type": "markdown",
      "metadata": {
        "id": "d-vBGjou3IWY"
      },
      "source": [
        "Ядра со значениями по умолчанию не позволяют качественно разделить классы. Для решения задачи необходимо изменить параметры ядра.\n",
        "\n",
        "Выберете ядро, которое дает **наилучшее значение accuracy**, ознакомьтесь со **списком настраиваемых параметров** этого ядра в документации [`sklearn`](https://scikit-learn.org/stable/modules/svm.html#kernel-functions), **подберите гиперпараметры модели**. Для подбора гиперпараметров модели воспользуйтесь кросс-валидацией. Пример подбора параметров можно найти в [документации](https://scikit-learn.org/stable/auto_examples/exercises/plot_cv_digits.html#sphx-glr-auto-examples-exercises-plot-cv-digits-py).Так же можно использовать [GridSearchCV](https://scikit-learn.org/stable/modules/generated/sklearn.model_selection.GridSearchCV.html) или [RandomizedSearchCV](https://scikit-learn.org/stable/modules/generated/sklearn.model_selection.RandomizedSearchCV.html#sklearn.model_selection.RandomizedSearchCV). Используйте разбиение на 4 фолда и `accuracy` в качестве целевой метрики.\n",
        "\n",
        "**Подсказка:** при очень больших значения обратного коэффициента нормализации модель может плохо сходиться. Ограничьтесь максимальным значением  $10^5$."
      ]
    },
    {
      "cell_type": "code",
      "execution_count": null,
      "metadata": {
        "id": "Pds0FOlx3IWZ",
        "colab": {
          "base_uri": "https://localhost:8080/"
        },
        "outputId": "312ab67c-bdf2-446b-e189-8187db648495"
      },
      "outputs": [
        {
          "output_type": "stream",
          "name": "stdout",
          "text": [
            "Лучшие гиперпараметры: {'C': 1000, 'gamma': 1}\n"
          ]
        }
      ],
      "source": [
        "import numpy as np\n",
        "from sklearn.pipeline import make_pipeline\n",
        "from sklearn.preprocessing import StandardScaler\n",
        "from sklearn.svm import SVC\n",
        "from sklearn.model_selection import GridSearchCV\n",
        "from sklearn.svm import SVC\n",
        "\n",
        "param_grid = {'C': [0.1, 1, 10, 100, 1000], 'gamma': [1, 0.1, 0.01, 0.001, 0.0001]}\n",
        "clf = SVC(kernel='rbf')\n",
        "grid_search = GridSearchCV(clf, param_grid, cv=5)\n",
        "\n",
        "grid_search.fit(x_train_scaled, y_train)\n",
        "print(\"Лучшие гиперпараметры:\", grid_search.best_params_)\n",
        "\n"
      ]
    },
    {
      "cell_type": "markdown",
      "metadata": {
        "id": "QyrZ_ksq3IWZ"
      },
      "source": [
        "Обучите модель с подобранными гиперпараметрами. Постройте разделяющую кривую для train части датасета и значение accuracy для test."
      ]
    },
    {
      "cell_type": "code",
      "execution_count": null,
      "metadata": {
        "id": "B-zbvxpC3IWa",
        "colab": {
          "base_uri": "https://localhost:8080/",
          "height": 465
        },
        "outputId": "d79e347e-c65f-4847-883b-447359f0fe31"
      },
      "outputs": [
        {
          "output_type": "display_data",
          "data": {
            "text/plain": [
              "<Figure size 500x500 with 1 Axes>"
            ],
            "image/png": "[encoded data removed]"
          },
          "metadata": {}
        }
      ],
      "source": [
        "clf = svm.SVC(kernel=\"rbf\", C = 1000, gamma = 1)\n",
        "clf.fit(x, y)\n",
        "plot_svm(x, y, clf)"
      ]
    },
    {
      "cell_type": "code",
      "source": [
        "from sklearn.metrics import accuracy_score\n",
        "\n",
        "# Предсказание значений целевой переменной\n",
        "y_pred = clf.predict(x)\n",
        "\n",
        "# Вычисление точности\n",
        "accuracy = accuracy_score(y, y_pred)\n",
        "print(\"Accuracy:\", accuracy)\n"
      ],
      "metadata": {
        "colab": {
          "base_uri": "https://localhost:8080/",
          "height": 350
        },
        "id": "suAvSvgXPXRq",
        "outputId": "2d96cd5d-5d3e-4698-a7af-39a6c1cf0d07"
      },
      "execution_count": null,
      "outputs": [
        {
          "output_type": "error",
          "ename": "ValueError",
          "evalue": "X has 3 features, but SVC is expecting 2 features as input.",
          "traceback": [
            "\u001b[0;31m---------------------------------------------------------------------------\u001b[0m",
            "\u001b[0;31mValueError\u001b[0m                                Traceback (most recent call last)",
            "\u001b[0;32m<ipython-input-200-5a09e8de2b08>\u001b[0m in \u001b[0;36m<cell line: 4>\u001b[0;34m()\u001b[0m\n\u001b[1;32m      2\u001b[0m \u001b[0;34m\u001b[0m\u001b[0m\n\u001b[1;32m      3\u001b[0m \u001b[0;31m# Предсказание значений целевой переменной\u001b[0m\u001b[0;34m\u001b[0m\u001b[0;34m\u001b[0m\u001b[0m\n\u001b[0;32m----> 4\u001b[0;31m \u001b[0my_pred\u001b[0m \u001b[0;34m=\u001b[0m \u001b[0mclf\u001b[0m\u001b[0;34m.\u001b[0m\u001b[0mpredict\u001b[0m\u001b[0;34m(\u001b[0m\u001b[0mx\u001b[0m\u001b[0;34m)\u001b[0m\u001b[0;34m\u001b[0m\u001b[0;34m\u001b[0m\u001b[0m\n\u001b[0m\u001b[1;32m      5\u001b[0m \u001b[0;34m\u001b[0m\u001b[0m\n\u001b[1;32m      6\u001b[0m \u001b[0;31m# Вычисление точности\u001b[0m\u001b[0;34m\u001b[0m\u001b[0;34m\u001b[0m\u001b[0m\n",
            "\u001b[0;32m/usr/local/lib/python3.10/dist-packages/sklearn/svm/_base.py\u001b[0m in \u001b[0;36mpredict\u001b[0;34m(self, X)\u001b[0m\n\u001b[1;32m    818\u001b[0m             \u001b[0my\u001b[0m \u001b[0;34m=\u001b[0m \u001b[0mnp\u001b[0m\u001b[0;34m.\u001b[0m\u001b[0margmax\u001b[0m\u001b[0;34m(\u001b[0m\u001b[0mself\u001b[0m\u001b[0;34m.\u001b[0m\u001b[0mdecision_function\u001b[0m\u001b[0;34m(\u001b[0m\u001b[0mX\u001b[0m\u001b[0;34m)\u001b[0m\u001b[0;34m,\u001b[0m \u001b[0maxis\u001b[0m\u001b[0;34m=\u001b[0m\u001b[0;36m1\u001b[0m\u001b[0;34m)\u001b[0m\u001b[0;34m\u001b[0m\u001b[0;34m\u001b[0m\u001b[0m\n\u001b[1;32m    819\u001b[0m         \u001b[0;32melse\u001b[0m\u001b[0;34m:\u001b[0m\u001b[0;34m\u001b[0m\u001b[0;34m\u001b[0m\u001b[0m\n\u001b[0;32m--> 820\u001b[0;31m             \u001b[0my\u001b[0m \u001b[0;34m=\u001b[0m \u001b[0msuper\u001b[0m\u001b[0;34m(\u001b[0m\u001b[0;34m)\u001b[0m\u001b[0;34m.\u001b[0m\u001b[0mpredict\u001b[0m\u001b[0;34m(\u001b[0m\u001b[0mX\u001b[0m\u001b[0;34m)\u001b[0m\u001b[0;34m\u001b[0m\u001b[0;34m\u001b[0m\u001b[0m\n\u001b[0m\u001b[1;32m    821\u001b[0m         \u001b[0;32mreturn\u001b[0m \u001b[0mself\u001b[0m\u001b[0;34m.\u001b[0m\u001b[0mclasses_\u001b[0m\u001b[0;34m.\u001b[0m\u001b[0mtake\u001b[0m\u001b[0;34m(\u001b[0m\u001b[0mnp\u001b[0m\u001b[0;34m.\u001b[0m\u001b[0masarray\u001b[0m\u001b[0;34m(\u001b[0m\u001b[0my\u001b[0m\u001b[0;34m,\u001b[0m \u001b[0mdtype\u001b[0m\u001b[0;34m=\u001b[0m\u001b[0mnp\u001b[0m\u001b[0;34m.\u001b[0m\u001b[0mintp\u001b[0m\u001b[0;34m)\u001b[0m\u001b[0;34m)\u001b[0m\u001b[0;34m\u001b[0m\u001b[0;34m\u001b[0m\u001b[0m\n\u001b[1;32m    822\u001b[0m \u001b[0;34m\u001b[0m\u001b[0m\n",
            "\u001b[0;32m/usr/local/lib/python3.10/dist-packages/sklearn/svm/_base.py\u001b[0m in \u001b[0;36mpredict\u001b[0;34m(self, X)\u001b[0m\n\u001b[1;32m    431\u001b[0m             \u001b[0mThe\u001b[0m \u001b[0mpredicted\u001b[0m \u001b[0mvalues\u001b[0m\u001b[0;34m.\u001b[0m\u001b[0;34m\u001b[0m\u001b[0;34m\u001b[0m\u001b[0m\n\u001b[1;32m    432\u001b[0m         \"\"\"\n\u001b[0;32m--> 433\u001b[0;31m         \u001b[0mX\u001b[0m \u001b[0;34m=\u001b[0m \u001b[0mself\u001b[0m\u001b[0;34m.\u001b[0m\u001b[0m_validate_for_predict\u001b[0m\u001b[0;34m(\u001b[0m\u001b[0mX\u001b[0m\u001b[0;34m)\u001b[0m\u001b[0;34m\u001b[0m\u001b[0;34m\u001b[0m\u001b[0m\n\u001b[0m\u001b[1;32m    434\u001b[0m         \u001b[0mpredict\u001b[0m \u001b[0;34m=\u001b[0m \u001b[0mself\u001b[0m\u001b[0;34m.\u001b[0m\u001b[0m_sparse_predict\u001b[0m \u001b[0;32mif\u001b[0m \u001b[0mself\u001b[0m\u001b[0;34m.\u001b[0m\u001b[0m_sparse\u001b[0m \u001b[0;32melse\u001b[0m \u001b[0mself\u001b[0m\u001b[0;34m.\u001b[0m\u001b[0m_dense_predict\u001b[0m\u001b[0;34m\u001b[0m\u001b[0;34m\u001b[0m\u001b[0m\n\u001b[1;32m    435\u001b[0m         \u001b[0;32mreturn\u001b[0m \u001b[0mpredict\u001b[0m\u001b[0;34m(\u001b[0m\u001b[0mX\u001b[0m\u001b[0;34m)\u001b[0m\u001b[0;34m\u001b[0m\u001b[0;34m\u001b[0m\u001b[0m\n",
            "\u001b[0;32m/usr/local/lib/python3.10/dist-packages/sklearn/svm/_base.py\u001b[0m in \u001b[0;36m_validate_for_predict\u001b[0;34m(self, X)\u001b[0m\n\u001b[1;32m    611\u001b[0m \u001b[0;34m\u001b[0m\u001b[0m\n\u001b[1;32m    612\u001b[0m         \u001b[0;32mif\u001b[0m \u001b[0;32mnot\u001b[0m \u001b[0mcallable\u001b[0m\u001b[0;34m(\u001b[0m\u001b[0mself\u001b[0m\u001b[0;34m.\u001b[0m\u001b[0mkernel\u001b[0m\u001b[0;34m)\u001b[0m\u001b[0;34m:\u001b[0m\u001b[0;34m\u001b[0m\u001b[0;34m\u001b[0m\u001b[0m\n\u001b[0;32m--> 613\u001b[0;31m             X = self._validate_data(\n\u001b[0m\u001b[1;32m    614\u001b[0m                 \u001b[0mX\u001b[0m\u001b[0;34m,\u001b[0m\u001b[0;34m\u001b[0m\u001b[0;34m\u001b[0m\u001b[0m\n\u001b[1;32m    615\u001b[0m                 \u001b[0maccept_sparse\u001b[0m\u001b[0;34m=\u001b[0m\u001b[0;34m\"csr\"\u001b[0m\u001b[0;34m,\u001b[0m\u001b[0;34m\u001b[0m\u001b[0;34m\u001b[0m\u001b[0m\n",
            "\u001b[0;32m/usr/local/lib/python3.10/dist-packages/sklearn/base.py\u001b[0m in \u001b[0;36m_validate_data\u001b[0;34m(self, X, y, reset, validate_separately, **check_params)\u001b[0m\n\u001b[1;32m    586\u001b[0m \u001b[0;34m\u001b[0m\u001b[0m\n\u001b[1;32m    587\u001b[0m         \u001b[0;32mif\u001b[0m \u001b[0;32mnot\u001b[0m \u001b[0mno_val_X\u001b[0m \u001b[0;32mand\u001b[0m \u001b[0mcheck_params\u001b[0m\u001b[0;34m.\u001b[0m\u001b[0mget\u001b[0m\u001b[0;34m(\u001b[0m\u001b[0;34m\"ensure_2d\"\u001b[0m\u001b[0;34m,\u001b[0m \u001b[0;32mTrue\u001b[0m\u001b[0;34m)\u001b[0m\u001b[0;34m:\u001b[0m\u001b[0;34m\u001b[0m\u001b[0;34m\u001b[0m\u001b[0m\n\u001b[0;32m--> 588\u001b[0;31m             \u001b[0mself\u001b[0m\u001b[0;34m.\u001b[0m\u001b[0m_check_n_features\u001b[0m\u001b[0;34m(\u001b[0m\u001b[0mX\u001b[0m\u001b[0;34m,\u001b[0m \u001b[0mreset\u001b[0m\u001b[0;34m=\u001b[0m\u001b[0mreset\u001b[0m\u001b[0;34m)\u001b[0m\u001b[0;34m\u001b[0m\u001b[0;34m\u001b[0m\u001b[0m\n\u001b[0m\u001b[1;32m    589\u001b[0m \u001b[0;34m\u001b[0m\u001b[0m\n\u001b[1;32m    590\u001b[0m         \u001b[0;32mreturn\u001b[0m \u001b[0mout\u001b[0m\u001b[0;34m\u001b[0m\u001b[0;34m\u001b[0m\u001b[0m\n",
            "\u001b[0;32m/usr/local/lib/python3.10/dist-packages/sklearn/base.py\u001b[0m in \u001b[0;36m_check_n_features\u001b[0;34m(self, X, reset)\u001b[0m\n\u001b[1;32m    387\u001b[0m \u001b[0;34m\u001b[0m\u001b[0m\n\u001b[1;32m    388\u001b[0m         \u001b[0;32mif\u001b[0m \u001b[0mn_features\u001b[0m \u001b[0;34m!=\u001b[0m \u001b[0mself\u001b[0m\u001b[0;34m.\u001b[0m\u001b[0mn_features_in_\u001b[0m\u001b[0;34m:\u001b[0m\u001b[0;34m\u001b[0m\u001b[0;34m\u001b[0m\u001b[0m\n\u001b[0;32m--> 389\u001b[0;31m             raise ValueError(\n\u001b[0m\u001b[1;32m    390\u001b[0m                 \u001b[0;34mf\"X has {n_features} features, but {self.__class__.__name__} \"\u001b[0m\u001b[0;34m\u001b[0m\u001b[0;34m\u001b[0m\u001b[0m\n\u001b[1;32m    391\u001b[0m                 \u001b[0;34mf\"is expecting {self.n_features_in_} features as input.\"\u001b[0m\u001b[0;34m\u001b[0m\u001b[0;34m\u001b[0m\u001b[0m\n",
            "\u001b[0;31mValueError\u001b[0m: X has 3 features, but SVC is expecting 2 features as input."
          ]
        }
      ]
    },
    {
      "cell_type": "markdown",
      "metadata": {
        "id": "Vk4tOvG93IWe"
      },
      "source": [
        "## Формат результата"
      ]
    },
    {
      "cell_type": "markdown",
      "metadata": {
        "id": "fgA-wERU3IWf"
      },
      "source": [
        "* Значение accuracy для test части датасета >0.95.\n",
        "* График разделяющей кривой для train части датасета.\n",
        "\n",
        "Пример графика:\n",
        "\n",
        "<img src =\"https://edunet.kea.su/repo/EduNet-web_dependencies/dev-2.1/Exercises/EX02/result_2_task_ex02.png\" width=\"500\">"
      ]
    },
    {
      "cell_type": "markdown",
      "metadata": {
        "id": "Dcd3G_7R3IWf"
      },
      "source": [
        "# Задание 3. Составные части модели классификатора"
      ]
    },
    {
      "cell_type": "markdown",
      "metadata": {
        "id": "TSPARp343IWg"
      },
      "source": [
        "В этом задании вам предлагается написать и проверить несколько вспомогательных функций, которые вы будете использовать внутри рукописной модели.\n",
        "\n",
        "Итоговая модель будет выглядеть так:\n",
        "\n",
        "<img src =\"https://edunet.kea.su/repo/EduNet-web_dependencies/dev-2.1/Exercises/EX02/linear_model_probability_pipeline.png\" width=\"1000\">\n",
        "\n",
        "В качестве функционала ошибок будет использоваться Cross-Entropy.\n",
        "\n",
        "**Задание *:** не использовать циклы `for`, `while` и условие `if` внутри функций."
      ]
    },
    {
      "cell_type": "markdown",
      "metadata": {
        "id": "3rfwgVXH3IWg"
      },
      "source": [
        "## Формат результата"
      ]
    },
    {
      "cell_type": "markdown",
      "metadata": {
        "id": "Acls_Gal3IWh"
      },
      "source": [
        "* Все функции должны быть прописаны, все тесты должны показывать лог: `It's OK`"
      ]
    },
    {
      "cell_type": "markdown",
      "metadata": {
        "id": "X4UHPlDm3IWi"
      },
      "source": [
        "## Написание функций для модели классификатора\n",
        "\n"
      ]
    },
    {
      "cell_type": "markdown",
      "metadata": {
        "id": "yaqVTjbi3IWi"
      },
      "source": [
        "В этой части напишем **линейный слой**, который принимает на вход признаки `x` и веса `w`, возвращает расширенный набор признаков с добавлением столбца единиц `x_ext` (он нужен будет для расчета градиентов), и выход слоя — логиты `s` для различных классов для каждого объекта батча.\n",
        "\n",
        "**Подсказка:** обратите внимание на размерности матриц и векторов, описанные в [docstring](https://www.programiz.com/python-programming/docstrings).\n"
      ]
    },
    {
      "cell_type": "code",
      "execution_count": null,
      "metadata": {
        "id": "ztwCg8x03IWj"
      },
      "outputs": [],
      "source": [
        "def linear(w, x):\n",
        "    \"\"\"\n",
        "    Calculates logits\n",
        "\n",
        "    Parameters\n",
        "    ----------\n",
        "    w: np.narray\n",
        "        model weights and bias (parameters) [input_size+1, classes_num]\n",
        "    x: np.narray\n",
        "        array of features [batch_size, input_size]\n",
        "\n",
        "    Returns\n",
        "    ----------\n",
        "    x_ext: np.narray\n",
        "        array of features with ones column [batch_size, input_size+1]\n",
        "    s: np.narray\n",
        "        array of logits with size [batch_size, classes_num]\n",
        "    \"\"\"\n",
        "    x = np.array(x)\n",
        "    a = x.shape[0]\n",
        "    one = np.ones((a, 1))\n",
        "    x_ext = np.hstack((one, x))\n",
        "\n",
        "    s = x_ext @ w\n",
        "    # Your code here\n",
        "    return x_ext, s"
      ]
    },
    {
      "cell_type": "markdown",
      "metadata": {
        "id": "q3ugiBDE3IWk"
      },
      "source": [
        "Проверим работу:"
      ]
    },
    {
      "cell_type": "code",
      "execution_count": null,
      "metadata": {
        "id": "L68vQrHo3IWk",
        "colab": {
          "base_uri": "https://localhost:8080/"
        },
        "outputId": "295168ee-57b0-4ce0-83fa-8076b970889f"
      },
      "outputs": [
        {
          "output_type": "stream",
          "name": "stdout",
          "text": [
            "It's OK\n"
          ]
        }
      ],
      "source": [
        "# tests\n",
        "inputs = [\n",
        "    (\n",
        "        np.array([[1., 2.,],\n",
        "                  [3., 4.,],\n",
        "                  [5., 6.,]]),\n",
        "        np.array([[1., 2.,],\n",
        "                  [3., 4.,]])\n",
        "    ),\n",
        "    (\n",
        "        np.array([[1., 1.,],\n",
        "                  [0., 0.,],\n",
        "                  [0., 0.,]]),\n",
        "        np.array([[0., 0.,],\n",
        "                  [0., 0.,]])\n",
        "    )\n",
        "]\n",
        "\n",
        "outputs = [\n",
        "    (\n",
        "        np.array([[1., 1., 2.,],\n",
        "                  [1., 3., 4.,]]),\n",
        "        np.array([[14., 18.,],\n",
        "                  [30., 38.,],]),\n",
        "    ),\n",
        "    (\n",
        "        np.array([[1., 0., 0.,],\n",
        "                  [1., 0., 0.,]]),\n",
        "        np.array([[1., 1.,],\n",
        "                  [1., 1.,]])\n",
        "    )\n",
        "]\n",
        "\n",
        "for (w, x), (x_out, s_out)  in zip(inputs, outputs):\n",
        "    x, s = linear(w, x)\n",
        "    assert x.shape == x_out.shape, f\"Check shape: {x.shape}!={x_out.shape}\"\n",
        "    assert (np.abs(x - x_out) < 0.00001).all(), f\"Check \\n{x}\\n!=\\n{x_out}\"\n",
        "    assert s.shape == s_out.shape, f\"Check shape: {s.shape}!={s_out.shape}\"\n",
        "    assert (np.abs(s - s_out) < 0.00001).all(), f\"Check \\n{s}\\n!=\\n{s_out}\"\n",
        "\n",
        "print(\"It's OK\")"
      ]
    },
    {
      "cell_type": "markdown",
      "metadata": {
        "id": "n2wQY3YD3IWl"
      },
      "source": [
        "Теперь напишем функцию `soft_max`, преобразующую выходы линейного слоя `s` в вероятности `probs`.\n",
        "\n",
        "**Подсказка**: Используйте `axis=1, keepdims=True` при вычислении максимумов и сумм по строкам. Не забудьте о методе избегания None в расчете SoftMax."
      ]
    },
    {
      "cell_type": "code",
      "execution_count": null,
      "metadata": {
        "id": "mQSfC76_3IWl"
      },
      "outputs": [],
      "source": [
        "def soft_max(logits):\n",
        "    \"\"\"\n",
        "    Converts logits to probabilities\n",
        "\n",
        "    Parameters\n",
        "    ----------\n",
        "    s: np.narray\n",
        "        array of logits [batch_size, classes_num]\n",
        "\n",
        "    Returns\n",
        "    ----------\n",
        "    probs: np.narray\n",
        "         array of probabilities [batch_size, classes_num]\n",
        "    \"\"\"\n",
        "    exp_logits = np.exp(logits - np.max(logits, axis=1, keepdims=True))\n",
        "\n",
        "    return exp_logits / np.sum(exp_logits, axis=1, keepdims=True)\n",
        "\n",
        "    # return probs"
      ]
    },
    {
      "cell_type": "markdown",
      "metadata": {
        "id": "UlCK7Dws3IWm"
      },
      "source": [
        "Проверим работу:"
      ]
    },
    {
      "cell_type": "code",
      "execution_count": null,
      "metadata": {
        "id": "JPo761do3IWn",
        "colab": {
          "base_uri": "https://localhost:8080/"
        },
        "outputId": "178c8192-2038-487b-8894-3e69c7733dc7"
      },
      "outputs": [
        {
          "output_type": "stream",
          "name": "stdout",
          "text": [
            "It's OK\n"
          ]
        }
      ],
      "source": [
        "inputs = [\n",
        "    np.array([[1, 2, 3],\n",
        "              [6, 5, 4],\n",
        "              [12, 3, -2]]),\n",
        "    np.array([[123, 456, 789],\n",
        "              [-1123, -1456, -1789]]),\n",
        "]\n",
        "\n",
        "outputs = [\n",
        "    np.array([[9.00305732e-02, 2.44728471e-01, 6.65240956e-01],\n",
        "              [6.65240956e-01, 2.44728471e-01, 9.00305732e-02],\n",
        "              [9.99875774e-01, 1.23394473e-04, 8.31425422e-07],]),\n",
        "    np.array([[5.75274406e-290, 2.39848787e-145, 1.00000000e+000],\n",
        "              [1.00000000e+000, 2.39848787e-145, 5.75274406e-290]])\n",
        "]\n",
        "\n",
        "for s, out in zip(inputs, outputs):\n",
        "    probs = soft_max(s)\n",
        "    assert s.shape == out.shape, f\"Check shape: {probs.shape}!={out.shape}\"\n",
        "    assert (np.abs(probs - out) < 0.00001).all(), f\"Check \\n{probs}\\n!=\\n{out}\"\n",
        "\n",
        "print(\"It's OK\")"
      ]
    },
    {
      "cell_type": "markdown",
      "metadata": {
        "id": "ZSLG26fL3IWo"
      },
      "source": [
        "Функция `y_to_prob` должна преобразовывать истинные метки классов `y_true` в истинные вероятности `probs`.\n",
        "\n",
        "**Подсказка:** эту функцию не обязательно использовать в итоговой модели или при написании Cross-Entropy loss, но она полезна для понимания происходящего внутри модели."
      ]
    },
    {
      "cell_type": "code",
      "execution_count": null,
      "metadata": {
        "id": "IsBO0dY73IWp"
      },
      "outputs": [],
      "source": [
        "def y_to_prob(y_true, classes_num):\n",
        "\n",
        "    probs = np.zeros((len(y_true), classes_num))\n",
        "\n",
        "    flag = 0\n",
        "\n",
        "    for i in range(len(y_true)):\n",
        "      probs[i][y_true[i]] = 1\n",
        "\n",
        "    \"\"\"\n",
        "    Converts class labels to true probabilities\n",
        "\n",
        "    Parameters\n",
        "    ----------\n",
        "    y_true: np.narray\n",
        "         true class labels [batch_size]\n",
        "    classes_num: int\n",
        "        number of classes\n",
        "\n",
        "    Returns\n",
        "    ----------\n",
        "    probs: np.narray\n",
        "         array of probabilities [batch_size, classes_num]\n",
        "    \"\"\"\n",
        "\n",
        "\n",
        "    return probs"
      ]
    },
    {
      "cell_type": "markdown",
      "metadata": {
        "id": "qY4zFzYu3IWq"
      },
      "source": [
        "Проверим работу:"
      ]
    },
    {
      "cell_type": "code",
      "execution_count": null,
      "metadata": {
        "id": "0Tv1e7723IWq",
        "colab": {
          "base_uri": "https://localhost:8080/"
        },
        "outputId": "5bd54203-23a3-4826-a01a-fec41addda87"
      },
      "outputs": [
        {
          "output_type": "stream",
          "name": "stdout",
          "text": [
            "It's OK\n"
          ]
        }
      ],
      "source": [
        "inputs = [\n",
        "    (np.array([1, 2, 3]), 4),\n",
        "    (np.array([7, 0]), 10),\n",
        "]\n",
        "\n",
        "outputs = [\n",
        "    np.array([[0., 1., 0., 0.,],\n",
        "              [0., 0., 1., 0.,],\n",
        "              [0., 0., 0., 1.,],]),\n",
        "    np.array([[0., 0., 0., 0., 0., 0., 0., 1., 0., 0.,],\n",
        "              [1., 0., 0., 0., 0., 0., 0., 0., 0., 0.,]])\n",
        "]\n",
        "\n",
        "for (y, n), out in zip(inputs, outputs):\n",
        "\n",
        "    probs = y_to_prob(y, n)\n",
        "    assert probs.shape == out.shape, f\"Check shape: {probs.shape}!={out.shape}\"\n",
        "    assert (np.abs(probs - out) < 0.00001).all(), f\"Check \\n{probs}\\n!=\\n{out}\"\n",
        "\n",
        "print(\"It's OK\")"
      ]
    },
    {
      "cell_type": "markdown",
      "metadata": {
        "id": "rrRd5U6m3IWr"
      },
      "source": [
        "Напишем функцию `cross_entropy`, которая возвращает среднюю ошибку на 1 объект из батча.  \n",
        "\n",
        "**Подсказка:** предусмотрите случай, когда под логарифмом находится нулевое значение."
      ]
    },
    {
      "cell_type": "code",
      "execution_count": null,
      "metadata": {
        "id": "L5pirYIO3IWs"
      },
      "outputs": [],
      "source": [
        "def cross_entropy(pred_probs, y_true):\n",
        "    \"\"\"\n",
        "    Calculates loss\n",
        "\n",
        "    Parameters\n",
        "    ----------\n",
        "    pred_probs: np.narray\n",
        "         array of predicted probabilities [batch_size, classes_num]\n",
        "    y_true: np.narray\n",
        "         true class labels [batch_size]\n",
        "\n",
        "    Returns\n",
        "    ----------\n",
        "    loss: float\n",
        "         loss value per 1 batch item\n",
        "    \"\"\"\n",
        "\n",
        "    pred_probs += 1e-9\n",
        "\n",
        "    return np.sum(-y_true * np.log(pred_probs)) / pred_probs.shape[0]\n",
        "\n",
        "\n",
        "\n",
        "\n"
      ]
    },
    {
      "cell_type": "markdown",
      "metadata": {
        "id": "FiWrz0SR3IWs"
      },
      "source": [
        "Проверим работу:"
      ]
    },
    {
      "cell_type": "code",
      "execution_count": null,
      "metadata": {
        "id": "vv57YnI73IWt",
        "colab": {
          "base_uri": "https://localhost:8080/"
        },
        "outputId": "8de322a8-aa4f-4cf7-9254-a2554b690eaf"
      },
      "outputs": [
        {
          "output_type": "stream",
          "name": "stdout",
          "text": [
            "[[1. 0. 0.]\n",
            " [0. 0. 1.]]\n",
            "[[1. 0. 0.]\n",
            " [0. 0. 1.]]\n",
            "It's OK\n"
          ]
        }
      ],
      "source": [
        "# tests\n",
        "inputs = [\n",
        "    (\n",
        "        np.array([[1., 0., 0.],\n",
        "                  [0., 0., 1.],]),\n",
        "        np.array([0, 2]),\n",
        "    ),\n",
        "    (\n",
        "        np.array([[1., 0., 0.],\n",
        "                  [0., 0.5, 0.5],]),\n",
        "        np.array([0, 2]),\n",
        "    )\n",
        "]\n",
        "\n",
        "outputs = [\n",
        "    0, 0.34657359027997264\n",
        "]\n",
        "\n",
        "\n",
        "for (pred_probs, y_true), out in zip(inputs, outputs):\n",
        "    num_classes = np.shape(pred_probs)[1]\n",
        "    print(y_to_prob(y_true, 3))\n",
        "    loss = cross_entropy(pred_probs, y_to_prob(y_true, num_classes))\n",
        "    assert (np.abs(loss - out) < 0.00001).all(), f\"Check \\n{loss}\\n!=\\n{out}\"\n",
        "\n",
        "print(\"It's OK\")"
      ]
    },
    {
      "cell_type": "markdown",
      "metadata": {
        "id": "thT3Ptwv3IWu"
      },
      "source": [
        "Посчитаем градиент, используя формулы, выведенные в конце лекции:\n",
        "\n",
        "$$ \\dfrac {\\partial L} {\\partial s_{y_i}}  =  \\begin{cases} p_i - 1 & \\text{для i=k, где k - номер истинного класса}, \\\\p_i & \\text{для любого } i\\neq k.\n",
        " \\end{cases} $$\n",
        "\n",
        "\n",
        "Сhain rule:\n",
        "\n",
        "$$ \\dfrac {\\partial L} {\\partial w_i}  = \\dfrac {\\partial L} {\\partial s_{y_i}} \\dfrac {\\partial s_{y_i}} {\\partial w_i}  =  \\begin{cases}(p_i - 1)x & \\text{для i=k, где k - номер истинного класса}, \\\\p_ix & \\text{для любого } i\\neq k.\n",
        "\\end{cases} $$\n",
        "\n",
        "\n",
        "В матричном виде:\n",
        "$$\\dfrac {\\partial L} {\\partial W}  = X^T (P_\\text{pred} - P_\\text{true})$$"
      ]
    },
    {
      "cell_type": "code",
      "execution_count": null,
      "metadata": {
        "id": "1wUqw9Oo3IWv"
      },
      "outputs": [],
      "source": [
        "def grad(x_ext, pred_probs, y_true):\n",
        "    \"\"\"\n",
        "    Calculates gradient\n",
        "\n",
        "\n",
        "    Parameters\n",
        "    ----------\n",
        "    x_ext: np.narray\n",
        "        array of features with ones column [batch_size, input_size+1]\n",
        "    pred_probs: np.narray\n",
        "         array of predicted probabilities [batch_size, classes_num]\n",
        "    y_true: np.narray\n",
        "         true class labels [batch_size]\n",
        "\n",
        "    Returns\n",
        "    ----------\n",
        "    dl_dw: np.narray\n",
        "         array of gradient loss over weights [input_size+1, classes_num]\n",
        "    \"\"\"\n",
        "    num_classes = np.shape(pred_probs)[1]\n",
        "    probs = y_to_prob(y_true, num_classes)\n",
        "\n",
        "    dl_ds = probs.copy()\n",
        "    dl_ds[np.arange(len(y_true)), y_true] += -1\n",
        "    dW = x_ext.T.dot(dl_ds)\n",
        "\n",
        "    return dW\n",
        "\n",
        "    # num_classes = np.shape(pred_probs)[1]\n",
        "    # probs = y_to_prob(y_true, num_classes)\n",
        "\n",
        "    # dl_ds = probs.copy()\n",
        "    # dl_ds[np.arange(len(y_true)), y_true] += -1\n",
        "    # dW = x_ext.T.dot(dl_ds)\n",
        "\n",
        "    # return dl_dw"
      ]
    },
    {
      "cell_type": "markdown",
      "metadata": {
        "id": "h85gDXRU3IWv"
      },
      "source": [
        "Проверим работу:"
      ]
    },
    {
      "cell_type": "code",
      "execution_count": null,
      "metadata": {
        "id": "3ujNNRZA3IWw",
        "colab": {
          "base_uri": "https://localhost:8080/",
          "height": 326
        },
        "outputId": "2549cd6f-4e0b-4446-8be7-2bb0ad6e9fb8"
      },
      "outputs": [
        {
          "output_type": "error",
          "ename": "AssertionError",
          "evalue": "Check \n[[0. 0.]\n [0. 0.]\n [0. 0.]]\n!=\n[[-0.72   0.72 ]\n [ 0.22  -0.22 ]\n [ 0.212 -0.212]]",
          "traceback": [
            "\u001b[0;31m---------------------------------------------------------------------------\u001b[0m",
            "\u001b[0;31mAssertionError\u001b[0m                            Traceback (most recent call last)",
            "\u001b[0;32m<ipython-input-216-b47c7eba2202>\u001b[0m in \u001b[0;36m<cell line: 31>\u001b[0;34m()\u001b[0m\n\u001b[1;32m     31\u001b[0m \u001b[0;32mfor\u001b[0m \u001b[0;34m(\u001b[0m\u001b[0mx_ext\u001b[0m\u001b[0;34m,\u001b[0m \u001b[0mpred_probs\u001b[0m\u001b[0;34m,\u001b[0m \u001b[0my_true\u001b[0m\u001b[0;34m)\u001b[0m\u001b[0;34m,\u001b[0m \u001b[0mout\u001b[0m \u001b[0;32min\u001b[0m \u001b[0mzip\u001b[0m\u001b[0;34m(\u001b[0m\u001b[0minputs\u001b[0m\u001b[0;34m,\u001b[0m \u001b[0moutputs\u001b[0m\u001b[0;34m)\u001b[0m\u001b[0;34m:\u001b[0m\u001b[0;34m\u001b[0m\u001b[0;34m\u001b[0m\u001b[0m\n\u001b[1;32m     32\u001b[0m     \u001b[0mdl_dw\u001b[0m \u001b[0;34m=\u001b[0m \u001b[0mgrad\u001b[0m\u001b[0;34m(\u001b[0m\u001b[0mx_ext\u001b[0m\u001b[0;34m,\u001b[0m \u001b[0mpred_probs\u001b[0m\u001b[0;34m,\u001b[0m \u001b[0my_true\u001b[0m\u001b[0;34m)\u001b[0m\u001b[0;34m\u001b[0m\u001b[0;34m\u001b[0m\u001b[0m\n\u001b[0;32m---> 33\u001b[0;31m     \u001b[0;32massert\u001b[0m \u001b[0;34m(\u001b[0m\u001b[0mnp\u001b[0m\u001b[0;34m.\u001b[0m\u001b[0mabs\u001b[0m\u001b[0;34m(\u001b[0m\u001b[0mdl_dw\u001b[0m \u001b[0;34m-\u001b[0m \u001b[0mout\u001b[0m\u001b[0;34m)\u001b[0m \u001b[0;34m<\u001b[0m \u001b[0;36m0.00001\u001b[0m\u001b[0;34m)\u001b[0m\u001b[0;34m.\u001b[0m\u001b[0mall\u001b[0m\u001b[0;34m(\u001b[0m\u001b[0;34m)\u001b[0m\u001b[0;34m,\u001b[0m \u001b[0;34mf\"Check \\n{dl_dw}\\n!=\\n{out}\"\u001b[0m\u001b[0;34m\u001b[0m\u001b[0;34m\u001b[0m\u001b[0m\n\u001b[0m\u001b[1;32m     34\u001b[0m \u001b[0;34m\u001b[0m\u001b[0m\n\u001b[1;32m     35\u001b[0m \u001b[0mprint\u001b[0m\u001b[0;34m(\u001b[0m\u001b[0;34m\"It's OK\"\u001b[0m\u001b[0;34m)\u001b[0m\u001b[0;34m\u001b[0m\u001b[0;34m\u001b[0m\u001b[0m\n",
            "\u001b[0;31mAssertionError\u001b[0m: Check \n[[0. 0.]\n [0. 0.]\n [0. 0.]]\n!=\n[[-0.72   0.72 ]\n [ 0.22  -0.22 ]\n [ 0.212 -0.212]]"
          ]
        }
      ],
      "source": [
        "inputs = [\n",
        "    (\n",
        "        np.array([[1.,  0.1,  0.2,],\n",
        "                  [1.,  0.3,  0.4,],\n",
        "                  [1., -0.5, -0.6,]]),\n",
        "        np.array([[0.1,  0.9,],\n",
        "                  [0.5,  0.5,],\n",
        "                  [0.68, 0.32,]]),\n",
        "        np.array([0, 1, 0,]),\n",
        "    ),\n",
        "    (\n",
        "        np.array([[1., -0.1,],\n",
        "                  [1.,  0.4,],\n",
        "                  [1., -0.6,]]),\n",
        "        np.array([[0.1,  0.1,  0.1, 0.7],\n",
        "                  [0.3,  0.2,  0.1, 0.4],\n",
        "                  [0.18, 0.12, 0.2, 0.5]]),\n",
        "        np.array([0, 1, 3,]),\n",
        "    )\n",
        "]\n",
        "\n",
        "outputs = [\n",
        "    np.array([[-0.72, 0.72,],\n",
        "              [0.22, -0.22,],\n",
        "              [0.212, -0.212,]]),\n",
        "    np.array([[-0.42, -0.58, 0.4, 0.6],\n",
        "              [0.102, -0.402, -0.09, 0.39]]),\n",
        "]\n",
        "\n",
        "for (x_ext, pred_probs, y_true), out in zip(inputs, outputs):\n",
        "    dl_dw = grad(x_ext, pred_probs, y_true)\n",
        "    assert (np.abs(dl_dw - out) < 0.00001).all(), f\"Check \\n{dl_dw}\\n!=\\n{out}\"\n",
        "\n",
        "print(\"It's OK\")"
      ]
    },
    {
      "cell_type": "code",
      "execution_count": null,
      "metadata": {
        "id": "C2mD0CNK3IWw"
      },
      "outputs": [],
      "source": [
        "def sgd_step(w, dl_dw, lr):\n",
        "    \"\"\"\n",
        "    Stochastic gradient descent\n",
        "\n",
        "    Parameters\n",
        "    ----------\n",
        "    w: np.narray\n",
        "        model weights and bias (parameters) [input_size+1, classes_num]\n",
        "    dl_dw: np.narray\n",
        "         array of gradient loss over weights [input_size+1, classes_num\n",
        "    lr: float\n",
        "         learning rate\n",
        "\n",
        "    Returns\n",
        "    ----------\n",
        "    w: np.narray\n",
        "        new model weights and bias (parameters) [input_size+1, classes_num]\n",
        "    \"\"\"\n",
        "    # Your code here\n",
        "    return w"
      ]
    },
    {
      "cell_type": "markdown",
      "metadata": {
        "id": "AomRM2lY3IWx"
      },
      "source": [
        "Проверим работу:"
      ]
    },
    {
      "cell_type": "code",
      "execution_count": null,
      "metadata": {
        "id": "pJO3NOb93IWy"
      },
      "outputs": [],
      "source": [
        "# tests\n",
        "inputs = [\n",
        "    (\n",
        "        np.array([[ 0.1,  -0.4,],\n",
        "                  [-0.5,  0.5,],\n",
        "                  [ 1.,   0.32,]]),\n",
        "        np.array([[0.1,   0.2,],\n",
        "                  [0.1,  -0.1,],\n",
        "                  [-0.68, 0.32,]]),\n",
        "        0.001\n",
        "    ),\n",
        "    (\n",
        "        np.array([[0.1,  0.1,  0.1, -0.7],\n",
        "                  [0.3,  -0.2,  0.6, 0.4],\n",
        "                  [0.18, 0.12, 0.2, -0.5]]),\n",
        "        np.array([[0.3,  0.2,  -0.3, 0.4],\n",
        "                  [0.3,  0.2,  0.1, 0.4],\n",
        "                  [0.3,  0.2, -0.1, 0.4]]),\n",
        "        0.001\n",
        "    )\n",
        "]\n",
        "\n",
        "outputs = [\n",
        "    np.array([[ 0.0999,  -0.4002,],\n",
        "              [-0.5001,   0.5001, ],\n",
        "              [ 1.00068,  0.31968,]]),\n",
        "    np.array([[ 0.0997,  0.0998,  0.1003, -0.7004],\n",
        "              [ 0.2997, -0.2002,  0.5999,  0.3996],\n",
        "              [ 0.1797,  0.1198,  0.2001, -0.5004]]),\n",
        "]\n",
        "\n",
        "for (w, dl_dw, lr), out in zip(inputs, outputs):\n",
        "    w = sgd_step(w, dl_dw, lr)\n",
        "    assert (np.abs(w - out) < 0.00001).all(), f\"Check \\n{dl_dw}\\n!=\\n{out}\"\n",
        "\n",
        "print(\"It's OK\")"
      ]
    },
    {
      "cell_type": "markdown",
      "metadata": {
        "id": "aE9HoGpF3IWy"
      },
      "source": [
        "# Задание 4. Модель классификатора"
      ]
    },
    {
      "cell_type": "markdown",
      "metadata": {
        "id": "tkSLLFvs3IWz"
      },
      "source": [
        "В этом задании нужно написать линейный классификатор и обучить его на датасете CIFAR-10."
      ]
    },
    {
      "cell_type": "markdown",
      "metadata": {
        "id": "ryO-Bo323IW0"
      },
      "source": [
        "Импорт необходимых библиотек:"
      ]
    },
    {
      "cell_type": "code",
      "execution_count": null,
      "metadata": {
        "id": "1ogMeNjR3IW0"
      },
      "outputs": [],
      "source": [
        "import sys\n",
        "import random\n",
        "import numpy as np\n",
        "import matplotlib.pyplot as plt\n",
        "from torchvision import datasets\n",
        "from collections import defaultdict\n",
        "from sklearn.metrics import accuracy_score\n",
        "from IPython.display import clear_output"
      ]
    },
    {
      "cell_type": "markdown",
      "metadata": {
        "id": "Ynxn6xAM3IW1"
      },
      "source": [
        "Для оценки прогресса обучения мы будем использовать следующий код для визуализации:"
      ]
    },
    {
      "cell_type": "code",
      "execution_count": null,
      "metadata": {
        "id": "-Cu1K21c3IW1"
      },
      "outputs": [],
      "source": [
        "class ProgressPlotter:\n",
        "    def __init__(self) -> None:\n",
        "        self._history_dict = defaultdict(list)\n",
        "\n",
        "    def add_scalar(self, tag: str, value) -> None:\n",
        "        self._history_dict[tag].append(value)\n",
        "\n",
        "    def display_plot(self) -> None:\n",
        "        clear_output()\n",
        "        n_keys = len(self._history_dict)\n",
        "        fig, ax = plt.subplots(n_keys, 1, figsize=(12, 3 * n_keys))\n",
        "        for key_idx, key in enumerate(self._history_dict.keys()):\n",
        "            history_len = len(self._history_dict[key])\n",
        "            if n_keys == 1:\n",
        "                ax.plot(self._history_dict[key], color=\"c\", marker=\"X\")\n",
        "                ax.set_ylabel(key)\n",
        "                ax.set_xlabel(\"step\")\n",
        "                ax.set_xticks(np.arange(history_len))\n",
        "                ax.set_xticklabels(np.arange(history_len))\n",
        "            elif n_keys > 1:\n",
        "                ax[key_idx].plot(self._history_dict[key], color=\"c\", marker=\"X\")\n",
        "                ax[key_idx].set_ylabel(key)\n",
        "                ax[key_idx].set_xlabel(\"step\")\n",
        "                ax[key_idx].set_xticks(np.arange(history_len))\n",
        "                ax[key_idx].set_xticklabels(np.arange(history_len))\n",
        "        fig.tight_layout()\n",
        "        plt.show()"
      ]
    },
    {
      "cell_type": "markdown",
      "metadata": {
        "id": "6rVgEQdo3IW2"
      },
      "source": [
        "Вам не обязательно подробно разбираться с этим кодом, но для отладки (чтобы вы могли понять, как он работает, какие переменные в каком формате поступают на вход и т.д.) приводим пример работы:"
      ]
    },
    {
      "cell_type": "code",
      "execution_count": null,
      "metadata": {
        "id": "AWj-RNig3IW3"
      },
      "outputs": [],
      "source": [
        "pp = ProgressPlotter()\n",
        "\n",
        "for i in range(4):\n",
        "    pp.add_scalar(tag=\"dummy metric\", value=i)\n",
        "    pp.add_scalar(tag=\"another metric\", value=i**2 + 101)\n",
        "    pp.display_plot()"
      ]
    },
    {
      "cell_type": "markdown",
      "metadata": {
        "id": "ITVFFqa_3IW3"
      },
      "source": [
        "## Скачивание датасета CIFAR-10"
      ]
    },
    {
      "cell_type": "markdown",
      "metadata": {
        "id": "ocJJs4JX3IW4"
      },
      "source": [
        "### Стандартный способ"
      ]
    },
    {
      "cell_type": "code",
      "execution_count": null,
      "metadata": {
        "id": "aDwhThC83IW5"
      },
      "outputs": [],
      "source": [
        "train_dataset = datasets.CIFAR10(\"content\", train=True, download=True)\n",
        "test_dataset = datasets.CIFAR10(\"content\", train=False, download=True)"
      ]
    },
    {
      "cell_type": "code",
      "execution_count": null,
      "metadata": {
        "id": "XvXp-cXB3IW6"
      },
      "outputs": [],
      "source": [
        "x_train = np.array(train_dataset.data)\n",
        "x_test = np.array(test_dataset.data)\n",
        "\n",
        "y_train = np.array(train_dataset.targets)\n",
        "y_test = np.array(test_dataset.targets)\n",
        "\n",
        "# flatten\n",
        "x_train = x_train.transpose(0, 3, 1, 2).reshape(x_train.shape[0], -1) / 255.0\n",
        "x_test = x_test.transpose(0, 3, 1, 2).reshape(x_test.shape[0], -1)  / 255.0\n",
        "\n",
        "labels = [\n",
        "    \"Airplane\",\n",
        "    \"Car\",\n",
        "    \"Bird\",\n",
        "    \"Cat\",\n",
        "    \"Deer\",\n",
        "    \"Dog\",\n",
        "    \"Frog\",\n",
        "    \"Horse\",\n",
        "    \"Ship\",\n",
        "    \"Truck\",\n",
        "]\n",
        "\n",
        "# display data(shape [..., 3072])\n",
        "print(\"labels: \", labels)\n",
        "print(\"Training data shape: \", x_train.shape)\n",
        "print(\"Training labels shape: \", y_train.shape)\n",
        "print(\"Test data shape: \", x_test.shape)\n",
        "print(\"Test labels shape: \", y_test.shape)"
      ]
    },
    {
      "cell_type": "markdown",
      "metadata": {
        "id": "F0ylQf-S3IW6"
      },
      "source": [
        "### Способ через colab"
      ]
    },
    {
      "cell_type": "markdown",
      "metadata": {
        "id": "Qj66QPlB3IW7"
      },
      "source": [
        "В этом разделе код для скачивания нестандартного датасета, который покажет, как загружать датасеты в colab.\n"
      ]
    },
    {
      "cell_type": "code",
      "execution_count": null,
      "metadata": {
        "id": "3sU_EJMG3IW8"
      },
      "outputs": [],
      "source": [
        "IN_COLAB = \"google.colab\" in sys.modules\n",
        "if IN_COLAB:\n",
        "    !wget -q https://edunet.kea.su/repo/EduNet-web_dependencies/datasets/cifar-10-python.tar.gz\n",
        "    !tar -xzf cifar-10-python.tar.gz\n",
        "    !ls -l\n",
        "    top_path = \"/content\"\n",
        "else:\n",
        "    top_path = \"\"\n",
        "    print(\"You didn't run code in colab\")"
      ]
    },
    {
      "cell_type": "markdown",
      "metadata": {
        "id": "fExNHK2S3IW8"
      },
      "source": [
        "Распакуем данные:"
      ]
    },
    {
      "cell_type": "code",
      "execution_count": null,
      "metadata": {
        "id": "QUm7w23f3IW9"
      },
      "outputs": [],
      "source": [
        "# Recreating python object from the bytecode of the batches\n",
        "def unpickle(file, encoding=\"bytes\"):\n",
        "    import pickle\n",
        "\n",
        "    with open(file, \"rb\") as fo:\n",
        "        dict = pickle.load(fo, encoding=encoding)\n",
        "    return dict\n",
        "\n",
        "\n",
        "def load_train_data():\n",
        "    x_train = []\n",
        "    y_train = []\n",
        "    for i in range(1, 6):\n",
        "        raw = unpickle(f\"cifar-10-batches-py/data_batch_{i}\")\n",
        "        x_train.append(raw[b\"data\"])\n",
        "        y_train.append(raw[b\"labels\"])\n",
        "    x_train = np.vstack(x_train)\n",
        "    y_train = np.hstack(y_train)\n",
        "    return x_train / 255.0, y_train\n",
        "\n",
        "\n",
        "x_train, y_train = load_train_data()\n",
        "\n",
        "#  load test data\n",
        "test = unpickle(top_path + \"/cifar-10-batches-py/test_batch\")\n",
        "x_test = np.array(test[b\"data\"]) / 255.0\n",
        "y_test = np.array(test[b\"labels\"])\n",
        "\n",
        "# load classes names\n",
        "meta = unpickle(top_path + \"/cifar-10-batches-py/batches.meta\", \"utf-8\")\n",
        "labels = meta[\"label_names\"]\n",
        "\n",
        "# display data(shape [..., 3072])\n",
        "print(\"labels: \", labels)\n",
        "print(\"Training data shape: \", x_train.shape)\n",
        "print(\"Training labels shape: \", y_train.shape)\n",
        "print(\"Test data shape: \", x_test.shape)\n",
        "print(\"Test labels shape: \", y_test.shape)"
      ]
    },
    {
      "cell_type": "markdown",
      "metadata": {
        "id": "plZDu9pi3IW-"
      },
      "source": [
        "### Локальный способ"
      ]
    },
    {
      "cell_type": "markdown",
      "metadata": {
        "id": "amn5N2AH3IW-"
      },
      "source": [
        "Эта инструкция нужна, если вы запускаете блокнот локально:\n",
        "1. Скачайте архив с датасетом CIFAR-10 с оффициального\n",
        "[сайта](https://www.cs.toronto.edu/~kriz/cifar-10-python.tar.gz). И не удаляйте его в течение курса, он ещё не раз пригодится.\n",
        "2. Распакуйте архив в папку с заданием.\n",
        "3. Проверьте, в какой директории запущен блокнот, командой `cd`.\n",
        "4. Если директория не та, в которой лежат файлы датасета, смените её с помощью `cd C:\\some\\directory\\with\\dataset`.\n",
        "5. Проверьте командой `ls`, видит ли блокнот файлы датасета."
      ]
    },
    {
      "cell_type": "markdown",
      "metadata": {
        "id": "Rzd3-gR83IW_"
      },
      "source": [
        "## Просмотр данных"
      ]
    },
    {
      "cell_type": "markdown",
      "metadata": {
        "id": "q26seQMU3IXA"
      },
      "source": [
        "Отобразим данные графически:"
      ]
    },
    {
      "cell_type": "code",
      "execution_count": null,
      "metadata": {
        "id": "OWCFgrQT3IXA"
      },
      "outputs": [],
      "source": [
        "def to_img(arr):\n",
        "    # Transform data from vector to array with 3 channel(RGB)\n",
        "    img = (255.0*arr.reshape(3, 32, 32).transpose(1, 2, 0)).astype(int)\n",
        "    return img\n",
        "\n",
        "plt.rcParams[\"figure.figsize\"] = (25, 10)\n",
        "image_to_display = 10\n",
        "j = 1\n",
        "for i in random.sample(range(0, len(x_train)), image_to_display):\n",
        "    plt.subplot(1, image_to_display, j)\n",
        "    plt.imshow(to_img(x_train[i]))\n",
        "    plt.axis(\"off\")\n",
        "    plt.title(labels[int(y_train[i])])\n",
        "    j += 1"
      ]
    },
    {
      "cell_type": "markdown",
      "metadata": {
        "id": "sXNoiqhT3IXB"
      },
      "source": [
        "## Написание модели"
      ]
    },
    {
      "cell_type": "markdown",
      "metadata": {
        "id": "0vLGcZ3F3IXB"
      },
      "source": [
        "В этой части задания нужно написать класс `LinearClassifier`, в котором будет происходить обучение модели. Вам дан шаблон класса, в котором нужно заполнить пробелы в точках `# Your code here`. Используйте функции, написанные и отлаженные в предыдущем задании.\n",
        "\n",
        "**Подсказка**: Суммируйте `loss` со всех батчей для логирования."
      ]
    },
    {
      "cell_type": "code",
      "execution_count": null,
      "metadata": {
        "id": "MZDe8UNc3IXC"
      },
      "outputs": [],
      "source": [
        "set_seed()\n",
        "\n",
        "class LinearClassifier:\n",
        "    def __init__(self, input_size, classes_num, batch_size=256):\n",
        "        \"\"\"\n",
        "        Initialization of parts and hyperparameters of the model\n",
        "\n",
        "        Parameters\n",
        "        ----------\n",
        "        input_size: int\n",
        "            number of input features\n",
        "        classes_num: int\n",
        "            number of classes\n",
        "        batch_size: int\n",
        "            number of objects in batch\n",
        "        \"\"\"\n",
        "        # Generate a random weight matrix of small numbers\n",
        "        # Number of weights changed from input_size to input_size+1 for implement bias trick\n",
        "        self.w = np.random.randn(input_size + 1, classes_num) * 0.0001\n",
        "        self.batch_size = batch_size\n",
        "\n",
        "    def forward(self, x, y_true):\n",
        "        \"\"\"\n",
        "        Forward pass of model:\n",
        "        1. logits calculation ->\n",
        "        2. probability calculation ->\n",
        "        3. loss calculation\n",
        "\n",
        "        Parameters\n",
        "        ----------\n",
        "        x: np.narray\n",
        "            array of input features [batch_size, input_size]\n",
        "        y_true: np.narray\n",
        "            true class labels with size [batch_size]\n",
        "\n",
        "        Save for self.grad function\n",
        "        ----------\n",
        "        self.x: np.narray\n",
        "            array of input features with unit column [batch_size, input_size + 1]\n",
        "        self.probs: np.narray\n",
        "            array of predicted probabilities [batch_size, classes_num]\n",
        "        self.y_true: np.narray\n",
        "            true class labels with size [batch_size]\n",
        "\n",
        "        Save for self.predict function\n",
        "        ----------\n",
        "        self.s: np.array\n",
        "            array of logits for all classes with size [batch_size, classes_num]\n",
        "\n",
        "        Returns\n",
        "        -------\n",
        "        loss: float\n",
        "            sum of loss for objects sum(loss_i)/batch_size\n",
        "        \"\"\"\n",
        "        # Save y_true for self.grad function\n",
        "        # Your code here\n",
        "\n",
        "        # logits calculation\n",
        "        # Your code here\n",
        "\n",
        "        # SoftMax\n",
        "        # Your code here\n",
        "\n",
        "        # Loss calculation\n",
        "        # Your code here\n",
        "        return loss\n",
        "\n",
        "    def grad(self):\n",
        "        \"\"\"\n",
        "        Gradient calculation\n",
        "\n",
        "        Use\n",
        "        -------\n",
        "        self.x: np.narray\n",
        "            array of input features with unit column [batch_size, input_size + 1]\n",
        "\n",
        "        self.probs: np.narray\n",
        "            array of predicted probabilities [batch_size, classes_num]\n",
        "\n",
        "        self.y_true: np.narray\n",
        "            true class labels with size [batch_size]\n",
        "\n",
        "        Save for self.step function\n",
        "        ----------\n",
        "        self.dl_dw: np.narray\n",
        "            derivative of loss by weights\n",
        "        \"\"\"\n",
        "        # Gradient calculation\n",
        "        # Your code here\n",
        "\n",
        "    def step(self, lr):\n",
        "        \"\"\"\n",
        "        Gradient descent step\n",
        "\n",
        "        Parameters\n",
        "        ----------\n",
        "        lr: float\n",
        "            learning rate\n",
        "        Use\n",
        "        ----------\n",
        "        self.w: np.narray\n",
        "            model weights\n",
        "        self.dl_dw: np.narray\n",
        "            derivative of loss by weights\n",
        "        \"\"\"\n",
        "        # Changing new self.w values with using self.dl_dw\n",
        "        # Your code here\n",
        "\n",
        "    def epoch(self, x, y, lr=1e-7, train=True):\n",
        "        \"\"\"\n",
        "        One epoch of model training or validation\n",
        "\n",
        "        Parameters\n",
        "        ----------\n",
        "        x: np.array\n",
        "            array of input features with size [len_data, input_size]\n",
        "        y: np.array\n",
        "            array of true class labels  with size [len_data]\n",
        "        lr: float\n",
        "            learning rate\n",
        "        train: bool\n",
        "            flag enabling training mode\n",
        "        \"\"\"\n",
        "        len_data = x.shape[0]\n",
        "        indexes = list(range(len_data))\n",
        "        if train:\n",
        "            random.shuffle(indexes)\n",
        "        loss = 0\n",
        "        for i in range(0, len_data, self.batch_size):\n",
        "            # Batch generation\n",
        "            idx = indexes[i : i + self.batch_size]\n",
        "            x_batch = x[idx]\n",
        "            y_batch = y[idx]\n",
        "            # Run model (use x_batch and y_batch, sum to loss)\n",
        "            # Your code here\n",
        "            loss +=\n",
        "            if train:\n",
        "                # Calculate gradient\n",
        "                # Your code here\n",
        "\n",
        "                # Gradient descent step\n",
        "                # Your code here\n",
        "\n",
        "        return loss * self.batch_size / len_data\n",
        "\n",
        "    def train(self, x_train, y_train, x_test, y_test, lr=5e-5, epochs=30):\n",
        "        \"\"\"\n",
        "        Model training\n",
        "\n",
        "        Parameters\n",
        "        ----------\n",
        "        x_train: np.array\n",
        "            array of train input features with size [len_train, input_size]\n",
        "        y_train: np.array\n",
        "            true class labels [len_train]\n",
        "        x_test: np.array\n",
        "            array of test input features with size [len_test, input_size]\n",
        "        y_test: np.array\n",
        "            true class labels [len_test]\n",
        "        lr: float\n",
        "            learning rate\n",
        "        epochs: int\n",
        "            number of training epochs\n",
        "        \"\"\"\n",
        "        pp = ProgressPlotter()\n",
        "        for i in range(epochs):\n",
        "            # Epoch of learning\n",
        "            loss_train = self.epoch(x_train, y_train, lr)\n",
        "            loss_test = self.epoch(x_test, y_test, train=False)\n",
        "            y_pred = self.predict(x_test)\n",
        "            acc_test = accuracy_score(y_test, y_pred)\n",
        "            # logging\n",
        "            pp.add_scalar(tag=\"Train Loss\", value=loss_train)\n",
        "            pp.add_scalar(tag=\"Test Loss\", value=loss_test)\n",
        "            pp.add_scalar(tag=\"Test Accurecy\", value=acc_test)\n",
        "            pp.display_plot()\n",
        "            print(\n",
        "                f\"Epoch = {i+1}, Train Loss = {loss_train:.3f}, \"\n",
        "                f\"Test Loss = {loss_test:.3f}, Test acc = {acc_test}\"\n",
        "            )\n",
        "\n",
        "    def predict(self, x):\n",
        "        \"\"\"\n",
        "        Model predict\n",
        "\n",
        "        Parameters\n",
        "        ----------\n",
        "        x: np.array\n",
        "            array of input features with size [len_data, input_size]\n",
        "\n",
        "        Returns\n",
        "        -------\n",
        "        y_pred: np.array\n",
        "            array of predicted lable with size [len_data]\n",
        "        \"\"\"\n",
        "        y_pred = []\n",
        "        len_data = x.shape[0]\n",
        "        indexes = list(range(len_data))\n",
        "        for i in range(0, len_data, self.batch_size):\n",
        "            # Batch generation\n",
        "            idx = indexes[i : i + self.batch_size]\n",
        "            x_batch = x[idx]\n",
        "            # Prediction\n",
        "            _, s = linear(self.w, x_batch)\n",
        "            y_pred.append(np.argmax(s, axis=1))\n",
        "        return np.concatenate(y_pred, axis=0)"
      ]
    },
    {
      "cell_type": "code",
      "execution_count": null,
      "metadata": {
        "id": "5ULsGjyg3IXD"
      },
      "outputs": [],
      "source": [
        "model = LinearClassifier(x_train.shape[1], len(labels))\n",
        "model.train(x_train, y_train, x_test, y_test)"
      ]
    },
    {
      "cell_type": "markdown",
      "metadata": {
        "id": "dN94j5JR3IXD"
      },
      "source": [
        "## Формат результата"
      ]
    },
    {
      "cell_type": "markdown",
      "metadata": {
        "id": "IpKZ4o6f3IXE"
      },
      "source": [
        "* Значение accuracy для test части датасета >0.35.\n",
        "* График кривых обучения.\n",
        "\n",
        "Пример графика:\n",
        "\n",
        "<img src =\"https://edunet.kea.su/repo/EduNet-web_dependencies/dev-2.1/Exercises/EX02/result_4_task_ex02.png\" width=\"500\">"
      ]
    },
    {
      "cell_type": "markdown",
      "metadata": {
        "id": "AXvxkHX_3IXF"
      },
      "source": [
        "# Задание 5. Sklearn-совместимая модель"
      ]
    },
    {
      "cell_type": "markdown",
      "metadata": {
        "id": "XkG1kha03IXF"
      },
      "source": [
        "В этом задании мы наследуемся от написанного нами класса `LinearClassifier` и базовых классов `sklearn`, чтобы сделать `sklearn`-совместимую модель.\n",
        "\n",
        "Подсказка: о списке обязательных параметров и атрибутов для `sklearn` совместимой модели можно почитать [тут](https://scikit-learn.org/stable/developers/develop.html#estimators).\n",
        "\n",
        "Для экономии времени мы будем использовать датасет рукописных цифр MNIST."
      ]
    },
    {
      "cell_type": "markdown",
      "metadata": {
        "id": "dmgyWlXj3IXG"
      },
      "source": [
        "Импорт необходимых библиотек:"
      ]
    },
    {
      "cell_type": "code",
      "execution_count": null,
      "metadata": {
        "id": "TWjIxJTj3IXG"
      },
      "outputs": [],
      "source": [
        "import random\n",
        "import pandas as pd\n",
        "import matplotlib.pyplot as plt\n",
        "from keras.datasets import mnist\n",
        "from sklearn.model_selection import cross_val_score\n",
        "from sklearn.base import BaseEstimator, ClassifierMixin"
      ]
    },
    {
      "cell_type": "markdown",
      "metadata": {
        "id": "bctBxCE93IXH"
      },
      "source": [
        "Загрузка данных:"
      ]
    },
    {
      "cell_type": "code",
      "execution_count": null,
      "metadata": {
        "id": "RVCsNhSI3IXI"
      },
      "outputs": [],
      "source": [
        "(x_train, y_train), (x_test, y_test) = mnist.load_data()"
      ]
    },
    {
      "cell_type": "markdown",
      "metadata": {
        "id": "SHCYLDZK3IXI"
      },
      "source": [
        "Посмотрим на данные:"
      ]
    },
    {
      "cell_type": "code",
      "execution_count": null,
      "metadata": {
        "id": "0dOr7QS-3IXJ"
      },
      "outputs": [],
      "source": [
        "plt.rcParams[\"figure.figsize\"] = (25, 10)\n",
        "image_to_display = 10\n",
        "j = 1\n",
        "for i in random.sample(range(0, len(x_train)), image_to_display):\n",
        "    plt.subplot(1, image_to_display, j)\n",
        "    plt.imshow(x_train[i])\n",
        "    plt.axis(\"off\")\n",
        "    plt.title(int(y_train[i]))\n",
        "    j += 1"
      ]
    },
    {
      "cell_type": "markdown",
      "metadata": {
        "id": "l4DmOnWf3IXT"
      },
      "source": [
        "Вытянем данные в вектор:"
      ]
    },
    {
      "cell_type": "code",
      "execution_count": null,
      "metadata": {
        "id": "hMiGIjY53IXU"
      },
      "outputs": [],
      "source": [
        "# flatten\n",
        "x_train = x_train.reshape(x_train.shape[0], -1)\n",
        "x_test = x_test.reshape(x_test.shape[0], -1)\n",
        "x_train.shape"
      ]
    },
    {
      "cell_type": "markdown",
      "metadata": {
        "id": "t04VG2oz3IXV"
      },
      "source": [
        "Напишем класс модели. Наследуемся у:\n",
        "- [`BaseEstimator`](https://scikit-learn.org/stable/modules/generated/sklearn.base.BaseEstimator.html#sklearn-base-baseestimator) — базовый класс всех estimator в sklearn.\n",
        "- [`ClassifierMixin`](https://scikit-learn.org/stable/modules/generated/sklearn.base.ClassifierMixin.html#sklearn-base-classifiermixin) — определяет метод score, как среднюю accuracy.\n",
        "- Наш класс `LinearClassifier`\n",
        "\n",
        "Метод `predict` уже определен в классе `LinearClassifier`, нам необходимо написать `fit`и объявить нужные параметры."
      ]
    },
    {
      "cell_type": "code",
      "execution_count": null,
      "metadata": {
        "id": "xh9MZvod3IXW"
      },
      "outputs": [],
      "source": [
        "class SKLinearClassifier(BaseEstimator, ClassifierMixin, LinearClassifier):\n",
        "    def __init__(\n",
        "        self,\n",
        "        input_size=784,\n",
        "        classes_num=10,\n",
        "        batch_size=1024,\n",
        "        lr=2e-7,\n",
        "        epochs=30,\n",
        "    ):\n",
        "        LinearClassifier.__init__(self, input_size, classes_num, batch_size)\n",
        "        # Your code here\n",
        "\n",
        "    def fit(self, X, y):\n",
        "        # Your code here\n",
        "        return self"
      ]
    },
    {
      "cell_type": "markdown",
      "metadata": {
        "id": "JA5zmHWj3IXX"
      },
      "source": [
        "Проверим работу модели."
      ]
    },
    {
      "cell_type": "code",
      "execution_count": null,
      "metadata": {
        "id": "wCNliNMN3IXX"
      },
      "outputs": [],
      "source": [
        "model = SKLinearClassifier()"
      ]
    },
    {
      "cell_type": "code",
      "execution_count": null,
      "metadata": {
        "id": "fZEVmqeP3IXY"
      },
      "outputs": [],
      "source": [
        "model.fit(x_train, y_train)"
      ]
    },
    {
      "cell_type": "code",
      "execution_count": null,
      "metadata": {
        "id": "HiJsUKYg3IXZ"
      },
      "outputs": [],
      "source": [
        "y_pred = model.predict(x_test)"
      ]
    },
    {
      "cell_type": "code",
      "execution_count": null,
      "metadata": {
        "id": "y5FIHpo63IXZ"
      },
      "outputs": [],
      "source": [
        "df = pd.DataFrame()\n",
        "df[\"y_pred\"] = y_pred\n",
        "df[\"y_true\"] = y_test\n",
        "df.head()"
      ]
    },
    {
      "cell_type": "markdown",
      "metadata": {
        "id": "Dy_6O6NB3IXa"
      },
      "source": [
        "Посмотрим на качество на кросс-валидации. Для полной совместимости есть проверка `sklearn.utils.estimator_checks.check_estimator`, ее выполнение в этом задании не требуется."
      ]
    },
    {
      "cell_type": "code",
      "execution_count": null,
      "metadata": {
        "id": "PfIKTkuw3IXa"
      },
      "outputs": [],
      "source": [
        "set_seed()\n",
        "scores = cross_val_score(model, x_train, y_train, n_jobs=-1, cv=4)\n",
        "print(f\"Accuracy: {scores.mean():.3f}, std: {scores.std():.3f}\")"
      ]
    },
    {
      "cell_type": "markdown",
      "metadata": {
        "id": "NLs1F_FA3IXb"
      },
      "source": [
        "## Формат результата"
      ]
    },
    {
      "cell_type": "markdown",
      "metadata": {
        "id": "MhN53rDE3IXb"
      },
      "source": [
        "* Значение accuracy на кросс-валидации >0.85."
      ]
    }
  ],
  "metadata": {
    "colab": {
      "provenance": [],
      "collapsed_sections": [
        "3Gwr5Ut53IWN"
      ]
    },
    "language_info": {
      "name": "python"
    },
    "kernelspec": {
      "name": "python3",
      "display_name": "Python 3"
    }
  },
  "nbformat": 4,
  "nbformat_minor": 0
}